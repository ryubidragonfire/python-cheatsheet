{
 "cells": [
  {
   "cell_type": "code",
   "execution_count": 30,
   "metadata": {},
   "outputs": [],
   "source": [
    "from IPython.core.interactiveshell import InteractiveShell\n",
    "InteractiveShell.ast_node_interactivity = \"all\""
   ]
  },
  {
   "cell_type": "code",
   "execution_count": 23,
   "metadata": {},
   "outputs": [],
   "source": [
    "import matplotlib as mpl\n",
    "import matplotlib.pyplot as plt\n",
    "import numpy as np\n",
    "%matplotlib inline"
   ]
  },
  {
   "cell_type": "code",
   "execution_count": 5,
   "metadata": {},
   "outputs": [],
   "source": [
    "xedges = [0, 1, 1.5, 3, 5]\n",
    "yedges = [0, 2, 3, 4, 6]"
   ]
  },
  {
   "cell_type": "code",
   "execution_count": 16,
   "metadata": {},
   "outputs": [],
   "source": [
    "x = np.random.normal(3, 1, 100)\n",
    "y = np.random.normal(1, 1, 100)\n",
    "#H, xedges, yedges = np.histogram2d(y, x, bins=(xedges, yedges))\n",
    "H, xedges, yedges = np.histogram2d(y, x, bins=[5,5])"
   ]
  },
  {
   "cell_type": "code",
   "execution_count": 17,
   "metadata": {},
   "outputs": [
    {
     "data": {
      "text/plain": [
       "array([3.42144593, 0.73133623, 4.40437464, 5.49183329, 2.08818496,\n",
       "       4.47586538, 2.10978365, 2.40427607, 4.54761916, 3.47584407,\n",
       "       3.55622002, 4.14128684, 2.20411116, 3.31199332, 1.75986478,\n",
       "       2.79699372, 4.15053773, 3.95608742, 3.26897837, 2.4520083 ,\n",
       "       2.65962485, 1.51076819, 1.87654815, 2.98043577, 3.44324171,\n",
       "       3.02356561, 3.99060211, 2.80737272, 3.31896023, 2.46683224,\n",
       "       3.87594396, 4.32363957, 4.75338005, 3.64607288, 3.46714078,\n",
       "       3.46450838, 2.27154977, 2.40158633, 1.84787133, 2.52526145,\n",
       "       2.6293581 , 3.46197029, 3.04126276, 1.91389089, 2.83617867,\n",
       "       4.01828391, 2.91679287, 3.9919616 , 2.38842303, 3.62263567,\n",
       "       1.1781802 , 3.33481945, 4.62766085, 3.33885578, 1.91309488,\n",
       "       1.2151137 , 3.24551231, 3.21821657, 2.59824488, 1.98681861,\n",
       "       3.82776305, 4.63339698, 2.91138021, 3.01470728, 4.2231949 ,\n",
       "       3.56911423, 2.14933194, 2.45490534, 3.97697513, 3.11123955,\n",
       "       3.25165935, 2.18685803, 2.48625668, 2.68865453, 2.63906753,\n",
       "       2.06382722, 2.28876888, 4.06298546, 3.72206747, 1.9934701 ,\n",
       "       1.40343252, 2.38112788, 3.01025202, 2.11949019, 2.36906027,\n",
       "       3.38753545, 1.9642956 , 2.03005944, 2.95225606, 3.07837364,\n",
       "       1.46772215, 3.67565132, 5.11480066, 2.94603725, 2.6159595 ,\n",
       "       3.21838427, 3.62846371, 4.87680587, 4.51720555, 2.05063038])"
      ]
     },
     "execution_count": 17,
     "metadata": {},
     "output_type": "execute_result"
    }
   ],
   "source": [
    "x"
   ]
  },
  {
   "cell_type": "code",
   "execution_count": 18,
   "metadata": {},
   "outputs": [
    {
     "data": {
      "text/plain": [
       "array([ 0.56452957,  2.05696611, -0.08068819,  1.22452685,  1.30847823,\n",
       "        3.06109719, -0.93927329,  0.77559346,  1.91904023,  2.74092048,\n",
       "        1.18084808,  0.33592274,  1.83001999, -0.47288063,  0.51466758,\n",
       "        1.42392767,  1.83486908,  0.5049271 ,  1.27290235,  1.63656431,\n",
       "        1.05981452,  0.37288588,  2.18376244,  1.95392778,  2.00380813,\n",
       "       -1.045198  , -0.43724419,  2.04225608, -0.86411114,  0.79060686,\n",
       "       -0.4419436 ,  1.56733558,  1.56463234, -1.13252058,  0.75725808,\n",
       "        0.8256565 ,  2.44519994,  1.32080865,  0.87730591,  1.22332164,\n",
       "       -0.05251284,  1.15356593,  1.97620465,  0.57324359, -0.3457308 ,\n",
       "        1.55360283, -0.03654826,  2.37437065,  1.41220628,  0.36171634,\n",
       "        1.34141377,  1.56508883,  1.63176577,  0.79379612,  1.15954453,\n",
       "        0.85281564,  0.84292121, -1.15182874,  1.83127505,  1.38102771,\n",
       "        1.72640143,  0.5850529 ,  1.46557903,  0.12864247,  1.92356568,\n",
       "        0.55807308,  1.98717205,  0.73112159, -0.03062154,  1.32462563,\n",
       "        1.53337812,  1.84392763,  3.15417096,  3.503929  , -0.46977683,\n",
       "        2.51503791,  0.75964745,  1.07867735,  1.97255438, -0.04128257,\n",
       "        0.36226281,  1.45642899,  1.34103842,  2.64824421, -0.81459126,\n",
       "        2.17864687,  0.51102272,  0.41059733,  1.42422124,  0.72846581,\n",
       "       -0.30140486,  0.68330471,  0.89029051, -0.03406355,  1.83902253,\n",
       "       -0.18405103,  1.67994474,  1.06511171,  0.83717272,  1.26897108])"
      ]
     },
     "execution_count": 18,
     "metadata": {},
     "output_type": "execute_result"
    }
   ],
   "source": [
    "y"
   ]
  },
  {
   "cell_type": "code",
   "execution_count": 19,
   "metadata": {},
   "outputs": [
    {
     "data": {
      "text/plain": [
       "array([[ 1.,  2.,  6.,  3.,  0.],\n",
       "       [ 2.,  6.,  6.,  6.,  1.],\n",
       "       [ 2., 14., 16.,  4.,  5.],\n",
       "       [ 1.,  8.,  5.,  6.,  1.],\n",
       "       [ 0.,  2.,  2.,  1.,  0.]])"
      ]
     },
     "execution_count": 19,
     "metadata": {},
     "output_type": "execute_result"
    }
   ],
   "source": [
    "H"
   ]
  },
  {
   "cell_type": "code",
   "execution_count": 24,
   "metadata": {},
   "outputs": [
    {
     "data": {
      "image/png": "[encoded data removed]",
      "text/plain": [
       "<matplotlib.figure.Figure at 0x7ff5618540f0>"
      ]
     },
     "metadata": {},
     "output_type": "display_data"
    }
   ],
   "source": [
    "fig = plt.figure(figsize=(7, 3))\n",
    "ax = fig.add_subplot(131)\n",
    "ax.set_title('imshow: equidistant')\n",
    "im = plt.imshow(H, interpolation='nearest', origin='low',\n",
    "                extent=[xedges[0], xedges[-1], yedges[0], yedges[-1]])"
   ]
  },
  {
   "cell_type": "code",
   "execution_count": 25,
   "metadata": {},
   "outputs": [],
   "source": [
    "ax = fig.add_subplot(132)\n",
    "ax.set_title('pcolormesh: exact bin edges')\n",
    "X, Y = np.meshgrid(xedges, yedges)\n",
    "ax.pcolormesh(X, Y, H)\n",
    "ax.set_aspect('equal')"
   ]
  },
  {
   "cell_type": "code",
   "execution_count": 26,
   "metadata": {},
   "outputs": [],
   "source": [
    "# NonUniformImage displays exact bin edges with interpolation:\n",
    "\n",
    "ax = fig.add_subplot(133)\n",
    "ax.set_title('NonUniformImage: interpolated')\n",
    "im = mpl.image.NonUniformImage(ax, interpolation='bilinear')\n",
    "xcenters = xedges[:-1] + 0.5 * (xedges[1:] - xedges[:-1])\n",
    "ycenters = yedges[:-1] + 0.5 * (yedges[1:] - yedges[:-1])\n",
    "im.set_data(xcenters, ycenters, H)\n",
    "ax.images.append(im)\n",
    "ax.set_xlim(xedges[0], xedges[-1])\n",
    "ax.set_ylim(yedges[0], yedges[-1])\n",
    "ax.set_aspect('equal')\n",
    "plt.show()"
   ]
  },
  {
   "cell_type": "code",
   "execution_count": 101,
   "metadata": {},
   "outputs": [
    {
     "data": {
      "text/plain": [
       "(0.8308374432570376, 98.85965181137293, 0.07438894434061982, 99.7118661536522)"
      ]
     },
     "execution_count": 101,
     "metadata": {},
     "output_type": "execute_result"
    },
    {
     "data": {
      "text/plain": [
       "(array([[8., 3., 6., 5.],\n",
       "        [9., 9., 4., 4.],\n",
       "        [6., 8., 8., 6.],\n",
       "        [4., 5., 6., 9.]]),\n",
       " array([ 0.83083744, 25.33804104, 49.84524463, 74.35244822, 98.85965181]),\n",
       " array([7.43889443e-02, 2.49837582e+01, 4.98931275e+01, 7.48024969e+01,\n",
       "        9.97118662e+01]))"
      ]
     },
     "execution_count": 101,
     "metadata": {},
     "output_type": "execute_result"
    },
    {
     "data": {
      "text/plain": [
       "16"
      ]
     },
     "execution_count": 101,
     "metadata": {},
     "output_type": "execute_result"
    },
    {
     "data": {
      "text/plain": [
       "(array([ 0.83083744, 25.33804104, 49.84524463, 74.35244822]),\n",
       " array([7.43889443e-02, 2.49837582e+01, 4.98931275e+01, 7.48024969e+01]))"
      ]
     },
     "execution_count": 101,
     "metadata": {},
     "output_type": "execute_result"
    },
    {
     "data": {
      "text/plain": [
       "array([ 0.83083744, 25.33804104, 49.84524463, 74.35244822,  0.83083744,\n",
       "       25.33804104, 49.84524463, 74.35244822,  0.83083744, 25.33804104,\n",
       "       49.84524463, 74.35244822,  0.83083744, 25.33804104, 49.84524463,\n",
       "       74.35244822])"
      ]
     },
     "execution_count": 101,
     "metadata": {},
     "output_type": "execute_result"
    },
    {
     "data": {
      "text/plain": [
       "array([7.43889443e-02, 7.43889443e-02, 7.43889443e-02, 7.43889443e-02,\n",
       "       2.49837582e+01, 2.49837582e+01, 2.49837582e+01, 2.49837582e+01,\n",
       "       4.98931275e+01, 4.98931275e+01, 4.98931275e+01, 4.98931275e+01,\n",
       "       7.48024969e+01, 7.48024969e+01, 7.48024969e+01, 7.48024969e+01])"
      ]
     },
     "execution_count": 101,
     "metadata": {},
     "output_type": "execute_result"
    },
    {
     "data": {
      "text/plain": [
       "array([0., 0., 0., 0., 0., 0., 0., 0., 0., 0., 0., 0., 0., 0., 0., 0.])"
      ]
     },
     "execution_count": 101,
     "metadata": {},
     "output_type": "execute_result"
    },
    {
     "data": {
      "text/plain": [
       "array([10., 10., 10., 10., 10., 10., 10., 10., 10., 10., 10., 10., 10.,\n",
       "       10., 10., 10.])"
      ]
     },
     "execution_count": 101,
     "metadata": {},
     "output_type": "execute_result"
    },
    {
     "data": {
      "text/plain": [
       "array([10., 10., 10., 10., 10., 10., 10., 10., 10., 10., 10., 10., 10.,\n",
       "       10., 10., 10.])"
      ]
     },
     "execution_count": 101,
     "metadata": {},
     "output_type": "execute_result"
    },
    {
     "data": {
      "text/plain": [
       "array([8., 3., 6., 5., 9., 9., 4., 4., 6., 8., 8., 6., 4., 5., 6., 9.])"
      ]
     },
     "execution_count": 101,
     "metadata": {},
     "output_type": "execute_result"
    },
    {
     "data": {
      "text/plain": [
       "<mpl_toolkits.mplot3d.art3d.Poly3DCollection at 0x7ff55d2ff5c0>"
      ]
     },
     "execution_count": 101,
     "metadata": {},
     "output_type": "execute_result"
    },
    {
     "data": {
      "image/png": "[encoded data removed]",
      "text/plain": [
       "<matplotlib.figure.Figure at 0x7ff55d2c4d68>"
      ]
     },
     "metadata": {},
     "output_type": "display_data"
    }
   ],
   "source": [
    "from mpl_toolkits.mplot3d import Axes3D\n",
    "import matplotlib.pyplot as plt\n",
    "import numpy as np\n",
    "\n",
    "np.random.seed(8)\n",
    "\n",
    "fig = plt.figure()\n",
    "ax = fig.add_subplot(111, projection='3d')\n",
    "x, y = np.random.rand(2, 100) * 100; min(x), max(x), min(y), max(y)\n",
    "hist, xedges, yedges = np.histogram2d(x, y, bins=4); hist, xedges, yedges\n",
    "\n",
    "elements = (len(xedges) - 1) * (len(yedges) - 1); elements\n",
    "xpos, ypos = np.meshgrid(xedges[:-1], yedges[:-1]); xedges[:-1], yedges[:-1]\n",
    "\n",
    "xpos = xpos.flatten(); xpos\n",
    "ypos = ypos.flatten(); ypos\n",
    "zpos = np.zeros(elements); zpos\n",
    "dx = 10 * np.ones_like(zpos); dx\n",
    "dy = dx.copy(); dy\n",
    "dz = hist.flatten(); dz\n",
    "\n",
    "ax.bar3d(xpos, ypos, zpos, dx, dy, dz, color='b', zsort='average')\n",
    "\n",
    "plt.show()"
   ]
  },
  {
   "cell_type": "code",
   "execution_count": 102,
   "metadata": {},
   "outputs": [
    {
     "data": {
      "text/plain": [
       "array([[8., 3., 6., 5.],\n",
       "       [9., 9., 4., 4.],\n",
       "       [6., 8., 8., 6.],\n",
       "       [4., 5., 6., 9.]])"
      ]
     },
     "execution_count": 102,
     "metadata": {},
     "output_type": "execute_result"
    }
   ],
   "source": [
    "hist"
   ]
  },
  {
   "cell_type": "code",
   "execution_count": 103,
   "metadata": {},
   "outputs": [
    {
     "data": {
      "text/plain": [
       "4"
      ]
     },
     "execution_count": 103,
     "metadata": {},
     "output_type": "execute_result"
    },
    {
     "data": {
      "text/plain": [
       "9.0"
      ]
     },
     "execution_count": 103,
     "metadata": {},
     "output_type": "execute_result"
    }
   ],
   "source": [
    "hist.argmax()\n",
    "hist.flatten()[hist.argmax()]"
   ]
  },
  {
   "cell_type": "code",
   "execution_count": 104,
   "metadata": {},
   "outputs": [
    {
     "data": {
      "text/plain": [
       "1"
      ]
     },
     "execution_count": 104,
     "metadata": {},
     "output_type": "execute_result"
    },
    {
     "data": {
      "text/plain": [
       "3.0"
      ]
     },
     "execution_count": 104,
     "metadata": {},
     "output_type": "execute_result"
    }
   ],
   "source": [
    "hist.argmin()\n",
    "hist.flatten()[hist.argmin()]"
   ]
  },
  {
   "cell_type": "code",
   "execution_count": 105,
   "metadata": {},
   "outputs": [
    {
     "data": {
      "text/plain": [
       "9.0"
      ]
     },
     "execution_count": 105,
     "metadata": {},
     "output_type": "execute_result"
    }
   ],
   "source": [
    "hist.max()"
   ]
  },
  {
   "cell_type": "code",
   "execution_count": 106,
   "metadata": {},
   "outputs": [
    {
     "data": {
      "text/plain": [
       "array([[1, 0],\n",
       "       [1, 1],\n",
       "       [3, 3]])"
      ]
     },
     "execution_count": 106,
     "metadata": {},
     "output_type": "execute_result"
    },
    {
     "data": {
      "text/plain": [
       "1"
      ]
     },
     "execution_count": 106,
     "metadata": {},
     "output_type": "execute_result"
    },
    {
     "data": {
      "text/plain": [
       "0"
      ]
     },
     "execution_count": 106,
     "metadata": {},
     "output_type": "execute_result"
    }
   ],
   "source": [
    "np.argwhere(hist == hist.max()) # result in row, col\n",
    "\n",
    "max_coord = np.argwhere(hist == hist.max())\n",
    "max_coord[0][0]\n",
    "max_coord[0][1]\n"
   ]
  },
  {
   "cell_type": "markdown",
   "metadata": {},
   "source": [
    "### Annotate the highest bar"
   ]
  },
  {
   "cell_type": "code",
   "execution_count": 121,
   "metadata": {
    "scrolled": false
   },
   "outputs": [
    {
     "data": {
      "text/plain": [
       "<mpl_toolkits.mplot3d.art3d.Poly3DCollection at 0x7ff55d016a20>"
      ]
     },
     "execution_count": 121,
     "metadata": {},
     "output_type": "execute_result"
    },
    {
     "data": {
      "text/plain": [
       "Text(25.338,0.0743889,'9.0')"
      ]
     },
     "execution_count": 121,
     "metadata": {},
     "output_type": "execute_result"
    },
    {
     "data": {
      "image/png": "[encoded data removed]",
      "text/plain": [
       "<matplotlib.figure.Figure at 0x7ff55d02c320>"
      ]
     },
     "metadata": {},
     "output_type": "display_data"
    }
   ],
   "source": [
    "from mpl_toolkits.mplot3d import Axes3D\n",
    "import matplotlib.pyplot as plt\n",
    "import numpy as np\n",
    "\n",
    "np.random.seed(8)\n",
    "\n",
    "fig = plt.figure()\n",
    "ax = fig.add_subplot(111, projection='3d')\n",
    "x, y = np.random.rand(2, 100) * 100; #min(x), max(x), min(y), max(y)\n",
    "hist, xedges, yedges = np.histogram2d(x, y, bins=4); #hist, xedges, yedges\n",
    "\n",
    "elements = (len(xedges) - 1) * (len(yedges) - 1); #elements\n",
    "xpos, ypos = np.meshgrid(xedges[:-1], yedges[:-1]); #xedges[:-1], yedges[:-1]\n",
    "\n",
    "xpos = xpos.flatten(); #xpos\n",
    "ypos = ypos.flatten(); #ypos\n",
    "zpos = np.zeros(elements); #zpos\n",
    "dx = 10 * np.ones_like(zpos); #dx\n",
    "dy = dx.copy(); #dy\n",
    "dz = hist.flatten(); #dz\n",
    "\n",
    "ax.bar3d(xpos, ypos, zpos, dx, dy, dz, color='b', zsort='average')\n",
    "\n",
    "# annotate\n",
    "max_coord = np.argwhere(hist == hist.max())\n",
    "ax.text(xedges[max_coord[0][0]], yedges[max_coord[0][1]], hist.max(), hist.max(), size=20, zorder=1, color='k') \n",
    "\n",
    "plt.show()"
   ]
  },
  {
   "cell_type": "code",
   "execution_count": 122,
   "metadata": {},
   "outputs": [
    {
     "data": {
      "text/plain": [
       "(1, 0)"
      ]
     },
     "execution_count": 122,
     "metadata": {},
     "output_type": "execute_result"
    },
    {
     "data": {
      "text/plain": [
       "25.33804103528601"
      ]
     },
     "execution_count": 122,
     "metadata": {},
     "output_type": "execute_result"
    },
    {
     "data": {
      "text/plain": [
       "0.07438894434061982"
      ]
     },
     "execution_count": 122,
     "metadata": {},
     "output_type": "execute_result"
    }
   ],
   "source": [
    "max_coord[0][0], max_coord[0][1]\n",
    "xedges[max_coord[0][0]]\n",
    "yedges[max_coord[0][1]]"
   ]
  },
  {
   "cell_type": "markdown",
   "metadata": {},
   "source": [
    "## Heatmap"
   ]
  },
  {
   "cell_type": "code",
   "execution_count": null,
   "metadata": {},
   "outputs": [],
   "source": [
    "# histogram for width and height\n",
    "\n",
    "x = doc_x_and_y.width\n",
    "y = doc_x_and_y.height\n",
    "hist, xedges, yedges = np.histogram2d(x, y, bins=[40, 40])\n",
    "fig = plt.figure(figsize=(5, 5))\n",
    "ax.set_title('imshow: equidistant')\n",
    "im = plt.imshow(hist, interpolation='nearest', origin='low',\n",
    "                extent=[xedges[0], xedges[-1], yedges[0], yedges[-1]])"
   ]
  }
 ],
 "metadata": {
  "kernelspec": {
   "display_name": "Python 3",
   "language": "python",
   "name": "python3"
  },
  "language_info": {
   "codemirror_mode": {
    "name": "ipython",
    "version": 3
   },
   "file_extension": ".py",
   "mimetype": "text/x-python",
   "name": "python",
   "nbconvert_exporter": "python",
   "pygments_lexer": "ipython3",
   "version": "3.5.4"
  }
 },
 "nbformat": 4,
 "nbformat_minor": 2
}
