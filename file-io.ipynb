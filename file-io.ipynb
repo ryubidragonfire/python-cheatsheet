{
 "cells": [
  {
   "cell_type": "markdown",
   "metadata": {},
   "source": [
    "# File IO and Other Operations"
   ]
  },
  {
   "cell_type": "markdown",
   "metadata": {},
   "source": [
    "## List files"
   ]
  },
  {
   "cell_type": "code",
   "execution_count": 1,
   "metadata": {
    "scrolled": true
   },
   "outputs": [
    {
     "name": "stdout",
     "output_type": "stream",
     "text": [
      "./data-io.ipynb\n",
      "./file-io.ipynb\n",
      "./dataframe-replicate-rows-and-reset-index.ipynb\n",
      "./list.ipynb\n",
      "./dataframe-description.ipynb\n",
      "./README.md\n",
      "./visualisation.ipynb\n",
      "./dataframe-selection.ipynb\n",
      "./defaultdict.ipynb\n",
      "./LICENSE\n",
      "./dataframe-cleansing.ipynb\n",
      "./dictionary.ipynb\n",
      "./image-display.ipynb\n",
      "./dataframe-categorical.ipynb\n",
      "./magic.ipynb\n",
      "./dataframe-join-strings-from-2-columns-to-create-a-new-column.ipynb\n",
      "./notebook-control.ipynb\n",
      "./set.ipynb\n",
      "./output\n",
      "./data\n",
      "./dataframe-merging.ipynb\n",
      "./h5py-usage.ipynb\n",
      "./dataframe-missing-data.ipynb\n",
      "./dataframe-construct.ipynb\n",
      "./myimageutils.py\n",
      "./read-docx.ipynb\n",
      "./dataframe-series.ipynb\n",
      "./filenames-to-dataframe.ipynb\n",
      "./image-manipulation.ipynb\n"
     ]
    }
   ],
   "source": [
    "import glob\n",
    "\n",
    "for file in glob.glob('./*'):\n",
    "    print(file)"
   ]
  },
  {
   "cell_type": "code",
   "execution_count": 4,
   "metadata": {
    "scrolled": true
   },
   "outputs": [
    {
     "name": "stdout",
     "output_type": "stream",
     "text": [
      "./data/toothless.jpg\n"
     ]
    }
   ],
   "source": [
    "import glob\n",
    "\n",
    "for file in glob.glob('./**/*.jpg'):\n",
    "    print(file)"
   ]
  },
  {
   "cell_type": "markdown",
   "metadata": {},
   "source": [
    "## Parse Excel file to `DataFrame`, remove white spaces in column's name"
   ]
  },
  {
   "cell_type": "code",
   "execution_count": null,
   "metadata": {
    "collapsed": true
   },
   "outputs": [],
   "source": [
    "import pandas as pd\n",
    "\n",
    "# Import the excel file and call it xls_file\n",
    "data_xls = pd.ExcelFile(\"/your_folder/data.xls\")\n",
    "\n",
    "# View the excel file's sheet names\n",
    "data_xls.sheet_names\n",
    "\n",
    "# Load the xls file's Sheet1 as a dataframe\n",
    "data_df = data_xls.parse(data_xls.sheet_names[0])\n",
    "\n",
    "# Remove white spaces in column's names\n",
    "data_df.rename(columns=lambda x: x.strip(), inplace=True)\n",
    "\n",
    "print(iphone_df.shape)\n",
    "\n",
    "iphone_df.head()"
   ]
  },
  {
   "cell_type": "markdown",
   "metadata": {},
   "source": [
    "## Parse `docx`"
   ]
  },
  {
   "cell_type": "code",
   "execution_count": null,
   "metadata": {
    "collapsed": true
   },
   "outputs": [],
   "source": [
    "import docx2txt\n",
    "readme = docx2txt.process(\"/your_folder/readMe.docx\")\n",
    "#print(readme)"
   ]
  },
  {
   "cell_type": "markdown",
   "metadata": {},
   "source": [
    "## copy image file from one folder to another folder"
   ]
  },
  {
   "cell_type": "code",
   "execution_count": null,
   "metadata": {
    "collapsed": true
   },
   "outputs": [],
   "source": [
    "import shutil\n",
    "srcfile = './from_folder/filename.txt'\n",
    "dstdir = './to_folder/'\n",
    "shutil.copy(srcfile, dstdir)"
   ]
  }
 ],
 "metadata": {
  "kernelspec": {
   "display_name": "Python 3",
   "language": "python",
   "name": "python3"
  },
  "language_info": {
   "codemirror_mode": {
    "name": "ipython",
    "version": 3
   },
   "file_extension": ".py",
   "mimetype": "text/x-python",
   "name": "python",
   "nbconvert_exporter": "python",
   "pygments_lexer": "ipython3",
   "version": "3.5.4"
  }
 },
 "nbformat": 4,
 "nbformat_minor": 1
}
