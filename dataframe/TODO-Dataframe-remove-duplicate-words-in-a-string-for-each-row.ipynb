{
 "cells": [
  {
   "cell_type": "code",
   "execution_count": 1,
   "metadata": {},
   "outputs": [],
   "source": [
    "from IPython.core.interactiveshell import InteractiveShell\n",
    "InteractiveShell.ast_node_interactivity = \"all\""
   ]
  },
  {
   "cell_type": "markdown",
   "metadata": {},
   "source": [
    "### Standardize `genre_list`\n",
    "##### Replace\n",
    "- `romance : romantic`\n",
    "- `short film : short_film`"
   ]
  },
  {
   "cell_type": "code",
   "execution_count": 10,
   "metadata": {
    "scrolled": true
   },
   "outputs": [
    {
     "data": {
      "text/plain": [
       "144"
      ]
     },
     "execution_count": 10,
     "metadata": {},
     "output_type": "execute_result"
    },
    {
     "data": {
      "text/plain": [
       "array(['drama, romance', 'romance, romantic comedy', 'comedy, family',\n",
       "       'comedy, romance, romantic comedy', 'action, drama, romance',\n",
       "       'thriller, mystery', 'comedy', 'action, patriotic',\n",
       "       'action, drama', 'drama, crime', 'drama',\n",
       "       'action, comedy, romance', 'action, thriller', 'comedy, mystery',\n",
       "       'comedy, drama, romance, romantic comedy', 'drama, mature',\n",
       "       'romance', 'mature', 'action, kids, family', 'action, comedy',\n",
       "       'thriller', 'drama, patriotic',\n",
       "       'comedy, romance, romantic comedy, family', 'action',\n",
       "       'comedy, romantic comedy', 'comedy, romance',\n",
       "       'thriller, mystery, short film', 'horror, thriller',\n",
       "       'comedy, drama, mystery', 'crime, thriller',\n",
       "       'comedy, drama, romance', 'comedy, drama', 'action, romance',\n",
       "       'crime, mystery', 'drama, thriller', 'action, drama, crime',\n",
       "       'action, comedy, drama', 'drama, romance, family',\n",
       "       'thriller, crime', 'action, thriller, crime', 'drama, kids',\n",
       "       'drama, family', 'action, animation', 'thriller, classics',\n",
       "       'drama, patriotic, romance',\n",
       "       'action, comedy, romance, romantic comedy',\n",
       "       'action, drama, patriotic',\n",
       "       'comedy, romance, classics, romantic comedy, family',\n",
       "       'action, drama, sports', 'serial', 'action, drama, thriller',\n",
       "       'animation', 'action, sports', 'action, crime',\n",
       "       'kids, crime, mystery', 'action, patriotic, crime',\n",
       "       'action, comedy, horror', 'kids, family, sports',\n",
       "       'drama, classics', 'comedy, crime', 'drama, classics, family',\n",
       "       'action, drama, thriller, crime, mystery',\n",
       "       'comedy, romance, classics, romantic comedy', 'romance, classics',\n",
       "       'romance, family', 'drama, romance, classics',\n",
       "       'comedy, game-show, reality-tv', 'animation, kids, family',\n",
       "       'horror', 'patriotic', 'comedy, drama, thriller',\n",
       "       'action, horror, thriller', 'comedy, horror',\n",
       "       'action, comedy, crime', 'romance, romantic comedy, family',\n",
       "       'comedy, drama, classics', 'animation, kids',\n",
       "       'drama, kids, classics', 'action, drama, history',\n",
       "       'action, thriller, classics', 'drama, romance, romantic comedy',\n",
       "       'action, patriotic, thriller', 'horror, mature',\n",
       "       'action, animation, kids', 'drama, thriller, mystery',\n",
       "       'action, classics', 'mystery', 'kids, short film',\n",
       "       'drama, romance, classics, family', 'comedy, drama, family',\n",
       "       'devotional, classics', 'devotional, drama, classics', 'crime',\n",
       "       'devotional', 'drama, kids, classics, family',\n",
       "       'action, drama, classics', 'comedy, classics, romantic comedy',\n",
       "       'sports', 'drama, patriotic, mature', 'classics',\n",
       "       'comedy, classics', 'comedy, drama, crime', 'romance, mature',\n",
       "       'drama, classics, mature', 'horror, thriller, mystery',\n",
       "       'action, classics, crime', 'drama, thriller, classics',\n",
       "       'classics, family', 'romance, thriller', 'comedy, drama, kids',\n",
       "       'family', 'kids', 'romance, classics, mature', 'kids, family',\n",
       "       'comedy, romance, classics', 'thriller, classics, crime',\n",
       "       'mature, mystery', 'devotional, drama', 'comedy, horror, thriller',\n",
       "       'action, thriller, classics, crime', 'romance, mature, mystery',\n",
       "       'drama, romance, thriller, classics', 'drama, patriotic, classics',\n",
       "       'drama, romance, thriller', 'drama, mystery', 'comedy, thriller',\n",
       "       'comedy, romance, family', 'action, romance, classics',\n",
       "       'action, drama, romance, classics', 'comedy, patriotic',\n",
       "       'classics, romantic comedy', 'romantic comedy',\n",
       "       'action, drama, family', 'romance, classics, crime, mature',\n",
       "       'comedy, devotional, romance', 'devotional, family',\n",
       "       'drama, horror, classics', 'horror, romance',\n",
       "       'drama, classics, crime', 'drama, horror, romance, thriller',\n",
       "       'action, romance, crime, mature',\n",
       "       'drama, thriller, crime, mystery', 'romantic comedy, romance',\n",
       "       'devotional, romance'], dtype=object)"
      ]
     },
     "execution_count": 10,
     "metadata": {},
     "output_type": "execute_result"
    }
   ],
   "source": [
    "train['genre_list'].nunique()\n",
    "train['genre_list'].unique()"
   ]
  },
  {
   "cell_type": "code",
   "execution_count": 11,
   "metadata": {},
   "outputs": [],
   "source": [
    "train['genre_list'] = train['genre_list'].str.replace('romance', 'romantic')\n",
    "train['genre_list'] = train['genre_list'].str.replace('short film', 'short_film')\n",
    "\n",
    "test['genre_list'] = test['genre_list'].str.replace('romance', 'romantic')\n",
    "test['genre_list'] = test['genre_list'].str.replace('short film', 'short_film')"
   ]
  },
  {
   "cell_type": "code",
   "execution_count": 12,
   "metadata": {
    "scrolled": true
   },
   "outputs": [
    {
     "data": {
      "text/plain": [
       "144"
      ]
     },
     "execution_count": 12,
     "metadata": {},
     "output_type": "execute_result"
    },
    {
     "data": {
      "text/plain": [
       "array(['drama, romantic', 'romantic, romantic comedy', 'comedy, family',\n",
       "       'comedy, romantic, romantic comedy', 'action, drama, romantic',\n",
       "       'thriller, mystery', 'comedy', 'action, patriotic',\n",
       "       'action, drama', 'drama, crime', 'drama',\n",
       "       'action, comedy, romantic', 'action, thriller', 'comedy, mystery',\n",
       "       'comedy, drama, romantic, romantic comedy', 'drama, mature',\n",
       "       'romantic', 'mature', 'action, kids, family', 'action, comedy',\n",
       "       'thriller', 'drama, patriotic',\n",
       "       'comedy, romantic, romantic comedy, family', 'action',\n",
       "       'comedy, romantic comedy', 'comedy, romantic',\n",
       "       'thriller, mystery, short_film', 'horror, thriller',\n",
       "       'comedy, drama, mystery', 'crime, thriller',\n",
       "       'comedy, drama, romantic', 'comedy, drama', 'action, romantic',\n",
       "       'crime, mystery', 'drama, thriller', 'action, drama, crime',\n",
       "       'action, comedy, drama', 'drama, romantic, family',\n",
       "       'thriller, crime', 'action, thriller, crime', 'drama, kids',\n",
       "       'drama, family', 'action, animation', 'thriller, classics',\n",
       "       'drama, patriotic, romantic',\n",
       "       'action, comedy, romantic, romantic comedy',\n",
       "       'action, drama, patriotic',\n",
       "       'comedy, romantic, classics, romantic comedy, family',\n",
       "       'action, drama, sports', 'serial', 'action, drama, thriller',\n",
       "       'animation', 'action, sports', 'action, crime',\n",
       "       'kids, crime, mystery', 'action, patriotic, crime',\n",
       "       'action, comedy, horror', 'kids, family, sports',\n",
       "       'drama, classics', 'comedy, crime', 'drama, classics, family',\n",
       "       'action, drama, thriller, crime, mystery',\n",
       "       'comedy, romantic, classics, romantic comedy',\n",
       "       'romantic, classics', 'romantic, family',\n",
       "       'drama, romantic, classics', 'comedy, game-show, reality-tv',\n",
       "       'animation, kids, family', 'horror', 'patriotic',\n",
       "       'comedy, drama, thriller', 'action, horror, thriller',\n",
       "       'comedy, horror', 'action, comedy, crime',\n",
       "       'romantic, romantic comedy, family', 'comedy, drama, classics',\n",
       "       'animation, kids', 'drama, kids, classics',\n",
       "       'action, drama, history', 'action, thriller, classics',\n",
       "       'drama, romantic, romantic comedy', 'action, patriotic, thriller',\n",
       "       'horror, mature', 'action, animation, kids',\n",
       "       'drama, thriller, mystery', 'action, classics', 'mystery',\n",
       "       'kids, short_film', 'drama, romantic, classics, family',\n",
       "       'comedy, drama, family', 'devotional, classics',\n",
       "       'devotional, drama, classics', 'crime', 'devotional',\n",
       "       'drama, kids, classics, family', 'action, drama, classics',\n",
       "       'comedy, classics, romantic comedy', 'sports',\n",
       "       'drama, patriotic, mature', 'classics', 'comedy, classics',\n",
       "       'comedy, drama, crime', 'romantic, mature',\n",
       "       'drama, classics, mature', 'horror, thriller, mystery',\n",
       "       'action, classics, crime', 'drama, thriller, classics',\n",
       "       'classics, family', 'romantic, thriller', 'comedy, drama, kids',\n",
       "       'family', 'kids', 'romantic, classics, mature', 'kids, family',\n",
       "       'comedy, romantic, classics', 'thriller, classics, crime',\n",
       "       'mature, mystery', 'devotional, drama', 'comedy, horror, thriller',\n",
       "       'action, thriller, classics, crime', 'romantic, mature, mystery',\n",
       "       'drama, romantic, thriller, classics',\n",
       "       'drama, patriotic, classics', 'drama, romantic, thriller',\n",
       "       'drama, mystery', 'comedy, thriller', 'comedy, romantic, family',\n",
       "       'action, romantic, classics', 'action, drama, romantic, classics',\n",
       "       'comedy, patriotic', 'classics, romantic comedy',\n",
       "       'romantic comedy', 'action, drama, family',\n",
       "       'romantic, classics, crime, mature',\n",
       "       'comedy, devotional, romantic', 'devotional, family',\n",
       "       'drama, horror, classics', 'horror, romantic',\n",
       "       'drama, classics, crime', 'drama, horror, romantic, thriller',\n",
       "       'action, romantic, crime, mature',\n",
       "       'drama, thriller, crime, mystery', 'romantic comedy, romantic',\n",
       "       'devotional, romantic'], dtype=object)"
      ]
     },
     "execution_count": 12,
     "metadata": {},
     "output_type": "execute_result"
    },
    {
     "data": {
      "text/plain": [
       "128"
      ]
     },
     "execution_count": 12,
     "metadata": {},
     "output_type": "execute_result"
    },
    {
     "data": {
      "text/plain": [
       "array(['comedy, drama, romantic, romantic comedy',\n",
       "       'action, drama, patriotic', 'romantic', 'drama, romantic', 'drama',\n",
       "       'comedy, romantic, romantic comedy', 'action, romantic', 'mature',\n",
       "       'comedy, drama, romantic', 'action, patriotic',\n",
       "       'action, comedy, crime', 'action, comedy', 'horror, thriller',\n",
       "       'comedy, romantic', 'comedy', 'action, drama, crime',\n",
       "       'crime, thriller', 'action, kids, family',\n",
       "       'drama, romantic, family', 'animation', 'drama, family',\n",
       "       'action, thriller, crime', 'serial', 'action, thriller',\n",
       "       'action, comedy, horror', 'romantic, romantic comedy',\n",
       "       'thriller, mystery', 'action, crime', 'action, drama',\n",
       "       'action, thriller, classics', 'action, comedy, romantic',\n",
       "       'action, drama, romantic', 'action, drama, classics',\n",
       "       'comedy, mystery', 'romantic, classics', 'drama, crime',\n",
       "       'comedy, family', 'romantic, thriller',\n",
       "       'horror, thriller, mystery', 'drama, kids',\n",
       "       'comedy, romantic comedy', 'action, patriotic, crime',\n",
       "       'action, comedy, drama', 'comedy, drama', 'crime',\n",
       "       'comedy, classics, romantic comedy', 'kids, crime, mystery',\n",
       "       'action', 'drama, classics, family', 'drama, thriller',\n",
       "       'thriller, classics', 'crime, mystery',\n",
       "       'drama, romantic, classics, family', 'comedy, crime',\n",
       "       'drama, thriller, mystery', 'thriller, mystery, short_film',\n",
       "       'drama, romantic, classics', 'drama, classics',\n",
       "       'comedy, drama, family',\n",
       "       'action, comedy, romantic, romantic comedy', 'drama, patriotic',\n",
       "       'devotional, drama, classics', 'action, drama, thriller',\n",
       "       'animation, kids, family', 'animation, kids', 'horror',\n",
       "       'drama, kids, classics',\n",
       "       'comedy, romantic, romantic comedy, family', 'thriller',\n",
       "       'action, sports', 'romantic, mature', 'action, animation',\n",
       "       'drama, thriller, classics',\n",
       "       'comedy, romantic, classics, romantic comedy, family',\n",
       "       'romantic, romantic comedy, family', 'action, drama, sports',\n",
       "       'classics', 'comedy, romantic, classics, romantic comedy',\n",
       "       'kids, family, sports', 'patriotic',\n",
       "       'comedy, game-show, reality-tv', 'action, drama, history',\n",
       "       'comedy, horror, thriller', 'action, classics',\n",
       "       'action, thriller, classics, crime', 'drama, mature',\n",
       "       'devotional, drama', 'thriller, classics, crime',\n",
       "       'comedy, drama, classics', 'romantic, classics, crime, mature',\n",
       "       'romantic, mature, mystery',\n",
       "       'action, drama, thriller, crime, mystery', 'comedy, patriotic',\n",
       "       'thriller, crime', 'drama, horror, romantic, thriller',\n",
       "       'action, drama, family', 'family', 'devotional',\n",
       "       'devotional, classics', 'romantic comedy', 'drama, horror',\n",
       "       'comedy, horror', 'comedy, romantic, classics', 'mature, mystery',\n",
       "       'action, romantic, classics', 'sports', 'kids, family',\n",
       "       'action, drama, romantic, classics', 'classics, romantic comedy',\n",
       "       'drama, patriotic, mature', 'classics, family',\n",
       "       'romantic, thriller, classics', 'horror, mature',\n",
       "       'comedy, classics', 'devotional, classics, family',\n",
       "       'drama, classics, crime', 'kids',\n",
       "       'drama, romantic, romantic comedy', 'kids, short_film',\n",
       "       'action, classics, family', 'action, classics, crime',\n",
       "       'drama, crime, family', 'drama, romantic, thriller',\n",
       "       'drama, romantic, mature', 'comedy, romantic, family',\n",
       "       'horror, romantic', 'mystery', 'romantic, family'], dtype=object)"
      ]
     },
     "execution_count": 12,
     "metadata": {},
     "output_type": "execute_result"
    }
   ],
   "source": [
    "train['genre_list'].nunique()\n",
    "train['genre_list'].unique()\n",
    "\n",
    "test['genre_list'].nunique()\n",
    "test['genre_list'].unique()"
   ]
  },
  {
   "cell_type": "markdown",
   "metadata": {},
   "source": [
    "##### Replace\n",
    "- `romantic comedy` with `romantic` and `comedy`"
   ]
  },
  {
   "cell_type": "code",
   "execution_count": 13,
   "metadata": {},
   "outputs": [
    {
     "data": {
      "text/plain": [
       "37        comedy, drama, romantic, romantic comedy\n",
       "38                        action, drama, patriotic\n",
       "59                                        romantic\n",
       "99                                 drama, romantic\n",
       "100                                          drama\n",
       "                            ...                   \n",
       "246403                    action, drama, patriotic\n",
       "246509                              action, comedy\n",
       "246510                                      comedy\n",
       "246558                            horror, thriller\n",
       "246559                               drama, family\n",
       "Name: genre_list, Length: 7026, dtype: object"
      ]
     },
     "execution_count": 13,
     "metadata": {},
     "output_type": "execute_result"
    },
    {
     "data": {
      "text/plain": [
       "37        comedy, drama, romantic, romantic, comedy\n",
       "38                         action, drama, patriotic\n",
       "59                                         romantic\n",
       "99                                  drama, romantic\n",
       "100                                           drama\n",
       "                            ...                    \n",
       "246403                     action, drama, patriotic\n",
       "246509                               action, comedy\n",
       "246510                                       comedy\n",
       "246558                             horror, thriller\n",
       "246559                                drama, family\n",
       "Name: genre_list, Length: 7026, dtype: object"
      ]
     },
     "execution_count": 13,
     "metadata": {},
     "output_type": "execute_result"
    },
    {
     "data": {
      "text/plain": [
       "128"
      ]
     },
     "execution_count": 13,
     "metadata": {},
     "output_type": "execute_result"
    },
    {
     "data": {
      "text/plain": [
       "array(['comedy, drama, romantic, romantic, comedy',\n",
       "       'action, drama, patriotic', 'romantic', 'drama, romantic', 'drama',\n",
       "       'comedy, romantic, romantic, comedy', 'action, romantic', 'mature',\n",
       "       'comedy, drama, romantic', 'action, patriotic',\n",
       "       'action, comedy, crime', 'action, comedy', 'horror, thriller',\n",
       "       'comedy, romantic', 'comedy', 'action, drama, crime',\n",
       "       'crime, thriller', 'action, kids, family',\n",
       "       'drama, romantic, family', 'animation', 'drama, family',\n",
       "       'action, thriller, crime', 'serial', 'action, thriller',\n",
       "       'action, comedy, horror', 'romantic, romantic, comedy',\n",
       "       'thriller, mystery', 'action, crime', 'action, drama',\n",
       "       'action, thriller, classics', 'action, comedy, romantic',\n",
       "       'action, drama, romantic', 'action, drama, classics',\n",
       "       'comedy, mystery', 'romantic, classics', 'drama, crime',\n",
       "       'comedy, family', 'romantic, thriller',\n",
       "       'horror, thriller, mystery', 'drama, kids',\n",
       "       'comedy, romantic, comedy', 'action, patriotic, crime',\n",
       "       'action, comedy, drama', 'comedy, drama', 'crime',\n",
       "       'comedy, classics, romantic, comedy', 'kids, crime, mystery',\n",
       "       'action', 'drama, classics, family', 'drama, thriller',\n",
       "       'thriller, classics', 'crime, mystery',\n",
       "       'drama, romantic, classics, family', 'comedy, crime',\n",
       "       'drama, thriller, mystery', 'thriller, mystery, short_film',\n",
       "       'drama, romantic, classics', 'drama, classics',\n",
       "       'comedy, drama, family',\n",
       "       'action, comedy, romantic, romantic, comedy', 'drama, patriotic',\n",
       "       'devotional, drama, classics', 'action, drama, thriller',\n",
       "       'animation, kids, family', 'animation, kids', 'horror',\n",
       "       'drama, kids, classics',\n",
       "       'comedy, romantic, romantic, comedy, family', 'thriller',\n",
       "       'action, sports', 'romantic, mature', 'action, animation',\n",
       "       'drama, thriller, classics',\n",
       "       'comedy, romantic, classics, romantic, comedy, family',\n",
       "       'romantic, romantic, comedy, family', 'action, drama, sports',\n",
       "       'classics', 'comedy, romantic, classics, romantic, comedy',\n",
       "       'kids, family, sports', 'patriotic',\n",
       "       'comedy, game-show, reality-tv', 'action, drama, history',\n",
       "       'comedy, horror, thriller', 'action, classics',\n",
       "       'action, thriller, classics, crime', 'drama, mature',\n",
       "       'devotional, drama', 'thriller, classics, crime',\n",
       "       'comedy, drama, classics', 'romantic, classics, crime, mature',\n",
       "       'romantic, mature, mystery',\n",
       "       'action, drama, thriller, crime, mystery', 'comedy, patriotic',\n",
       "       'thriller, crime', 'drama, horror, romantic, thriller',\n",
       "       'action, drama, family', 'family', 'devotional',\n",
       "       'devotional, classics', 'romantic, comedy', 'drama, horror',\n",
       "       'comedy, horror', 'comedy, romantic, classics', 'mature, mystery',\n",
       "       'action, romantic, classics', 'sports', 'kids, family',\n",
       "       'action, drama, romantic, classics', 'classics, romantic, comedy',\n",
       "       'drama, patriotic, mature', 'classics, family',\n",
       "       'romantic, thriller, classics', 'horror, mature',\n",
       "       'comedy, classics', 'devotional, classics, family',\n",
       "       'drama, classics, crime', 'kids',\n",
       "       'drama, romantic, romantic, comedy', 'kids, short_film',\n",
       "       'action, classics, family', 'action, classics, crime',\n",
       "       'drama, crime, family', 'drama, romantic, thriller',\n",
       "       'drama, romantic, mature', 'comedy, romantic, family',\n",
       "       'horror, romantic', 'mystery', 'romantic, family'], dtype=object)"
      ]
     },
     "execution_count": 13,
     "metadata": {},
     "output_type": "execute_result"
    }
   ],
   "source": [
    "test['genre_list']\n",
    "test2 = test.copy()\n",
    "test2['genre_list'] = pd.Series(test2['genre_list']).str.split(pat=\" |, \").apply(', '.join); test2['genre_list']\n",
    "test2['genre_list'].nunique()\n",
    "test2['genre_list'].unique()"
   ]
  },
  {
   "cell_type": "markdown",
   "metadata": {},
   "source": [
    "### Remove duplicate entries"
   ]
  },
  {
   "cell_type": "code",
   "execution_count": 19,
   "metadata": {},
   "outputs": [
    {
     "data": {
      "text/plain": [
       "37        comedy, drama, romantic, romantic, comedy\n",
       "38                         action, drama, patriotic\n",
       "59                                         romantic\n",
       "99                                  drama, romantic\n",
       "100                                           drama\n",
       "                            ...                    \n",
       "246403                     action, drama, patriotic\n",
       "246509                               action, comedy\n",
       "246510                                       comedy\n",
       "246558                             horror, thriller\n",
       "246559                                drama, family\n",
       "Name: genre_list, Length: 7026, dtype: object"
      ]
     },
     "execution_count": 19,
     "metadata": {},
     "output_type": "execute_result"
    },
    {
     "data": {
      "text/plain": [
       "37         comedy, drama, romantic\n",
       "38        action, drama, patriotic\n",
       "59                        romantic\n",
       "99                 drama, romantic\n",
       "100                          drama\n",
       "                    ...           \n",
       "246403    action, drama, patriotic\n",
       "246509              action, comedy\n",
       "246510                      comedy\n",
       "246558            horror, thriller\n",
       "246559               drama, family\n",
       "Name: genre_list, Length: 7026, dtype: object"
      ]
     },
     "execution_count": 19,
     "metadata": {},
     "output_type": "execute_result"
    },
    {
     "data": {
      "text/plain": [
       "37        comedy,  drama,  romantic,  comedy\n",
       "38                action,  drama,  patriotic\n",
       "59                                  romantic\n",
       "99                          drama,  romantic\n",
       "100                                    drama\n",
       "                         ...                \n",
       "246403            action,  drama,  patriotic\n",
       "246509                       action,  comedy\n",
       "246510                                comedy\n",
       "246558                     horror,  thriller\n",
       "246559                        drama,  family\n",
       "Name: genre_list, Length: 7026, dtype: object"
      ]
     },
     "execution_count": 19,
     "metadata": {},
     "output_type": "execute_result"
    }
   ],
   "source": [
    "from collections import OrderedDict\n",
    "test2 = test.copy(); test2['genre_list']\n",
    "test2['genre_list'] = test['genre_list'].str.split(', ').apply(lambda x: OrderedDict.fromkeys(x).keys()).str.join(', '); \n",
    "test2['genre_list']\n",
    "\n",
    "test3 = test.copy(); \n",
    "test3['genre_list'] = test['genre_list'].str.split(',').apply(lambda x: OrderedDict.fromkeys(x).keys()).str.join(', '); \n",
    "test3['genre_list']"
   ]
  },
  {
   "cell_type": "code",
   "execution_count": null,
   "metadata": {},
   "outputs": [],
   "source": []
  }
 ],
 "metadata": {
  "kernelspec": {
   "display_name": "py37_default",
   "language": "python",
   "name": "conda-env-py37_default-py"
  },
  "language_info": {
   "codemirror_mode": {
    "name": "ipython",
    "version": 3
   },
   "file_extension": ".py",
   "mimetype": "text/x-python",
   "name": "python",
   "nbconvert_exporter": "python",
   "pygments_lexer": "ipython3",
   "version": "3.7.7"
  }
 },
 "nbformat": 4,
 "nbformat_minor": 4
}
