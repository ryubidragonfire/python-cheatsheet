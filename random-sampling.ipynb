{
 "cells": [
  {
   "cell_type": "code",
   "execution_count": 1,
   "metadata": {},
   "outputs": [
    {
     "name": "stdout",
     "output_type": "stream",
     "text": [
      "['Jonty', 'Elise', 'Conor']\n"
     ]
    }
   ],
   "source": [
    "from random import sample\n",
    "names = [\"Conor\", \"Esther\", \"Jonty\", \"Elwin\", \"Elise\"]\n",
    "chosenNames = sample(names, 3)\n",
    "print(chosenNames)"
   ]
  },
  {
   "cell_type": "code",
   "execution_count": 2,
   "metadata": {},
   "outputs": [
    {
     "name": "stdout",
     "output_type": "stream",
     "text": [
      "Jonty\n"
     ]
    }
   ],
   "source": [
    "from random import choice\n",
    "names = [\"Conor\", \"Esther\", \"Jonty\", \"Elwin\", \"Elise\"]\n",
    "chosenName = choice(names)\n",
    "print(chosenName)"
   ]
  },
  {
   "cell_type": "code",
   "execution_count": 3,
   "metadata": {},
   "outputs": [
    {
     "name": "stdout",
     "output_type": "stream",
     "text": [
      "Elise\n"
     ]
    }
   ],
   "source": [
    "from random import randint\n",
    "names = [\"Conor\", \"Esther\", \"Jonty\", \"Elwin\", \"Elise\"]\n",
    "index = randint(0, len(names) - 1)\n",
    "print(names[index])"
   ]
  },
  {
   "cell_type": "code",
   "execution_count": null,
   "metadata": {},
   "outputs": [],
   "source": []
  }
 ],
 "metadata": {
  "kernelspec": {
   "display_name": "Python 3",
   "language": "python",
   "name": "python3"
  },
  "language_info": {
   "codemirror_mode": {
    "name": "ipython",
    "version": 3
   },
   "file_extension": ".py",
   "mimetype": "text/x-python",
   "name": "python",
   "nbconvert_exporter": "python",
   "pygments_lexer": "ipython3",
   "version": "3.5.4"
  }
 },
 "nbformat": 4,
 "nbformat_minor": 2
}
