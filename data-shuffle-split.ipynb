{
 "cells": [
  {
   "cell_type": "markdown",
   "metadata": {},
   "source": [
    "### Shuffle"
   ]
  },
  {
   "cell_type": "code",
   "execution_count": null,
   "metadata": {
    "collapsed": true
   },
   "outputs": [],
   "source": [
    "import glob\n",
    "import os\n",
    "import numpy as np\n",
    "import shutil\n",
    "\n",
    "source_path = '/dlvmdata/mlopenhack/gear_images_challenge02/'\n",
    "dest_path = '/dlvmdata/mlopenhack/gear_images_challenge04/' \n",
    "\n",
    "# create /train/, /valid/, /test/ folder, if not exist\n",
    "folder_list = ['train', 'valid', 'test']\n",
    "for fd in folder_list:\n",
    "    target_folder = os.path.join(dest_path, fd); print(target_folder)\n",
    "    if not os.path.exists(target_folder):\n",
    "        os.makedirs(target_folder)\n",
    "\n",
    "# set random seed for repeatability\n",
    "np.random.seed(42)\n",
    "\n",
    "for root, dirs, files in os.walk(source_path):\n",
    "    # for all the directories\n",
    "    for d in dirs:\n",
    "        folder = os.path.join(root, d) + '/*.*'\n",
    "        print(folder)\n",
    "        # get all the file names\n",
    "        f_list = glob.glob(folder)\n",
    "        n_files = len(f_list); print(n_files)\n",
    "        \n",
    "        # generate indices from 0 to number_of_samples-1\n",
    "        indices = np.arange(n_files)\n",
    "        # shuffle the indices\n",
    "        np.random.shuffle(indices)\n",
    "        \n",
    "        # split\n",
    "        # number of files for training\n",
    "        n_train = int(n_files*0.7); print(n_train)\n",
    "        # number of files for testing\n",
    "        n_valid = int((n_files - n_train)/2)\n",
    "        # list of files for training\n",
    "        train_list = [f_list[i] for i in indices[:n_train]]\n",
    "        # list of files for validation\n",
    "        valid_list = [f_list[i] for i in indices[n_train:(n_valid+n_train)]]\n",
    "        #list of files for testing\n",
    "        test_list = [f_list[i] for i in indices[(n_valid+n_train):]]\n",
    "        \n",
    "        # for writing out, check if dest_path has got target folder, if not, mkdir\n",
    "        target_folder = os.path.join(dest_path, 'train', d); print(target_folder)\n",
    "        if not os.path.exists(target_folder):\n",
    "            os.makedirs(target_folder)\n",
    "            \n",
    "        # copy train_list to folder train\n",
    "        for f in train_list:\n",
    "            src = f\n",
    "            dst = os.path.join(target_folder, os.path.basename(f)); #print(dst)\n",
    "            shutil.copyfile(src, dst)\n",
    "\n",
    "        # for writing out, check if dest_path has got target folder, if not, mkdir\n",
    "        target_folder = os.path.join(dest_path, 'valid', d); print(target_folder)\n",
    "        if not os.path.exists(target_folder):\n",
    "            os.makedirs(target_folder)\n",
    "            \n",
    "        # copy valid_list to folder train\n",
    "        for f in valid_list:\n",
    "            src = f\n",
    "            dst = os.path.join(target_folder, os.path.basename(f)); #print(dst)\n",
    "            shutil.copyfile(src, dst)\n",
    "            \n",
    "        # for writing out, check if dest_path has got target folder, if not, mkdir\n",
    "        target_folder = os.path.join(dest_path, 'test', d); print(target_folder)\n",
    "        if not os.path.exists(target_folder):\n",
    "            os.makedirs(target_folder)\n",
    "            \n",
    "        # copy test_list to folder train\n",
    "        for f in test_list:\n",
    "            src = f\n",
    "            dst = os.path.join(target_folder, os.path.basename(f)); #print(dst)\n",
    "            shutil.copyfile(src, dst)\n"
   ]
  },
  {
   "cell_type": "code",
   "execution_count": null,
   "metadata": {
    "collapsed": true
   },
   "outputs": [],
   "source": [
    "import numpy as np\n",
    "\n",
    "# generate indices from 0 to number_of_samples-1\n",
    "indices = np.arange(df.shape[0])\n",
    "\n",
    "#print(indices)\n",
    "\n",
    "# set random seed for repeatability\n",
    "np.random.seed(42)\n",
    "\n",
    "# shuffle the indices\n",
    "np.random.shuffle(indices)\n",
    "\n",
    "# shuffled data\n",
    "data = df.iloc[indices, 1:]\n",
    "labels = df.iloc[indices, 0]\n",
    "\n",
    "data.head()\n",
    "labels.head()"
   ]
  },
  {
   "cell_type": "code",
   "execution_count": 9,
   "metadata": {},
   "outputs": [
    {
     "data": {
      "text/plain": [
       "array([27, 15, 23, 17,  8,  9, 28, 24, 12,  0,  4, 16,  5, 13, 11, 22,  1,\n",
       "        2, 25,  3, 21, 26, 18, 29, 20,  7, 10, 14, 19,  6])"
      ]
     },
     "execution_count": 9,
     "metadata": {},
     "output_type": "execute_result"
    }
   ],
   "source": [
    "import numpy as np\n",
    "\n",
    "indices = np.arange(30); indices\n",
    "\n",
    "# set random seed for repeatability\n",
    "np.random.seed(42)\n",
    "\n",
    "# shuffle the indices\n",
    "np.random.shuffle(indices); indices"
   ]
  },
  {
   "cell_type": "markdown",
   "metadata": {},
   "source": [
    "### Split"
   ]
  },
  {
   "cell_type": "code",
   "execution_count": null,
   "metadata": {
    "collapsed": true
   },
   "outputs": [],
   "source": [
    "import numpy as np\n",
    "\n",
    "x_train = data[:300]; x_train.shape\n",
    "y_train = labels[:300]; y_train.shape\n",
    "\n",
    "x_val = data[300:]; x_val.shape; x_val.head()\n",
    "y_val = labels[300:]; y_val.shape; y_val.head()"
   ]
  },
  {
   "cell_type": "code",
   "execution_count": null,
   "metadata": {
    "collapsed": true
   },
   "outputs": [],
   "source": [
    "import numpy as np\n",
    "\n",
    "x_train = np.asarray(data[:300])\n",
    "y_train = np.asarray(labels[:300])\n",
    "x_val = np.asarray(data[300:])\n",
    "y_val = np.asarray(labels[300:])\n",
    "\n",
    "x_train.shape\n",
    "y_train.shape\n",
    "x_val.shape\n",
    "y_val.shape\n",
    "x_train.shape[1]"
   ]
  }
 ],
 "metadata": {
  "kernelspec": {
   "display_name": "Python 3",
   "language": "python",
   "name": "python3"
  },
  "language_info": {
   "codemirror_mode": {
    "name": "ipython",
    "version": 3
   },
   "file_extension": ".py",
   "mimetype": "text/x-python",
   "name": "python",
   "nbconvert_exporter": "python",
   "pygments_lexer": "ipython3",
   "version": "3.5.4"
  }
 },
 "nbformat": 4,
 "nbformat_minor": 2
}
