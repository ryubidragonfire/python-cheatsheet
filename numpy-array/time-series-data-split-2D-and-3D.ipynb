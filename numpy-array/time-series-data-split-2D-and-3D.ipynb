{
 "cells": [
  {
   "cell_type": "code",
   "execution_count": 1,
   "metadata": {},
   "outputs": [],
   "source": [
    "from IPython.core.interactiveshell import InteractiveShell\n",
    "InteractiveShell.ast_node_interactivity = \"all\""
   ]
  },
  {
   "cell_type": "code",
   "execution_count": 2,
   "metadata": {},
   "outputs": [],
   "source": [
    "import numpy as np\n",
    "from sklearn.model_selection import TimeSeriesSplit"
   ]
  },
  {
   "cell_type": "code",
   "execution_count": 4,
   "metadata": {},
   "outputs": [
    {
     "name": "stdout",
     "output_type": "stream",
     "text": [
      "TRAIN: [0] TEST: [1]\n",
      "TRAIN: [0 1] TEST: [2]\n",
      "TRAIN: [0 1 2] TEST: [3]\n",
      "TRAIN: [0 1 2 3] TEST: [4]\n",
      "TRAIN: [0 1 2 3 4] TEST: [5]\n"
     ]
    }
   ],
   "source": [
    "X = np.array([[1, 2], [3, 4], [5, 6], [7, 8], [9, 10], [11, 12]])\n",
    "y = np.array([1, 2, 3, 4, 5, 6])\n",
    "\n",
    "tscv = TimeSeriesSplit(n_splits=5)\n",
    "\n",
    "for train_index, test_index in tscv.split(X):\n",
    "    print(\"TRAIN:\", train_index, \"TEST:\", test_index)\n",
    "    X_train, X_test = X[train_index], X[test_index]\n",
    "    y_train, y_test = y[train_index], y[test_index]"
   ]
  },
  {
   "cell_type": "code",
   "execution_count": 5,
   "metadata": {},
   "outputs": [
    {
     "name": "stdout",
     "output_type": "stream",
     "text": [
      "TRAIN: [0 1] TEST: [2]\n",
      "TRAIN: [0 1 2] TEST: [3]\n",
      "TRAIN: [0 1 2 3] TEST: [4]\n",
      "TRAIN: [0 1 2 3 4] TEST: [5]\n"
     ]
    }
   ],
   "source": [
    "tscv = TimeSeriesSplit(n_splits=4)\n",
    "\n",
    "for train_index, test_index in tscv.split(X):\n",
    "    print(\"TRAIN:\", train_index, \"TEST:\", test_index)\n",
    "    X_train, X_test = X[train_index], X[test_index]\n",
    "    y_train, y_test = y[train_index], y[test_index]"
   ]
  },
  {
   "cell_type": "code",
   "execution_count": 6,
   "metadata": {},
   "outputs": [
    {
     "name": "stdout",
     "output_type": "stream",
     "text": [
      "TRAIN: [0 1 2] TEST: [3]\n",
      "TRAIN: [0 1 2 3] TEST: [4]\n",
      "TRAIN: [0 1 2 3 4] TEST: [5]\n"
     ]
    }
   ],
   "source": [
    "tscv = TimeSeriesSplit(n_splits=3)\n",
    "\n",
    "for train_index, test_index in tscv.split(X):\n",
    "    print(\"TRAIN:\", train_index, \"TEST:\", test_index)\n",
    "    X_train, X_test = X[train_index], X[test_index]\n",
    "    y_train, y_test = y[train_index], y[test_index]"
   ]
  },
  {
   "cell_type": "code",
   "execution_count": 7,
   "metadata": {},
   "outputs": [
    {
     "name": "stdout",
     "output_type": "stream",
     "text": [
      "TRAIN: [0 1] TEST: [2 3]\n",
      "TRAIN: [0 1 2 3] TEST: [4 5]\n"
     ]
    }
   ],
   "source": [
    "tscv = TimeSeriesSplit(n_splits=2)\n",
    "\n",
    "for train_index, test_index in tscv.split(X):\n",
    "    print(\"TRAIN:\", train_index, \"TEST:\", test_index)\n",
    "    X_train, X_test = X[train_index], X[test_index]\n",
    "    y_train, y_test = y[train_index], y[test_index]"
   ]
  },
  {
   "cell_type": "markdown",
   "metadata": {},
   "source": [
    "### Tutorial"
   ]
  },
  {
   "cell_type": "code",
   "execution_count": 8,
   "metadata": {},
   "outputs": [
    {
     "data": {
      "text/plain": [
       "(6, 2)"
      ]
     },
     "execution_count": 8,
     "metadata": {},
     "output_type": "execute_result"
    },
    {
     "data": {
      "text/plain": [
       "array([[ 1,  2],\n",
       "       [ 3,  4],\n",
       "       [ 5,  6],\n",
       "       [ 7,  8],\n",
       "       [ 9, 10],\n",
       "       [11, 12]])"
      ]
     },
     "execution_count": 8,
     "metadata": {},
     "output_type": "execute_result"
    },
    {
     "data": {
      "text/plain": [
       "(6,)"
      ]
     },
     "execution_count": 8,
     "metadata": {},
     "output_type": "execute_result"
    },
    {
     "data": {
      "text/plain": [
       "array([1, 2, 3, 4, 5, 6])"
      ]
     },
     "execution_count": 8,
     "metadata": {},
     "output_type": "execute_result"
    }
   ],
   "source": [
    "X = np.array([[1, 2], [3, 4], [5, 6], [7, 8], [9, 10], [11, 12]])\n",
    "y = np.array([1, 2, 3, 4, 5, 6])\n",
    "\n",
    "X.shape\n",
    "X\n",
    "y.shape\n",
    "y"
   ]
  },
  {
   "cell_type": "markdown",
   "metadata": {},
   "source": [
    "### `n_splits=2`"
   ]
  },
  {
   "cell_type": "code",
   "execution_count": 9,
   "metadata": {},
   "outputs": [
    {
     "name": "stdout",
     "output_type": "stream",
     "text": [
      "TimeSeriesSplit(max_train_size=None, n_splits=2)\n",
      "TRAIN: [0 1] TEST: [2 3]\n",
      "TRAIN ............\n"
     ]
    },
    {
     "data": {
      "text/plain": [
       "((2, 2), (2, 2))"
      ]
     },
     "execution_count": 9,
     "metadata": {},
     "output_type": "execute_result"
    },
    {
     "data": {
      "text/plain": [
       "(array([[1, 2],\n",
       "        [3, 4]]),\n",
       " array([[5, 6],\n",
       "        [7, 8]]))"
      ]
     },
     "execution_count": 9,
     "metadata": {},
     "output_type": "execute_result"
    },
    {
     "name": "stdout",
     "output_type": "stream",
     "text": [
      "TEST ............\n"
     ]
    },
    {
     "data": {
      "text/plain": [
       "((2,), (2,))"
      ]
     },
     "execution_count": 9,
     "metadata": {},
     "output_type": "execute_result"
    },
    {
     "data": {
      "text/plain": [
       "(array([1, 2]), array([3, 4]))"
      ]
     },
     "execution_count": 9,
     "metadata": {},
     "output_type": "execute_result"
    },
    {
     "name": "stdout",
     "output_type": "stream",
     "text": [
      "TRAIN: [0 1 2 3] TEST: [4 5]\n",
      "TRAIN ............\n"
     ]
    },
    {
     "data": {
      "text/plain": [
       "((4, 2), (2, 2))"
      ]
     },
     "execution_count": 9,
     "metadata": {},
     "output_type": "execute_result"
    },
    {
     "data": {
      "text/plain": [
       "(array([[1, 2],\n",
       "        [3, 4],\n",
       "        [5, 6],\n",
       "        [7, 8]]),\n",
       " array([[ 9, 10],\n",
       "        [11, 12]]))"
      ]
     },
     "execution_count": 9,
     "metadata": {},
     "output_type": "execute_result"
    },
    {
     "name": "stdout",
     "output_type": "stream",
     "text": [
      "TEST ............\n"
     ]
    },
    {
     "data": {
      "text/plain": [
       "((4,), (2,))"
      ]
     },
     "execution_count": 9,
     "metadata": {},
     "output_type": "execute_result"
    },
    {
     "data": {
      "text/plain": [
       "(array([1, 2, 3, 4]), array([5, 6]))"
      ]
     },
     "execution_count": 9,
     "metadata": {},
     "output_type": "execute_result"
    }
   ],
   "source": [
    "tscv = TimeSeriesSplit(n_splits=2)\n",
    "print(tscv)\n",
    "\n",
    "for train_index, test_index in tscv.split(X):\n",
    "    print(\"TRAIN:\", train_index, \"TEST:\", test_index)\n",
    "    print(\"TRAIN ............\")\n",
    "    X_train, X_test = X[train_index], X[test_index]\n",
    "    X_train.shape, X_test.shape\n",
    "    X_train, X_test\n",
    "    \n",
    "    print(\"TEST ............\")\n",
    "    y_train, y_test = y[train_index], y[test_index]\n",
    "    y_train.shape, y_test.shape\n",
    "    y_train, y_test"
   ]
  },
  {
   "cell_type": "markdown",
   "metadata": {},
   "source": [
    "### `n_splits=5`"
   ]
  },
  {
   "cell_type": "code",
   "execution_count": 10,
   "metadata": {},
   "outputs": [
    {
     "name": "stdout",
     "output_type": "stream",
     "text": [
      "TimeSeriesSplit(max_train_size=None, n_splits=5)\n",
      "TRAIN: [0] TEST: [1]\n",
      "TRAIN ............\n"
     ]
    },
    {
     "data": {
      "text/plain": [
       "(array([[1, 2]]), array([[3, 4]]))"
      ]
     },
     "execution_count": 10,
     "metadata": {},
     "output_type": "execute_result"
    },
    {
     "name": "stdout",
     "output_type": "stream",
     "text": [
      "TEST ............\n"
     ]
    },
    {
     "data": {
      "text/plain": [
       "(array([1]), array([2]))"
      ]
     },
     "execution_count": 10,
     "metadata": {},
     "output_type": "execute_result"
    },
    {
     "name": "stdout",
     "output_type": "stream",
     "text": [
      "TRAIN: [0 1] TEST: [2]\n",
      "TRAIN ............\n"
     ]
    },
    {
     "data": {
      "text/plain": [
       "(array([[1, 2],\n",
       "        [3, 4]]),\n",
       " array([[5, 6]]))"
      ]
     },
     "execution_count": 10,
     "metadata": {},
     "output_type": "execute_result"
    },
    {
     "name": "stdout",
     "output_type": "stream",
     "text": [
      "TEST ............\n"
     ]
    },
    {
     "data": {
      "text/plain": [
       "(array([1, 2]), array([3]))"
      ]
     },
     "execution_count": 10,
     "metadata": {},
     "output_type": "execute_result"
    },
    {
     "name": "stdout",
     "output_type": "stream",
     "text": [
      "TRAIN: [0 1 2] TEST: [3]\n",
      "TRAIN ............\n"
     ]
    },
    {
     "data": {
      "text/plain": [
       "(array([[1, 2],\n",
       "        [3, 4],\n",
       "        [5, 6]]),\n",
       " array([[7, 8]]))"
      ]
     },
     "execution_count": 10,
     "metadata": {},
     "output_type": "execute_result"
    },
    {
     "name": "stdout",
     "output_type": "stream",
     "text": [
      "TEST ............\n"
     ]
    },
    {
     "data": {
      "text/plain": [
       "(array([1, 2, 3]), array([4]))"
      ]
     },
     "execution_count": 10,
     "metadata": {},
     "output_type": "execute_result"
    },
    {
     "name": "stdout",
     "output_type": "stream",
     "text": [
      "TRAIN: [0 1 2 3] TEST: [4]\n",
      "TRAIN ............\n"
     ]
    },
    {
     "data": {
      "text/plain": [
       "(array([[1, 2],\n",
       "        [3, 4],\n",
       "        [5, 6],\n",
       "        [7, 8]]),\n",
       " array([[ 9, 10]]))"
      ]
     },
     "execution_count": 10,
     "metadata": {},
     "output_type": "execute_result"
    },
    {
     "name": "stdout",
     "output_type": "stream",
     "text": [
      "TEST ............\n"
     ]
    },
    {
     "data": {
      "text/plain": [
       "(array([1, 2, 3, 4]), array([5]))"
      ]
     },
     "execution_count": 10,
     "metadata": {},
     "output_type": "execute_result"
    },
    {
     "name": "stdout",
     "output_type": "stream",
     "text": [
      "TRAIN: [0 1 2 3 4] TEST: [5]\n",
      "TRAIN ............\n"
     ]
    },
    {
     "data": {
      "text/plain": [
       "(array([[ 1,  2],\n",
       "        [ 3,  4],\n",
       "        [ 5,  6],\n",
       "        [ 7,  8],\n",
       "        [ 9, 10]]),\n",
       " array([[11, 12]]))"
      ]
     },
     "execution_count": 10,
     "metadata": {},
     "output_type": "execute_result"
    },
    {
     "name": "stdout",
     "output_type": "stream",
     "text": [
      "TEST ............\n"
     ]
    },
    {
     "data": {
      "text/plain": [
       "(array([1, 2, 3, 4, 5]), array([6]))"
      ]
     },
     "execution_count": 10,
     "metadata": {},
     "output_type": "execute_result"
    }
   ],
   "source": [
    "tscv = TimeSeriesSplit(n_splits=5)\n",
    "print(tscv)\n",
    "\n",
    "for train_index, test_index in tscv.split(X):\n",
    "    print(\"TRAIN:\", train_index, \"TEST:\", test_index)\n",
    "    print(\"TRAIN ............\")\n",
    "    X_train, X_test = X[train_index], X[test_index]\n",
    "    #print('X_train.shape, X_test.shape: ', X_train.shape, X_test.shape)\n",
    "    X_train, X_test\n",
    "    \n",
    "    print(\"TEST ............\")\n",
    "    y_train, y_test = y[train_index], y[test_index]\n",
    "   #y_train.shape, y_test.shape\n",
    "    y_train, y_test"
   ]
  },
  {
   "cell_type": "markdown",
   "metadata": {},
   "source": [
    "### `n_splites=3`"
   ]
  },
  {
   "cell_type": "code",
   "execution_count": 11,
   "metadata": {},
   "outputs": [
    {
     "name": "stdout",
     "output_type": "stream",
     "text": [
      "TimeSeriesSplit(max_train_size=None, n_splits=3)\n",
      "TRAIN: [0 1 2] TEST: [3]\n",
      "TRAIN ............\n"
     ]
    },
    {
     "data": {
      "text/plain": [
       "(array([[1, 2],\n",
       "        [3, 4],\n",
       "        [5, 6]]),\n",
       " array([[7, 8]]))"
      ]
     },
     "execution_count": 11,
     "metadata": {},
     "output_type": "execute_result"
    },
    {
     "name": "stdout",
     "output_type": "stream",
     "text": [
      "TEST ............\n"
     ]
    },
    {
     "data": {
      "text/plain": [
       "(array([1, 2, 3]), array([4]))"
      ]
     },
     "execution_count": 11,
     "metadata": {},
     "output_type": "execute_result"
    },
    {
     "name": "stdout",
     "output_type": "stream",
     "text": [
      "TRAIN: [0 1 2 3] TEST: [4]\n",
      "TRAIN ............\n"
     ]
    },
    {
     "data": {
      "text/plain": [
       "(array([[1, 2],\n",
       "        [3, 4],\n",
       "        [5, 6],\n",
       "        [7, 8]]),\n",
       " array([[ 9, 10]]))"
      ]
     },
     "execution_count": 11,
     "metadata": {},
     "output_type": "execute_result"
    },
    {
     "name": "stdout",
     "output_type": "stream",
     "text": [
      "TEST ............\n"
     ]
    },
    {
     "data": {
      "text/plain": [
       "(array([1, 2, 3, 4]), array([5]))"
      ]
     },
     "execution_count": 11,
     "metadata": {},
     "output_type": "execute_result"
    },
    {
     "name": "stdout",
     "output_type": "stream",
     "text": [
      "TRAIN: [0 1 2 3 4] TEST: [5]\n",
      "TRAIN ............\n"
     ]
    },
    {
     "data": {
      "text/plain": [
       "(array([[ 1,  2],\n",
       "        [ 3,  4],\n",
       "        [ 5,  6],\n",
       "        [ 7,  8],\n",
       "        [ 9, 10]]),\n",
       " array([[11, 12]]))"
      ]
     },
     "execution_count": 11,
     "metadata": {},
     "output_type": "execute_result"
    },
    {
     "name": "stdout",
     "output_type": "stream",
     "text": [
      "TEST ............\n"
     ]
    },
    {
     "data": {
      "text/plain": [
       "(array([1, 2, 3, 4, 5]), array([6]))"
      ]
     },
     "execution_count": 11,
     "metadata": {},
     "output_type": "execute_result"
    }
   ],
   "source": [
    "tscv = TimeSeriesSplit(n_splits=3)\n",
    "print(tscv)\n",
    "\n",
    "for train_index, test_index in tscv.split(X):\n",
    "    print(\"TRAIN:\", train_index, \"TEST:\", test_index)\n",
    "    print(\"TRAIN ............\")\n",
    "    X_train, X_test = X[train_index], X[test_index]\n",
    "    #X_train.shape, X_test.shape\n",
    "    X_train, X_test\n",
    "    \n",
    "    print(\"TEST ............\")\n",
    "    y_train, y_test = y[train_index], y[test_index]\n",
    "    #y_train.shape, y_test.shape\n",
    "    y_train, y_test"
   ]
  },
  {
   "cell_type": "markdown",
   "metadata": {},
   "source": [
    "### Get the last element of generator"
   ]
  },
  {
   "cell_type": "code",
   "execution_count": 12,
   "metadata": {},
   "outputs": [
    {
     "name": "stdout",
     "output_type": "stream",
     "text": [
      "TRAIN: [0 1 2 3 4] TEST: [5]\n"
     ]
    }
   ],
   "source": [
    "X = np.array([[1, 2], [3, 4], [5, 6], [7, 8], [9, 10], [11, 12]])\n",
    "y = np.array([1, 2, 3, 4, 5, 6])\n",
    "\n",
    "tscv = TimeSeriesSplit(n_splits=5)\n",
    "\n",
    "for train_index, test_index in list(tscv.split(X))[-1:]: # Get the last element of generator\n",
    "    print(\"TRAIN:\", train_index, \"TEST:\", test_index)\n",
    "    X_train, X_test = X[train_index], X[test_index]\n",
    "    y_train, y_test = y[train_index], y[test_index]"
   ]
  },
  {
   "cell_type": "markdown",
   "metadata": {},
   "source": [
    "### Splitting 3D array"
   ]
  },
  {
   "cell_type": "code",
   "execution_count": 41,
   "metadata": {
    "scrolled": false
   },
   "outputs": [
    {
     "name": "stdout",
     "output_type": "stream",
     "text": [
      "********** d_sku,d_loc,d_day **********\n"
     ]
    },
    {
     "data": {
      "text/plain": [
       "(2, 3, 5)"
      ]
     },
     "execution_count": 41,
     "metadata": {},
     "output_type": "execute_result"
    },
    {
     "name": "stdout",
     "output_type": "stream",
     "text": [
      "***** X_2D : LOC x DAY ******\n"
     ]
    },
    {
     "data": {
      "text/plain": [
       "(3, 5)"
      ]
     },
     "execution_count": 41,
     "metadata": {},
     "output_type": "execute_result"
    },
    {
     "data": {
      "text/plain": [
       "array([['S0-L0-D0', 'S0-L0-D1', 'S0-L0-D2', 'S0-L0-D3', 'S0-L0-D4'],\n",
       "       ['S0-L1-D0', 'S0-L1-D1', 'S0-L1-D2', 'S0-L1-D3', 'S0-L1-D4'],\n",
       "       ['S0-L2-D0', 'S0-L2-D1', 'S0-L2-D2', 'S0-L2-D3', 'S0-L2-D4']],\n",
       "      dtype='<U8')"
      ]
     },
     "execution_count": 41,
     "metadata": {},
     "output_type": "execute_result"
    },
    {
     "name": "stdout",
     "output_type": "stream",
     "text": [
      "******* X_2D.T :  DAY x LOC *******\n"
     ]
    },
    {
     "data": {
      "text/plain": [
       "array([['S0-L0-D0', 'S0-L1-D0', 'S0-L2-D0'],\n",
       "       ['S0-L0-D1', 'S0-L1-D1', 'S0-L2-D1'],\n",
       "       ['S0-L0-D2', 'S0-L1-D2', 'S0-L2-D2'],\n",
       "       ['S0-L0-D3', 'S0-L1-D3', 'S0-L2-D3'],\n",
       "       ['S0-L0-D4', 'S0-L1-D4', 'S0-L2-D4']], dtype='<U8')"
      ]
     },
     "execution_count": 41,
     "metadata": {},
     "output_type": "execute_result"
    },
    {
     "data": {
      "text/plain": [
       "4"
      ]
     },
     "execution_count": 41,
     "metadata": {},
     "output_type": "execute_result"
    },
    {
     "name": "stdout",
     "output_type": "stream",
     "text": [
      "TRAIN: [0] TEST: [1]\n",
      "X_train: \n",
      " [['S0-L0-D0']\n",
      " ['S0-L1-D0']\n",
      " ['S0-L2-D0']]\n",
      "X_test: \n",
      " [['S0-L0-D1']\n",
      " ['S0-L1-D1']\n",
      " ['S0-L2-D1']]\n",
      "TRAIN: [0 1] TEST: [2]\n",
      "X_train: \n",
      " [['S0-L0-D0' 'S0-L0-D1']\n",
      " ['S0-L1-D0' 'S0-L1-D1']\n",
      " ['S0-L2-D0' 'S0-L2-D1']]\n",
      "X_test: \n",
      " [['S0-L0-D2']\n",
      " ['S0-L1-D2']\n",
      " ['S0-L2-D2']]\n",
      "TRAIN: [0 1 2] TEST: [3]\n",
      "X_train: \n",
      " [['S0-L0-D0' 'S0-L0-D1' 'S0-L0-D2']\n",
      " ['S0-L1-D0' 'S0-L1-D1' 'S0-L1-D2']\n",
      " ['S0-L2-D0' 'S0-L2-D1' 'S0-L2-D2']]\n",
      "X_test: \n",
      " [['S0-L0-D3']\n",
      " ['S0-L1-D3']\n",
      " ['S0-L2-D3']]\n",
      "TRAIN: [0 1 2 3] TEST: [4]\n",
      "X_train: \n",
      " [['S0-L0-D0' 'S0-L0-D1' 'S0-L0-D2' 'S0-L0-D3']\n",
      " ['S0-L1-D0' 'S0-L1-D1' 'S0-L1-D2' 'S0-L1-D3']\n",
      " ['S0-L2-D0' 'S0-L2-D1' 'S0-L2-D2' 'S0-L2-D3']]\n",
      "X_test: \n",
      " [['S0-L0-D4']\n",
      " ['S0-L1-D4']\n",
      " ['S0-L2-D4']]\n",
      "***** X_2D : LOC x DAY ******\n"
     ]
    },
    {
     "data": {
      "text/plain": [
       "(3, 5)"
      ]
     },
     "execution_count": 41,
     "metadata": {},
     "output_type": "execute_result"
    },
    {
     "data": {
      "text/plain": [
       "array([['S1-L0-D0', 'S1-L0-D1', 'S1-L0-D2', 'S1-L0-D3', 'S1-L0-D4'],\n",
       "       ['S1-L1-D0', 'S1-L1-D1', 'S1-L1-D2', 'S1-L1-D3', 'S1-L1-D4'],\n",
       "       ['S1-L2-D0', 'S1-L2-D1', 'S1-L2-D2', 'S1-L2-D3', 'S1-L2-D4']],\n",
       "      dtype='<U8')"
      ]
     },
     "execution_count": 41,
     "metadata": {},
     "output_type": "execute_result"
    },
    {
     "name": "stdout",
     "output_type": "stream",
     "text": [
      "******* X_2D.T :  DAY x LOC *******\n"
     ]
    },
    {
     "data": {
      "text/plain": [
       "array([['S1-L0-D0', 'S1-L1-D0', 'S1-L2-D0'],\n",
       "       ['S1-L0-D1', 'S1-L1-D1', 'S1-L2-D1'],\n",
       "       ['S1-L0-D2', 'S1-L1-D2', 'S1-L2-D2'],\n",
       "       ['S1-L0-D3', 'S1-L1-D3', 'S1-L2-D3'],\n",
       "       ['S1-L0-D4', 'S1-L1-D4', 'S1-L2-D4']], dtype='<U8')"
      ]
     },
     "execution_count": 41,
     "metadata": {},
     "output_type": "execute_result"
    },
    {
     "data": {
      "text/plain": [
       "4"
      ]
     },
     "execution_count": 41,
     "metadata": {},
     "output_type": "execute_result"
    },
    {
     "name": "stdout",
     "output_type": "stream",
     "text": [
      "TRAIN: [0] TEST: [1]\n",
      "X_train: \n",
      " [['S1-L0-D0']\n",
      " ['S1-L1-D0']\n",
      " ['S1-L2-D0']]\n",
      "X_test: \n",
      " [['S1-L0-D1']\n",
      " ['S1-L1-D1']\n",
      " ['S1-L2-D1']]\n",
      "TRAIN: [0 1] TEST: [2]\n",
      "X_train: \n",
      " [['S1-L0-D0' 'S1-L0-D1']\n",
      " ['S1-L1-D0' 'S1-L1-D1']\n",
      " ['S1-L2-D0' 'S1-L2-D1']]\n",
      "X_test: \n",
      " [['S1-L0-D2']\n",
      " ['S1-L1-D2']\n",
      " ['S1-L2-D2']]\n",
      "TRAIN: [0 1 2] TEST: [3]\n",
      "X_train: \n",
      " [['S1-L0-D0' 'S1-L0-D1' 'S1-L0-D2']\n",
      " ['S1-L1-D0' 'S1-L1-D1' 'S1-L1-D2']\n",
      " ['S1-L2-D0' 'S1-L2-D1' 'S1-L2-D2']]\n",
      "X_test: \n",
      " [['S1-L0-D3']\n",
      " ['S1-L1-D3']\n",
      " ['S1-L2-D3']]\n",
      "TRAIN: [0 1 2 3] TEST: [4]\n",
      "X_train: \n",
      " [['S1-L0-D0' 'S1-L0-D1' 'S1-L0-D2' 'S1-L0-D3']\n",
      " ['S1-L1-D0' 'S1-L1-D1' 'S1-L1-D2' 'S1-L1-D3']\n",
      " ['S1-L2-D0' 'S1-L2-D1' 'S1-L2-D2' 'S1-L2-D3']]\n",
      "X_test: \n",
      " [['S1-L0-D4']\n",
      " ['S1-L1-D4']\n",
      " ['S1-L2-D4']]\n"
     ]
    }
   ],
   "source": [
    "X_3D = np.array([[['S0-L0-D0', 'S0-L0-D1', 'S0-L0-D2', 'S0-L0-D3', 'S0-L0-D4'],\n",
    "        ['S0-L1-D0', 'S0-L1-D1', 'S0-L1-D2', 'S0-L1-D3', 'S0-L1-D4'],\n",
    "        ['S0-L2-D0', 'S0-L2-D1', 'S0-L2-D2', 'S0-L2-D3', 'S0-L2-D4']],\n",
    "\n",
    "       [['S1-L0-D0', 'S1-L0-D1', 'S1-L0-D2', 'S1-L0-D3', 'S1-L0-D4'],\n",
    "        ['S1-L1-D0', 'S1-L1-D1', 'S1-L1-D2', 'S1-L1-D3', 'S1-L1-D4'],\n",
    "        ['S1-L2-D0', 'S1-L2-D1', 'S1-L2-D2', 'S1-L2-D3', 'S1-L2-D4']]])\n",
    "\n",
    "# Get the shape of 3D array\n",
    "print('********** d_sku,d_loc,d_day **********')\n",
    "d_sku,d_loc,d_day = X_3D.shape; d_sku,d_loc,d_day \n",
    "\n",
    "# for each SKU\n",
    "for s in range(d_sku):\n",
    "    # extract the LOC x DAY \n",
    "    print('***** X_2D : LOC x DAY ******')\n",
    "    X_2D = X_3D[s,:,:]; X_2D.shape; X_2D\n",
    "    \n",
    "    print('******* X_2D.T :  DAY x LOC *******')\n",
    "    X_2D.T\n",
    "    \n",
    "    # Create a TimeSeriesSplit\n",
    "    n_splits = d_day-1; n_splits\n",
    "    tscv = TimeSeriesSplit(n_splits=n_splits)\n",
    "\n",
    "    # for each split\n",
    "    for train_index, test_index in tscv.split(X_2D.T): # transpose to DAY x LOC\n",
    "        print(\"TRAIN:\", train_index, \"TEST:\", test_index)\n",
    "        X_train, X_test = X_2D.T[train_index].T, X_2D.T[test_index].T # do the split, and transpose back to LOC x DAY\n",
    "        #X_train.shape, X_test.shape\n",
    "        print('X_train: \\n', X_train)\n",
    "        print('X_test: \\n', X_test)"
   ]
  },
  {
   "cell_type": "markdown",
   "metadata": {},
   "source": [
    "### Make into a function\n",
    "- input: 3D array `X_3D`, `n_splits`\n",
    "- return `dict` of `dict`"
   ]
  },
  {
   "cell_type": "code",
   "execution_count": 3,
   "metadata": {},
   "outputs": [],
   "source": [
    "def timeseriessplit_3d(X_3D, n_splits):\n",
    "    \n",
    "    train_test_splits = {} # dict of dicts \n",
    "    \n",
    "    # Get the shape of 3D array\n",
    "    d1,d2,d3 = X_3D.shape\n",
    "\n",
    "    # for each d1\n",
    "    for d in range(d1):\n",
    "        # extract the LOC x DAY \n",
    "        X_2D = X_3D[d,:,:]; X_2D\n",
    "\n",
    "        # key for first level dictionary\n",
    "        key_1 = str(d) # first dimention (e.g. sku)\n",
    "        train_test_splits[key_1] = {}\n",
    "        \n",
    "        # Create a TimeSeriesSplit\n",
    "        tscv = TimeSeriesSplit(n_splits=n_splits)\n",
    "\n",
    "        # for each split\n",
    "        for i, [train_index, test_index] in enumerate(tscv.split(X_2D.T)): # transpose from DAY x LOC\n",
    "            print(\"TRAIN:\", train_index, \"TEST:\", test_index)\n",
    "            X_train, X_test = X_2D.T[train_index].T, X_2D.T[test_index].T # do the split, and transpose back to LOC x DAY\n",
    "            #X_train.shape, X_test.shape\n",
    "            print('X_train: \\n', X_train)\n",
    "            print('X_test: \\n', X_test)\n",
    "            \n",
    "            # key for 2nd level dictionary\n",
    "            key_2 = str(i)  # split_n\n",
    "\n",
    "            # add to dict of dicts\n",
    "            train_test_splits[key_1][key_2] = {'X_train': X_train, 'X_test': X_test}\n",
    "         \n",
    "    return(train_test_splits)"
   ]
  },
  {
   "cell_type": "markdown",
   "metadata": {},
   "source": [
    "#### use case 1: `[SKU, LOC, DAY]`"
   ]
  },
  {
   "cell_type": "code",
   "execution_count": 4,
   "metadata": {},
   "outputs": [
    {
     "data": {
      "text/plain": [
       "(2, 3, 5)"
      ]
     },
     "execution_count": 4,
     "metadata": {},
     "output_type": "execute_result"
    },
    {
     "data": {
      "text/plain": [
       "array([[['S0-L0-D0', 'S0-L0-D1', 'S0-L0-D2', 'S0-L0-D3', 'S0-L0-D4'],\n",
       "        ['S0-L1-D0', 'S0-L1-D1', 'S0-L1-D2', 'S0-L1-D3', 'S0-L1-D4'],\n",
       "        ['S0-L2-D0', 'S0-L2-D1', 'S0-L2-D2', 'S0-L2-D3', 'S0-L2-D4']],\n",
       "\n",
       "       [['S1-L0-D0', 'S1-L0-D1', 'S1-L0-D2', 'S1-L0-D3', 'S1-L0-D4'],\n",
       "        ['S1-L1-D0', 'S1-L1-D1', 'S1-L1-D2', 'S1-L1-D3', 'S1-L1-D4'],\n",
       "        ['S1-L2-D0', 'S1-L2-D1', 'S1-L2-D2', 'S1-L2-D3', 'S1-L2-D4']]],\n",
       "      dtype='<U8')"
      ]
     },
     "execution_count": 4,
     "metadata": {},
     "output_type": "execute_result"
    },
    {
     "data": {
      "text/plain": [
       "4"
      ]
     },
     "execution_count": 4,
     "metadata": {},
     "output_type": "execute_result"
    },
    {
     "name": "stdout",
     "output_type": "stream",
     "text": [
      "TRAIN: [0] TEST: [1]\n",
      "X_train: \n",
      " [['S0-L0-D0']\n",
      " ['S0-L1-D0']\n",
      " ['S0-L2-D0']]\n",
      "X_test: \n",
      " [['S0-L0-D1']\n",
      " ['S0-L1-D1']\n",
      " ['S0-L2-D1']]\n",
      "TRAIN: [0 1] TEST: [2]\n",
      "X_train: \n",
      " [['S0-L0-D0' 'S0-L0-D1']\n",
      " ['S0-L1-D0' 'S0-L1-D1']\n",
      " ['S0-L2-D0' 'S0-L2-D1']]\n",
      "X_test: \n",
      " [['S0-L0-D2']\n",
      " ['S0-L1-D2']\n",
      " ['S0-L2-D2']]\n",
      "TRAIN: [0 1 2] TEST: [3]\n",
      "X_train: \n",
      " [['S0-L0-D0' 'S0-L0-D1' 'S0-L0-D2']\n",
      " ['S0-L1-D0' 'S0-L1-D1' 'S0-L1-D2']\n",
      " ['S0-L2-D0' 'S0-L2-D1' 'S0-L2-D2']]\n",
      "X_test: \n",
      " [['S0-L0-D3']\n",
      " ['S0-L1-D3']\n",
      " ['S0-L2-D3']]\n",
      "TRAIN: [0 1 2 3] TEST: [4]\n",
      "X_train: \n",
      " [['S0-L0-D0' 'S0-L0-D1' 'S0-L0-D2' 'S0-L0-D3']\n",
      " ['S0-L1-D0' 'S0-L1-D1' 'S0-L1-D2' 'S0-L1-D3']\n",
      " ['S0-L2-D0' 'S0-L2-D1' 'S0-L2-D2' 'S0-L2-D3']]\n",
      "X_test: \n",
      " [['S0-L0-D4']\n",
      " ['S0-L1-D4']\n",
      " ['S0-L2-D4']]\n",
      "TRAIN: [0] TEST: [1]\n",
      "X_train: \n",
      " [['S1-L0-D0']\n",
      " ['S1-L1-D0']\n",
      " ['S1-L2-D0']]\n",
      "X_test: \n",
      " [['S1-L0-D1']\n",
      " ['S1-L1-D1']\n",
      " ['S1-L2-D1']]\n",
      "TRAIN: [0 1] TEST: [2]\n",
      "X_train: \n",
      " [['S1-L0-D0' 'S1-L0-D1']\n",
      " ['S1-L1-D0' 'S1-L1-D1']\n",
      " ['S1-L2-D0' 'S1-L2-D1']]\n",
      "X_test: \n",
      " [['S1-L0-D2']\n",
      " ['S1-L1-D2']\n",
      " ['S1-L2-D2']]\n",
      "TRAIN: [0 1 2] TEST: [3]\n",
      "X_train: \n",
      " [['S1-L0-D0' 'S1-L0-D1' 'S1-L0-D2']\n",
      " ['S1-L1-D0' 'S1-L1-D1' 'S1-L1-D2']\n",
      " ['S1-L2-D0' 'S1-L2-D1' 'S1-L2-D2']]\n",
      "X_test: \n",
      " [['S1-L0-D3']\n",
      " ['S1-L1-D3']\n",
      " ['S1-L2-D3']]\n",
      "TRAIN: [0 1 2 3] TEST: [4]\n",
      "X_train: \n",
      " [['S1-L0-D0' 'S1-L0-D1' 'S1-L0-D2' 'S1-L0-D3']\n",
      " ['S1-L1-D0' 'S1-L1-D1' 'S1-L1-D2' 'S1-L1-D3']\n",
      " ['S1-L2-D0' 'S1-L2-D1' 'S1-L2-D2' 'S1-L2-D3']]\n",
      "X_test: \n",
      " [['S1-L0-D4']\n",
      " ['S1-L1-D4']\n",
      " ['S1-L2-D4']]\n"
     ]
    }
   ],
   "source": [
    "X_3D = np.array([[['S0-L0-D0', 'S0-L0-D1', 'S0-L0-D2', 'S0-L0-D3', 'S0-L0-D4'],\n",
    "                  ['S0-L1-D0', 'S0-L1-D1', 'S0-L1-D2', 'S0-L1-D3', 'S0-L1-D4'],\n",
    "                  ['S0-L2-D0', 'S0-L2-D1', 'S0-L2-D2', 'S0-L2-D3', 'S0-L2-D4']],\n",
    "                 [['S1-L0-D0', 'S1-L0-D1', 'S1-L0-D2', 'S1-L0-D3', 'S1-L0-D4'],\n",
    "                  ['S1-L1-D0', 'S1-L1-D1', 'S1-L1-D2', 'S1-L1-D3', 'S1-L1-D4'],\n",
    "                  ['S1-L2-D0', 'S1-L2-D1', 'S1-L2-D2', 'S1-L2-D3', 'S1-L2-D4']]])\n",
    "\n",
    "X_3D.shape; X_3D\n",
    "\n",
    "n_splits = X_3D.shape[-1]-1; n_splits\n",
    "\n",
    "train_test_splits_dict_of_dicts = timeseriessplit_3d(X_3D, n_splits=n_splits)"
   ]
  },
  {
   "cell_type": "code",
   "execution_count": 5,
   "metadata": {},
   "outputs": [
    {
     "data": {
      "text/plain": [
       "{'0': {'0': {'X_train': array([['S0-L0-D0'],\n",
       "          ['S0-L1-D0'],\n",
       "          ['S0-L2-D0']], dtype='<U8'),\n",
       "   'X_test': array([['S0-L0-D1'],\n",
       "          ['S0-L1-D1'],\n",
       "          ['S0-L2-D1']], dtype='<U8')},\n",
       "  '1': {'X_train': array([['S0-L0-D0', 'S0-L0-D1'],\n",
       "          ['S0-L1-D0', 'S0-L1-D1'],\n",
       "          ['S0-L2-D0', 'S0-L2-D1']], dtype='<U8'),\n",
       "   'X_test': array([['S0-L0-D2'],\n",
       "          ['S0-L1-D2'],\n",
       "          ['S0-L2-D2']], dtype='<U8')},\n",
       "  '2': {'X_train': array([['S0-L0-D0', 'S0-L0-D1', 'S0-L0-D2'],\n",
       "          ['S0-L1-D0', 'S0-L1-D1', 'S0-L1-D2'],\n",
       "          ['S0-L2-D0', 'S0-L2-D1', 'S0-L2-D2']], dtype='<U8'),\n",
       "   'X_test': array([['S0-L0-D3'],\n",
       "          ['S0-L1-D3'],\n",
       "          ['S0-L2-D3']], dtype='<U8')},\n",
       "  '3': {'X_train': array([['S0-L0-D0', 'S0-L0-D1', 'S0-L0-D2', 'S0-L0-D3'],\n",
       "          ['S0-L1-D0', 'S0-L1-D1', 'S0-L1-D2', 'S0-L1-D3'],\n",
       "          ['S0-L2-D0', 'S0-L2-D1', 'S0-L2-D2', 'S0-L2-D3']], dtype='<U8'),\n",
       "   'X_test': array([['S0-L0-D4'],\n",
       "          ['S0-L1-D4'],\n",
       "          ['S0-L2-D4']], dtype='<U8')}},\n",
       " '1': {'0': {'X_train': array([['S1-L0-D0'],\n",
       "          ['S1-L1-D0'],\n",
       "          ['S1-L2-D0']], dtype='<U8'),\n",
       "   'X_test': array([['S1-L0-D1'],\n",
       "          ['S1-L1-D1'],\n",
       "          ['S1-L2-D1']], dtype='<U8')},\n",
       "  '1': {'X_train': array([['S1-L0-D0', 'S1-L0-D1'],\n",
       "          ['S1-L1-D0', 'S1-L1-D1'],\n",
       "          ['S1-L2-D0', 'S1-L2-D1']], dtype='<U8'),\n",
       "   'X_test': array([['S1-L0-D2'],\n",
       "          ['S1-L1-D2'],\n",
       "          ['S1-L2-D2']], dtype='<U8')},\n",
       "  '2': {'X_train': array([['S1-L0-D0', 'S1-L0-D1', 'S1-L0-D2'],\n",
       "          ['S1-L1-D0', 'S1-L1-D1', 'S1-L1-D2'],\n",
       "          ['S1-L2-D0', 'S1-L2-D1', 'S1-L2-D2']], dtype='<U8'),\n",
       "   'X_test': array([['S1-L0-D3'],\n",
       "          ['S1-L1-D3'],\n",
       "          ['S1-L2-D3']], dtype='<U8')},\n",
       "  '3': {'X_train': array([['S1-L0-D0', 'S1-L0-D1', 'S1-L0-D2', 'S1-L0-D3'],\n",
       "          ['S1-L1-D0', 'S1-L1-D1', 'S1-L1-D2', 'S1-L1-D3'],\n",
       "          ['S1-L2-D0', 'S1-L2-D1', 'S1-L2-D2', 'S1-L2-D3']], dtype='<U8'),\n",
       "   'X_test': array([['S1-L0-D4'],\n",
       "          ['S1-L1-D4'],\n",
       "          ['S1-L2-D4']], dtype='<U8')}}}"
      ]
     },
     "execution_count": 5,
     "metadata": {},
     "output_type": "execute_result"
    }
   ],
   "source": [
    "train_test_splits_dict_of_dicts"
   ]
  },
  {
   "cell_type": "code",
   "execution_count": 6,
   "metadata": {
    "scrolled": true
   },
   "outputs": [
    {
     "data": {
      "text/plain": [
       "array([['S0-L0-D0', 'S0-L0-D1', 'S0-L0-D2', 'S0-L0-D3'],\n",
       "       ['S0-L1-D0', 'S0-L1-D1', 'S0-L1-D2', 'S0-L1-D3'],\n",
       "       ['S0-L2-D0', 'S0-L2-D1', 'S0-L2-D2', 'S0-L2-D3']], dtype='<U8')"
      ]
     },
     "execution_count": 6,
     "metadata": {},
     "output_type": "execute_result"
    },
    {
     "data": {
      "text/plain": [
       "array([['S0-L0-D4'],\n",
       "       ['S0-L1-D4'],\n",
       "       ['S0-L2-D4']], dtype='<U8')"
      ]
     },
     "execution_count": 6,
     "metadata": {},
     "output_type": "execute_result"
    }
   ],
   "source": [
    "train_test_splits_dict_of_dicts['0']['3']['X_train']  # sku, split, X_train\n",
    "train_test_splits_dict_of_dicts['0']['3']['X_test']  # sku, split, X_test"
   ]
  },
  {
   "cell_type": "markdown",
   "metadata": {},
   "source": [
    "#### use case 2: `[LOC, SKU, DAY]`"
   ]
  },
  {
   "cell_type": "code",
   "execution_count": 7,
   "metadata": {
    "scrolled": false
   },
   "outputs": [
    {
     "data": {
      "text/plain": [
       "(3, 2, 5)"
      ]
     },
     "execution_count": 7,
     "metadata": {},
     "output_type": "execute_result"
    },
    {
     "data": {
      "text/plain": [
       "array([[['L0-S0-D0', 'L0-S0-D1', 'L0-S0-D2', 'L0-S0-D3', 'L0-S0-D4'],\n",
       "        ['L0-S1-D0', 'L0-S1-D1', 'L0-S1-D2', 'L0-S1-D3', 'L0-S1-D4']],\n",
       "\n",
       "       [['L1-S0-D0', 'L1-S0-D1', 'L1-S0-D2', 'L1-S0-D3', 'L1-S0-D4'],\n",
       "        ['L1-S1-D0', 'L1-S1-D1', 'L1-S1-D2', 'L1-S1-D3', 'L1-S1-D4']],\n",
       "\n",
       "       [['L2-S0-D0', 'L2-S0-D1', 'L2-S0-D2', 'L2-S0-D3', 'L2-S0-D4'],\n",
       "        ['L2-S1-D0', 'L2-S1-D1', 'L2-S1-D2', 'L2-S1-D3', 'L2-S1-D4']]],\n",
       "      dtype='<U8')"
      ]
     },
     "execution_count": 7,
     "metadata": {},
     "output_type": "execute_result"
    },
    {
     "data": {
      "text/plain": [
       "(2, 3, 5)"
      ]
     },
     "execution_count": 7,
     "metadata": {},
     "output_type": "execute_result"
    },
    {
     "data": {
      "text/plain": [
       "array([[['L0-S0-D0', 'L0-S0-D1', 'L0-S0-D2', 'L0-S0-D3', 'L0-S0-D4'],\n",
       "        ['L1-S0-D0', 'L1-S0-D1', 'L1-S0-D2', 'L1-S0-D3', 'L1-S0-D4'],\n",
       "        ['L2-S0-D0', 'L2-S0-D1', 'L2-S0-D2', 'L2-S0-D3', 'L2-S0-D4']],\n",
       "\n",
       "       [['L0-S1-D0', 'L0-S1-D1', 'L0-S1-D2', 'L0-S1-D3', 'L0-S1-D4'],\n",
       "        ['L1-S1-D0', 'L1-S1-D1', 'L1-S1-D2', 'L1-S1-D3', 'L1-S1-D4'],\n",
       "        ['L2-S1-D0', 'L2-S1-D1', 'L2-S1-D2', 'L2-S1-D3', 'L2-S1-D4']]],\n",
       "      dtype='<U8')"
      ]
     },
     "execution_count": 7,
     "metadata": {},
     "output_type": "execute_result"
    },
    {
     "data": {
      "text/plain": [
       "4"
      ]
     },
     "execution_count": 7,
     "metadata": {},
     "output_type": "execute_result"
    },
    {
     "name": "stdout",
     "output_type": "stream",
     "text": [
      "TRAIN: [0] TEST: [1]\n",
      "X_train: \n",
      " [['L0-S0-D0']\n",
      " ['L1-S0-D0']\n",
      " ['L2-S0-D0']]\n",
      "X_test: \n",
      " [['L0-S0-D1']\n",
      " ['L1-S0-D1']\n",
      " ['L2-S0-D1']]\n",
      "TRAIN: [0 1] TEST: [2]\n",
      "X_train: \n",
      " [['L0-S0-D0' 'L0-S0-D1']\n",
      " ['L1-S0-D0' 'L1-S0-D1']\n",
      " ['L2-S0-D0' 'L2-S0-D1']]\n",
      "X_test: \n",
      " [['L0-S0-D2']\n",
      " ['L1-S0-D2']\n",
      " ['L2-S0-D2']]\n",
      "TRAIN: [0 1 2] TEST: [3]\n",
      "X_train: \n",
      " [['L0-S0-D0' 'L0-S0-D1' 'L0-S0-D2']\n",
      " ['L1-S0-D0' 'L1-S0-D1' 'L1-S0-D2']\n",
      " ['L2-S0-D0' 'L2-S0-D1' 'L2-S0-D2']]\n",
      "X_test: \n",
      " [['L0-S0-D3']\n",
      " ['L1-S0-D3']\n",
      " ['L2-S0-D3']]\n",
      "TRAIN: [0 1 2 3] TEST: [4]\n",
      "X_train: \n",
      " [['L0-S0-D0' 'L0-S0-D1' 'L0-S0-D2' 'L0-S0-D3']\n",
      " ['L1-S0-D0' 'L1-S0-D1' 'L1-S0-D2' 'L1-S0-D3']\n",
      " ['L2-S0-D0' 'L2-S0-D1' 'L2-S0-D2' 'L2-S0-D3']]\n",
      "X_test: \n",
      " [['L0-S0-D4']\n",
      " ['L1-S0-D4']\n",
      " ['L2-S0-D4']]\n",
      "TRAIN: [0] TEST: [1]\n",
      "X_train: \n",
      " [['L0-S1-D0']\n",
      " ['L1-S1-D0']\n",
      " ['L2-S1-D0']]\n",
      "X_test: \n",
      " [['L0-S1-D1']\n",
      " ['L1-S1-D1']\n",
      " ['L2-S1-D1']]\n",
      "TRAIN: [0 1] TEST: [2]\n",
      "X_train: \n",
      " [['L0-S1-D0' 'L0-S1-D1']\n",
      " ['L1-S1-D0' 'L1-S1-D1']\n",
      " ['L2-S1-D0' 'L2-S1-D1']]\n",
      "X_test: \n",
      " [['L0-S1-D2']\n",
      " ['L1-S1-D2']\n",
      " ['L2-S1-D2']]\n",
      "TRAIN: [0 1 2] TEST: [3]\n",
      "X_train: \n",
      " [['L0-S1-D0' 'L0-S1-D1' 'L0-S1-D2']\n",
      " ['L1-S1-D0' 'L1-S1-D1' 'L1-S1-D2']\n",
      " ['L2-S1-D0' 'L2-S1-D1' 'L2-S1-D2']]\n",
      "X_test: \n",
      " [['L0-S1-D3']\n",
      " ['L1-S1-D3']\n",
      " ['L2-S1-D3']]\n",
      "TRAIN: [0 1 2 3] TEST: [4]\n",
      "X_train: \n",
      " [['L0-S1-D0' 'L0-S1-D1' 'L0-S1-D2' 'L0-S1-D3']\n",
      " ['L1-S1-D0' 'L1-S1-D1' 'L1-S1-D2' 'L1-S1-D3']\n",
      " ['L2-S1-D0' 'L2-S1-D1' 'L2-S1-D2' 'L2-S1-D3']]\n",
      "X_test: \n",
      " [['L0-S1-D4']\n",
      " ['L1-S1-D4']\n",
      " ['L2-S1-D4']]\n"
     ]
    }
   ],
   "source": [
    "X_3D = np.array([[['L0-S0-D0', 'L0-S0-D1', 'L0-S0-D2', 'L0-S0-D3', 'L0-S0-D4'],\n",
    "                  ['L0-S1-D0', 'L0-S1-D1', 'L0-S1-D2', 'L0-S1-D3', 'L0-S1-D4']],\n",
    "                 [['L1-S0-D0', 'L1-S0-D1', 'L1-S0-D2', 'L1-S0-D3', 'L1-S0-D4'],\n",
    "                  ['L1-S1-D0', 'L1-S1-D1', 'L1-S1-D2', 'L1-S1-D3', 'L1-S1-D4']],\n",
    "                 [['L2-S0-D0', 'L2-S0-D1', 'L2-S0-D2', 'L2-S0-D3', 'L2-S0-D4'],\n",
    "                  ['L2-S1-D0', 'L2-S1-D1', 'L2-S1-D2', 'L2-S1-D3', 'L2-S1-D4']]])\n",
    "\n",
    "X_3D.shape; X_3D\n",
    "\n",
    "# transpose from [LOC x SKU x DAY] to [SKU x LOC x DAY]\n",
    "X_3DT = np.transpose(X_3D, (1,0,2)) ; X_3DT.shape; X_3DT\n",
    "\n",
    "n_splits = X_3DT.shape[-1]-1; n_splits\n",
    "\n",
    "train_test_splits_dict_of_dicts = timeseriessplit_3d(X_3DT, n_splits=n_splits)"
   ]
  },
  {
   "cell_type": "code",
   "execution_count": 8,
   "metadata": {},
   "outputs": [
    {
     "data": {
      "text/plain": [
       "{'0': {'0': {'X_train': array([['L0-S0-D0'],\n",
       "          ['L1-S0-D0'],\n",
       "          ['L2-S0-D0']], dtype='<U8'),\n",
       "   'X_test': array([['L0-S0-D1'],\n",
       "          ['L1-S0-D1'],\n",
       "          ['L2-S0-D1']], dtype='<U8')},\n",
       "  '1': {'X_train': array([['L0-S0-D0', 'L0-S0-D1'],\n",
       "          ['L1-S0-D0', 'L1-S0-D1'],\n",
       "          ['L2-S0-D0', 'L2-S0-D1']], dtype='<U8'),\n",
       "   'X_test': array([['L0-S0-D2'],\n",
       "          ['L1-S0-D2'],\n",
       "          ['L2-S0-D2']], dtype='<U8')},\n",
       "  '2': {'X_train': array([['L0-S0-D0', 'L0-S0-D1', 'L0-S0-D2'],\n",
       "          ['L1-S0-D0', 'L1-S0-D1', 'L1-S0-D2'],\n",
       "          ['L2-S0-D0', 'L2-S0-D1', 'L2-S0-D2']], dtype='<U8'),\n",
       "   'X_test': array([['L0-S0-D3'],\n",
       "          ['L1-S0-D3'],\n",
       "          ['L2-S0-D3']], dtype='<U8')},\n",
       "  '3': {'X_train': array([['L0-S0-D0', 'L0-S0-D1', 'L0-S0-D2', 'L0-S0-D3'],\n",
       "          ['L1-S0-D0', 'L1-S0-D1', 'L1-S0-D2', 'L1-S0-D3'],\n",
       "          ['L2-S0-D0', 'L2-S0-D1', 'L2-S0-D2', 'L2-S0-D3']], dtype='<U8'),\n",
       "   'X_test': array([['L0-S0-D4'],\n",
       "          ['L1-S0-D4'],\n",
       "          ['L2-S0-D4']], dtype='<U8')}},\n",
       " '1': {'0': {'X_train': array([['L0-S1-D0'],\n",
       "          ['L1-S1-D0'],\n",
       "          ['L2-S1-D0']], dtype='<U8'),\n",
       "   'X_test': array([['L0-S1-D1'],\n",
       "          ['L1-S1-D1'],\n",
       "          ['L2-S1-D1']], dtype='<U8')},\n",
       "  '1': {'X_train': array([['L0-S1-D0', 'L0-S1-D1'],\n",
       "          ['L1-S1-D0', 'L1-S1-D1'],\n",
       "          ['L2-S1-D0', 'L2-S1-D1']], dtype='<U8'),\n",
       "   'X_test': array([['L0-S1-D2'],\n",
       "          ['L1-S1-D2'],\n",
       "          ['L2-S1-D2']], dtype='<U8')},\n",
       "  '2': {'X_train': array([['L0-S1-D0', 'L0-S1-D1', 'L0-S1-D2'],\n",
       "          ['L1-S1-D0', 'L1-S1-D1', 'L1-S1-D2'],\n",
       "          ['L2-S1-D0', 'L2-S1-D1', 'L2-S1-D2']], dtype='<U8'),\n",
       "   'X_test': array([['L0-S1-D3'],\n",
       "          ['L1-S1-D3'],\n",
       "          ['L2-S1-D3']], dtype='<U8')},\n",
       "  '3': {'X_train': array([['L0-S1-D0', 'L0-S1-D1', 'L0-S1-D2', 'L0-S1-D3'],\n",
       "          ['L1-S1-D0', 'L1-S1-D1', 'L1-S1-D2', 'L1-S1-D3'],\n",
       "          ['L2-S1-D0', 'L2-S1-D1', 'L2-S1-D2', 'L2-S1-D3']], dtype='<U8'),\n",
       "   'X_test': array([['L0-S1-D4'],\n",
       "          ['L1-S1-D4'],\n",
       "          ['L2-S1-D4']], dtype='<U8')}}}"
      ]
     },
     "execution_count": 8,
     "metadata": {},
     "output_type": "execute_result"
    }
   ],
   "source": [
    "train_test_splits_dict_of_dicts"
   ]
  },
  {
   "cell_type": "code",
   "execution_count": 9,
   "metadata": {
    "scrolled": true
   },
   "outputs": [
    {
     "data": {
      "text/plain": [
       "array([['L0-S0-D0', 'L0-S0-D1', 'L0-S0-D2', 'L0-S0-D3'],\n",
       "       ['L1-S0-D0', 'L1-S0-D1', 'L1-S0-D2', 'L1-S0-D3'],\n",
       "       ['L2-S0-D0', 'L2-S0-D1', 'L2-S0-D2', 'L2-S0-D3']], dtype='<U8')"
      ]
     },
     "execution_count": 9,
     "metadata": {},
     "output_type": "execute_result"
    },
    {
     "data": {
      "text/plain": [
       "array([['L0-S0-D4'],\n",
       "       ['L1-S0-D4'],\n",
       "       ['L2-S0-D4']], dtype='<U8')"
      ]
     },
     "execution_count": 9,
     "metadata": {},
     "output_type": "execute_result"
    }
   ],
   "source": [
    "train_test_splits_dict_of_dicts['0']['3']['X_train']  # sku, split, X_train\n",
    "train_test_splits_dict_of_dicts['0']['3']['X_test']  # sku, split, X_test"
   ]
  },
  {
   "cell_type": "code",
   "execution_count": null,
   "metadata": {},
   "outputs": [],
   "source": []
  }
 ],
 "metadata": {
  "kernelspec": {
   "display_name": "inventory-src-py37",
   "language": "python",
   "name": "conda-env-inventory-src-py37-py"
  },
  "language_info": {
   "codemirror_mode": {
    "name": "ipython",
    "version": 3
   },
   "file_extension": ".py",
   "mimetype": "text/x-python",
   "name": "python",
   "nbconvert_exporter": "python",
   "pygments_lexer": "ipython3",
   "version": "3.7.0"
  }
 },
 "nbformat": 4,
 "nbformat_minor": 4
}
