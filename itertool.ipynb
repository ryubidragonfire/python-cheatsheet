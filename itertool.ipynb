{
 "metadata": {
  "language_info": {
   "codemirror_mode": {
    "name": "ipython",
    "version": 3
   },
   "file_extension": ".py",
   "mimetype": "text/x-python",
   "name": "python",
   "nbconvert_exporter": "python",
   "pygments_lexer": "ipython3",
   "version": "3.7.10-final"
  },
  "orig_nbformat": 2,
  "kernelspec": {
   "name": "python3",
   "display_name": "Python 3.7.10 64-bit ('gem-mne': conda)",
   "metadata": {
    "interpreter": {
     "hash": "eba576bfdb9f13523ebc465dd3baa93b808a4f575c5c675a642e0084744a39d3"
    }
   }
  }
 },
 "nbformat": 4,
 "nbformat_minor": 2,
 "cells": [
  {
   "cell_type": "code",
   "execution_count": 2,
   "metadata": {},
   "outputs": [
    {
     "output_type": "stream",
     "name": "stdout",
     "text": [
      "10 15 20 25 30 "
     ]
    }
   ],
   "source": [
    "import itertools \n",
    "    \n",
    "# for in loop \n",
    "for i in itertools.count(10, 5): \n",
    "    if i == 35: \n",
    "        break\n",
    "    else: \n",
    "        print(i, end =\" \")"
   ]
  },
  {
   "cell_type": "code",
   "execution_count": 5,
   "metadata": {},
   "outputs": [
    {
     "output_type": "stream",
     "name": "stdout",
     "text": [
      "A B C D A B C D "
     ]
    }
   ],
   "source": [
    "import itertools \n",
    "    \n",
    "count = 0\n",
    "    \n",
    "# for in loop \n",
    "for i in itertools.cycle('ABCD'): \n",
    "    if count > 7: \n",
    "        break\n",
    "    else: \n",
    "        print(i, end = \" \") \n",
    "        count += 1"
   ]
  },
  {
   "cell_type": "code",
   "execution_count": 7,
   "metadata": {},
   "outputs": [
    {
     "output_type": "stream",
     "name": "stdout",
     "text": [
      "I eat apple I eat apple I eat apple I "
     ]
    }
   ],
   "source": [
    "import itertools \n",
    "    \n",
    "l = ['I', 'eat', 'apple'] \n",
    "    \n",
    "# defining iterator \n",
    "iterators = itertools.cycle(l) \n",
    "    \n",
    "# for in loop \n",
    "for i in range(10): \n",
    "        \n",
    "    # Using next function \n",
    "    print(next(iterators), end = \" \") "
   ]
  },
  {
   "cell_type": "code",
   "execution_count": 9,
   "metadata": {},
   "outputs": [
    {
     "output_type": "stream",
     "name": "stdout",
     "text": [
      "[25, 25, 25, 25]\n"
     ]
    }
   ],
   "source": [
    "import itertools  \n",
    "      \n",
    "# using repeat() to repeatedly print number  \n",
    "print (list(itertools.repeat(25, 4)))"
   ]
  },
  {
   "cell_type": "code",
   "execution_count": 20,
   "metadata": {},
   "outputs": [
    {
     "output_type": "stream",
     "name": "stdout",
     "text": [
      "The cartesian product using repeat:\n[(10, 10), (10, 1), (1, 10), (1, 1)]\n\nThe cartesian product using repeat:\n[(10, 10, 10), (10, 10, 1), (10, 1, 10), (10, 1, 1), (1, 10, 10), (1, 10, 1), (1, 1, 10), (1, 1, 1)]\n\nThe cartesian product of the containers:\n[('I', '2'), ('eat', '2'), ('apple', '2')]\n\nThe cartesian product of the containers:\n[('I', '2'), ('I', '8'), ('eat', '2'), ('eat', '8'), ('apple', '2'), ('apple', '8')]\n\nThe cartesian product of the containers:\n[('A', 3), ('A', 4), ('B', 3), ('B', 4)]\n\nThe cartesian product of the containers:\n[('A', 3), ('A', 4), ('B', 3), ('B', 4), ('C', 3), ('C', 4)]\n"
     ]
    }
   ],
   "source": [
    "from itertools import product \n",
    "    \n",
    "print(\"The cartesian product using repeat:\") \n",
    "print(list(product([10, 1], repeat = 2))) \n",
    "print() \n",
    "\n",
    "print(\"The cartesian product using repeat:\") \n",
    "print(list(product([10, 1], repeat = 3))) \n",
    "print() \n",
    "\n",
    "print(\"The cartesian product of the containers:\") \n",
    "print(list(product(['I', 'eat', 'apple'], '2'))) \n",
    "print() \n",
    "\n",
    "print(\"The cartesian product of the containers:\") \n",
    "print(list(product(['I', 'eat', 'apple'], ['2', '8']))) \n",
    "print() \n",
    "    \n",
    "print(\"The cartesian product of the containers:\") \n",
    "print(list(product('AB', [3, 4])))\n",
    "print()\n",
    "\n",
    "print(\"The cartesian product of the containers:\") \n",
    "print(list(product('ABC', [3, 4])))"
   ]
  },
  {
   "cell_type": "code",
   "execution_count": 27,
   "metadata": {},
   "outputs": [
    {
     "output_type": "stream",
     "name": "stdout",
     "text": [
      "All the permutations of the given list is:\n[(1, 'geeks'), ('geeks', 1)]\n\nAll the permutations of the given list is:\n[(1,), ('geeks',)]\n\nAll the permutations of the given string is:\n[('A', 'B'), ('B', 'A')]\n\nAll the permutations of the given string is:\n[('A', 'B', 'C'), ('A', 'C', 'B'), ('B', 'A', 'C'), ('B', 'C', 'A'), ('C', 'A', 'B'), ('C', 'B', 'A')]\n\nAll the permutations of the given container is:\n[(0, 1), (0, 2), (1, 0), (1, 2), (2, 0), (2, 1)]\n\nAll the permutations of the given container is:\n[(0, 1, 2), (0, 2, 1), (1, 0, 2), (1, 2, 0), (2, 0, 1), (2, 1, 0)]\n"
     ]
    }
   ],
   "source": [
    "from itertools import permutations \n",
    "    \n",
    "print (\"All the permutations of the given list is:\")  \n",
    "print (list(permutations([1, 'geeks'], 2))) \n",
    "print() \n",
    "\n",
    "print (\"All the permutations of the given list is:\")  \n",
    "print (list(permutations([1, 'geeks'], 1))) \n",
    "print() \n",
    "\n",
    "print (\"All the permutations of the given string is:\")  \n",
    "print (list(permutations('AB'))) \n",
    "print() \n",
    "\n",
    "print (\"All the permutations of the given string is:\")  \n",
    "print (list(permutations('ABC'))) \n",
    "print() \n",
    "    \n",
    "print (\"All the permutations of the given container is:\")  \n",
    "print(list(permutations(range(3), 2))) \n",
    "print()\n",
    "\n",
    "print (\"All the permutations of the given container is:\")  \n",
    "print(list(permutations(range(3), 3))) "
   ]
  },
  {
   "cell_type": "code",
   "execution_count": 33,
   "metadata": {},
   "outputs": [
    {
     "output_type": "stream",
     "name": "stdout",
     "text": [
      "All the combination of list in sorted order(without replacement) is:\n[('A', 2)]\n\nAll the combination of string in sorted order(without replacement) is:\n[('A', 'B')]\n\nAll the combination of list in sorted order(without replacement) is:\n[(0,), (1,), (2,)]\n\nAll the combination of list in sorted order(without replacement) is:\n[(0, 1), (0, 2), (0, 3), (0, 4), (1, 2), (1, 3), (1, 4), (2, 3), (2, 4), (3, 4)]\n"
     ]
    }
   ],
   "source": [
    "from itertools import combinations \n",
    "    \n",
    "print (\"All the combination of list in sorted order(without replacement) is:\")  \n",
    "print(list(combinations(['A', 2], 2))) \n",
    "print() \n",
    "    \n",
    "print (\"All the combination of string in sorted order(without replacement) is:\") \n",
    "print(list(combinations('AB', 2))) \n",
    "print() \n",
    "    \n",
    "print (\"All the combination of list in sorted order(without replacement) is:\") \n",
    "print(list(combinations(range(3), 1))) \n",
    "print() \n",
    "    \n",
    "print (\"All the combination of list in sorted order(without replacement) is:\") \n",
    "print(list(combinations(range(5), 2))) "
   ]
  },
  {
   "cell_type": "code",
   "execution_count": 34,
   "metadata": {},
   "outputs": [
    {
     "output_type": "stream",
     "name": "stdout",
     "text": [
      "All the combination of string in sorted order(with replacement) is:\n[('A', 'A'), ('A', 'B'), ('B', 'B')]\n\nAll the combination of list in sorted order(with replacement) is:\n[(1, 1), (1, 2), (2, 2)]\n\nAll the combination of container in sorted order(with replacement) is:\n[(0,), (1,)]\n"
     ]
    }
   ],
   "source": [
    "from itertools import combinations_with_replacement \n",
    "    \n",
    "print (\"All the combination of string in sorted order(with replacement) is:\") \n",
    "print(list(combinations_with_replacement(\"AB\", 2))) \n",
    "print() \n",
    "    \n",
    "print (\"All the combination of list in sorted order(with replacement) is:\") \n",
    "print(list(combinations_with_replacement([1, 2], 2))) \n",
    "print() \n",
    "    \n",
    "print (\"All the combination of container in sorted order(with replacement) is:\") \n",
    "print(list(combinations_with_replacement(range(2), 1)))"
   ]
  },
  {
   "cell_type": "code",
   "execution_count": 35,
   "metadata": {},
   "outputs": [
    {
     "output_type": "stream",
     "name": "stdout",
     "text": [
      "The sum after each iteration is : [1, 5, 10, 17]\nThe product after each iteration is : [1, 4, 20, 140]\nThe sum after each iteration is : [1, 5, 10, 17]\nThe product after each iteration is : [1, 4, 20, 140]\n"
     ]
    }
   ],
   "source": [
    "import itertools \n",
    "import operator \n",
    "  \n",
    "# initializing list 1 \n",
    "li1 = [1, 4, 5, 7] \n",
    "    \n",
    "# using accumulate() \n",
    "# prints the successive summation of elements \n",
    "print (\"The sum after each iteration is : \", end =\"\") \n",
    "print (list(itertools.accumulate(li1))) \n",
    "    \n",
    "# using accumulate() \n",
    "# prints the successive multiplication of elements \n",
    "print (\"The product after each iteration is : \", end =\"\") \n",
    "print (list(itertools.accumulate(li1, operator.mul))) \n",
    "    \n",
    "# using accumulate() \n",
    "# prints the successive summation of elements \n",
    "print (\"The sum after each iteration is : \", end =\"\") \n",
    "print (list(itertools.accumulate(li1))) \n",
    "    \n",
    "# using accumulate() \n",
    "# prints the successive multiplication of elements \n",
    "print (\"The product after each iteration is : \", end =\"\") \n",
    "print (list(itertools.accumulate(li1, operator.mul))) "
   ]
  },
  {
   "cell_type": "code",
   "execution_count": 36,
   "metadata": {},
   "outputs": [
    {
     "output_type": "stream",
     "name": "stdout",
     "text": [
      "All values in mentioned chain are : [1, 4, 5, 7, 1, 6, 5, 9, 8, 10, 5, 4]\n"
     ]
    }
   ],
   "source": [
    "import itertools\n",
    "  \n",
    "# initializing list 1 \n",
    "li1 = [1, 4, 5, 7] \n",
    "    \n",
    "# initializing list 2 \n",
    "li2 = [1, 6, 5, 9] \n",
    "    \n",
    "# initializing list 3 \n",
    "li3 = [8, 10, 5, 4]\n",
    "  \n",
    "# using chain() to print all elements of lists \n",
    "print (\"All values in mentioned chain are : \", end =\"\") \n",
    "print (list(itertools.chain(li1, li2, li3)))"
   ]
  },
  {
   "cell_type": "code",
   "execution_count": 37,
   "metadata": {},
   "outputs": [
    {
     "output_type": "stream",
     "name": "stdout",
     "text": [
      "All values in mentioned chain are : [1, 4, 5, 7, 1, 6, 5, 9, 8, 10, 5, 4]\n"
     ]
    }
   ],
   "source": [
    "import itertools\n",
    "  \n",
    "  \n",
    "# initializing list 1 \n",
    "li1 = [1, 4, 5, 7] \n",
    "    \n",
    "# initializing list 2 \n",
    "li2 = [1, 6, 5, 9] \n",
    "    \n",
    "# initializing list 3 \n",
    "li3 = [8, 10, 5, 4] \n",
    "    \n",
    "# intializing list of list \n",
    "li4 = [li1, li2, li3] \n",
    "  \n",
    "# using chain.from_iterable() to print all elements of lists \n",
    "print (\"All values in mentioned chain are : \", end =\"\") \n",
    "print (list(itertools.chain.from_iterable(li4)))"
   ]
  },
  {
   "cell_type": "code",
   "execution_count": 38,
   "metadata": {},
   "outputs": [
    {
     "output_type": "stream",
     "name": "stdout",
     "text": [
      "The compressed values in string are : ['G', 'F', 'G']\n"
     ]
    }
   ],
   "source": [
    "import itertools\n",
    "  \n",
    "  \n",
    "# using compress() selectively print data values \n",
    "print (\"The compressed values in string are : \", end =\"\") \n",
    "print (list(itertools.compress('GEEKSFORGEEKS', [1, 0, 0, 0, 0, 1, 0, 0, 1, 0, 0, 0, 0])))"
   ]
  },
  {
   "cell_type": "code",
   "execution_count": 39,
   "metadata": {},
   "outputs": [
    {
     "output_type": "stream",
     "name": "stdout",
     "text": [
      "The values after condition returns false : [5, 7, 8]\n"
     ]
    }
   ],
   "source": [
    "import itertools\n",
    "  \n",
    "  \n",
    "# initializing list  \n",
    "li = [2, 4, 5, 7, 8] \n",
    "    \n",
    "# using dropwhile() to start displaying after condition is false \n",
    "print (\"The values after condition returns false : \", end =\"\") \n",
    "print (list(itertools.dropwhile(lambda x : x % 2 == 0, li))) "
   ]
  },
  {
   "cell_type": "code",
   "execution_count": 40,
   "metadata": {},
   "outputs": [
    {
     "output_type": "stream",
     "name": "stdout",
     "text": [
      "The values that return false to function are : [5, 7]\n"
     ]
    }
   ],
   "source": [
    "import itertools \n",
    "    \n",
    "# initializing list  \n",
    "li = [2, 4, 5, 7, 8]\n",
    "  \n",
    "# using filterfalse() to print false values \n",
    "print (\"The values that return false to function are : \", end =\"\") \n",
    "print (list(itertools.filterfalse(lambda x : x % 2 == 0, li))) "
   ]
  },
  {
   "cell_type": "code",
   "execution_count": 41,
   "metadata": {},
   "outputs": [
    {
     "output_type": "stream",
     "name": "stdout",
     "text": [
      "The sliced list values are : [4, 7, 10]\n"
     ]
    }
   ],
   "source": [
    "import itertools \n",
    "    \n",
    "# initializing list  \n",
    "li = [2, 4, 5, 7, 8, 10, 20] \n",
    "      \n",
    "# using islice() to slice the list acc. to need \n",
    "# starts printing from 2nd index till 6th skipping 2 \n",
    "print (\"The sliced list values are : \", end =\"\") \n",
    "print (list(itertools.islice(li, 1, 6, 2))) "
   ]
  },
  {
   "cell_type": "code",
   "execution_count": 42,
   "metadata": {},
   "outputs": [
    {
     "output_type": "stream",
     "name": "stdout",
     "text": [
      "The values acc. to function are : [1, 1, 4, 1]\n"
     ]
    }
   ],
   "source": [
    "import itertools \n",
    "    \n",
    "    \n",
    "# initializing tuple list \n",
    "li = [ (1, 10, 5), (8, 4, 1), (5, 4, 9), (11, 10, 1) ] \n",
    "    \n",
    "# using starmap() for selection value acc. to function \n",
    "# selects min of all tuple values \n",
    "print (\"The values acc. to function are : \", end =\"\") \n",
    "print (list(itertools.starmap(min, li))) "
   ]
  },
  {
   "cell_type": "code",
   "execution_count": 43,
   "metadata": {},
   "outputs": [
    {
     "output_type": "stream",
     "name": "stdout",
     "text": [
      "The list values till 1st false value are : [2, 4, 6]\n"
     ]
    }
   ],
   "source": [
    "import itertools \n",
    "    \n",
    "# initializing list  \n",
    "li = [2, 4, 6, 7, 8, 10, 20] \n",
    "    \n",
    "# using takewhile() to print values till condition is false. \n",
    "print (\"The list values till 1st false value are : \", end =\"\") \n",
    "print (list(itertools.takewhile(lambda x : x % 2 == 0, li )))"
   ]
  },
  {
   "cell_type": "code",
   "execution_count": 44,
   "metadata": {},
   "outputs": [
    {
     "output_type": "stream",
     "name": "stdout",
     "text": [
      "The iterators are : \n[2, 4, 6, 7, 8, 10, 20]\n[2, 4, 6, 7, 8, 10, 20]\n[2, 4, 6, 7, 8, 10, 20]\n"
     ]
    }
   ],
   "source": [
    "import itertools \n",
    "    \n",
    "# initializing list  \n",
    "li = [2, 4, 6, 7, 8, 10, 20] \n",
    "    \n",
    "# storing list in iterator \n",
    "iti = iter(li)  \n",
    "    \n",
    "# using tee() to make a list of iterators \n",
    "# makes list of 3 iterators having same values. \n",
    "it = itertools.tee(iti, 3) \n",
    "    \n",
    "# printing the values of iterators \n",
    "print (\"The iterators are : \") \n",
    "for i in range (0, 3): \n",
    "    print (list(it[i])) "
   ]
  },
  {
   "cell_type": "code",
   "execution_count": 45,
   "metadata": {},
   "outputs": [
    {
     "output_type": "stream",
     "name": "stdout",
     "text": [
      "The combined values of iterables is  : \n('G', 'e') ('e', 'k') ('s', 'f') ('o', 'r') ('G', 'e') ('e', 'k') ('s', '_')\n"
     ]
    }
   ],
   "source": [
    "import itertools \n",
    "    \n",
    "# using zip_longest() to combine two iterables. \n",
    "print (\"The combined values of iterables is  : \") \n",
    "print (*(itertools.zip_longest('GesoGes', 'ekfrek', fillvalue ='_' )))"
   ]
  },
  {
   "cell_type": "code",
   "execution_count": null,
   "metadata": {},
   "outputs": [],
   "source": []
  }
 ]
}