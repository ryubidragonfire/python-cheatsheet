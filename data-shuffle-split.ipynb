{
 "cells": [
  {
   "cell_type": "markdown",
   "metadata": {},
   "source": [
    "### Shuffle"
   ]
  },
  {
   "cell_type": "code",
   "execution_count": null,
   "metadata": {
    "collapsed": true
   },
   "outputs": [],
   "source": [
    "import numpy as np\n",
    "\n",
    "# generate indices from 0 to number_of_samples-1\n",
    "indices = np.arange(df.shape[0])\n",
    "\n",
    "#print(indices)\n",
    "\n",
    "# set random seed for repeatability\n",
    "np.random.seed(42)\n",
    "\n",
    "# shuffle the indices\n",
    "np.random.shuffle(indices)\n",
    "\n",
    "# shuffled data\n",
    "data = df.iloc[indices, 1:]\n",
    "labels = df.iloc[indices, 0]\n",
    "\n",
    "data.head()\n",
    "labels.head()"
   ]
  },
  {
   "cell_type": "markdown",
   "metadata": {},
   "source": [
    "### Split"
   ]
  },
  {
   "cell_type": "code",
   "execution_count": null,
   "metadata": {
    "collapsed": true
   },
   "outputs": [],
   "source": [
    "import numpy as np\n",
    "\n",
    "x_train = data[:300]; x_train.shape\n",
    "y_train = labels[:300]; y_train.shape\n",
    "\n",
    "x_val = data[300:]; x_val.shape; x_val.head()\n",
    "y_val = labels[300:]; y_val.shape; y_val.head()"
   ]
  },
  {
   "cell_type": "code",
   "execution_count": null,
   "metadata": {
    "collapsed": true
   },
   "outputs": [],
   "source": [
    "import numpy as np\n",
    "\n",
    "x_train = np.asarray(data[:300])\n",
    "y_train = np.asarray(labels[:300])\n",
    "x_val = np.asarray(data[300:])\n",
    "y_val = np.asarray(labels[300:])\n",
    "\n",
    "x_train.shape\n",
    "y_train.shape\n",
    "x_val.shape\n",
    "y_val.shape\n",
    "x_train.shape[1]"
   ]
  }
 ],
 "metadata": {
  "kernelspec": {
   "display_name": "Python 3",
   "language": "python",
   "name": "python3"
  },
  "language_info": {
   "codemirror_mode": {
    "name": "ipython",
    "version": 3
   },
   "file_extension": ".py",
   "mimetype": "text/x-python",
   "name": "python",
   "nbconvert_exporter": "python",
   "pygments_lexer": "ipython3",
   "version": "3.5.2"
  }
 },
 "nbformat": 4,
 "nbformat_minor": 2
}
