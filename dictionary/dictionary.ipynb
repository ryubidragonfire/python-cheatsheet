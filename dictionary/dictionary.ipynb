{
 "cells": [
  {
   "cell_type": "code",
   "execution_count": 6,
   "metadata": {},
   "outputs": [],
   "source": [
    "from IPython.core.interactiveshell import InteractiveShell\n",
    "InteractiveShell.ast_node_interactivity = \"all\""
   ]
  },
  {
   "cell_type": "markdown",
   "metadata": {},
   "source": [
    "# Dictionary"
   ]
  },
  {
   "cell_type": "code",
   "execution_count": 4,
   "metadata": {},
   "outputs": [
    {
     "data": {
      "text/plain": [
       "dict_keys(['b', 'a'])"
      ]
     },
     "execution_count": 4,
     "metadata": {},
     "output_type": "execute_result"
    }
   ],
   "source": [
    "dict0 = dict.fromkeys(['a', 'b'])\n",
    "dict0.keys()"
   ]
  },
  {
   "cell_type": "code",
   "execution_count": 7,
   "metadata": {},
   "outputs": [
    {
     "data": {
      "text/plain": [
       "{'a': 1, 'b': 2}"
      ]
     },
     "execution_count": 7,
     "metadata": {},
     "output_type": "execute_result"
    },
    {
     "data": {
      "text/plain": [
       "dict_keys(['b', 'a'])"
      ]
     },
     "execution_count": 7,
     "metadata": {},
     "output_type": "execute_result"
    }
   ],
   "source": [
    "dict1 = {'a':1, 'b':2}\n",
    "dict1\n",
    "dict1.keys()"
   ]
  },
  {
   "cell_type": "markdown",
   "metadata": {},
   "source": [
    "## List items in `dict`"
   ]
  },
  {
   "cell_type": "code",
   "execution_count": 64,
   "metadata": {},
   "outputs": [
    {
     "data": {
      "text/plain": [
       "dict_items([('b', 2), ('a', 1)])"
      ]
     },
     "execution_count": 64,
     "metadata": {},
     "output_type": "execute_result"
    }
   ],
   "source": [
    "dict1.items()"
   ]
  },
  {
   "cell_type": "markdown",
   "metadata": {},
   "source": [
    "## Get length of `dict`"
   ]
  },
  {
   "cell_type": "code",
   "execution_count": 65,
   "metadata": {},
   "outputs": [
    {
     "data": {
      "text/plain": [
       "2"
      ]
     },
     "execution_count": 65,
     "metadata": {},
     "output_type": "execute_result"
    }
   ],
   "source": [
    "len(dict1)"
   ]
  },
  {
   "cell_type": "markdown",
   "metadata": {},
   "source": [
    "## Accessing `value` by `key`"
   ]
  },
  {
   "cell_type": "code",
   "execution_count": 66,
   "metadata": {},
   "outputs": [
    {
     "data": {
      "text/plain": [
       "1"
      ]
     },
     "execution_count": 66,
     "metadata": {},
     "output_type": "execute_result"
    }
   ],
   "source": [
    "dict1['a']"
   ]
  },
  {
   "cell_type": "code",
   "execution_count": 67,
   "metadata": {},
   "outputs": [
    {
     "data": {
      "text/plain": [
       "1"
      ]
     },
     "execution_count": 67,
     "metadata": {},
     "output_type": "execute_result"
    }
   ],
   "source": [
    "dict1.get('a')"
   ]
  },
  {
   "cell_type": "markdown",
   "metadata": {},
   "source": [
    "## Loop through top-N of items"
   ]
  },
  {
   "cell_type": "code",
   "execution_count": 68,
   "metadata": {},
   "outputs": [
    {
     "data": {
      "text/plain": [
       "'b'"
      ]
     },
     "execution_count": 68,
     "metadata": {},
     "output_type": "execute_result"
    }
   ],
   "source": [
    "for key in list(dict1.keys())[0:1]:\n",
    "    key"
   ]
  },
  {
   "cell_type": "markdown",
   "metadata": {},
   "source": [
    "## Get `key` from `dict`"
   ]
  },
  {
   "cell_type": "code",
   "execution_count": 69,
   "metadata": {},
   "outputs": [
    {
     "data": {
      "text/plain": [
       "dict_keys(['b', 'a'])"
      ]
     },
     "execution_count": 69,
     "metadata": {},
     "output_type": "execute_result"
    }
   ],
   "source": [
    "dict1.keys()"
   ]
  },
  {
   "cell_type": "markdown",
   "metadata": {},
   "source": [
    "## Check if a `key` exists "
   ]
  },
  {
   "cell_type": "code",
   "execution_count": 85,
   "metadata": {},
   "outputs": [
    {
     "name": "stdout",
     "output_type": "stream",
     "text": [
      "No such key\n",
      "create an entry\n"
     ]
    }
   ],
   "source": [
    "if dict1.get('z'):\n",
    "    print(dict1['z'])\n",
    "else: \n",
    "    print('create an entry')\n"
   ]
  },
  {
   "cell_type": "code",
   "execution_count": 87,
   "metadata": {},
   "outputs": [
    {
     "name": "stdout",
     "output_type": "stream",
     "text": [
      "create an entry\n"
     ]
    }
   ],
   "source": [
    "if not dict1.get('z'):\n",
    "    print('create an entry')\n",
    "else: \n",
    "    print('key exists')"
   ]
  },
  {
   "cell_type": "code",
   "execution_count": 91,
   "metadata": {},
   "outputs": [
    {
     "name": "stdout",
     "output_type": "stream",
     "text": [
      "key exists:  1\n"
     ]
    }
   ],
   "source": [
    "if not dict1.get('a'):\n",
    "    print('create an entry')\n",
    "else: \n",
    "    print('key exists: ', dict1['a'])"
   ]
  },
  {
   "cell_type": "code",
   "execution_count": 86,
   "metadata": {},
   "outputs": [
    {
     "name": "stdout",
     "output_type": "stream",
     "text": [
      "No such key\n"
     ]
    }
   ],
   "source": [
    "if not dict1.get('z'):\n",
    "    print('No such key')"
   ]
  },
  {
   "cell_type": "markdown",
   "metadata": {},
   "source": [
    "## Add item into `dict`"
   ]
  },
  {
   "cell_type": "code",
   "execution_count": 17,
   "metadata": {},
   "outputs": [
    {
     "data": {
      "text/plain": [
       "{'a': 1, 'b': 2, 'c': 3}"
      ]
     },
     "execution_count": 17,
     "metadata": {},
     "output_type": "execute_result"
    }
   ],
   "source": [
    "## dict1={'c':3} # will overwrite dict1\n",
    "\n",
    "dict1['c']=3\n",
    "dict1"
   ]
  },
  {
   "cell_type": "markdown",
   "metadata": {},
   "source": [
    "## Update a value"
   ]
  },
  {
   "cell_type": "code",
   "execution_count": 18,
   "metadata": {},
   "outputs": [
    {
     "data": {
      "text/plain": [
       "{'a': 1, 'b': 2, 'c': 30}"
      ]
     },
     "execution_count": 18,
     "metadata": {},
     "output_type": "execute_result"
    }
   ],
   "source": [
    "dict1['c']=30\n",
    "dict1"
   ]
  },
  {
   "cell_type": "markdown",
   "metadata": {},
   "source": [
    "## Delete a pair of `key:value`"
   ]
  },
  {
   "cell_type": "code",
   "execution_count": 19,
   "metadata": {},
   "outputs": [
    {
     "name": "stdout",
     "output_type": "stream",
     "text": [
      "{'b': 2, 'c': 30, 'a': 1}\n"
     ]
    },
    {
     "data": {
      "text/plain": [
       "{'a': 1, 'b': 2}"
      ]
     },
     "execution_count": 19,
     "metadata": {},
     "output_type": "execute_result"
    }
   ],
   "source": [
    "print(dict1)\n",
    "del dict1['c']\n",
    "dict1"
   ]
  },
  {
   "cell_type": "markdown",
   "metadata": {},
   "source": [
    "## Merge 2 `dict`"
   ]
  },
  {
   "cell_type": "code",
   "execution_count": 20,
   "metadata": {},
   "outputs": [
    {
     "data": {
      "text/plain": [
       "{'a': 1, 'b': 100, 'c': 3}"
      ]
     },
     "execution_count": 20,
     "metadata": {},
     "output_type": "execute_result"
    }
   ],
   "source": [
    "dict1 = {'a':1, 'b':2}\n",
    "dict2 = {'b':100, 'c':3}\n",
    "\n",
    "merged = dict1.copy()\n",
    "merged.update(dict2)\n",
    "\n",
    "merged"
   ]
  },
  {
   "cell_type": "code",
   "execution_count": 21,
   "metadata": {},
   "outputs": [
    {
     "data": {
      "text/plain": [
       "{'a': 1, 'b': 2, 'c': 3, 'd': 4}"
      ]
     },
     "execution_count": 21,
     "metadata": {},
     "output_type": "execute_result"
    }
   ],
   "source": [
    "dict1 = {'a':1, 'b':2}\n",
    "dict2 = {'c':3, 'd':4}\n",
    "\n",
    "merged = dict1.copy()\n",
    "merged.update(dict2)\n",
    "\n",
    "merged"
   ]
  },
  {
   "cell_type": "markdown",
   "metadata": {},
   "source": [
    "## Looping the `items` in `dict`"
   ]
  },
  {
   "cell_type": "code",
   "execution_count": 22,
   "metadata": {},
   "outputs": [
    {
     "name": "stdout",
     "output_type": "stream",
     "text": [
      "b:2\n",
      "a:1\n"
     ]
    }
   ],
   "source": [
    "for key, val in dict1.items():\n",
    "    print(key + \":\" + str(val))\n",
    "    #print(key, val)"
   ]
  },
  {
   "cell_type": "markdown",
   "metadata": {},
   "source": [
    "## Looping the `keys` in `dict`"
   ]
  },
  {
   "cell_type": "code",
   "execution_count": 23,
   "metadata": {},
   "outputs": [
    {
     "name": "stdout",
     "output_type": "stream",
     "text": [
      "b\n",
      "a\n"
     ]
    }
   ],
   "source": [
    "for key in dict1.keys():\n",
    "    print(key)"
   ]
  },
  {
   "cell_type": "markdown",
   "metadata": {},
   "source": [
    "## Looping the `keys` in order"
   ]
  },
  {
   "cell_type": "code",
   "execution_count": 24,
   "metadata": {},
   "outputs": [
    {
     "name": "stdout",
     "output_type": "stream",
     "text": [
      "a\n",
      "b\n"
     ]
    }
   ],
   "source": [
    "for key in sorted(dict1.keys()):\n",
    "    print(key)"
   ]
  },
  {
   "cell_type": "markdown",
   "metadata": {},
   "source": [
    "## Looping the `values` in `dict`"
   ]
  },
  {
   "cell_type": "code",
   "execution_count": 25,
   "metadata": {},
   "outputs": [
    {
     "name": "stdout",
     "output_type": "stream",
     "text": [
      "2\n",
      "1\n"
     ]
    }
   ],
   "source": [
    "for val in dict1.values():\n",
    "    print(val)"
   ]
  },
  {
   "cell_type": "markdown",
   "metadata": {},
   "source": [
    "## Remove an item by `key` using `pop`"
   ]
  },
  {
   "cell_type": "code",
   "execution_count": 26,
   "metadata": {},
   "outputs": [
    {
     "data": {
      "text/plain": [
       "1"
      ]
     },
     "execution_count": 26,
     "metadata": {},
     "output_type": "execute_result"
    }
   ],
   "source": [
    "dict1.pop('a')"
   ]
  },
  {
   "cell_type": "code",
   "execution_count": 27,
   "metadata": {
    "scrolled": true
   },
   "outputs": [
    {
     "data": {
      "text/plain": [
       "{'b': 2}"
      ]
     },
     "execution_count": 27,
     "metadata": {},
     "output_type": "execute_result"
    }
   ],
   "source": [
    "dict1"
   ]
  },
  {
   "cell_type": "markdown",
   "metadata": {},
   "source": [
    "## Nesting 1a of 3:  a `list` of `dict`s"
   ]
  },
  {
   "cell_type": "code",
   "execution_count": 28,
   "metadata": {},
   "outputs": [],
   "source": [
    "students_list = []\n",
    "\n",
    "student1_dict = {'name':'s1', 'class':'c1'}\n",
    "students_list.append(student1_dict)\n",
    "\n",
    "student2_dict = {'name':'s2', 'class':'c2'}\n",
    "students_list.append(student2_dict)"
   ]
  },
  {
   "cell_type": "code",
   "execution_count": 29,
   "metadata": {},
   "outputs": [
    {
     "name": "stdout",
     "output_type": "stream",
     "text": [
      "{'name': 's1', 'class': 'c1'}\n",
      "{'name': 's2', 'class': 'c2'}\n"
     ]
    }
   ],
   "source": [
    "for student in students_list:\n",
    "    print(student)"
   ]
  },
  {
   "cell_type": "code",
   "execution_count": 30,
   "metadata": {},
   "outputs": [
    {
     "name": "stdout",
     "output_type": "stream",
     "text": [
      "name s1\n",
      "class c1\n",
      ".....................\n",
      "name s2\n",
      "class c2\n",
      ".....................\n"
     ]
    }
   ],
   "source": [
    "for student in students_list:\n",
    "    for key, val in student.items():\n",
    "        print(key, val)\n",
    "    print('.....................')"
   ]
  },
  {
   "cell_type": "markdown",
   "metadata": {},
   "source": [
    "## Nesting 1b of 3:  a `list` of `dict`s"
   ]
  },
  {
   "cell_type": "code",
   "execution_count": 31,
   "metadata": {},
   "outputs": [],
   "source": [
    "del students_list\n",
    "students_list = [\n",
    "    {'name':'s1', 'class':'c1'},\n",
    "    {'name':'s2', 'class':'c2'}\n",
    "]"
   ]
  },
  {
   "cell_type": "code",
   "execution_count": 32,
   "metadata": {},
   "outputs": [
    {
     "name": "stdout",
     "output_type": "stream",
     "text": [
      "name s1\n",
      "class c1\n",
      ".....................\n",
      "name s2\n",
      "class c2\n",
      ".....................\n"
     ]
    }
   ],
   "source": [
    "for student in students_list:\n",
    "    for key, val in student.items():\n",
    "        print(key, val)\n",
    "    print('.....................')"
   ]
  },
  {
   "cell_type": "markdown",
   "metadata": {},
   "source": [
    "## Nesting 2 of 3a:  a `dict` containing `list`s"
   ]
  },
  {
   "cell_type": "code",
   "execution_count": 1,
   "metadata": {},
   "outputs": [],
   "source": [
    "subjects_dict = {\n",
    "    'student1':['geo', 'hist'],\n",
    "    'student2':['math', 'geo', 'hist']\n",
    "}"
   ]
  },
  {
   "cell_type": "code",
   "execution_count": 2,
   "metadata": {},
   "outputs": [
    {
     "name": "stdout",
     "output_type": "stream",
     "text": [
      "student1:\n",
      "geo\n",
      "hist\n",
      "..................\n",
      "student2:\n",
      "math\n",
      "geo\n",
      "hist\n",
      "..................\n"
     ]
    }
   ],
   "source": [
    "for name, subjects in subjects_dict.items():\n",
    "    print(name + \":\")\n",
    "    for subject in subjects:\n",
    "        print(subject)\n",
    "    print('..................')"
   ]
  },
  {
   "cell_type": "markdown",
   "metadata": {},
   "source": [
    "## Nesting 2 of 3b:  a `dict` containing `list` of `list`s"
   ]
  },
  {
   "cell_type": "code",
   "execution_count": 15,
   "metadata": {},
   "outputs": [],
   "source": [
    "subjects_dict = {}\n",
    "subjects_dict.setdefault('student1', []).append(['geo', 'hist'])\n",
    "subjects_dict.setdefault('student1', []).append(['geo2', 'hist2'])\n",
    "subjects_dict.setdefault('student2', []).append(['math', 'geo', 'hist'])"
   ]
  },
  {
   "cell_type": "code",
   "execution_count": 16,
   "metadata": {},
   "outputs": [
    {
     "name": "stdout",
     "output_type": "stream",
     "text": [
      "student1:\n",
      "['geo', 'hist']\n",
      "['geo2', 'hist2']\n",
      "..................\n",
      "student2:\n",
      "['math', 'geo', 'hist']\n",
      "..................\n"
     ]
    }
   ],
   "source": [
    "for name, subjects in subjects_dict.items():\n",
    "    print(name + \":\")\n",
    "    for subject in subjects:\n",
    "        print(subject)\n",
    "    print('..................')"
   ]
  },
  {
   "cell_type": "markdown",
   "metadata": {},
   "source": [
    "## Nesting 3 of 3a:  a `dict` of `dict`s"
   ]
  },
  {
   "cell_type": "code",
   "execution_count": 35,
   "metadata": {},
   "outputs": [],
   "source": [
    "students_dict = {\n",
    "    's1':{\n",
    "        'name':'s1', \n",
    "        'class':'c1'\n",
    "        },\n",
    "    's2':{\n",
    "        'name':'s2', \n",
    "        'class':'c2'\n",
    "        }\n",
    "}"
   ]
  },
  {
   "cell_type": "code",
   "execution_count": 36,
   "metadata": {},
   "outputs": [
    {
     "name": "stdout",
     "output_type": "stream",
     "text": [
      "s2\n",
      "name s2\n",
      "class c2\n",
      ".................\n",
      "s1\n",
      "name s1\n",
      "class c1\n",
      ".................\n"
     ]
    }
   ],
   "source": [
    "for student, student_dict in students_dict.items():\n",
    "    print(student)\n",
    "    for key, val in student_dict.items():\n",
    "        print(key, val)\n",
    "    print('.................')"
   ]
  },
  {
   "cell_type": "code",
   "execution_count": 37,
   "metadata": {},
   "outputs": [
    {
     "name": "stdout",
     "output_type": "stream",
     "text": [
      "s2 {'name': 's2', 'class': 'c2'}\n",
      "name s2\n",
      "class c2\n",
      ".................\n",
      "s1 {'name': 's1', 'class': 'c1'}\n",
      "name s1\n",
      "class c1\n",
      ".................\n"
     ]
    }
   ],
   "source": [
    "for key, val in students_dict.items():\n",
    "    print(key, val)\n",
    "    for key2, val2 in val.items():\n",
    "        print(key2, val2)\n",
    "    print('.................')"
   ]
  },
  {
   "cell_type": "markdown",
   "metadata": {},
   "source": [
    "## Nesting 3 of 3b:  create a `dict` of `dict`s"
   ]
  },
  {
   "cell_type": "code",
   "execution_count": 27,
   "metadata": {},
   "outputs": [],
   "source": [
    "dict_of_dicts = {}\n",
    "\n",
    "key_1 = ['k11', 'k12', 'k13']\n",
    "key_2 = ['k21', 'k22', 'k23']\n",
    "val_2 = ['v21', 'v22', 'v23']\n",
    "\n",
    "for k1 in key_1:\n",
    "    dict_of_dicts[k1] = {}\n",
    "    \n",
    "    for k2 in key_2:\n",
    "        dict_of_dicts[k1][k2] = val_2"
   ]
  },
  {
   "cell_type": "code",
   "execution_count": 30,
   "metadata": {
    "scrolled": true
   },
   "outputs": [
    {
     "data": {
      "text/plain": [
       "'k11'"
      ]
     },
     "execution_count": 30,
     "metadata": {},
     "output_type": "execute_result"
    },
    {
     "data": {
      "text/plain": [
       "{'k21': ['v21', 'v22', 'v23'],\n",
       " 'k22': ['v21', 'v22', 'v23'],\n",
       " 'k23': ['v21', 'v22', 'v23']}"
      ]
     },
     "execution_count": 30,
     "metadata": {},
     "output_type": "execute_result"
    },
    {
     "data": {
      "text/plain": [
       "'k12'"
      ]
     },
     "execution_count": 30,
     "metadata": {},
     "output_type": "execute_result"
    },
    {
     "data": {
      "text/plain": [
       "{'k21': ['v21', 'v22', 'v23'],\n",
       " 'k22': ['v21', 'v22', 'v23'],\n",
       " 'k23': ['v21', 'v22', 'v23']}"
      ]
     },
     "execution_count": 30,
     "metadata": {},
     "output_type": "execute_result"
    },
    {
     "data": {
      "text/plain": [
       "'k13'"
      ]
     },
     "execution_count": 30,
     "metadata": {},
     "output_type": "execute_result"
    },
    {
     "data": {
      "text/plain": [
       "{'k21': ['v21', 'v22', 'v23'],\n",
       " 'k22': ['v21', 'v22', 'v23'],\n",
       " 'k23': ['v21', 'v22', 'v23']}"
      ]
     },
     "execution_count": 30,
     "metadata": {},
     "output_type": "execute_result"
    }
   ],
   "source": [
    "for k1 in key_1:\n",
    "    k1\n",
    "    dict_of_dicts[k1]       "
   ]
  },
  {
   "cell_type": "code",
   "execution_count": 54,
   "metadata": {},
   "outputs": [
    {
     "data": {
      "text/plain": [
       "{'k11': {'k21': ['v21', 'v22', 'v23'],\n",
       "  'k22': ['v21', 'v22', 'v23'],\n",
       "  'k23': ['v21', 'v22', 'v23']},\n",
       " 'k12': {'k21': ['v21', 'v22', 'v23'],\n",
       "  'k22': ['v21', 'v22', 'v23'],\n",
       "  'k23': ['v21', 'v22', 'v23']},\n",
       " 'k13': {'k21': ['v21', 'v22', 'v23'],\n",
       "  'k22': ['v21', 'v22', 'v23'],\n",
       "  'k23': ['v21', 'v22', 'v23']}}"
      ]
     },
     "execution_count": 54,
     "metadata": {},
     "output_type": "execute_result"
    }
   ],
   "source": [
    "dict_of_dicts"
   ]
  },
  {
   "cell_type": "markdown",
   "metadata": {},
   "source": [
    "## Nesting 3 of 3c:  access a `dict` of `dict`s"
   ]
  },
  {
   "cell_type": "code",
   "execution_count": 48,
   "metadata": {},
   "outputs": [
    {
     "data": {
      "text/plain": [
       "dict_keys(['k23', 'k22', 'k21'])"
      ]
     },
     "execution_count": 48,
     "metadata": {},
     "output_type": "execute_result"
    },
    {
     "data": {
      "text/plain": [
       "{'k21': ['v21', 'v22', 'v23'],\n",
       " 'k22': ['v21', 'v22', 'v23'],\n",
       " 'k23': ['v21', 'v22', 'v23']}"
      ]
     },
     "execution_count": 48,
     "metadata": {},
     "output_type": "execute_result"
    },
    {
     "data": {
      "text/plain": [
       "dict_keys(['k23', 'k22', 'k21'])"
      ]
     },
     "execution_count": 48,
     "metadata": {},
     "output_type": "execute_result"
    },
    {
     "data": {
      "text/plain": [
       "{'k21': ['v21', 'v22', 'v23'],\n",
       " 'k22': ['v21', 'v22', 'v23'],\n",
       " 'k23': ['v21', 'v22', 'v23']}"
      ]
     },
     "execution_count": 48,
     "metadata": {},
     "output_type": "execute_result"
    },
    {
     "data": {
      "text/plain": [
       "dict_keys(['k23', 'k22', 'k21'])"
      ]
     },
     "execution_count": 48,
     "metadata": {},
     "output_type": "execute_result"
    },
    {
     "data": {
      "text/plain": [
       "{'k21': ['v21', 'v22', 'v23'],\n",
       " 'k22': ['v21', 'v22', 'v23'],\n",
       " 'k23': ['v21', 'v22', 'v23']}"
      ]
     },
     "execution_count": 48,
     "metadata": {},
     "output_type": "execute_result"
    }
   ],
   "source": [
    "for k1 in dict_of_dicts.keys():\n",
    "    dict_of_dicts[k1].keys()\n",
    "    dict_of_dicts[k1]"
   ]
  },
  {
   "cell_type": "code",
   "execution_count": 45,
   "metadata": {},
   "outputs": [
    {
     "data": {
      "text/plain": [
       "['v21', 'v22', 'v23']"
      ]
     },
     "execution_count": 45,
     "metadata": {},
     "output_type": "execute_result"
    },
    {
     "data": {
      "text/plain": [
       "['v21', 'v22', 'v23']"
      ]
     },
     "execution_count": 45,
     "metadata": {},
     "output_type": "execute_result"
    },
    {
     "data": {
      "text/plain": [
       "['v21', 'v22', 'v23']"
      ]
     },
     "execution_count": 45,
     "metadata": {},
     "output_type": "execute_result"
    },
    {
     "data": {
      "text/plain": [
       "['v21', 'v22', 'v23']"
      ]
     },
     "execution_count": 45,
     "metadata": {},
     "output_type": "execute_result"
    },
    {
     "data": {
      "text/plain": [
       "['v21', 'v22', 'v23']"
      ]
     },
     "execution_count": 45,
     "metadata": {},
     "output_type": "execute_result"
    },
    {
     "data": {
      "text/plain": [
       "['v21', 'v22', 'v23']"
      ]
     },
     "execution_count": 45,
     "metadata": {},
     "output_type": "execute_result"
    },
    {
     "data": {
      "text/plain": [
       "['v21', 'v22', 'v23']"
      ]
     },
     "execution_count": 45,
     "metadata": {},
     "output_type": "execute_result"
    },
    {
     "data": {
      "text/plain": [
       "['v21', 'v22', 'v23']"
      ]
     },
     "execution_count": 45,
     "metadata": {},
     "output_type": "execute_result"
    },
    {
     "data": {
      "text/plain": [
       "['v21', 'v22', 'v23']"
      ]
     },
     "execution_count": 45,
     "metadata": {},
     "output_type": "execute_result"
    }
   ],
   "source": [
    "for k1 in dict_of_dicts.keys():\n",
    "    for k2 in dict_of_dicts[k1].keys():\n",
    "        dict_of_dicts[k1][k2]"
   ]
  },
  {
   "cell_type": "markdown",
   "metadata": {},
   "source": [
    "## Nesting 3 of 3d:  create a `dict` of `dict`s of `list`"
   ]
  },
  {
   "cell_type": "code",
   "execution_count": 58,
   "metadata": {},
   "outputs": [],
   "source": [
    "dict_of_dicts = {}\n",
    "\n",
    "key_1 = ['k11', 'k12', 'k13']\n",
    "key_2 = ['k21', 'k22', 'k23']\n",
    "val_2 = ['v21', 'v22', 'v23']\n",
    "\n",
    "for k1 in key_1:\n",
    "    dict_of_dicts[k1] = {}\n",
    "    \n",
    "    for k2 in key_2:\n",
    "        dict_of_dicts[k1][k2] = [val_2[0], val_2[1], val_2[2], 'hi']"
   ]
  },
  {
   "cell_type": "code",
   "execution_count": 59,
   "metadata": {},
   "outputs": [
    {
     "data": {
      "text/plain": [
       "'k11'"
      ]
     },
     "execution_count": 59,
     "metadata": {},
     "output_type": "execute_result"
    },
    {
     "data": {
      "text/plain": [
       "{'k21': ['v21', 'v22', 'v23', 'hi'],\n",
       " 'k22': ['v21', 'v22', 'v23', 'hi'],\n",
       " 'k23': ['v21', 'v22', 'v23', 'hi']}"
      ]
     },
     "execution_count": 59,
     "metadata": {},
     "output_type": "execute_result"
    },
    {
     "data": {
      "text/plain": [
       "'k12'"
      ]
     },
     "execution_count": 59,
     "metadata": {},
     "output_type": "execute_result"
    },
    {
     "data": {
      "text/plain": [
       "{'k21': ['v21', 'v22', 'v23', 'hi'],\n",
       " 'k22': ['v21', 'v22', 'v23', 'hi'],\n",
       " 'k23': ['v21', 'v22', 'v23', 'hi']}"
      ]
     },
     "execution_count": 59,
     "metadata": {},
     "output_type": "execute_result"
    },
    {
     "data": {
      "text/plain": [
       "'k13'"
      ]
     },
     "execution_count": 59,
     "metadata": {},
     "output_type": "execute_result"
    },
    {
     "data": {
      "text/plain": [
       "{'k21': ['v21', 'v22', 'v23', 'hi'],\n",
       " 'k22': ['v21', 'v22', 'v23', 'hi'],\n",
       " 'k23': ['v21', 'v22', 'v23', 'hi']}"
      ]
     },
     "execution_count": 59,
     "metadata": {},
     "output_type": "execute_result"
    }
   ],
   "source": [
    "for k1 in key_1:\n",
    "    k1\n",
    "    dict_of_dicts[k1]       "
   ]
  },
  {
   "cell_type": "code",
   "execution_count": 60,
   "metadata": {},
   "outputs": [
    {
     "data": {
      "text/plain": [
       "{'k11': {'k21': ['v21', 'v22', 'v23', 'hi'],\n",
       "  'k22': ['v21', 'v22', 'v23', 'hi'],\n",
       "  'k23': ['v21', 'v22', 'v23', 'hi']},\n",
       " 'k12': {'k21': ['v21', 'v22', 'v23', 'hi'],\n",
       "  'k22': ['v21', 'v22', 'v23', 'hi'],\n",
       "  'k23': ['v21', 'v22', 'v23', 'hi']},\n",
       " 'k13': {'k21': ['v21', 'v22', 'v23', 'hi'],\n",
       "  'k22': ['v21', 'v22', 'v23', 'hi'],\n",
       "  'k23': ['v21', 'v22', 'v23', 'hi']}}"
      ]
     },
     "execution_count": 60,
     "metadata": {},
     "output_type": "execute_result"
    }
   ],
   "source": [
    "dict_of_dicts"
   ]
  },
  {
   "cell_type": "markdown",
   "metadata": {},
   "source": [
    "## Count frequency of items by value"
   ]
  },
  {
   "cell_type": "code",
   "execution_count": 38,
   "metadata": {},
   "outputs": [
    {
     "data": {
      "text/plain": [
       "Counter({'blue': 3, 'green': 1, 'red': 2})"
      ]
     },
     "execution_count": 38,
     "metadata": {},
     "output_type": "execute_result"
    }
   ],
   "source": [
    "# Tally occurrences of words in a list\n",
    "from collections import Counter\n",
    "cnt = Counter()\n",
    "for word in ['red', 'blue', 'red', 'green', 'blue', 'blue']:\n",
    "    cnt[word] += 1\n",
    "cnt"
   ]
  },
  {
   "cell_type": "markdown",
   "metadata": {},
   "source": [
    "#### Context: `Xception with Imagenet`"
   ]
  },
  {
   "cell_type": "code",
   "execution_count": null,
   "metadata": {},
   "outputs": [],
   "source": [
    "from collections import Counter\n",
    "counter = Counter()\n",
    "\n",
    "for key, value in dict_animal.items():\n",
    "    #value[0] # top 1 predicton\n",
    "    #value[0][1] # class of top 1 prediction\n",
    "    counter[value[0][1]] += 1"
   ]
  },
  {
   "cell_type": "markdown",
   "metadata": {},
   "source": [
    "## Filter a `dict` by `key`"
   ]
  },
  {
   "cell_type": "code",
   "execution_count": 40,
   "metadata": {},
   "outputs": [
    {
     "data": {
      "text/plain": [
       "{'student1': ['geo', 'hist'], 'student2': ['math', 'geo', 'hist']}"
      ]
     },
     "execution_count": 40,
     "metadata": {},
     "output_type": "execute_result"
    }
   ],
   "source": [
    "subjects_dict = {\n",
    "    'student1':['geo', 'hist'],\n",
    "    'student2':['math', 'geo', 'hist']\n",
    "}\n",
    "\n",
    "subjects_dict"
   ]
  },
  {
   "cell_type": "code",
   "execution_count": 44,
   "metadata": {},
   "outputs": [
    {
     "data": {
      "text/plain": [
       "{'student1': ['geo', 'hist']}"
      ]
     },
     "execution_count": 44,
     "metadata": {},
     "output_type": "execute_result"
    }
   ],
   "source": [
    "wanted_keys = ['student1']\n",
    "\n",
    "new_dict = { wanted_key: subjects_dict[wanted_key] for wanted_key in wanted_keys }\n",
    "\n",
    "new_dict"
   ]
  },
  {
   "cell_type": "code",
   "execution_count": 43,
   "metadata": {},
   "outputs": [
    {
     "ename": "KeyError",
     "evalue": "'none_existence_key'",
     "output_type": "error",
     "traceback": [
      "\u001b[0;31m---------------------------------------------------------------------------\u001b[0m",
      "\u001b[0;31mKeyError\u001b[0m                                  Traceback (most recent call last)",
      "\u001b[0;32m<ipython-input-43-c36aadd3365d>\u001b[0m in \u001b[0;36m<module>\u001b[0;34m()\u001b[0m\n\u001b[1;32m      1\u001b[0m \u001b[0mwanted_keys\u001b[0m \u001b[0;34m=\u001b[0m \u001b[0;34m[\u001b[0m\u001b[0;34m'student1'\u001b[0m\u001b[0;34m,\u001b[0m \u001b[0;34m'none_existence_key'\u001b[0m\u001b[0;34m]\u001b[0m\u001b[0;34m\u001b[0m\u001b[0m\n\u001b[1;32m      2\u001b[0m \u001b[0;34m\u001b[0m\u001b[0m\n\u001b[0;32m----> 3\u001b[0;31m \u001b[0mnew_dict\u001b[0m \u001b[0;34m=\u001b[0m \u001b[0;34m{\u001b[0m \u001b[0mwanted_key\u001b[0m\u001b[0;34m:\u001b[0m \u001b[0msubjects_dict\u001b[0m\u001b[0;34m[\u001b[0m\u001b[0mwanted_key\u001b[0m\u001b[0;34m]\u001b[0m \u001b[0;32mfor\u001b[0m \u001b[0mwanted_key\u001b[0m \u001b[0;32min\u001b[0m \u001b[0mwanted_keys\u001b[0m \u001b[0;34m}\u001b[0m\u001b[0;34m\u001b[0m\u001b[0m\n\u001b[0m\u001b[1;32m      4\u001b[0m \u001b[0;34m\u001b[0m\u001b[0m\n\u001b[1;32m      5\u001b[0m \u001b[0mnew_dict\u001b[0m\u001b[0;34m\u001b[0m\u001b[0m\n",
      "\u001b[0;32m<ipython-input-43-c36aadd3365d>\u001b[0m in \u001b[0;36m<dictcomp>\u001b[0;34m(.0)\u001b[0m\n\u001b[1;32m      1\u001b[0m \u001b[0mwanted_keys\u001b[0m \u001b[0;34m=\u001b[0m \u001b[0;34m[\u001b[0m\u001b[0;34m'student1'\u001b[0m\u001b[0;34m,\u001b[0m \u001b[0;34m'none_existence_key'\u001b[0m\u001b[0;34m]\u001b[0m\u001b[0;34m\u001b[0m\u001b[0m\n\u001b[1;32m      2\u001b[0m \u001b[0;34m\u001b[0m\u001b[0m\n\u001b[0;32m----> 3\u001b[0;31m \u001b[0mnew_dict\u001b[0m \u001b[0;34m=\u001b[0m \u001b[0;34m{\u001b[0m \u001b[0mwanted_key\u001b[0m\u001b[0;34m:\u001b[0m \u001b[0msubjects_dict\u001b[0m\u001b[0;34m[\u001b[0m\u001b[0mwanted_key\u001b[0m\u001b[0;34m]\u001b[0m \u001b[0;32mfor\u001b[0m \u001b[0mwanted_key\u001b[0m \u001b[0;32min\u001b[0m \u001b[0mwanted_keys\u001b[0m \u001b[0;34m}\u001b[0m\u001b[0;34m\u001b[0m\u001b[0m\n\u001b[0m\u001b[1;32m      4\u001b[0m \u001b[0;34m\u001b[0m\u001b[0m\n\u001b[1;32m      5\u001b[0m \u001b[0mnew_dict\u001b[0m\u001b[0;34m\u001b[0m\u001b[0m\n",
      "\u001b[0;31mKeyError\u001b[0m: 'none_existence_key'"
     ]
    }
   ],
   "source": [
    "wanted_keys = ['student1', 'none_existence_key']\n",
    "\n",
    "new_dict = { wanted_key: subjects_dict[wanted_key] for wanted_key in wanted_keys }\n",
    "\n",
    "new_dict"
   ]
  },
  {
   "cell_type": "markdown",
   "metadata": {},
   "source": [
    "## Reference:\n",
    "- https://ehmatthes.github.io/pcc/cheatsheets/README.html"
   ]
  },
  {
   "cell_type": "code",
   "execution_count": null,
   "metadata": {},
   "outputs": [],
   "source": []
  }
 ],
 "metadata": {
  "kernelspec": {
   "display_name": "Python 3",
   "language": "python",
   "name": "python3"
  },
  "language_info": {
   "codemirror_mode": {
    "name": "ipython",
    "version": 3
   },
   "file_extension": ".py",
   "mimetype": "text/x-python",
   "name": "python",
   "nbconvert_exporter": "python",
   "pygments_lexer": "ipython3",
   "version": "3.5.4"
  }
 },
 "nbformat": 4,
 "nbformat_minor": 1
}
