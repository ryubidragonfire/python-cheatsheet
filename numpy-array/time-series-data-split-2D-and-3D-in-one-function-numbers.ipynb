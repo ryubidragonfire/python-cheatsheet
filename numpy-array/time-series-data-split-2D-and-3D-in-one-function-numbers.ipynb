{
 "cells": [
  {
   "cell_type": "code",
   "execution_count": 1,
   "metadata": {},
   "outputs": [],
   "source": [
    "from IPython.core.interactiveshell import InteractiveShell\n",
    "InteractiveShell.ast_node_interactivity = \"all\""
   ]
  },
  {
   "cell_type": "code",
   "execution_count": 2,
   "metadata": {},
   "outputs": [],
   "source": [
    "import numpy as np\n",
    "from sklearn.model_selection import TimeSeriesSplit"
   ]
  },
  {
   "cell_type": "code",
   "execution_count": 3,
   "metadata": {},
   "outputs": [
    {
     "name": "stdout",
     "output_type": "stream",
     "text": [
      "TRAIN: [0] TEST: [1]\n",
      "TRAIN: [0 1] TEST: [2]\n",
      "TRAIN: [0 1 2] TEST: [3]\n",
      "TRAIN: [0 1 2 3] TEST: [4]\n",
      "TRAIN: [0 1 2 3 4] TEST: [5]\n"
     ]
    }
   ],
   "source": [
    "X = np.array([[1, 2], [3, 4], [5, 6], [7, 8], [9, 10], [11, 12]])\n",
    "y = np.array([1, 2, 3, 4, 5, 6])\n",
    "\n",
    "tscv = TimeSeriesSplit(n_splits=5)\n",
    "\n",
    "for train_index, test_index in tscv.split(X):\n",
    "    print(\"TRAIN:\", train_index, \"TEST:\", test_index)\n",
    "    X_train, X_test = X[train_index], X[test_index]\n",
    "    y_train, y_test = y[train_index], y[test_index]"
   ]
  },
  {
   "cell_type": "code",
   "execution_count": 4,
   "metadata": {},
   "outputs": [
    {
     "name": "stdout",
     "output_type": "stream",
     "text": [
      "TRAIN: [0 1] TEST: [2]\n",
      "TRAIN: [0 1 2] TEST: [3]\n",
      "TRAIN: [0 1 2 3] TEST: [4]\n",
      "TRAIN: [0 1 2 3 4] TEST: [5]\n"
     ]
    }
   ],
   "source": [
    "tscv = TimeSeriesSplit(n_splits=4)\n",
    "\n",
    "for train_index, test_index in tscv.split(X):\n",
    "    print(\"TRAIN:\", train_index, \"TEST:\", test_index)\n",
    "    X_train, X_test = X[train_index], X[test_index]\n",
    "    y_train, y_test = y[train_index], y[test_index]"
   ]
  },
  {
   "cell_type": "code",
   "execution_count": 5,
   "metadata": {},
   "outputs": [
    {
     "name": "stdout",
     "output_type": "stream",
     "text": [
      "TRAIN: [0 1 2] TEST: [3]\n",
      "TRAIN: [0 1 2 3] TEST: [4]\n",
      "TRAIN: [0 1 2 3 4] TEST: [5]\n"
     ]
    }
   ],
   "source": [
    "tscv = TimeSeriesSplit(n_splits=3)\n",
    "\n",
    "for train_index, test_index in tscv.split(X):\n",
    "    print(\"TRAIN:\", train_index, \"TEST:\", test_index)\n",
    "    X_train, X_test = X[train_index], X[test_index]\n",
    "    y_train, y_test = y[train_index], y[test_index]"
   ]
  },
  {
   "cell_type": "code",
   "execution_count": 6,
   "metadata": {},
   "outputs": [
    {
     "name": "stdout",
     "output_type": "stream",
     "text": [
      "TRAIN: [0 1] TEST: [2 3]\n",
      "TRAIN: [0 1 2 3] TEST: [4 5]\n"
     ]
    }
   ],
   "source": [
    "tscv = TimeSeriesSplit(n_splits=2)\n",
    "\n",
    "for train_index, test_index in tscv.split(X):\n",
    "    print(\"TRAIN:\", train_index, \"TEST:\", test_index)\n",
    "    X_train, X_test = X[train_index], X[test_index]\n",
    "    y_train, y_test = y[train_index], y[test_index]"
   ]
  },
  {
   "cell_type": "markdown",
   "metadata": {},
   "source": [
    "### Tutorial"
   ]
  },
  {
   "cell_type": "code",
   "execution_count": 7,
   "metadata": {},
   "outputs": [
    {
     "data": {
      "text/plain": [
       "(6, 2)"
      ]
     },
     "execution_count": 7,
     "metadata": {},
     "output_type": "execute_result"
    },
    {
     "data": {
      "text/plain": [
       "array([[ 1,  2],\n",
       "       [ 3,  4],\n",
       "       [ 5,  6],\n",
       "       [ 7,  8],\n",
       "       [ 9, 10],\n",
       "       [11, 12]])"
      ]
     },
     "execution_count": 7,
     "metadata": {},
     "output_type": "execute_result"
    },
    {
     "data": {
      "text/plain": [
       "(6,)"
      ]
     },
     "execution_count": 7,
     "metadata": {},
     "output_type": "execute_result"
    },
    {
     "data": {
      "text/plain": [
       "array([1, 2, 3, 4, 5, 6])"
      ]
     },
     "execution_count": 7,
     "metadata": {},
     "output_type": "execute_result"
    }
   ],
   "source": [
    "X = np.array([[1, 2], [3, 4], [5, 6], [7, 8], [9, 10], [11, 12]])\n",
    "y = np.array([1, 2, 3, 4, 5, 6])\n",
    "\n",
    "X.shape\n",
    "X\n",
    "y.shape\n",
    "y"
   ]
  },
  {
   "cell_type": "markdown",
   "metadata": {},
   "source": [
    "### `n_splits=2`"
   ]
  },
  {
   "cell_type": "code",
   "execution_count": 8,
   "metadata": {},
   "outputs": [
    {
     "name": "stdout",
     "output_type": "stream",
     "text": [
      "TimeSeriesSplit(max_train_size=None, n_splits=2)\n",
      "TRAIN: [0 1] TEST: [2 3]\n",
      "TRAIN ............\n"
     ]
    },
    {
     "data": {
      "text/plain": [
       "((2, 2), (2, 2))"
      ]
     },
     "execution_count": 8,
     "metadata": {},
     "output_type": "execute_result"
    },
    {
     "data": {
      "text/plain": [
       "(array([[1, 2],\n",
       "        [3, 4]]),\n",
       " array([[5, 6],\n",
       "        [7, 8]]))"
      ]
     },
     "execution_count": 8,
     "metadata": {},
     "output_type": "execute_result"
    },
    {
     "name": "stdout",
     "output_type": "stream",
     "text": [
      "TEST ............\n"
     ]
    },
    {
     "data": {
      "text/plain": [
       "((2,), (2,))"
      ]
     },
     "execution_count": 8,
     "metadata": {},
     "output_type": "execute_result"
    },
    {
     "data": {
      "text/plain": [
       "(array([1, 2]), array([3, 4]))"
      ]
     },
     "execution_count": 8,
     "metadata": {},
     "output_type": "execute_result"
    },
    {
     "name": "stdout",
     "output_type": "stream",
     "text": [
      "TRAIN: [0 1 2 3] TEST: [4 5]\n",
      "TRAIN ............\n"
     ]
    },
    {
     "data": {
      "text/plain": [
       "((4, 2), (2, 2))"
      ]
     },
     "execution_count": 8,
     "metadata": {},
     "output_type": "execute_result"
    },
    {
     "data": {
      "text/plain": [
       "(array([[1, 2],\n",
       "        [3, 4],\n",
       "        [5, 6],\n",
       "        [7, 8]]),\n",
       " array([[ 9, 10],\n",
       "        [11, 12]]))"
      ]
     },
     "execution_count": 8,
     "metadata": {},
     "output_type": "execute_result"
    },
    {
     "name": "stdout",
     "output_type": "stream",
     "text": [
      "TEST ............\n"
     ]
    },
    {
     "data": {
      "text/plain": [
       "((4,), (2,))"
      ]
     },
     "execution_count": 8,
     "metadata": {},
     "output_type": "execute_result"
    },
    {
     "data": {
      "text/plain": [
       "(array([1, 2, 3, 4]), array([5, 6]))"
      ]
     },
     "execution_count": 8,
     "metadata": {},
     "output_type": "execute_result"
    }
   ],
   "source": [
    "tscv = TimeSeriesSplit(n_splits=2)\n",
    "print(tscv)\n",
    "\n",
    "for train_index, test_index in tscv.split(X):\n",
    "    print(\"TRAIN:\", train_index, \"TEST:\", test_index)\n",
    "    print(\"TRAIN ............\")\n",
    "    X_train, X_test = X[train_index], X[test_index]\n",
    "    X_train.shape, X_test.shape\n",
    "    X_train, X_test\n",
    "    \n",
    "    print(\"TEST ............\")\n",
    "    y_train, y_test = y[train_index], y[test_index]\n",
    "    y_train.shape, y_test.shape\n",
    "    y_train, y_test"
   ]
  },
  {
   "cell_type": "markdown",
   "metadata": {},
   "source": [
    "### `n_splits=5`"
   ]
  },
  {
   "cell_type": "code",
   "execution_count": 9,
   "metadata": {},
   "outputs": [
    {
     "name": "stdout",
     "output_type": "stream",
     "text": [
      "TimeSeriesSplit(max_train_size=None, n_splits=5)\n",
      "TRAIN: [0] TEST: [1]\n",
      "TRAIN ............\n"
     ]
    },
    {
     "data": {
      "text/plain": [
       "(array([[1, 2]]), array([[3, 4]]))"
      ]
     },
     "execution_count": 9,
     "metadata": {},
     "output_type": "execute_result"
    },
    {
     "name": "stdout",
     "output_type": "stream",
     "text": [
      "TEST ............\n"
     ]
    },
    {
     "data": {
      "text/plain": [
       "(array([1]), array([2]))"
      ]
     },
     "execution_count": 9,
     "metadata": {},
     "output_type": "execute_result"
    },
    {
     "name": "stdout",
     "output_type": "stream",
     "text": [
      "TRAIN: [0 1] TEST: [2]\n",
      "TRAIN ............\n"
     ]
    },
    {
     "data": {
      "text/plain": [
       "(array([[1, 2],\n",
       "        [3, 4]]),\n",
       " array([[5, 6]]))"
      ]
     },
     "execution_count": 9,
     "metadata": {},
     "output_type": "execute_result"
    },
    {
     "name": "stdout",
     "output_type": "stream",
     "text": [
      "TEST ............\n"
     ]
    },
    {
     "data": {
      "text/plain": [
       "(array([1, 2]), array([3]))"
      ]
     },
     "execution_count": 9,
     "metadata": {},
     "output_type": "execute_result"
    },
    {
     "name": "stdout",
     "output_type": "stream",
     "text": [
      "TRAIN: [0 1 2] TEST: [3]\n",
      "TRAIN ............\n"
     ]
    },
    {
     "data": {
      "text/plain": [
       "(array([[1, 2],\n",
       "        [3, 4],\n",
       "        [5, 6]]),\n",
       " array([[7, 8]]))"
      ]
     },
     "execution_count": 9,
     "metadata": {},
     "output_type": "execute_result"
    },
    {
     "name": "stdout",
     "output_type": "stream",
     "text": [
      "TEST ............\n"
     ]
    },
    {
     "data": {
      "text/plain": [
       "(array([1, 2, 3]), array([4]))"
      ]
     },
     "execution_count": 9,
     "metadata": {},
     "output_type": "execute_result"
    },
    {
     "name": "stdout",
     "output_type": "stream",
     "text": [
      "TRAIN: [0 1 2 3] TEST: [4]\n",
      "TRAIN ............\n"
     ]
    },
    {
     "data": {
      "text/plain": [
       "(array([[1, 2],\n",
       "        [3, 4],\n",
       "        [5, 6],\n",
       "        [7, 8]]),\n",
       " array([[ 9, 10]]))"
      ]
     },
     "execution_count": 9,
     "metadata": {},
     "output_type": "execute_result"
    },
    {
     "name": "stdout",
     "output_type": "stream",
     "text": [
      "TEST ............\n"
     ]
    },
    {
     "data": {
      "text/plain": [
       "(array([1, 2, 3, 4]), array([5]))"
      ]
     },
     "execution_count": 9,
     "metadata": {},
     "output_type": "execute_result"
    },
    {
     "name": "stdout",
     "output_type": "stream",
     "text": [
      "TRAIN: [0 1 2 3 4] TEST: [5]\n",
      "TRAIN ............\n"
     ]
    },
    {
     "data": {
      "text/plain": [
       "(array([[ 1,  2],\n",
       "        [ 3,  4],\n",
       "        [ 5,  6],\n",
       "        [ 7,  8],\n",
       "        [ 9, 10]]),\n",
       " array([[11, 12]]))"
      ]
     },
     "execution_count": 9,
     "metadata": {},
     "output_type": "execute_result"
    },
    {
     "name": "stdout",
     "output_type": "stream",
     "text": [
      "TEST ............\n"
     ]
    },
    {
     "data": {
      "text/plain": [
       "(array([1, 2, 3, 4, 5]), array([6]))"
      ]
     },
     "execution_count": 9,
     "metadata": {},
     "output_type": "execute_result"
    }
   ],
   "source": [
    "tscv = TimeSeriesSplit(n_splits=5)\n",
    "print(tscv)\n",
    "\n",
    "for train_index, test_index in tscv.split(X):\n",
    "    print(\"TRAIN:\", train_index, \"TEST:\", test_index)\n",
    "    print(\"TRAIN ............\")\n",
    "    X_train, X_test = X[train_index], X[test_index]\n",
    "    #print('X_train.shape, X_test.shape: ', X_train.shape, X_test.shape)\n",
    "    X_train, X_test\n",
    "    \n",
    "    print(\"TEST ............\")\n",
    "    y_train, y_test = y[train_index], y[test_index]\n",
    "   #y_train.shape, y_test.shape\n",
    "    y_train, y_test"
   ]
  },
  {
   "cell_type": "markdown",
   "metadata": {},
   "source": [
    "### Get the last element of generator"
   ]
  },
  {
   "cell_type": "code",
   "execution_count": 10,
   "metadata": {},
   "outputs": [
    {
     "name": "stdout",
     "output_type": "stream",
     "text": [
      "TRAIN: [0 1 2 3 4] TEST: [5]\n"
     ]
    }
   ],
   "source": [
    "X = np.array([[1, 2], [3, 4], [5, 6], [7, 8], [9, 10], [11, 12]])\n",
    "y = np.array([1, 2, 3, 4, 5, 6])\n",
    "\n",
    "tscv = TimeSeriesSplit(n_splits=5)\n",
    "\n",
    "for train_index, test_index in list(tscv.split(X))[-1:]: # Get the last element of generator\n",
    "    print(\"TRAIN:\", train_index, \"TEST:\", test_index)\n",
    "    X_train, X_test = X[train_index], X[test_index]\n",
    "    y_train, y_test = y[train_index], y[test_index]"
   ]
  },
  {
   "cell_type": "markdown",
   "metadata": {},
   "source": [
    "### Splitting 3D array"
   ]
  },
  {
   "cell_type": "code",
   "execution_count": 11,
   "metadata": {
    "scrolled": true
   },
   "outputs": [
    {
     "name": "stdout",
     "output_type": "stream",
     "text": [
      "********** d_sku,d_loc,d_day **********\n"
     ]
    },
    {
     "data": {
      "text/plain": [
       "(2, 3, 5)"
      ]
     },
     "execution_count": 11,
     "metadata": {},
     "output_type": "execute_result"
    },
    {
     "name": "stdout",
     "output_type": "stream",
     "text": [
      "***** X_2D : LOC x DAY ******\n"
     ]
    },
    {
     "data": {
      "text/plain": [
       "(3, 5)"
      ]
     },
     "execution_count": 11,
     "metadata": {},
     "output_type": "execute_result"
    },
    {
     "data": {
      "text/plain": [
       "array([[111, 112, 113, 114, 115],\n",
       "       [121, 122, 123, 124, 125],\n",
       "       [131, 132, 133, 134, 135]])"
      ]
     },
     "execution_count": 11,
     "metadata": {},
     "output_type": "execute_result"
    },
    {
     "name": "stdout",
     "output_type": "stream",
     "text": [
      "******* X_2D.T :  DAY x LOC *******\n"
     ]
    },
    {
     "data": {
      "text/plain": [
       "array([[111, 121, 131],\n",
       "       [112, 122, 132],\n",
       "       [113, 123, 133],\n",
       "       [114, 124, 134],\n",
       "       [115, 125, 135]])"
      ]
     },
     "execution_count": 11,
     "metadata": {},
     "output_type": "execute_result"
    },
    {
     "data": {
      "text/plain": [
       "4"
      ]
     },
     "execution_count": 11,
     "metadata": {},
     "output_type": "execute_result"
    },
    {
     "name": "stdout",
     "output_type": "stream",
     "text": [
      "TRAIN: [0] TEST: [1]\n",
      "X_train: \n",
      " [[111]\n",
      " [121]\n",
      " [131]]\n",
      "X_test: \n",
      " [[112]\n",
      " [122]\n",
      " [132]]\n",
      "TRAIN: [0 1] TEST: [2]\n",
      "X_train: \n",
      " [[111 112]\n",
      " [121 122]\n",
      " [131 132]]\n",
      "X_test: \n",
      " [[113]\n",
      " [123]\n",
      " [133]]\n",
      "TRAIN: [0 1 2] TEST: [3]\n",
      "X_train: \n",
      " [[111 112 113]\n",
      " [121 122 123]\n",
      " [131 132 133]]\n",
      "X_test: \n",
      " [[114]\n",
      " [124]\n",
      " [134]]\n",
      "TRAIN: [0 1 2 3] TEST: [4]\n",
      "X_train: \n",
      " [[111 112 113 114]\n",
      " [121 122 123 124]\n",
      " [131 132 133 134]]\n",
      "X_test: \n",
      " [[115]\n",
      " [125]\n",
      " [135]]\n",
      "***** X_2D : LOC x DAY ******\n"
     ]
    },
    {
     "data": {
      "text/plain": [
       "(3, 5)"
      ]
     },
     "execution_count": 11,
     "metadata": {},
     "output_type": "execute_result"
    },
    {
     "data": {
      "text/plain": [
       "array([[211, 212, 213, 214, 215],\n",
       "       [221, 222, 223, 224, 225],\n",
       "       [231, 232, 233, 234, 235]])"
      ]
     },
     "execution_count": 11,
     "metadata": {},
     "output_type": "execute_result"
    },
    {
     "name": "stdout",
     "output_type": "stream",
     "text": [
      "******* X_2D.T :  DAY x LOC *******\n"
     ]
    },
    {
     "data": {
      "text/plain": [
       "array([[211, 221, 231],\n",
       "       [212, 222, 232],\n",
       "       [213, 223, 233],\n",
       "       [214, 224, 234],\n",
       "       [215, 225, 235]])"
      ]
     },
     "execution_count": 11,
     "metadata": {},
     "output_type": "execute_result"
    },
    {
     "data": {
      "text/plain": [
       "4"
      ]
     },
     "execution_count": 11,
     "metadata": {},
     "output_type": "execute_result"
    },
    {
     "name": "stdout",
     "output_type": "stream",
     "text": [
      "TRAIN: [0] TEST: [1]\n",
      "X_train: \n",
      " [[211]\n",
      " [221]\n",
      " [231]]\n",
      "X_test: \n",
      " [[212]\n",
      " [222]\n",
      " [232]]\n",
      "TRAIN: [0 1] TEST: [2]\n",
      "X_train: \n",
      " [[211 212]\n",
      " [221 222]\n",
      " [231 232]]\n",
      "X_test: \n",
      " [[213]\n",
      " [223]\n",
      " [233]]\n",
      "TRAIN: [0 1 2] TEST: [3]\n",
      "X_train: \n",
      " [[211 212 213]\n",
      " [221 222 223]\n",
      " [231 232 233]]\n",
      "X_test: \n",
      " [[214]\n",
      " [224]\n",
      " [234]]\n",
      "TRAIN: [0 1 2 3] TEST: [4]\n",
      "X_train: \n",
      " [[211 212 213 214]\n",
      " [221 222 223 224]\n",
      " [231 232 233 234]]\n",
      "X_test: \n",
      " [[215]\n",
      " [225]\n",
      " [235]]\n"
     ]
    }
   ],
   "source": [
    "X_3D = np.array([[[111, 112, 113, 114, 115],\n",
    "                  [121, 122, 123, 124, 125],\n",
    "                  [131, 132, 133, 134, 135]],\n",
    "                 [[211, 212, 213, 214, 215],\n",
    "                  [221, 222, 223, 224, 225],\n",
    "                  [231, 232, 233, 234, 235]]])\n",
    "\n",
    "# Get the shape of 3D array\n",
    "print('********** d_sku,d_loc,d_day **********')\n",
    "d_sku,d_loc,d_day = X_3D.shape; d_sku,d_loc,d_day \n",
    "\n",
    "# for each SKU\n",
    "for s in range(d_sku):\n",
    "    # extract the LOC x DAY \n",
    "    print('***** X_2D : LOC x DAY ******')\n",
    "    X_2D = X_3D[s,:,:]; X_2D.shape; X_2D\n",
    "    \n",
    "    print('******* X_2D.T :  DAY x LOC *******')\n",
    "    X_2D.T\n",
    "    \n",
    "    # Create a TimeSeriesSplit\n",
    "    n_splits = d_day-1; n_splits\n",
    "    tscv = TimeSeriesSplit(n_splits=n_splits)\n",
    "\n",
    "    # for each split\n",
    "    for train_index, test_index in tscv.split(X_2D.T): # transpose to DAY x LOC\n",
    "        print(\"TRAIN:\", train_index, \"TEST:\", test_index)\n",
    "        X_train, X_test = X_2D.T[train_index].T, X_2D.T[test_index].T # do the split, and transpose back to LOC x DAY\n",
    "        #X_train.shape, X_test.shape\n",
    "        print('X_train: \\n', X_train)\n",
    "        print('X_test: \\n', X_test)"
   ]
  },
  {
   "cell_type": "markdown",
   "metadata": {},
   "source": [
    "### Recontruct back to original dimensionality"
   ]
  },
  {
   "cell_type": "markdown",
   "metadata": {},
   "source": [
    "##### Tutorial"
   ]
  },
  {
   "cell_type": "code",
   "execution_count": 13,
   "metadata": {},
   "outputs": [
    {
     "data": {
      "text/plain": [
       "(3, 4)"
      ]
     },
     "execution_count": 13,
     "metadata": {},
     "output_type": "execute_result"
    },
    {
     "data": {
      "text/plain": [
       "(3, 4)"
      ]
     },
     "execution_count": 13,
     "metadata": {},
     "output_type": "execute_result"
    },
    {
     "data": {
      "text/plain": [
       "(3, 2, 4)"
      ]
     },
     "execution_count": 13,
     "metadata": {},
     "output_type": "execute_result"
    },
    {
     "data": {
      "text/plain": [
       "array([[['L0-S0-D0', 'L0-S0-D1', 'L0-S0-D2', 'L0-S0-D3'],\n",
       "        ['L0-S1-D0', 'L0-S1-D1', 'L0-S1-D2', 'L0-S1-D3']],\n",
       "\n",
       "       [['L1-S0-D0', 'L1-S0-D1', 'L1-S0-D2', 'L1-S0-D3'],\n",
       "        ['L1-S1-D0', 'L1-S1-D1', 'L1-S1-D2', 'L1-S1-D3']],\n",
       "\n",
       "       [['L2-S0-D0', 'L2-S0-D1', 'L2-S0-D2', 'L2-S0-D3'],\n",
       "        ['L2-S1-D0', 'L2-S1-D1', 'L2-S1-D2', 'L2-S1-D3']]], dtype='<U8')"
      ]
     },
     "execution_count": 13,
     "metadata": {},
     "output_type": "execute_result"
    }
   ],
   "source": [
    "a = np.array([['L0-S0-D0', 'L0-S0-D1', 'L0-S0-D2', 'L0-S0-D3'],\n",
    "              ['L1-S0-D0', 'L1-S0-D1', 'L1-S0-D2', 'L1-S0-D3'],\n",
    "              ['L2-S0-D0', 'L2-S0-D1', 'L2-S0-D2', 'L2-S0-D3']]); a.shape #[LOC x DAY], i.e. (3,4)\n",
    "\n",
    "b = np.array([['L0-S1-D0', 'L0-S1-D1', 'L0-S1-D2', 'L0-S1-D3'],\n",
    "              ['L1-S1-D0', 'L1-S1-D1', 'L1-S1-D2', 'L1-S1-D3'],\n",
    "              ['L2-S1-D0', 'L2-S1-D1', 'L2-S1-D2', 'L2-S1-D3']]); b.shape #[LOC x DAY], i.e. (3,4)\n",
    "\n",
    "c = np.stack((a,b), axis=1) \n",
    "c.shape # [LOC x SKU x DAY] , i.e. (3, 2, 4)\n",
    "c"
   ]
  },
  {
   "cell_type": "markdown",
   "metadata": {},
   "source": [
    "### Make into a function\n",
    "- input: 2D or 3D array `X`, number of splits `n_splits`\n",
    "- return `dict` of `dict`"
   ]
  },
  {
   "cell_type": "code",
   "execution_count": 13,
   "metadata": {},
   "outputs": [],
   "source": [
    "from sklearn.model_selection import TimeSeriesSplit\n",
    "\n",
    "def split_it(d, train_test_splits, X_2D, tscv):\n",
    "    \n",
    "    # key for first level dict\n",
    "    key_sku = str(d) # first dimention (e.g. sku)\n",
    "\n",
    "    # first level dict\n",
    "    train_test_splits[key_sku] = {}\n",
    "\n",
    "    # for each split\n",
    "    for i, [train_index, test_index] in enumerate(tscv.split(X_2D.T)): # transpose from STEP x LOC\n",
    "        X_train, X_test = X_2D.T[train_index].T, X_2D.T[test_index].T # do the split, and transpose back to STEP x DAY\n",
    "\n",
    "        # key for 2nd level dictionary\n",
    "        key_split_n = str(i)  # split_n\n",
    "\n",
    "        # add to dict of dicts\n",
    "        train_test_splits[key_sku][key_split_n] = {'X_train': X_train, 'X_test': X_test}\n",
    "\n",
    "    return (train_test_splits)\n",
    "\n",
    "def time_series_split(X, n_splits):\n",
    "    '''\n",
    "    input: ndarray X of [LOC x SKU x STEP] or [SKU x STEP]\n",
    "    output: a dictionary consist of n_splits\n",
    "    '''\n",
    "    # Create a dict to hold the splits\n",
    "    train_test_splits = {} # dict of dicts \n",
    "\n",
    "    # Create a TimeSeriesSplit\n",
    "    tscv = TimeSeriesSplit(n_splits=n_splits)\n",
    "\n",
    "    ### if X is [SKU x STEP]\n",
    "    if len(X.shape) == 2:\n",
    "        \n",
    "        # reshape to [1 x SKU x STEP]\n",
    "        X1 = X.copy()\n",
    "        X = X1.reshape((1, X.shape[0], X.shape[1]))  # [LOC=1 x SKU x STEP]\n",
    "      \n",
    "    ### If X is [LOC x SKU x STEP]\n",
    "    if len(X.shape) == 3:\n",
    "        # transpose from [LOC x SKU x DAY] to [SKU x LOC x DAY]\n",
    "        X = np.transpose(X, (1,0,2)); \n",
    "        \n",
    "        # Get the shape of 3D array\n",
    "        d1,d2,d3 = X.shape\n",
    "\n",
    "        # for each d1, i.e. SKU\n",
    "        for d in range(d1):\n",
    "            # extract the LOC x STEP\n",
    "            X_2D = X[d,:,:]; X_2D\n",
    "        \n",
    "            train_test_splits = split_it(d=d, train_test_splits=train_test_splits, X_2D=X_2D, tscv=tscv)\n",
    "   \n",
    "    return(train_test_splits)\n",
    "\n",
    "def reconstruct(n_splits, n_sku, train_test_splits):\n",
    "    train_test_split_reconstruct = {}\n",
    "\n",
    "    # for each split\n",
    "    for split in range(n_splits):\n",
    "        stack_train = []\n",
    "        stack_test = []\n",
    "        \n",
    "        # create dict using `split` as key\n",
    "        key_split = str(split)\n",
    "        train_test_split_reconstruct[key_split] = {}\n",
    "        \n",
    "        # for each sku\n",
    "        for sku in range(n_sku): # sku index\n",
    "            # append into a list\n",
    "            stack_train.append(train_test_splits[str(sku)][str(split)]['X_train']) #[LOC x DAY]\n",
    "            stack_test.append(train_test_splits[str(sku)][str(split)]['X_test']) #[LOC x DAY]\n",
    "            # stack and convert into numpy array\n",
    "            train_stacked = np.stack(stack_train, axis=1) # [LOC x SKU x DAY]\n",
    "            test_stacked = np.stack(stack_test, axis=1) # [LOC x SKU x DAY]\n",
    "\n",
    "        # put into dict\n",
    "        train_test_split_reconstruct[key_split]['X_train'] = train_stacked\n",
    "        train_test_split_reconstruct[key_split]['X_test'] = test_stacked\n",
    "        \n",
    "    return(train_test_split_reconstruct)"
   ]
  },
  {
   "cell_type": "markdown",
   "metadata": {},
   "source": [
    "#### use case 1: `[LOC, SKU, DAY]`"
   ]
  },
  {
   "cell_type": "code",
   "execution_count": 21,
   "metadata": {
    "scrolled": true
   },
   "outputs": [
    {
     "data": {
      "text/plain": [
       "(3, 2, 4)"
      ]
     },
     "execution_count": 21,
     "metadata": {},
     "output_type": "execute_result"
    },
    {
     "data": {
      "text/plain": [
       "array([[[111, 112, 113, 114],\n",
       "        [121, 122, 123, 124]],\n",
       "\n",
       "       [[211, 212, 213, 214],\n",
       "        [221, 222, 223, 224]],\n",
       "\n",
       "       [[311, 312, 313, 314],\n",
       "        [321, 322, 323, 324]]])"
      ]
     },
     "execution_count": 21,
     "metadata": {},
     "output_type": "execute_result"
    },
    {
     "data": {
      "text/plain": [
       "3"
      ]
     },
     "execution_count": 21,
     "metadata": {},
     "output_type": "execute_result"
    }
   ],
   "source": [
    "X_3D = np.array([[[111, 112, 113, 114],\n",
    "                  [121, 122, 123, 124]],\n",
    "                 [[211, 212, 213, 214],\n",
    "                  [221, 222, 223, 224]],\n",
    "                 [[311, 312, 313, 314],\n",
    "                  [321, 322, 323, 324]]])\n",
    "\n",
    "X_3D.shape; X_3D\n",
    "\n",
    "n_splits = X_3D.shape[-1]-1; n_splits\n",
    "\n",
    "#train_test_splits = time_series_split(X_3DT, n_splits=n_splits)\n",
    "train_test_splits = time_series_split(X_3D, n_splits=n_splits)"
   ]
  },
  {
   "cell_type": "code",
   "execution_count": 23,
   "metadata": {
    "scrolled": false
   },
   "outputs": [
    {
     "data": {
      "text/plain": [
       "{'0': {'0': {'X_train': array([[111],\n",
       "          [211],\n",
       "          [311]]),\n",
       "   'X_test': array([[112],\n",
       "          [212],\n",
       "          [312]])},\n",
       "  '1': {'X_train': array([[111, 112],\n",
       "          [211, 212],\n",
       "          [311, 312]]),\n",
       "   'X_test': array([[113],\n",
       "          [213],\n",
       "          [313]])},\n",
       "  '2': {'X_train': array([[111, 112, 113],\n",
       "          [211, 212, 213],\n",
       "          [311, 312, 313]]),\n",
       "   'X_test': array([[114],\n",
       "          [214],\n",
       "          [314]])}},\n",
       " '1': {'0': {'X_train': array([[121],\n",
       "          [221],\n",
       "          [321]]),\n",
       "   'X_test': array([[122],\n",
       "          [222],\n",
       "          [322]])},\n",
       "  '1': {'X_train': array([[121, 122],\n",
       "          [221, 222],\n",
       "          [321, 322]]),\n",
       "   'X_test': array([[123],\n",
       "          [223],\n",
       "          [323]])},\n",
       "  '2': {'X_train': array([[121, 122, 123],\n",
       "          [221, 222, 223],\n",
       "          [321, 322, 323]]),\n",
       "   'X_test': array([[124],\n",
       "          [224],\n",
       "          [324]])}}}"
      ]
     },
     "execution_count": 23,
     "metadata": {},
     "output_type": "execute_result"
    }
   ],
   "source": [
    "train_test_splits"
   ]
  },
  {
   "cell_type": "code",
   "execution_count": 16,
   "metadata": {
    "scrolled": true
   },
   "outputs": [
    {
     "data": {
      "text/plain": [
       "(0, 0)"
      ]
     },
     "execution_count": 16,
     "metadata": {},
     "output_type": "execute_result"
    },
    {
     "name": "stdout",
     "output_type": "stream",
     "text": [
      "X_train shape:  (3, 1)\n"
     ]
    },
    {
     "data": {
      "text/plain": [
       "array([[111],\n",
       "       [211],\n",
       "       [311]])"
      ]
     },
     "execution_count": 16,
     "metadata": {},
     "output_type": "execute_result"
    },
    {
     "name": "stdout",
     "output_type": "stream",
     "text": [
      "X_test shape:  (3, 1)\n"
     ]
    },
    {
     "data": {
      "text/plain": [
       "array([[112],\n",
       "       [212],\n",
       "       [312]])"
      ]
     },
     "execution_count": 16,
     "metadata": {},
     "output_type": "execute_result"
    },
    {
     "data": {
      "text/plain": [
       "(0, 1)"
      ]
     },
     "execution_count": 16,
     "metadata": {},
     "output_type": "execute_result"
    },
    {
     "name": "stdout",
     "output_type": "stream",
     "text": [
      "X_train shape:  (3, 2)\n"
     ]
    },
    {
     "data": {
      "text/plain": [
       "array([[111, 112],\n",
       "       [211, 212],\n",
       "       [311, 312]])"
      ]
     },
     "execution_count": 16,
     "metadata": {},
     "output_type": "execute_result"
    },
    {
     "name": "stdout",
     "output_type": "stream",
     "text": [
      "X_test shape:  (3, 1)\n"
     ]
    },
    {
     "data": {
      "text/plain": [
       "array([[113],\n",
       "       [213],\n",
       "       [313]])"
      ]
     },
     "execution_count": 16,
     "metadata": {},
     "output_type": "execute_result"
    },
    {
     "data": {
      "text/plain": [
       "(0, 2)"
      ]
     },
     "execution_count": 16,
     "metadata": {},
     "output_type": "execute_result"
    },
    {
     "name": "stdout",
     "output_type": "stream",
     "text": [
      "X_train shape:  (3, 3)\n"
     ]
    },
    {
     "data": {
      "text/plain": [
       "array([[111, 112, 113],\n",
       "       [211, 212, 213],\n",
       "       [311, 312, 313]])"
      ]
     },
     "execution_count": 16,
     "metadata": {},
     "output_type": "execute_result"
    },
    {
     "name": "stdout",
     "output_type": "stream",
     "text": [
      "X_test shape:  (3, 1)\n"
     ]
    },
    {
     "data": {
      "text/plain": [
       "array([[114],\n",
       "       [214],\n",
       "       [314]])"
      ]
     },
     "execution_count": 16,
     "metadata": {},
     "output_type": "execute_result"
    },
    {
     "data": {
      "text/plain": [
       "(0, 3)"
      ]
     },
     "execution_count": 16,
     "metadata": {},
     "output_type": "execute_result"
    },
    {
     "name": "stdout",
     "output_type": "stream",
     "text": [
      "X_train shape:  (3, 4)\n"
     ]
    },
    {
     "data": {
      "text/plain": [
       "array([[111, 112, 113, 114],\n",
       "       [211, 212, 213, 214],\n",
       "       [311, 312, 313, 314]])"
      ]
     },
     "execution_count": 16,
     "metadata": {},
     "output_type": "execute_result"
    },
    {
     "name": "stdout",
     "output_type": "stream",
     "text": [
      "X_test shape:  (3, 1)\n"
     ]
    },
    {
     "data": {
      "text/plain": [
       "array([[115],\n",
       "       [215],\n",
       "       [315]])"
      ]
     },
     "execution_count": 16,
     "metadata": {},
     "output_type": "execute_result"
    },
    {
     "data": {
      "text/plain": [
       "(1, 0)"
      ]
     },
     "execution_count": 16,
     "metadata": {},
     "output_type": "execute_result"
    },
    {
     "name": "stdout",
     "output_type": "stream",
     "text": [
      "X_train shape:  (3, 1)\n"
     ]
    },
    {
     "data": {
      "text/plain": [
       "array([[121],\n",
       "       [221],\n",
       "       [321]])"
      ]
     },
     "execution_count": 16,
     "metadata": {},
     "output_type": "execute_result"
    },
    {
     "name": "stdout",
     "output_type": "stream",
     "text": [
      "X_test shape:  (3, 1)\n"
     ]
    },
    {
     "data": {
      "text/plain": [
       "array([[122],\n",
       "       [222],\n",
       "       [322]])"
      ]
     },
     "execution_count": 16,
     "metadata": {},
     "output_type": "execute_result"
    },
    {
     "data": {
      "text/plain": [
       "(1, 1)"
      ]
     },
     "execution_count": 16,
     "metadata": {},
     "output_type": "execute_result"
    },
    {
     "name": "stdout",
     "output_type": "stream",
     "text": [
      "X_train shape:  (3, 2)\n"
     ]
    },
    {
     "data": {
      "text/plain": [
       "array([[121, 122],\n",
       "       [221, 222],\n",
       "       [321, 322]])"
      ]
     },
     "execution_count": 16,
     "metadata": {},
     "output_type": "execute_result"
    },
    {
     "name": "stdout",
     "output_type": "stream",
     "text": [
      "X_test shape:  (3, 1)\n"
     ]
    },
    {
     "data": {
      "text/plain": [
       "array([[123],\n",
       "       [223],\n",
       "       [323]])"
      ]
     },
     "execution_count": 16,
     "metadata": {},
     "output_type": "execute_result"
    },
    {
     "data": {
      "text/plain": [
       "(1, 2)"
      ]
     },
     "execution_count": 16,
     "metadata": {},
     "output_type": "execute_result"
    },
    {
     "name": "stdout",
     "output_type": "stream",
     "text": [
      "X_train shape:  (3, 3)\n"
     ]
    },
    {
     "data": {
      "text/plain": [
       "array([[121, 122, 123],\n",
       "       [221, 222, 223],\n",
       "       [321, 322, 323]])"
      ]
     },
     "execution_count": 16,
     "metadata": {},
     "output_type": "execute_result"
    },
    {
     "name": "stdout",
     "output_type": "stream",
     "text": [
      "X_test shape:  (3, 1)\n"
     ]
    },
    {
     "data": {
      "text/plain": [
       "array([[124],\n",
       "       [224],\n",
       "       [324]])"
      ]
     },
     "execution_count": 16,
     "metadata": {},
     "output_type": "execute_result"
    },
    {
     "data": {
      "text/plain": [
       "(1, 3)"
      ]
     },
     "execution_count": 16,
     "metadata": {},
     "output_type": "execute_result"
    },
    {
     "name": "stdout",
     "output_type": "stream",
     "text": [
      "X_train shape:  (3, 4)\n"
     ]
    },
    {
     "data": {
      "text/plain": [
       "array([[121, 122, 123, 124],\n",
       "       [221, 222, 223, 224],\n",
       "       [321, 322, 323, 324]])"
      ]
     },
     "execution_count": 16,
     "metadata": {},
     "output_type": "execute_result"
    },
    {
     "name": "stdout",
     "output_type": "stream",
     "text": [
      "X_test shape:  (3, 1)\n"
     ]
    },
    {
     "data": {
      "text/plain": [
       "array([[125],\n",
       "       [225],\n",
       "       [325]])"
      ]
     },
     "execution_count": 16,
     "metadata": {},
     "output_type": "execute_result"
    }
   ],
   "source": [
    "for sku in range(X_3D.shape[1]):\n",
    "    for split in range(n_splits):\n",
    "        sku, split\n",
    "        print('X_train shape: ', train_test_splits[str(sku)][str(split)]['X_train'].shape) # [LOC x DAY]\n",
    "        train_test_splits[str(sku)][str(split)]['X_train']  # sku, split, X_train\n",
    "        print('X_test shape: ', train_test_splits[str(sku)][str(split)]['X_test'].shape) # [LOC x DAY]\n",
    "        train_test_splits[str(sku)][str(split)]['X_test']  # sku, split, X_test"
   ]
  },
  {
   "cell_type": "code",
   "execution_count": 17,
   "metadata": {
    "scrolled": true
   },
   "outputs": [
    {
     "data": {
      "text/plain": [
       "array([[121, 122, 123, 124],\n",
       "       [221, 222, 223, 224],\n",
       "       [321, 322, 323, 324]])"
      ]
     },
     "execution_count": 17,
     "metadata": {},
     "output_type": "execute_result"
    },
    {
     "data": {
      "text/plain": [
       "array([[125],\n",
       "       [225],\n",
       "       [325]])"
      ]
     },
     "execution_count": 17,
     "metadata": {},
     "output_type": "execute_result"
    }
   ],
   "source": [
    "train_test_splits['1']['3']['X_train']  # sku, split, X_train\n",
    "train_test_splits['1']['3']['X_test']  # sku, split, X_test"
   ]
  },
  {
   "cell_type": "markdown",
   "metadata": {},
   "source": [
    "#### Reconstruct splits back to original dimensions `[LOC, SKU, DAY]`, given all `sku`"
   ]
  },
  {
   "cell_type": "code",
   "execution_count": 24,
   "metadata": {},
   "outputs": [],
   "source": [
    "train_test_split_reconstruct = reconstruct(n_splits=3, n_sku=2, train_test_splits=train_test_splits)"
   ]
  },
  {
   "cell_type": "code",
   "execution_count": 25,
   "metadata": {
    "scrolled": true
   },
   "outputs": [
    {
     "data": {
      "text/plain": [
       "{'0': {'X_train': array([[[111],\n",
       "          [121]],\n",
       "  \n",
       "         [[211],\n",
       "          [221]],\n",
       "  \n",
       "         [[311],\n",
       "          [321]]]),\n",
       "  'X_test': array([[[112],\n",
       "          [122]],\n",
       "  \n",
       "         [[212],\n",
       "          [222]],\n",
       "  \n",
       "         [[312],\n",
       "          [322]]])},\n",
       " '1': {'X_train': array([[[111, 112],\n",
       "          [121, 122]],\n",
       "  \n",
       "         [[211, 212],\n",
       "          [221, 222]],\n",
       "  \n",
       "         [[311, 312],\n",
       "          [321, 322]]]),\n",
       "  'X_test': array([[[113],\n",
       "          [123]],\n",
       "  \n",
       "         [[213],\n",
       "          [223]],\n",
       "  \n",
       "         [[313],\n",
       "          [323]]])},\n",
       " '2': {'X_train': array([[[111, 112, 113],\n",
       "          [121, 122, 123]],\n",
       "  \n",
       "         [[211, 212, 213],\n",
       "          [221, 222, 223]],\n",
       "  \n",
       "         [[311, 312, 313],\n",
       "          [321, 322, 323]]]),\n",
       "  'X_test': array([[[114],\n",
       "          [124]],\n",
       "  \n",
       "         [[214],\n",
       "          [224]],\n",
       "  \n",
       "         [[314],\n",
       "          [324]]])}}"
      ]
     },
     "execution_count": 25,
     "metadata": {},
     "output_type": "execute_result"
    }
   ],
   "source": [
    "train_test_split_reconstruct"
   ]
  },
  {
   "cell_type": "markdown",
   "metadata": {},
   "source": [
    "#### Accessing `train_test_split_reconstruct`"
   ]
  },
  {
   "cell_type": "code",
   "execution_count": 19,
   "metadata": {},
   "outputs": [
    {
     "data": {
      "text/plain": [
       "array([[[111, 112, 113, 114],\n",
       "        [121, 122, 123, 124]],\n",
       "\n",
       "       [[211, 212, 213, 214],\n",
       "        [221, 222, 223, 224]],\n",
       "\n",
       "       [[311, 312, 313, 314],\n",
       "        [321, 322, 323, 324]]])"
      ]
     },
     "execution_count": 19,
     "metadata": {},
     "output_type": "execute_result"
    },
    {
     "data": {
      "text/plain": [
       "array([[[115],\n",
       "        [125]],\n",
       "\n",
       "       [[215],\n",
       "        [225]],\n",
       "\n",
       "       [[315],\n",
       "        [325]]])"
      ]
     },
     "execution_count": 19,
     "metadata": {},
     "output_type": "execute_result"
    }
   ],
   "source": [
    "n_split = 3\n",
    "train_test_split_reconstruct[str(n_split)]['X_train']\n",
    "train_test_split_reconstruct[str(n_split)]['X_test']"
   ]
  },
  {
   "cell_type": "markdown",
   "metadata": {},
   "source": [
    "#### use case 2: `[SKU, DAY]`"
   ]
  },
  {
   "cell_type": "code",
   "execution_count": 26,
   "metadata": {},
   "outputs": [
    {
     "data": {
      "text/plain": [
       "(3, 4)"
      ]
     },
     "execution_count": 26,
     "metadata": {},
     "output_type": "execute_result"
    },
    {
     "data": {
      "text/plain": [
       "array([[111, 112, 113, 114],\n",
       "       [121, 122, 123, 124],\n",
       "       [131, 132, 133, 134]])"
      ]
     },
     "execution_count": 26,
     "metadata": {},
     "output_type": "execute_result"
    }
   ],
   "source": [
    "X_2D = np.array([[111, 112, 113, 114],\n",
    "                 [121, 122, 123, 124],\n",
    "                 [131, 132, 133, 134]])\n",
    "X_2D.shape\n",
    "X_2D"
   ]
  },
  {
   "cell_type": "code",
   "execution_count": 27,
   "metadata": {
    "scrolled": false
   },
   "outputs": [],
   "source": [
    "n_splits = 3\n",
    "\n",
    "train_test_splits = time_series_split(X_2D, n_splits=n_splits)"
   ]
  },
  {
   "cell_type": "code",
   "execution_count": 28,
   "metadata": {},
   "outputs": [
    {
     "data": {
      "text/plain": [
       "{'0': {'0': {'X_train': array([[111]]), 'X_test': array([[112]])},\n",
       "  '1': {'X_train': array([[111, 112]]), 'X_test': array([[113]])},\n",
       "  '2': {'X_train': array([[111, 112, 113]]), 'X_test': array([[114]])}},\n",
       " '1': {'0': {'X_train': array([[121]]), 'X_test': array([[122]])},\n",
       "  '1': {'X_train': array([[121, 122]]), 'X_test': array([[123]])},\n",
       "  '2': {'X_train': array([[121, 122, 123]]), 'X_test': array([[124]])}},\n",
       " '2': {'0': {'X_train': array([[131]]), 'X_test': array([[132]])},\n",
       "  '1': {'X_train': array([[131, 132]]), 'X_test': array([[133]])},\n",
       "  '2': {'X_train': array([[131, 132, 133]]), 'X_test': array([[134]])}}}"
      ]
     },
     "execution_count": 28,
     "metadata": {},
     "output_type": "execute_result"
    }
   ],
   "source": [
    "train_test_splits"
   ]
  },
  {
   "cell_type": "markdown",
   "metadata": {},
   "source": [
    "#### Reconstruct splits back to original dimensions `[SKU, DAY]`, given all `sku`"
   ]
  },
  {
   "cell_type": "code",
   "execution_count": 30,
   "metadata": {},
   "outputs": [],
   "source": [
    "train_test_split_reconstruct = reconstruct(n_splits=3, n_sku=2, train_test_splits=train_test_splits)"
   ]
  },
  {
   "cell_type": "code",
   "execution_count": 32,
   "metadata": {},
   "outputs": [
    {
     "data": {
      "text/plain": [
       "{'0': {'X_train': array([[[111],\n",
       "          [121]]]),\n",
       "  'X_test': array([[[112],\n",
       "          [122]]])},\n",
       " '1': {'X_train': array([[[111, 112],\n",
       "          [121, 122]]]),\n",
       "  'X_test': array([[[113],\n",
       "          [123]]])},\n",
       " '2': {'X_train': array([[[111, 112, 113],\n",
       "          [121, 122, 123]]]),\n",
       "  'X_test': array([[[114],\n",
       "          [124]]])}}"
      ]
     },
     "execution_count": 32,
     "metadata": {},
     "output_type": "execute_result"
    }
   ],
   "source": [
    "train_test_split_reconstruct"
   ]
  },
  {
   "cell_type": "markdown",
   "metadata": {},
   "source": [
    "#### Accessing `train_test_split_reconstruct`"
   ]
  },
  {
   "cell_type": "code",
   "execution_count": 47,
   "metadata": {},
   "outputs": [
    {
     "data": {
      "text/plain": [
       "array([[[111, 112, 113],\n",
       "        [121, 122, 123]]])"
      ]
     },
     "execution_count": 47,
     "metadata": {},
     "output_type": "execute_result"
    },
    {
     "data": {
      "text/plain": [
       "array([[[114],\n",
       "        [124]]])"
      ]
     },
     "execution_count": 47,
     "metadata": {},
     "output_type": "execute_result"
    }
   ],
   "source": [
    "n_split = 2\n",
    "train_test_split_reconstruct[str(n_split)]['X_train']\n",
    "train_test_split_reconstruct[str(n_split)]['X_test']"
   ]
  },
  {
   "cell_type": "markdown",
   "metadata": {},
   "source": [
    "#### use case 3: `[1, SKU, DAY]`"
   ]
  },
  {
   "cell_type": "code",
   "execution_count": 33,
   "metadata": {},
   "outputs": [
    {
     "data": {
      "text/plain": [
       "(3, 4)"
      ]
     },
     "execution_count": 33,
     "metadata": {},
     "output_type": "execute_result"
    },
    {
     "data": {
      "text/plain": [
       "(1, 3, 4)"
      ]
     },
     "execution_count": 33,
     "metadata": {},
     "output_type": "execute_result"
    },
    {
     "data": {
      "text/plain": [
       "array([[[111, 112, 113, 114],\n",
       "        [121, 122, 123, 124],\n",
       "        [131, 132, 133, 134]]])"
      ]
     },
     "execution_count": 33,
     "metadata": {},
     "output_type": "execute_result"
    },
    {
     "data": {
      "text/plain": [
       "3"
      ]
     },
     "execution_count": 33,
     "metadata": {},
     "output_type": "execute_result"
    }
   ],
   "source": [
    "X_2D = np.array([[111, 112, 113, 114],\n",
    "                 [121, 122, 123, 124],\n",
    "                 [131, 132, 133, 134]])\n",
    "X_2D.shape\n",
    "\n",
    "X_3D = X_2D.reshape(1, X_2D.shape[0], X_2D.shape[1])\n",
    "X_3D.shape\n",
    "X_3D\n",
    "\n",
    "n_splits = X_3D.shape[-1]-1; n_splits"
   ]
  },
  {
   "cell_type": "code",
   "execution_count": 34,
   "metadata": {
    "scrolled": false
   },
   "outputs": [],
   "source": [
    "train_test_splits = time_series_split(X_3D, n_splits=n_splits)"
   ]
  },
  {
   "cell_type": "code",
   "execution_count": 35,
   "metadata": {},
   "outputs": [
    {
     "data": {
      "text/plain": [
       "{'0': {'0': {'X_train': array([[111]]), 'X_test': array([[112]])},\n",
       "  '1': {'X_train': array([[111, 112]]), 'X_test': array([[113]])},\n",
       "  '2': {'X_train': array([[111, 112, 113]]), 'X_test': array([[114]])}},\n",
       " '1': {'0': {'X_train': array([[121]]), 'X_test': array([[122]])},\n",
       "  '1': {'X_train': array([[121, 122]]), 'X_test': array([[123]])},\n",
       "  '2': {'X_train': array([[121, 122, 123]]), 'X_test': array([[124]])}},\n",
       " '2': {'0': {'X_train': array([[131]]), 'X_test': array([[132]])},\n",
       "  '1': {'X_train': array([[131, 132]]), 'X_test': array([[133]])},\n",
       "  '2': {'X_train': array([[131, 132, 133]]), 'X_test': array([[134]])}}}"
      ]
     },
     "execution_count": 35,
     "metadata": {},
     "output_type": "execute_result"
    }
   ],
   "source": [
    "train_test_splits"
   ]
  },
  {
   "cell_type": "code",
   "execution_count": 37,
   "metadata": {
    "scrolled": true
   },
   "outputs": [
    {
     "data": {
      "text/plain": [
       "array([[121, 122, 123]])"
      ]
     },
     "execution_count": 37,
     "metadata": {},
     "output_type": "execute_result"
    },
    {
     "data": {
      "text/plain": [
       "array([[124]])"
      ]
     },
     "execution_count": 37,
     "metadata": {},
     "output_type": "execute_result"
    }
   ],
   "source": [
    "train_test_splits['1']['2']['X_train']  # sku, split, X_train\n",
    "train_test_splits['1']['2']['X_test']  # sku, split, X_test"
   ]
  },
  {
   "cell_type": "code",
   "execution_count": 38,
   "metadata": {
    "scrolled": true
   },
   "outputs": [
    {
     "data": {
      "text/plain": [
       "(1, 3, 4)"
      ]
     },
     "execution_count": 38,
     "metadata": {},
     "output_type": "execute_result"
    },
    {
     "data": {
      "text/plain": [
       "(0, 0)"
      ]
     },
     "execution_count": 38,
     "metadata": {},
     "output_type": "execute_result"
    },
    {
     "name": "stdout",
     "output_type": "stream",
     "text": [
      "X_train shape:  (1, 1)\n"
     ]
    },
    {
     "data": {
      "text/plain": [
       "array([[111]])"
      ]
     },
     "execution_count": 38,
     "metadata": {},
     "output_type": "execute_result"
    },
    {
     "name": "stdout",
     "output_type": "stream",
     "text": [
      "X_test shape:  (1, 1)\n"
     ]
    },
    {
     "data": {
      "text/plain": [
       "array([[112]])"
      ]
     },
     "execution_count": 38,
     "metadata": {},
     "output_type": "execute_result"
    },
    {
     "data": {
      "text/plain": [
       "(0, 1)"
      ]
     },
     "execution_count": 38,
     "metadata": {},
     "output_type": "execute_result"
    },
    {
     "name": "stdout",
     "output_type": "stream",
     "text": [
      "X_train shape:  (1, 2)\n"
     ]
    },
    {
     "data": {
      "text/plain": [
       "array([[111, 112]])"
      ]
     },
     "execution_count": 38,
     "metadata": {},
     "output_type": "execute_result"
    },
    {
     "name": "stdout",
     "output_type": "stream",
     "text": [
      "X_test shape:  (1, 1)\n"
     ]
    },
    {
     "data": {
      "text/plain": [
       "array([[113]])"
      ]
     },
     "execution_count": 38,
     "metadata": {},
     "output_type": "execute_result"
    },
    {
     "data": {
      "text/plain": [
       "(0, 2)"
      ]
     },
     "execution_count": 38,
     "metadata": {},
     "output_type": "execute_result"
    },
    {
     "name": "stdout",
     "output_type": "stream",
     "text": [
      "X_train shape:  (1, 3)\n"
     ]
    },
    {
     "data": {
      "text/plain": [
       "array([[111, 112, 113]])"
      ]
     },
     "execution_count": 38,
     "metadata": {},
     "output_type": "execute_result"
    },
    {
     "name": "stdout",
     "output_type": "stream",
     "text": [
      "X_test shape:  (1, 1)\n"
     ]
    },
    {
     "data": {
      "text/plain": [
       "array([[114]])"
      ]
     },
     "execution_count": 38,
     "metadata": {},
     "output_type": "execute_result"
    },
    {
     "data": {
      "text/plain": [
       "(1, 0)"
      ]
     },
     "execution_count": 38,
     "metadata": {},
     "output_type": "execute_result"
    },
    {
     "name": "stdout",
     "output_type": "stream",
     "text": [
      "X_train shape:  (1, 1)\n"
     ]
    },
    {
     "data": {
      "text/plain": [
       "array([[121]])"
      ]
     },
     "execution_count": 38,
     "metadata": {},
     "output_type": "execute_result"
    },
    {
     "name": "stdout",
     "output_type": "stream",
     "text": [
      "X_test shape:  (1, 1)\n"
     ]
    },
    {
     "data": {
      "text/plain": [
       "array([[122]])"
      ]
     },
     "execution_count": 38,
     "metadata": {},
     "output_type": "execute_result"
    },
    {
     "data": {
      "text/plain": [
       "(1, 1)"
      ]
     },
     "execution_count": 38,
     "metadata": {},
     "output_type": "execute_result"
    },
    {
     "name": "stdout",
     "output_type": "stream",
     "text": [
      "X_train shape:  (1, 2)\n"
     ]
    },
    {
     "data": {
      "text/plain": [
       "array([[121, 122]])"
      ]
     },
     "execution_count": 38,
     "metadata": {},
     "output_type": "execute_result"
    },
    {
     "name": "stdout",
     "output_type": "stream",
     "text": [
      "X_test shape:  (1, 1)\n"
     ]
    },
    {
     "data": {
      "text/plain": [
       "array([[123]])"
      ]
     },
     "execution_count": 38,
     "metadata": {},
     "output_type": "execute_result"
    },
    {
     "data": {
      "text/plain": [
       "(1, 2)"
      ]
     },
     "execution_count": 38,
     "metadata": {},
     "output_type": "execute_result"
    },
    {
     "name": "stdout",
     "output_type": "stream",
     "text": [
      "X_train shape:  (1, 3)\n"
     ]
    },
    {
     "data": {
      "text/plain": [
       "array([[121, 122, 123]])"
      ]
     },
     "execution_count": 38,
     "metadata": {},
     "output_type": "execute_result"
    },
    {
     "name": "stdout",
     "output_type": "stream",
     "text": [
      "X_test shape:  (1, 1)\n"
     ]
    },
    {
     "data": {
      "text/plain": [
       "array([[124]])"
      ]
     },
     "execution_count": 38,
     "metadata": {},
     "output_type": "execute_result"
    },
    {
     "data": {
      "text/plain": [
       "(2, 0)"
      ]
     },
     "execution_count": 38,
     "metadata": {},
     "output_type": "execute_result"
    },
    {
     "name": "stdout",
     "output_type": "stream",
     "text": [
      "X_train shape:  (1, 1)\n"
     ]
    },
    {
     "data": {
      "text/plain": [
       "array([[131]])"
      ]
     },
     "execution_count": 38,
     "metadata": {},
     "output_type": "execute_result"
    },
    {
     "name": "stdout",
     "output_type": "stream",
     "text": [
      "X_test shape:  (1, 1)\n"
     ]
    },
    {
     "data": {
      "text/plain": [
       "array([[132]])"
      ]
     },
     "execution_count": 38,
     "metadata": {},
     "output_type": "execute_result"
    },
    {
     "data": {
      "text/plain": [
       "(2, 1)"
      ]
     },
     "execution_count": 38,
     "metadata": {},
     "output_type": "execute_result"
    },
    {
     "name": "stdout",
     "output_type": "stream",
     "text": [
      "X_train shape:  (1, 2)\n"
     ]
    },
    {
     "data": {
      "text/plain": [
       "array([[131, 132]])"
      ]
     },
     "execution_count": 38,
     "metadata": {},
     "output_type": "execute_result"
    },
    {
     "name": "stdout",
     "output_type": "stream",
     "text": [
      "X_test shape:  (1, 1)\n"
     ]
    },
    {
     "data": {
      "text/plain": [
       "array([[133]])"
      ]
     },
     "execution_count": 38,
     "metadata": {},
     "output_type": "execute_result"
    },
    {
     "data": {
      "text/plain": [
       "(2, 2)"
      ]
     },
     "execution_count": 38,
     "metadata": {},
     "output_type": "execute_result"
    },
    {
     "name": "stdout",
     "output_type": "stream",
     "text": [
      "X_train shape:  (1, 3)\n"
     ]
    },
    {
     "data": {
      "text/plain": [
       "array([[131, 132, 133]])"
      ]
     },
     "execution_count": 38,
     "metadata": {},
     "output_type": "execute_result"
    },
    {
     "name": "stdout",
     "output_type": "stream",
     "text": [
      "X_test shape:  (1, 1)\n"
     ]
    },
    {
     "data": {
      "text/plain": [
       "array([[134]])"
      ]
     },
     "execution_count": 38,
     "metadata": {},
     "output_type": "execute_result"
    }
   ],
   "source": [
    "X_3D.shape\n",
    "\n",
    "for sku in range(X_3D.shape[1]):\n",
    "    for split in range(n_splits):\n",
    "        sku, split\n",
    "        print('X_train shape: ', train_test_splits[str(sku)][str(split)]['X_train'].shape) # [LOC x DAY]\n",
    "        train_test_splits[str(sku)][str(split)]['X_train']  # sku, split, X_train\n",
    "        print('X_test shape: ', train_test_splits[str(sku)][str(split)]['X_test'].shape) # [LOC x DAY]\n",
    "        train_test_splits[str(sku)][str(split)]['X_test']  # sku, split, X_test"
   ]
  },
  {
   "cell_type": "markdown",
   "metadata": {},
   "source": [
    "#### Reconstruct splits back to original dimensions `[1, SKU, DAY]`, given all `sku`"
   ]
  },
  {
   "cell_type": "code",
   "execution_count": 41,
   "metadata": {},
   "outputs": [],
   "source": [
    "train_test_split_reconstruct = reconstruct(n_splits=3, n_sku=2, train_test_splits=train_test_splits)"
   ]
  },
  {
   "cell_type": "code",
   "execution_count": 42,
   "metadata": {},
   "outputs": [
    {
     "data": {
      "text/plain": [
       "{'0': {'X_train': array([[[111],\n",
       "          [121]]]),\n",
       "  'X_test': array([[[112],\n",
       "          [122]]])},\n",
       " '1': {'X_train': array([[[111, 112],\n",
       "          [121, 122]]]),\n",
       "  'X_test': array([[[113],\n",
       "          [123]]])},\n",
       " '2': {'X_train': array([[[111, 112, 113],\n",
       "          [121, 122, 123]]]),\n",
       "  'X_test': array([[[114],\n",
       "          [124]]])}}"
      ]
     },
     "execution_count": 42,
     "metadata": {},
     "output_type": "execute_result"
    }
   ],
   "source": [
    "train_test_split_reconstruct"
   ]
  },
  {
   "cell_type": "markdown",
   "metadata": {},
   "source": [
    "#### Accessing `train_test_split_reconstruct`"
   ]
  },
  {
   "cell_type": "code",
   "execution_count": 44,
   "metadata": {},
   "outputs": [
    {
     "data": {
      "text/plain": [
       "array([[[111, 112, 113],\n",
       "        [121, 122, 123]]])"
      ]
     },
     "execution_count": 44,
     "metadata": {},
     "output_type": "execute_result"
    },
    {
     "data": {
      "text/plain": [
       "array([[[114],\n",
       "        [124]]])"
      ]
     },
     "execution_count": 44,
     "metadata": {},
     "output_type": "execute_result"
    }
   ],
   "source": [
    "n_split = 2\n",
    "train_test_split_reconstruct[str(n_split)]['X_train']\n",
    "train_test_split_reconstruct[str(n_split)]['X_test']"
   ]
  },
  {
   "cell_type": "code",
   "execution_count": null,
   "metadata": {},
   "outputs": [],
   "source": []
  },
  {
   "cell_type": "code",
   "execution_count": null,
   "metadata": {},
   "outputs": [],
   "source": []
  }
 ],
 "metadata": {
  "kernelspec": {
   "display_name": "inventory-src-py37",
   "language": "python",
   "name": "conda-env-inventory-src-py37-py"
  },
  "language_info": {
   "codemirror_mode": {
    "name": "ipython",
    "version": 3
   },
   "file_extension": ".py",
   "mimetype": "text/x-python",
   "name": "python",
   "nbconvert_exporter": "python",
   "pygments_lexer": "ipython3",
   "version": "3.7.0"
  }
 },
 "nbformat": 4,
 "nbformat_minor": 4
}
