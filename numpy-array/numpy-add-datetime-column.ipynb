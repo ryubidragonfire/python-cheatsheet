{
 "cells": [
  {
   "cell_type": "code",
   "execution_count": 2,
   "metadata": {},
   "outputs": [],
   "source": [
    "from IPython.core.interactiveshell import InteractiveShell\n",
    "InteractiveShell.ast_node_interactivity = \"all\""
   ]
  },
  {
   "cell_type": "code",
   "execution_count": 63,
   "metadata": {},
   "outputs": [],
   "source": [
    "import numpy as np\n",
    "import pandas as pd\n",
    "from datetime import datetime, timedelta"
   ]
  },
  {
   "cell_type": "markdown",
   "metadata": {},
   "source": [
    "## Add `datetime` to a 2D numpy array"
   ]
  },
  {
   "cell_type": "code",
   "execution_count": 8,
   "metadata": {},
   "outputs": [],
   "source": [
    "trade_type = np.dtype(\n",
    "[\n",
    "    ('id', 'U'),\n",
    "    ('timestamp', 'u8'),\n",
    "    ('datetime', np.dtype('datetime64[s]'))\n",
    "]\n",
    ")\n",
    "\n",
    "array = np.zeros(shape=(3,1), dtype=trade_type)\n",
    "array['datetime'] = np.datetime64('1970-01-01 00:00:00')"
   ]
  },
  {
   "cell_type": "code",
   "execution_count": 9,
   "metadata": {},
   "outputs": [
    {
     "data": {
      "text/plain": [
       "array([[('', 0, '1970-01-01T00:00:00')],\n",
       "       [('', 0, '1970-01-01T00:00:00')],\n",
       "       [('', 0, '1970-01-01T00:00:00')]],\n",
       "      dtype=[('id', '<U'), ('timestamp', '<u8'), ('datetime', '<M8[s]')])"
      ]
     },
     "execution_count": 9,
     "metadata": {},
     "output_type": "execute_result"
    }
   ],
   "source": [
    "array"
   ]
  },
  {
   "cell_type": "markdown",
   "metadata": {},
   "source": [
    "## Create a column of `datetime` in 2D numpy array \n",
    "### using `datetime.datetime` and `datetime.timedelta`"
   ]
  },
  {
   "cell_type": "code",
   "execution_count": 33,
   "metadata": {},
   "outputs": [],
   "source": [
    "base = datetime(2000, 1, 1)\n",
    "arr1 = np.array([base + timedelta(hours=i) for i in range(5)])"
   ]
  },
  {
   "cell_type": "markdown",
   "metadata": {},
   "source": [
    "### using `np.datetime64` and `np.timedelta64`"
   ]
  },
  {
   "cell_type": "code",
   "execution_count": 35,
   "metadata": {},
   "outputs": [
    {
     "data": {
      "text/plain": [
       "array([['2020-01-15'],\n",
       "       ['2020-01-16'],\n",
       "       ['2020-01-17'],\n",
       "       ['2020-01-18'],\n",
       "       ['2020-01-19']], dtype='datetime64[D]')"
      ]
     },
     "execution_count": 35,
     "metadata": {},
     "output_type": "execute_result"
    }
   ],
   "source": [
    "base = np.datetime64('2020-01-15')\n",
    "arr2 = np.array([base + np.timedelta64(i, 'D') for i in range(5)]).reshape((5,1))\n",
    "arr2 "
   ]
  },
  {
   "cell_type": "markdown",
   "metadata": {},
   "source": [
    "### using `np.arange`"
   ]
  },
  {
   "cell_type": "code",
   "execution_count": 43,
   "metadata": {},
   "outputs": [
    {
     "data": {
      "text/plain": [
       "array([['2020-01-15'],\n",
       "       ['2020-01-16'],\n",
       "       ['2020-01-17'],\n",
       "       ['2020-01-18'],\n",
       "       ['2020-01-19']], dtype='datetime64[D]')"
      ]
     },
     "execution_count": 43,
     "metadata": {},
     "output_type": "execute_result"
    }
   ],
   "source": [
    "arr3 = np.arange('2020-01-15', '2020-01-20', dtype='datetime64[D]').reshape((5,1))\n",
    "arr3"
   ]
  },
  {
   "cell_type": "markdown",
   "metadata": {},
   "source": [
    "## Add `datetime` to a 3D numpy array\n",
    "- ref: https://numpy.org/doc/stable/reference/arrays.dtypes.html"
   ]
  },
  {
   "cell_type": "code",
   "execution_count": 58,
   "metadata": {},
   "outputs": [
    {
     "data": {
      "text/plain": [
       "array([[[(0, 0, '1970-01-01T00:00:00'), (0, 0, '1970-01-01T00:00:00'),\n",
       "         (0, 0, '1970-01-01T00:00:00'), (0, 0, '1970-01-01T00:00:00'),\n",
       "         (0, 0, '1970-01-01T00:00:00')],\n",
       "        [(0, 0, '1970-01-01T00:00:00'), (0, 0, '1970-01-01T00:00:00'),\n",
       "         (0, 0, '1970-01-01T00:00:00'), (0, 0, '1970-01-01T00:00:00'),\n",
       "         (0, 0, '1970-01-01T00:00:00')],\n",
       "        [(0, 0, '1970-01-01T00:00:00'), (0, 0, '1970-01-01T00:00:00'),\n",
       "         (0, 0, '1970-01-01T00:00:00'), (0, 0, '1970-01-01T00:00:00'),\n",
       "         (0, 0, '1970-01-01T00:00:00')]],\n",
       "\n",
       "       [[(0, 0, '1970-01-01T00:00:00'), (0, 0, '1970-01-01T00:00:00'),\n",
       "         (0, 0, '1970-01-01T00:00:00'), (0, 0, '1970-01-01T00:00:00'),\n",
       "         (0, 0, '1970-01-01T00:00:00')],\n",
       "        [(0, 0, '1970-01-01T00:00:00'), (0, 0, '1970-01-01T00:00:00'),\n",
       "         (0, 0, '1970-01-01T00:00:00'), (0, 0, '1970-01-01T00:00:00'),\n",
       "         (0, 0, '1970-01-01T00:00:00')],\n",
       "        [(0, 0, '1970-01-01T00:00:00'), (0, 0, '1970-01-01T00:00:00'),\n",
       "         (0, 0, '1970-01-01T00:00:00'), (0, 0, '1970-01-01T00:00:00'),\n",
       "         (0, 0, '1970-01-01T00:00:00')]]],\n",
       "      dtype=[('sku', '<i8'), ('location', '<i8'), ('datetime', '<M8[s]')])"
      ]
     },
     "execution_count": 58,
     "metadata": {},
     "output_type": "execute_result"
    }
   ],
   "source": [
    "arr_3D_dtype = np.dtype(\n",
    "    [\n",
    "        ('sku', np.dtype(int)),\n",
    "        ('location', np.dtype(int)),\n",
    "        ('datetime', np.dtype('datetime64[s]'))\n",
    "    ]\n",
    ")\n",
    "\n",
    "arr_3D = np.zeros(shape=(2,3,5), dtype=arr_3D_dtype)\n",
    "arr_3D['datetime'] = np.datetime64('1970-01-01 00:00:00')\n",
    "arr_3D"
   ]
  },
  {
   "cell_type": "code",
   "execution_count": 47,
   "metadata": {},
   "outputs": [
    {
     "name": "stdout",
     "output_type": "stream",
     "text": [
      "[[[0. 0. 0. 0. 0.]\n",
      "  [0. 0. 0. 0. 0.]\n",
      "  [0. 0. 0. 0. 0.]]\n",
      "\n",
      " [[0. 0. 0. 0. 0.]\n",
      "  [0. 0. 0. 0. 0.]\n",
      "  [0. 0. 0. 0. 0.]]]\n"
     ]
    }
   ],
   "source": [
    "arr_3D = np.zeros((2,3,5)); print(arr_3D)"
   ]
  },
  {
   "cell_type": "code",
   "execution_count": 48,
   "metadata": {},
   "outputs": [
    {
     "data": {
      "text/plain": [
       "array([[[    0.,     0.,     0., 18276.,     0.],\n",
       "        [    0.,     0.,     0., 18276.,     0.],\n",
       "        [    0.,     0.,     0., 18276.,     0.]],\n",
       "\n",
       "       [[    0.,     0.,     0., 18276.,     0.],\n",
       "        [    0.,     0.,     0., 18276.,     0.],\n",
       "        [    0.,     0.,     0., 18276.,     0.]]])"
      ]
     },
     "execution_count": 48,
     "metadata": {},
     "output_type": "execute_result"
    }
   ],
   "source": [
    "arr_3D[:,:,3] = arr3[0]\n",
    "arr_3D"
   ]
  },
  {
   "cell_type": "code",
   "execution_count": null,
   "metadata": {},
   "outputs": [],
   "source": [
    "----------"
   ]
  },
  {
   "cell_type": "code",
   "execution_count": 66,
   "metadata": {},
   "outputs": [
    {
     "data": {
      "text/plain": [
       "array([[[3, 7, 4, 5, 3],\n",
       "        [2, 7, 1, 6, 3],\n",
       "        [8, 1, 4, 8, 1]],\n",
       "\n",
       "       [[3, 0, 3, 6, 1],\n",
       "        [0, 8, 5, 7, 1],\n",
       "        [6, 5, 3, 4, 0]]])"
      ]
     },
     "execution_count": 66,
     "metadata": {},
     "output_type": "execute_result"
    }
   ],
   "source": [
    "a = np.random.randint(0,9,(2,3,5)); a"
   ]
  },
  {
   "cell_type": "code",
   "execution_count": 68,
   "metadata": {},
   "outputs": [
    {
     "data": {
      "text/plain": [
       "(2, 3, 5)"
      ]
     },
     "execution_count": 68,
     "metadata": {},
     "output_type": "execute_result"
    },
    {
     "data": {
      "text/plain": [
       "array([[0, 3, 7, 4, 5, 3],\n",
       "       [0, 2, 7, 1, 6, 3],\n",
       "       [0, 8, 1, 4, 8, 1],\n",
       "       [1, 3, 0, 3, 6, 1],\n",
       "       [1, 0, 8, 5, 7, 1],\n",
       "       [1, 6, 5, 3, 4, 0]])"
      ]
     },
     "execution_count": 68,
     "metadata": {},
     "output_type": "execute_result"
    },
    {
     "data": {
      "text/html": [
       "<div>\n",
       "<style scoped>\n",
       "    .dataframe tbody tr th:only-of-type {\n",
       "        vertical-align: middle;\n",
       "    }\n",
       "\n",
       "    .dataframe tbody tr th {\n",
       "        vertical-align: top;\n",
       "    }\n",
       "\n",
       "    .dataframe thead th {\n",
       "        text-align: right;\n",
       "    }\n",
       "</style>\n",
       "<table border=\"1\" class=\"dataframe\">\n",
       "  <thead>\n",
       "    <tr style=\"text-align: right;\">\n",
       "      <th></th>\n",
       "      <th>0</th>\n",
       "      <th>1</th>\n",
       "      <th>2</th>\n",
       "      <th>3</th>\n",
       "      <th>4</th>\n",
       "      <th>5</th>\n",
       "    </tr>\n",
       "  </thead>\n",
       "  <tbody>\n",
       "    <tr>\n",
       "      <th>0</th>\n",
       "      <td>0</td>\n",
       "      <td>3</td>\n",
       "      <td>7</td>\n",
       "      <td>4</td>\n",
       "      <td>5</td>\n",
       "      <td>3</td>\n",
       "    </tr>\n",
       "    <tr>\n",
       "      <th>1</th>\n",
       "      <td>0</td>\n",
       "      <td>2</td>\n",
       "      <td>7</td>\n",
       "      <td>1</td>\n",
       "      <td>6</td>\n",
       "      <td>3</td>\n",
       "    </tr>\n",
       "    <tr>\n",
       "      <th>2</th>\n",
       "      <td>0</td>\n",
       "      <td>8</td>\n",
       "      <td>1</td>\n",
       "      <td>4</td>\n",
       "      <td>8</td>\n",
       "      <td>1</td>\n",
       "    </tr>\n",
       "    <tr>\n",
       "      <th>3</th>\n",
       "      <td>1</td>\n",
       "      <td>3</td>\n",
       "      <td>0</td>\n",
       "      <td>3</td>\n",
       "      <td>6</td>\n",
       "      <td>1</td>\n",
       "    </tr>\n",
       "    <tr>\n",
       "      <th>4</th>\n",
       "      <td>1</td>\n",
       "      <td>0</td>\n",
       "      <td>8</td>\n",
       "      <td>5</td>\n",
       "      <td>7</td>\n",
       "      <td>1</td>\n",
       "    </tr>\n",
       "    <tr>\n",
       "      <th>5</th>\n",
       "      <td>1</td>\n",
       "      <td>6</td>\n",
       "      <td>5</td>\n",
       "      <td>3</td>\n",
       "      <td>4</td>\n",
       "      <td>0</td>\n",
       "    </tr>\n",
       "  </tbody>\n",
       "</table>\n",
       "</div>"
      ],
      "text/plain": [
       "   0  1  2  3  4  5\n",
       "0  0  3  7  4  5  3\n",
       "1  0  2  7  1  6  3\n",
       "2  0  8  1  4  8  1\n",
       "3  1  3  0  3  6  1\n",
       "4  1  0  8  5  7  1\n",
       "5  1  6  5  3  4  0"
      ]
     },
     "execution_count": 68,
     "metadata": {},
     "output_type": "execute_result"
    }
   ],
   "source": [
    "d1,d2,d3 = a.shape; d1,d2,d3\n",
    "out_arr = np.column_stack((np.repeat(np.arange(d1),d2),a.reshape(d1*d2,-1))); out_arr\n",
    "out_df = pd.DataFrame(out_arr); out_df"
   ]
  },
  {
   "cell_type": "code",
   "execution_count": 70,
   "metadata": {},
   "outputs": [
    {
     "data": {
      "text/plain": [
       "array([[3, 7, 4, 5, 3],\n",
       "       [2, 7, 1, 6, 3],\n",
       "       [8, 1, 4, 8, 1],\n",
       "       [3, 0, 3, 6, 1],\n",
       "       [0, 8, 5, 7, 1],\n",
       "       [6, 5, 3, 4, 0]])"
      ]
     },
     "execution_count": 70,
     "metadata": {},
     "output_type": "execute_result"
    }
   ],
   "source": [
    "a.reshape(d1*d2,-1)"
   ]
  },
  {
   "cell_type": "code",
   "execution_count": 72,
   "metadata": {},
   "outputs": [
    {
     "data": {
      "text/html": [
       "<div>\n",
       "<style scoped>\n",
       "    .dataframe tbody tr th:only-of-type {\n",
       "        vertical-align: middle;\n",
       "    }\n",
       "\n",
       "    .dataframe tbody tr th {\n",
       "        vertical-align: top;\n",
       "    }\n",
       "\n",
       "    .dataframe thead th {\n",
       "        text-align: right;\n",
       "    }\n",
       "</style>\n",
       "<table border=\"1\" class=\"dataframe\">\n",
       "  <thead>\n",
       "    <tr style=\"text-align: right;\">\n",
       "      <th></th>\n",
       "      <th>0</th>\n",
       "      <th>1</th>\n",
       "      <th>2</th>\n",
       "      <th>3</th>\n",
       "      <th>4</th>\n",
       "    </tr>\n",
       "  </thead>\n",
       "  <tbody>\n",
       "    <tr>\n",
       "      <th>0</th>\n",
       "      <td>3</td>\n",
       "      <td>7</td>\n",
       "      <td>4</td>\n",
       "      <td>5</td>\n",
       "      <td>3</td>\n",
       "    </tr>\n",
       "    <tr>\n",
       "      <th>1</th>\n",
       "      <td>2</td>\n",
       "      <td>7</td>\n",
       "      <td>1</td>\n",
       "      <td>6</td>\n",
       "      <td>3</td>\n",
       "    </tr>\n",
       "    <tr>\n",
       "      <th>2</th>\n",
       "      <td>8</td>\n",
       "      <td>1</td>\n",
       "      <td>4</td>\n",
       "      <td>8</td>\n",
       "      <td>1</td>\n",
       "    </tr>\n",
       "    <tr>\n",
       "      <th>3</th>\n",
       "      <td>3</td>\n",
       "      <td>0</td>\n",
       "      <td>3</td>\n",
       "      <td>6</td>\n",
       "      <td>1</td>\n",
       "    </tr>\n",
       "    <tr>\n",
       "      <th>4</th>\n",
       "      <td>0</td>\n",
       "      <td>8</td>\n",
       "      <td>5</td>\n",
       "      <td>7</td>\n",
       "      <td>1</td>\n",
       "    </tr>\n",
       "    <tr>\n",
       "      <th>5</th>\n",
       "      <td>6</td>\n",
       "      <td>5</td>\n",
       "      <td>3</td>\n",
       "      <td>4</td>\n",
       "      <td>0</td>\n",
       "    </tr>\n",
       "  </tbody>\n",
       "</table>\n",
       "</div>"
      ],
      "text/plain": [
       "   0  1  2  3  4\n",
       "0  3  7  4  5  3\n",
       "1  2  7  1  6  3\n",
       "2  8  1  4  8  1\n",
       "3  3  0  3  6  1\n",
       "4  0  8  5  7  1\n",
       "5  6  5  3  4  0"
      ]
     },
     "execution_count": 72,
     "metadata": {},
     "output_type": "execute_result"
    }
   ],
   "source": [
    "pd.DataFrame(a.reshape(d1*d2,-1))"
   ]
  },
  {
   "cell_type": "code",
   "execution_count": null,
   "metadata": {},
   "outputs": [],
   "source": []
  }
 ],
 "metadata": {
  "kernelspec": {
   "display_name": "inventory-src-py37",
   "language": "python",
   "name": "conda-env-inventory-src-py37-py"
  },
  "language_info": {
   "codemirror_mode": {
    "name": "ipython",
    "version": 3
   },
   "file_extension": ".py",
   "mimetype": "text/x-python",
   "name": "python",
   "nbconvert_exporter": "python",
   "pygments_lexer": "ipython3",
   "version": "3.7.0"
  }
 },
 "nbformat": 4,
 "nbformat_minor": 4
}
