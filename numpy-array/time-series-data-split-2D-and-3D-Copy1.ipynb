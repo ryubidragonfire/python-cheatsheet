{
 "cells": [
  {
   "cell_type": "code",
   "execution_count": 1,
   "metadata": {},
   "outputs": [],
   "source": [
    "from IPython.core.interactiveshell import InteractiveShell\n",
    "InteractiveShell.ast_node_interactivity = \"all\""
   ]
  },
  {
   "cell_type": "code",
   "execution_count": 2,
   "metadata": {},
   "outputs": [],
   "source": [
    "import numpy as np\n",
    "from sklearn.model_selection import TimeSeriesSplit"
   ]
  },
  {
   "cell_type": "code",
   "execution_count": 3,
   "metadata": {},
   "outputs": [
    {
     "name": "stdout",
     "output_type": "stream",
     "text": [
      "TRAIN: [0] TEST: [1]\n",
      "TRAIN: [0 1] TEST: [2]\n",
      "TRAIN: [0 1 2] TEST: [3]\n",
      "TRAIN: [0 1 2 3] TEST: [4]\n",
      "TRAIN: [0 1 2 3 4] TEST: [5]\n"
     ]
    }
   ],
   "source": [
    "X = np.array([[1, 2], [3, 4], [5, 6], [7, 8], [9, 10], [11, 12]])\n",
    "y = np.array([1, 2, 3, 4, 5, 6])\n",
    "\n",
    "tscv = TimeSeriesSplit(n_splits=5)\n",
    "\n",
    "for train_index, test_index in tscv.split(X):\n",
    "    print(\"TRAIN:\", train_index, \"TEST:\", test_index)\n",
    "    X_train, X_test = X[train_index], X[test_index]\n",
    "    y_train, y_test = y[train_index], y[test_index]"
   ]
  },
  {
   "cell_type": "code",
   "execution_count": 4,
   "metadata": {},
   "outputs": [
    {
     "name": "stdout",
     "output_type": "stream",
     "text": [
      "TRAIN: [0 1] TEST: [2]\n",
      "TRAIN: [0 1 2] TEST: [3]\n",
      "TRAIN: [0 1 2 3] TEST: [4]\n",
      "TRAIN: [0 1 2 3 4] TEST: [5]\n"
     ]
    }
   ],
   "source": [
    "tscv = TimeSeriesSplit(n_splits=4)\n",
    "\n",
    "for train_index, test_index in tscv.split(X):\n",
    "    print(\"TRAIN:\", train_index, \"TEST:\", test_index)\n",
    "    X_train, X_test = X[train_index], X[test_index]\n",
    "    y_train, y_test = y[train_index], y[test_index]"
   ]
  },
  {
   "cell_type": "code",
   "execution_count": 5,
   "metadata": {},
   "outputs": [
    {
     "name": "stdout",
     "output_type": "stream",
     "text": [
      "TRAIN: [0 1 2] TEST: [3]\n",
      "TRAIN: [0 1 2 3] TEST: [4]\n",
      "TRAIN: [0 1 2 3 4] TEST: [5]\n"
     ]
    }
   ],
   "source": [
    "tscv = TimeSeriesSplit(n_splits=3)\n",
    "\n",
    "for train_index, test_index in tscv.split(X):\n",
    "    print(\"TRAIN:\", train_index, \"TEST:\", test_index)\n",
    "    X_train, X_test = X[train_index], X[test_index]\n",
    "    y_train, y_test = y[train_index], y[test_index]"
   ]
  },
  {
   "cell_type": "code",
   "execution_count": 6,
   "metadata": {},
   "outputs": [
    {
     "name": "stdout",
     "output_type": "stream",
     "text": [
      "TRAIN: [0 1] TEST: [2 3]\n",
      "TRAIN: [0 1 2 3] TEST: [4 5]\n"
     ]
    }
   ],
   "source": [
    "tscv = TimeSeriesSplit(n_splits=2)\n",
    "\n",
    "for train_index, test_index in tscv.split(X):\n",
    "    print(\"TRAIN:\", train_index, \"TEST:\", test_index)\n",
    "    X_train, X_test = X[train_index], X[test_index]\n",
    "    y_train, y_test = y[train_index], y[test_index]"
   ]
  },
  {
   "cell_type": "markdown",
   "metadata": {},
   "source": [
    "### Tutorial"
   ]
  },
  {
   "cell_type": "code",
   "execution_count": 7,
   "metadata": {},
   "outputs": [
    {
     "data": {
      "text/plain": [
       "(6, 2)"
      ]
     },
     "execution_count": 7,
     "metadata": {},
     "output_type": "execute_result"
    },
    {
     "data": {
      "text/plain": [
       "array([[ 1,  2],\n",
       "       [ 3,  4],\n",
       "       [ 5,  6],\n",
       "       [ 7,  8],\n",
       "       [ 9, 10],\n",
       "       [11, 12]])"
      ]
     },
     "execution_count": 7,
     "metadata": {},
     "output_type": "execute_result"
    },
    {
     "data": {
      "text/plain": [
       "(6,)"
      ]
     },
     "execution_count": 7,
     "metadata": {},
     "output_type": "execute_result"
    },
    {
     "data": {
      "text/plain": [
       "array([1, 2, 3, 4, 5, 6])"
      ]
     },
     "execution_count": 7,
     "metadata": {},
     "output_type": "execute_result"
    }
   ],
   "source": [
    "X = np.array([[1, 2], [3, 4], [5, 6], [7, 8], [9, 10], [11, 12]])\n",
    "y = np.array([1, 2, 3, 4, 5, 6])\n",
    "\n",
    "X.shape\n",
    "X\n",
    "y.shape\n",
    "y"
   ]
  },
  {
   "cell_type": "markdown",
   "metadata": {},
   "source": [
    "### `n_splits=2`"
   ]
  },
  {
   "cell_type": "code",
   "execution_count": 8,
   "metadata": {},
   "outputs": [
    {
     "name": "stdout",
     "output_type": "stream",
     "text": [
      "TimeSeriesSplit(max_train_size=None, n_splits=2)\n",
      "TRAIN: [0 1] TEST: [2 3]\n",
      "TRAIN ............\n"
     ]
    },
    {
     "data": {
      "text/plain": [
       "((2, 2), (2, 2))"
      ]
     },
     "execution_count": 8,
     "metadata": {},
     "output_type": "execute_result"
    },
    {
     "data": {
      "text/plain": [
       "(array([[1, 2],\n",
       "        [3, 4]]),\n",
       " array([[5, 6],\n",
       "        [7, 8]]))"
      ]
     },
     "execution_count": 8,
     "metadata": {},
     "output_type": "execute_result"
    },
    {
     "name": "stdout",
     "output_type": "stream",
     "text": [
      "TEST ............\n"
     ]
    },
    {
     "data": {
      "text/plain": [
       "((2,), (2,))"
      ]
     },
     "execution_count": 8,
     "metadata": {},
     "output_type": "execute_result"
    },
    {
     "data": {
      "text/plain": [
       "(array([1, 2]), array([3, 4]))"
      ]
     },
     "execution_count": 8,
     "metadata": {},
     "output_type": "execute_result"
    },
    {
     "name": "stdout",
     "output_type": "stream",
     "text": [
      "TRAIN: [0 1 2 3] TEST: [4 5]\n",
      "TRAIN ............\n"
     ]
    },
    {
     "data": {
      "text/plain": [
       "((4, 2), (2, 2))"
      ]
     },
     "execution_count": 8,
     "metadata": {},
     "output_type": "execute_result"
    },
    {
     "data": {
      "text/plain": [
       "(array([[1, 2],\n",
       "        [3, 4],\n",
       "        [5, 6],\n",
       "        [7, 8]]),\n",
       " array([[ 9, 10],\n",
       "        [11, 12]]))"
      ]
     },
     "execution_count": 8,
     "metadata": {},
     "output_type": "execute_result"
    },
    {
     "name": "stdout",
     "output_type": "stream",
     "text": [
      "TEST ............\n"
     ]
    },
    {
     "data": {
      "text/plain": [
       "((4,), (2,))"
      ]
     },
     "execution_count": 8,
     "metadata": {},
     "output_type": "execute_result"
    },
    {
     "data": {
      "text/plain": [
       "(array([1, 2, 3, 4]), array([5, 6]))"
      ]
     },
     "execution_count": 8,
     "metadata": {},
     "output_type": "execute_result"
    }
   ],
   "source": [
    "tscv = TimeSeriesSplit(n_splits=2)\n",
    "print(tscv)\n",
    "\n",
    "for train_index, test_index in tscv.split(X):\n",
    "    print(\"TRAIN:\", train_index, \"TEST:\", test_index)\n",
    "    print(\"TRAIN ............\")\n",
    "    X_train, X_test = X[train_index], X[test_index]\n",
    "    X_train.shape, X_test.shape\n",
    "    X_train, X_test\n",
    "    \n",
    "    print(\"TEST ............\")\n",
    "    y_train, y_test = y[train_index], y[test_index]\n",
    "    y_train.shape, y_test.shape\n",
    "    y_train, y_test"
   ]
  },
  {
   "cell_type": "markdown",
   "metadata": {},
   "source": [
    "### `n_splits=5`"
   ]
  },
  {
   "cell_type": "code",
   "execution_count": 9,
   "metadata": {},
   "outputs": [
    {
     "name": "stdout",
     "output_type": "stream",
     "text": [
      "TimeSeriesSplit(max_train_size=None, n_splits=5)\n",
      "TRAIN: [0] TEST: [1]\n",
      "TRAIN ............\n"
     ]
    },
    {
     "data": {
      "text/plain": [
       "(array([[1, 2]]), array([[3, 4]]))"
      ]
     },
     "execution_count": 9,
     "metadata": {},
     "output_type": "execute_result"
    },
    {
     "name": "stdout",
     "output_type": "stream",
     "text": [
      "TEST ............\n"
     ]
    },
    {
     "data": {
      "text/plain": [
       "(array([1]), array([2]))"
      ]
     },
     "execution_count": 9,
     "metadata": {},
     "output_type": "execute_result"
    },
    {
     "name": "stdout",
     "output_type": "stream",
     "text": [
      "TRAIN: [0 1] TEST: [2]\n",
      "TRAIN ............\n"
     ]
    },
    {
     "data": {
      "text/plain": [
       "(array([[1, 2],\n",
       "        [3, 4]]),\n",
       " array([[5, 6]]))"
      ]
     },
     "execution_count": 9,
     "metadata": {},
     "output_type": "execute_result"
    },
    {
     "name": "stdout",
     "output_type": "stream",
     "text": [
      "TEST ............\n"
     ]
    },
    {
     "data": {
      "text/plain": [
       "(array([1, 2]), array([3]))"
      ]
     },
     "execution_count": 9,
     "metadata": {},
     "output_type": "execute_result"
    },
    {
     "name": "stdout",
     "output_type": "stream",
     "text": [
      "TRAIN: [0 1 2] TEST: [3]\n",
      "TRAIN ............\n"
     ]
    },
    {
     "data": {
      "text/plain": [
       "(array([[1, 2],\n",
       "        [3, 4],\n",
       "        [5, 6]]),\n",
       " array([[7, 8]]))"
      ]
     },
     "execution_count": 9,
     "metadata": {},
     "output_type": "execute_result"
    },
    {
     "name": "stdout",
     "output_type": "stream",
     "text": [
      "TEST ............\n"
     ]
    },
    {
     "data": {
      "text/plain": [
       "(array([1, 2, 3]), array([4]))"
      ]
     },
     "execution_count": 9,
     "metadata": {},
     "output_type": "execute_result"
    },
    {
     "name": "stdout",
     "output_type": "stream",
     "text": [
      "TRAIN: [0 1 2 3] TEST: [4]\n",
      "TRAIN ............\n"
     ]
    },
    {
     "data": {
      "text/plain": [
       "(array([[1, 2],\n",
       "        [3, 4],\n",
       "        [5, 6],\n",
       "        [7, 8]]),\n",
       " array([[ 9, 10]]))"
      ]
     },
     "execution_count": 9,
     "metadata": {},
     "output_type": "execute_result"
    },
    {
     "name": "stdout",
     "output_type": "stream",
     "text": [
      "TEST ............\n"
     ]
    },
    {
     "data": {
      "text/plain": [
       "(array([1, 2, 3, 4]), array([5]))"
      ]
     },
     "execution_count": 9,
     "metadata": {},
     "output_type": "execute_result"
    },
    {
     "name": "stdout",
     "output_type": "stream",
     "text": [
      "TRAIN: [0 1 2 3 4] TEST: [5]\n",
      "TRAIN ............\n"
     ]
    },
    {
     "data": {
      "text/plain": [
       "(array([[ 1,  2],\n",
       "        [ 3,  4],\n",
       "        [ 5,  6],\n",
       "        [ 7,  8],\n",
       "        [ 9, 10]]),\n",
       " array([[11, 12]]))"
      ]
     },
     "execution_count": 9,
     "metadata": {},
     "output_type": "execute_result"
    },
    {
     "name": "stdout",
     "output_type": "stream",
     "text": [
      "TEST ............\n"
     ]
    },
    {
     "data": {
      "text/plain": [
       "(array([1, 2, 3, 4, 5]), array([6]))"
      ]
     },
     "execution_count": 9,
     "metadata": {},
     "output_type": "execute_result"
    }
   ],
   "source": [
    "tscv = TimeSeriesSplit(n_splits=5)\n",
    "print(tscv)\n",
    "\n",
    "for train_index, test_index in tscv.split(X):\n",
    "    print(\"TRAIN:\", train_index, \"TEST:\", test_index)\n",
    "    print(\"TRAIN ............\")\n",
    "    X_train, X_test = X[train_index], X[test_index]\n",
    "    #print('X_train.shape, X_test.shape: ', X_train.shape, X_test.shape)\n",
    "    X_train, X_test\n",
    "    \n",
    "    print(\"TEST ............\")\n",
    "    y_train, y_test = y[train_index], y[test_index]\n",
    "   #y_train.shape, y_test.shape\n",
    "    y_train, y_test"
   ]
  },
  {
   "cell_type": "markdown",
   "metadata": {},
   "source": [
    "### `n_splites=3`"
   ]
  },
  {
   "cell_type": "code",
   "execution_count": 10,
   "metadata": {},
   "outputs": [
    {
     "name": "stdout",
     "output_type": "stream",
     "text": [
      "TimeSeriesSplit(max_train_size=None, n_splits=3)\n",
      "TRAIN: [0 1 2] TEST: [3]\n",
      "TRAIN ............\n"
     ]
    },
    {
     "data": {
      "text/plain": [
       "(array([[1, 2],\n",
       "        [3, 4],\n",
       "        [5, 6]]),\n",
       " array([[7, 8]]))"
      ]
     },
     "execution_count": 10,
     "metadata": {},
     "output_type": "execute_result"
    },
    {
     "name": "stdout",
     "output_type": "stream",
     "text": [
      "TEST ............\n"
     ]
    },
    {
     "data": {
      "text/plain": [
       "(array([1, 2, 3]), array([4]))"
      ]
     },
     "execution_count": 10,
     "metadata": {},
     "output_type": "execute_result"
    },
    {
     "name": "stdout",
     "output_type": "stream",
     "text": [
      "TRAIN: [0 1 2 3] TEST: [4]\n",
      "TRAIN ............\n"
     ]
    },
    {
     "data": {
      "text/plain": [
       "(array([[1, 2],\n",
       "        [3, 4],\n",
       "        [5, 6],\n",
       "        [7, 8]]),\n",
       " array([[ 9, 10]]))"
      ]
     },
     "execution_count": 10,
     "metadata": {},
     "output_type": "execute_result"
    },
    {
     "name": "stdout",
     "output_type": "stream",
     "text": [
      "TEST ............\n"
     ]
    },
    {
     "data": {
      "text/plain": [
       "(array([1, 2, 3, 4]), array([5]))"
      ]
     },
     "execution_count": 10,
     "metadata": {},
     "output_type": "execute_result"
    },
    {
     "name": "stdout",
     "output_type": "stream",
     "text": [
      "TRAIN: [0 1 2 3 4] TEST: [5]\n",
      "TRAIN ............\n"
     ]
    },
    {
     "data": {
      "text/plain": [
       "(array([[ 1,  2],\n",
       "        [ 3,  4],\n",
       "        [ 5,  6],\n",
       "        [ 7,  8],\n",
       "        [ 9, 10]]),\n",
       " array([[11, 12]]))"
      ]
     },
     "execution_count": 10,
     "metadata": {},
     "output_type": "execute_result"
    },
    {
     "name": "stdout",
     "output_type": "stream",
     "text": [
      "TEST ............\n"
     ]
    },
    {
     "data": {
      "text/plain": [
       "(array([1, 2, 3, 4, 5]), array([6]))"
      ]
     },
     "execution_count": 10,
     "metadata": {},
     "output_type": "execute_result"
    }
   ],
   "source": [
    "tscv = TimeSeriesSplit(n_splits=3)\n",
    "print(tscv)\n",
    "\n",
    "for train_index, test_index in tscv.split(X):\n",
    "    print(\"TRAIN:\", train_index, \"TEST:\", test_index)\n",
    "    print(\"TRAIN ............\")\n",
    "    X_train, X_test = X[train_index], X[test_index]\n",
    "    #X_train.shape, X_test.shape\n",
    "    X_train, X_test\n",
    "    \n",
    "    print(\"TEST ............\")\n",
    "    y_train, y_test = y[train_index], y[test_index]\n",
    "    #y_train.shape, y_test.shape\n",
    "    y_train, y_test"
   ]
  },
  {
   "cell_type": "markdown",
   "metadata": {},
   "source": [
    "### Get the last element of generator"
   ]
  },
  {
   "cell_type": "code",
   "execution_count": 11,
   "metadata": {},
   "outputs": [
    {
     "name": "stdout",
     "output_type": "stream",
     "text": [
      "TRAIN: [0 1 2 3 4] TEST: [5]\n"
     ]
    }
   ],
   "source": [
    "X = np.array([[1, 2], [3, 4], [5, 6], [7, 8], [9, 10], [11, 12]])\n",
    "y = np.array([1, 2, 3, 4, 5, 6])\n",
    "\n",
    "tscv = TimeSeriesSplit(n_splits=5)\n",
    "\n",
    "for train_index, test_index in list(tscv.split(X))[-1:]: # Get the last element of generator\n",
    "    print(\"TRAIN:\", train_index, \"TEST:\", test_index)\n",
    "    X_train, X_test = X[train_index], X[test_index]\n",
    "    y_train, y_test = y[train_index], y[test_index]"
   ]
  },
  {
   "cell_type": "markdown",
   "metadata": {},
   "source": [
    "### Splitting 3D array"
   ]
  },
  {
   "cell_type": "code",
   "execution_count": 57,
   "metadata": {
    "scrolled": false
   },
   "outputs": [
    {
     "data": {
      "text/plain": [
       "(3, 2, 5)"
      ]
     },
     "execution_count": 57,
     "metadata": {},
     "output_type": "execute_result"
    },
    {
     "data": {
      "text/plain": [
       "array([[[3, 4, 1, 9, 5],\n",
       "        [8, 3, 8, 0, 5]],\n",
       "\n",
       "       [[1, 3, 9, 2, 2],\n",
       "        [6, 8, 9, 3, 4]],\n",
       "\n",
       "       [[5, 5, 7, 9, 2],\n",
       "        [6, 9, 5, 1, 6]]])"
      ]
     },
     "execution_count": 57,
     "metadata": {},
     "output_type": "execute_result"
    },
    {
     "name": "stdout",
     "output_type": "stream",
     "text": [
      "********** [SKU X LOC X DAY] **************\n"
     ]
    },
    {
     "data": {
      "text/plain": [
       "(2, 3, 5)"
      ]
     },
     "execution_count": 57,
     "metadata": {},
     "output_type": "execute_result"
    },
    {
     "data": {
      "text/plain": [
       "array([[[3, 4, 1, 9, 5],\n",
       "        [1, 3, 9, 2, 2],\n",
       "        [5, 5, 7, 9, 2]],\n",
       "\n",
       "       [[8, 3, 8, 0, 5],\n",
       "        [6, 8, 9, 3, 4],\n",
       "        [6, 9, 5, 1, 6]]])"
      ]
     },
     "execution_count": 57,
     "metadata": {},
     "output_type": "execute_result"
    },
    {
     "name": "stdout",
     "output_type": "stream",
     "text": [
      "***** [DAY x LOC] *******\n"
     ]
    },
    {
     "data": {
      "text/plain": [
       "(5, 3)"
      ]
     },
     "execution_count": 57,
     "metadata": {},
     "output_type": "execute_result"
    },
    {
     "data": {
      "text/plain": [
       "array([[3, 1, 5],\n",
       "       [4, 3, 5],\n",
       "       [1, 9, 7],\n",
       "       [9, 2, 9],\n",
       "       [5, 2, 2]])"
      ]
     },
     "execution_count": 57,
     "metadata": {},
     "output_type": "execute_result"
    },
    {
     "data": {
      "text/plain": [
       "4"
      ]
     },
     "execution_count": 57,
     "metadata": {},
     "output_type": "execute_result"
    },
    {
     "name": "stdout",
     "output_type": "stream",
     "text": [
      "TRAIN: [0] TEST: [1]\n"
     ]
    },
    {
     "data": {
      "text/plain": [
       "((3, 1), (3, 1))"
      ]
     },
     "execution_count": 57,
     "metadata": {},
     "output_type": "execute_result"
    },
    {
     "name": "stdout",
     "output_type": "stream",
     "text": [
      "X_train: \n",
      " [[3]\n",
      " [1]\n",
      " [5]]\n",
      "X_test: \n",
      " [[4]\n",
      " [3]\n",
      " [5]]\n",
      "TRAIN: [0 1] TEST: [2]\n"
     ]
    },
    {
     "data": {
      "text/plain": [
       "((3, 2), (3, 1))"
      ]
     },
     "execution_count": 57,
     "metadata": {},
     "output_type": "execute_result"
    },
    {
     "name": "stdout",
     "output_type": "stream",
     "text": [
      "X_train: \n",
      " [[3 4]\n",
      " [1 3]\n",
      " [5 5]]\n",
      "X_test: \n",
      " [[1]\n",
      " [9]\n",
      " [7]]\n",
      "TRAIN: [0 1 2] TEST: [3]\n"
     ]
    },
    {
     "data": {
      "text/plain": [
       "((3, 3), (3, 1))"
      ]
     },
     "execution_count": 57,
     "metadata": {},
     "output_type": "execute_result"
    },
    {
     "name": "stdout",
     "output_type": "stream",
     "text": [
      "X_train: \n",
      " [[3 4 1]\n",
      " [1 3 9]\n",
      " [5 5 7]]\n",
      "X_test: \n",
      " [[9]\n",
      " [2]\n",
      " [9]]\n",
      "TRAIN: [0 1 2 3] TEST: [4]\n"
     ]
    },
    {
     "data": {
      "text/plain": [
       "((3, 4), (3, 1))"
      ]
     },
     "execution_count": 57,
     "metadata": {},
     "output_type": "execute_result"
    },
    {
     "name": "stdout",
     "output_type": "stream",
     "text": [
      "X_train: \n",
      " [[3 4 1 9]\n",
      " [1 3 9 2]\n",
      " [5 5 7 9]]\n",
      "X_test: \n",
      " [[5]\n",
      " [2]\n",
      " [2]]\n",
      "***** [DAY x LOC] *******\n"
     ]
    },
    {
     "data": {
      "text/plain": [
       "(5, 3)"
      ]
     },
     "execution_count": 57,
     "metadata": {},
     "output_type": "execute_result"
    },
    {
     "data": {
      "text/plain": [
       "array([[8, 6, 6],\n",
       "       [3, 8, 9],\n",
       "       [8, 9, 5],\n",
       "       [0, 3, 1],\n",
       "       [5, 4, 6]])"
      ]
     },
     "execution_count": 57,
     "metadata": {},
     "output_type": "execute_result"
    },
    {
     "data": {
      "text/plain": [
       "4"
      ]
     },
     "execution_count": 57,
     "metadata": {},
     "output_type": "execute_result"
    },
    {
     "name": "stdout",
     "output_type": "stream",
     "text": [
      "TRAIN: [0] TEST: [1]\n"
     ]
    },
    {
     "data": {
      "text/plain": [
       "((3, 1), (3, 1))"
      ]
     },
     "execution_count": 57,
     "metadata": {},
     "output_type": "execute_result"
    },
    {
     "name": "stdout",
     "output_type": "stream",
     "text": [
      "X_train: \n",
      " [[8]\n",
      " [6]\n",
      " [6]]\n",
      "X_test: \n",
      " [[3]\n",
      " [8]\n",
      " [9]]\n",
      "TRAIN: [0 1] TEST: [2]\n"
     ]
    },
    {
     "data": {
      "text/plain": [
       "((3, 2), (3, 1))"
      ]
     },
     "execution_count": 57,
     "metadata": {},
     "output_type": "execute_result"
    },
    {
     "name": "stdout",
     "output_type": "stream",
     "text": [
      "X_train: \n",
      " [[8 3]\n",
      " [6 8]\n",
      " [6 9]]\n",
      "X_test: \n",
      " [[8]\n",
      " [9]\n",
      " [5]]\n",
      "TRAIN: [0 1 2] TEST: [3]\n"
     ]
    },
    {
     "data": {
      "text/plain": [
       "((3, 3), (3, 1))"
      ]
     },
     "execution_count": 57,
     "metadata": {},
     "output_type": "execute_result"
    },
    {
     "name": "stdout",
     "output_type": "stream",
     "text": [
      "X_train: \n",
      " [[8 3 8]\n",
      " [6 8 9]\n",
      " [6 9 5]]\n",
      "X_test: \n",
      " [[0]\n",
      " [3]\n",
      " [1]]\n",
      "TRAIN: [0 1 2 3] TEST: [4]\n"
     ]
    },
    {
     "data": {
      "text/plain": [
       "((3, 4), (3, 1))"
      ]
     },
     "execution_count": 57,
     "metadata": {},
     "output_type": "execute_result"
    },
    {
     "name": "stdout",
     "output_type": "stream",
     "text": [
      "X_train: \n",
      " [[8 3 8 0]\n",
      " [6 8 9 3]\n",
      " [6 9 5 1]]\n",
      "X_test: \n",
      " [[5]\n",
      " [4]\n",
      " [6]]\n"
     ]
    }
   ],
   "source": [
    "# 3D array \n",
    "SKU=2\n",
    "LOC=3\n",
    "DAY=5\n",
    "\n",
    "np.random.seed(8)\n",
    "X_3D = np.random.randint(10, size=(LOC, SKU, DAY)); X_3D.shape; X_3D\n",
    "\n",
    "# Get the shape of 3D array\n",
    "d_loc,d_sku,d_day = X_3D.shape\n",
    "\n",
    "# transpose from [LOC x SKU x DAY] to [SKU x LOC x DAY]\n",
    "print('********** [SKU X LOC X DAY] **************')\n",
    "X_3DT = np.transpose(X_3D, (1,0,2)) ; X_3DT.shape; X_3DT\n",
    "    \n",
    "# for each SKU\n",
    "for s in range(d_sku):\n",
    "    # extract the LOC x DAY, transpose into [DAY x LOC]\n",
    "    print('***** [DAY x LOC] *******')\n",
    "    X_2D = X_3DT[s,:,:].T; X_2D.shape; X_2D # [DAY x LOC]\n",
    "    \n",
    "    # Create a TimeSeriesSplit\n",
    "    n_splits = d_day-1; n_splits\n",
    "    tscv = TimeSeriesSplit(n_splits=n_splits)\n",
    "\n",
    "    # for each split\n",
    "    for train_index, test_index in tscv.split(X_2D): # [DAY x LOC]\n",
    "        print(\"TRAIN:\", train_index, \"TEST:\", test_index)\n",
    "        X_train, X_test = X_2D[train_index].T, X_2D[test_index].T # do the split, and transpose back to LOC x DAY\n",
    "        X_train.shape, X_test.shape\n",
    "        print('X_train: \\n', X_train)\n",
    "        print('X_test: \\n', X_test)"
   ]
  },
  {
   "cell_type": "code",
   "execution_count": 57,
   "metadata": {
    "scrolled": false
   },
   "outputs": [
    {
     "data": {
      "text/plain": [
       "(3, 2, 5)"
      ]
     },
     "execution_count": 57,
     "metadata": {},
     "output_type": "execute_result"
    },
    {
     "data": {
      "text/plain": [
       "array([[[3, 4, 1, 9, 5],\n",
       "        [8, 3, 8, 0, 5]],\n",
       "\n",
       "       [[1, 3, 9, 2, 2],\n",
       "        [6, 8, 9, 3, 4]],\n",
       "\n",
       "       [[5, 5, 7, 9, 2],\n",
       "        [6, 9, 5, 1, 6]]])"
      ]
     },
     "execution_count": 57,
     "metadata": {},
     "output_type": "execute_result"
    },
    {
     "name": "stdout",
     "output_type": "stream",
     "text": [
      "********** [SKU X LOC X DAY] **************\n"
     ]
    },
    {
     "data": {
      "text/plain": [
       "(2, 3, 5)"
      ]
     },
     "execution_count": 57,
     "metadata": {},
     "output_type": "execute_result"
    },
    {
     "data": {
      "text/plain": [
       "array([[[3, 4, 1, 9, 5],\n",
       "        [1, 3, 9, 2, 2],\n",
       "        [5, 5, 7, 9, 2]],\n",
       "\n",
       "       [[8, 3, 8, 0, 5],\n",
       "        [6, 8, 9, 3, 4],\n",
       "        [6, 9, 5, 1, 6]]])"
      ]
     },
     "execution_count": 57,
     "metadata": {},
     "output_type": "execute_result"
    },
    {
     "name": "stdout",
     "output_type": "stream",
     "text": [
      "***** [DAY x LOC] *******\n"
     ]
    },
    {
     "data": {
      "text/plain": [
       "(5, 3)"
      ]
     },
     "execution_count": 57,
     "metadata": {},
     "output_type": "execute_result"
    },
    {
     "data": {
      "text/plain": [
       "array([[3, 1, 5],\n",
       "       [4, 3, 5],\n",
       "       [1, 9, 7],\n",
       "       [9, 2, 9],\n",
       "       [5, 2, 2]])"
      ]
     },
     "execution_count": 57,
     "metadata": {},
     "output_type": "execute_result"
    },
    {
     "data": {
      "text/plain": [
       "4"
      ]
     },
     "execution_count": 57,
     "metadata": {},
     "output_type": "execute_result"
    },
    {
     "name": "stdout",
     "output_type": "stream",
     "text": [
      "TRAIN: [0] TEST: [1]\n"
     ]
    },
    {
     "data": {
      "text/plain": [
       "((3, 1), (3, 1))"
      ]
     },
     "execution_count": 57,
     "metadata": {},
     "output_type": "execute_result"
    },
    {
     "name": "stdout",
     "output_type": "stream",
     "text": [
      "X_train: \n",
      " [[3]\n",
      " [1]\n",
      " [5]]\n",
      "X_test: \n",
      " [[4]\n",
      " [3]\n",
      " [5]]\n",
      "TRAIN: [0 1] TEST: [2]\n"
     ]
    },
    {
     "data": {
      "text/plain": [
       "((3, 2), (3, 1))"
      ]
     },
     "execution_count": 57,
     "metadata": {},
     "output_type": "execute_result"
    },
    {
     "name": "stdout",
     "output_type": "stream",
     "text": [
      "X_train: \n",
      " [[3 4]\n",
      " [1 3]\n",
      " [5 5]]\n",
      "X_test: \n",
      " [[1]\n",
      " [9]\n",
      " [7]]\n",
      "TRAIN: [0 1 2] TEST: [3]\n"
     ]
    },
    {
     "data": {
      "text/plain": [
       "((3, 3), (3, 1))"
      ]
     },
     "execution_count": 57,
     "metadata": {},
     "output_type": "execute_result"
    },
    {
     "name": "stdout",
     "output_type": "stream",
     "text": [
      "X_train: \n",
      " [[3 4 1]\n",
      " [1 3 9]\n",
      " [5 5 7]]\n",
      "X_test: \n",
      " [[9]\n",
      " [2]\n",
      " [9]]\n",
      "TRAIN: [0 1 2 3] TEST: [4]\n"
     ]
    },
    {
     "data": {
      "text/plain": [
       "((3, 4), (3, 1))"
      ]
     },
     "execution_count": 57,
     "metadata": {},
     "output_type": "execute_result"
    },
    {
     "name": "stdout",
     "output_type": "stream",
     "text": [
      "X_train: \n",
      " [[3 4 1 9]\n",
      " [1 3 9 2]\n",
      " [5 5 7 9]]\n",
      "X_test: \n",
      " [[5]\n",
      " [2]\n",
      " [2]]\n",
      "***** [DAY x LOC] *******\n"
     ]
    },
    {
     "data": {
      "text/plain": [
       "(5, 3)"
      ]
     },
     "execution_count": 57,
     "metadata": {},
     "output_type": "execute_result"
    },
    {
     "data": {
      "text/plain": [
       "array([[8, 6, 6],\n",
       "       [3, 8, 9],\n",
       "       [8, 9, 5],\n",
       "       [0, 3, 1],\n",
       "       [5, 4, 6]])"
      ]
     },
     "execution_count": 57,
     "metadata": {},
     "output_type": "execute_result"
    },
    {
     "data": {
      "text/plain": [
       "4"
      ]
     },
     "execution_count": 57,
     "metadata": {},
     "output_type": "execute_result"
    },
    {
     "name": "stdout",
     "output_type": "stream",
     "text": [
      "TRAIN: [0] TEST: [1]\n"
     ]
    },
    {
     "data": {
      "text/plain": [
       "((3, 1), (3, 1))"
      ]
     },
     "execution_count": 57,
     "metadata": {},
     "output_type": "execute_result"
    },
    {
     "name": "stdout",
     "output_type": "stream",
     "text": [
      "X_train: \n",
      " [[8]\n",
      " [6]\n",
      " [6]]\n",
      "X_test: \n",
      " [[3]\n",
      " [8]\n",
      " [9]]\n",
      "TRAIN: [0 1] TEST: [2]\n"
     ]
    },
    {
     "data": {
      "text/plain": [
       "((3, 2), (3, 1))"
      ]
     },
     "execution_count": 57,
     "metadata": {},
     "output_type": "execute_result"
    },
    {
     "name": "stdout",
     "output_type": "stream",
     "text": [
      "X_train: \n",
      " [[8 3]\n",
      " [6 8]\n",
      " [6 9]]\n",
      "X_test: \n",
      " [[8]\n",
      " [9]\n",
      " [5]]\n",
      "TRAIN: [0 1 2] TEST: [3]\n"
     ]
    },
    {
     "data": {
      "text/plain": [
       "((3, 3), (3, 1))"
      ]
     },
     "execution_count": 57,
     "metadata": {},
     "output_type": "execute_result"
    },
    {
     "name": "stdout",
     "output_type": "stream",
     "text": [
      "X_train: \n",
      " [[8 3 8]\n",
      " [6 8 9]\n",
      " [6 9 5]]\n",
      "X_test: \n",
      " [[0]\n",
      " [3]\n",
      " [1]]\n",
      "TRAIN: [0 1 2 3] TEST: [4]\n"
     ]
    },
    {
     "data": {
      "text/plain": [
       "((3, 4), (3, 1))"
      ]
     },
     "execution_count": 57,
     "metadata": {},
     "output_type": "execute_result"
    },
    {
     "name": "stdout",
     "output_type": "stream",
     "text": [
      "X_train: \n",
      " [[8 3 8 0]\n",
      " [6 8 9 3]\n",
      " [6 9 5 1]]\n",
      "X_test: \n",
      " [[5]\n",
      " [4]\n",
      " [6]]\n"
     ]
    }
   ],
   "source": [
    "# 3D array \n",
    "SKU=2\n",
    "LOC=3\n",
    "DAY=5\n",
    "\n",
    "np.random.seed(8)\n",
    "X_3D = np.random.randint(10, size=(LOC, SKU, DAY)); X_3D.shape; X_3D\n",
    "\n",
    "\n",
    "\n",
    "# Get the shape of 3D array\n",
    "d_loc,d_sku,d_day = X_3D.shape\n",
    "\n",
    "# transpose from [LOC x SKU x DAY] to [SKU x LOC x DAY]\n",
    "print('********** [SKU X LOC X DAY] **************')\n",
    "X_3DT = np.transpose(X_3D, (1,0,2)) ; X_3DT.shape; X_3DT\n",
    "    \n",
    "# for each SKU\n",
    "for s in range(d_sku):\n",
    "    # extract the LOC x DAY, transpose into [DAY x LOC]\n",
    "    print('***** [DAY x LOC] *******')\n",
    "    X_2D = X_3DT[s,:,:].T; X_2D.shape; X_2D # [DAY x LOC]\n",
    "    \n",
    "    # Create a TimeSeriesSplit\n",
    "    n_splits = d_day-1; n_splits\n",
    "    tscv = TimeSeriesSplit(n_splits=n_splits)\n",
    "\n",
    "    # for each split\n",
    "    for train_index, test_index in tscv.split(X_2D): # [DAY x LOC]\n",
    "        print(\"TRAIN:\", train_index, \"TEST:\", test_index)\n",
    "        X_train, X_test = X_2D[train_index].T, X_2D[test_index].T # do the split, and transpose back to LOC x DAY\n",
    "        X_train.shape, X_test.shape\n",
    "        print('X_train: \\n', X_train)\n",
    "        print('X_test: \\n', X_test)"
   ]
  },
  {
   "cell_type": "code",
   "execution_count": 59,
   "metadata": {},
   "outputs": [
    {
     "data": {
      "text/plain": [
       "[[[3, 4, 1, 9, 5], [8, 3, 8, 0, 5]],\n",
       " [[1, 3, 9, 2, 2], [6, 8, 9, 3, 4]],\n",
       " [[5, 5, 7, 9, 2], [6, 9, 5, 1, 6]]]"
      ]
     },
     "execution_count": 59,
     "metadata": {},
     "output_type": "execute_result"
    }
   ],
   "source": [
    "X_3D = [[[3, 4, 1, 9, 5],\n",
    "        [8, 3, 8, 0, 5]],\n",
    "\n",
    "       [[1, 3, 9, 2, 2],\n",
    "        [6, 8, 9, 3, 4]],\n",
    "\n",
    "       [[5, 5, 7, 9, 2],\n",
    "        [6, 9, 5, 1, 6]]]\n",
    "\n",
    "X_3D"
   ]
  },
  {
   "cell_type": "markdown",
   "metadata": {},
   "source": [
    "### Make into a function\n",
    "- input: 3D array `X_3D`, `n_splits`\n",
    "- return `dict` of `dict`"
   ]
  },
  {
   "cell_type": "code",
   "execution_count": 270,
   "metadata": {},
   "outputs": [],
   "source": [
    "def timeseriessplit_3d(X_3D, n_splits):\n",
    "    \n",
    "    train_test_splits = {} # dict of dicts \n",
    "    \n",
    "    # Get the shape of 3D array\n",
    "    d1,d2,d3 = X_3D.shape\n",
    "\n",
    "    # for each d1\n",
    "    for d in range(d1):\n",
    "        # extract the LOC x DAY \n",
    "        X_2D = X_3D[d,:,:]; X_2D\n",
    "\n",
    "        # key for first level dictionary\n",
    "        key_1 = str(d) # first dimention (e.g. sku)\n",
    "        train_test_splits[key_1] = {}\n",
    "        \n",
    "        # Create a TimeSeriesSplit\n",
    "        tscv = TimeSeriesSplit(n_splits=n_splits)\n",
    "\n",
    "        # for each split\n",
    "        for i, [train_index, test_index] in enumerate(tscv.split(X_2D.T)): # transpose from DAY x LOC\n",
    "            print(\"TRAIN:\", train_index, \"TEST:\", test_index)\n",
    "            X_train, X_test = X_2D.T[train_index].T, X_2D.T[test_index].T # do the split, and transpose back to LOC x DAY\n",
    "            #X_train.shape, X_test.shape\n",
    "            #print('X_train: \\n', X_train)\n",
    "            #print('X_test: \\n', X_test)\n",
    "            \n",
    "            # key for 2nd level dictionary\n",
    "            key_2 = str(i)  # split_n\n",
    "\n",
    "            # add to dict of dicts\n",
    "            train_test_splits[key_1][key_2] = {'X_train': X_train, 'X_test': X_test}\n",
    "         \n",
    "    return(train_test_splits)"
   ]
  },
  {
   "cell_type": "code",
   "execution_count": 277,
   "metadata": {},
   "outputs": [
    {
     "data": {
      "text/plain": [
       "(2, 3, 5)"
      ]
     },
     "execution_count": 277,
     "metadata": {},
     "output_type": "execute_result"
    },
    {
     "data": {
      "text/plain": [
       "array([[[3, 4, 1, 9, 5],\n",
       "        [8, 3, 8, 0, 5],\n",
       "        [1, 3, 9, 2, 2]],\n",
       "\n",
       "       [[6, 8, 9, 3, 4],\n",
       "        [5, 5, 7, 9, 2],\n",
       "        [6, 9, 5, 1, 6]]])"
      ]
     },
     "execution_count": 277,
     "metadata": {},
     "output_type": "execute_result"
    },
    {
     "data": {
      "text/plain": [
       "4"
      ]
     },
     "execution_count": 277,
     "metadata": {},
     "output_type": "execute_result"
    },
    {
     "name": "stdout",
     "output_type": "stream",
     "text": [
      "TRAIN: [0] TEST: [1]\n",
      "TRAIN: [0 1] TEST: [2]\n",
      "TRAIN: [0 1 2] TEST: [3]\n",
      "TRAIN: [0 1 2 3] TEST: [4]\n",
      "TRAIN: [0] TEST: [1]\n",
      "TRAIN: [0 1] TEST: [2]\n",
      "TRAIN: [0 1 2] TEST: [3]\n",
      "TRAIN: [0 1 2 3] TEST: [4]\n"
     ]
    }
   ],
   "source": [
    "# 3D array \n",
    "SKU=2\n",
    "LOC=3\n",
    "DAY=5\n",
    "\n",
    "np.random.seed(8)\n",
    "X_3D = np.random.randint(10, size=(SKU, LOC, DAY)); X_3D.shape; X_3D\n",
    "\n",
    "n_splits = X_3D.shape[-1]-1; n_splits\n",
    "#train_test_splits_list_of_dict = timeseriessplit_3d(X_3D, n_splits=X_3D.shape[-1])\n",
    "train_test_splits_dict_of_dicts = timeseriessplit_3d(X_3D, n_splits=n_splits)"
   ]
  },
  {
   "cell_type": "code",
   "execution_count": 278,
   "metadata": {},
   "outputs": [
    {
     "data": {
      "text/plain": [
       "{'0': {'0': {'X_train': array([[3],\n",
       "          [8],\n",
       "          [1]]),\n",
       "   'X_test': array([[4],\n",
       "          [3],\n",
       "          [3]])},\n",
       "  '1': {'X_train': array([[3, 4],\n",
       "          [8, 3],\n",
       "          [1, 3]]),\n",
       "   'X_test': array([[1],\n",
       "          [8],\n",
       "          [9]])},\n",
       "  '2': {'X_train': array([[3, 4, 1],\n",
       "          [8, 3, 8],\n",
       "          [1, 3, 9]]),\n",
       "   'X_test': array([[9],\n",
       "          [0],\n",
       "          [2]])},\n",
       "  '3': {'X_train': array([[3, 4, 1, 9],\n",
       "          [8, 3, 8, 0],\n",
       "          [1, 3, 9, 2]]),\n",
       "   'X_test': array([[5],\n",
       "          [5],\n",
       "          [2]])}},\n",
       " '1': {'0': {'X_train': array([[6],\n",
       "          [5],\n",
       "          [6]]),\n",
       "   'X_test': array([[8],\n",
       "          [5],\n",
       "          [9]])},\n",
       "  '1': {'X_train': array([[6, 8],\n",
       "          [5, 5],\n",
       "          [6, 9]]),\n",
       "   'X_test': array([[9],\n",
       "          [7],\n",
       "          [5]])},\n",
       "  '2': {'X_train': array([[6, 8, 9],\n",
       "          [5, 5, 7],\n",
       "          [6, 9, 5]]),\n",
       "   'X_test': array([[3],\n",
       "          [9],\n",
       "          [1]])},\n",
       "  '3': {'X_train': array([[6, 8, 9, 3],\n",
       "          [5, 5, 7, 9],\n",
       "          [6, 9, 5, 1]]),\n",
       "   'X_test': array([[4],\n",
       "          [2],\n",
       "          [6]])}}}"
      ]
     },
     "execution_count": 278,
     "metadata": {},
     "output_type": "execute_result"
    }
   ],
   "source": [
    "train_test_splits_dict_of_dicts"
   ]
  },
  {
   "cell_type": "code",
   "execution_count": 279,
   "metadata": {
    "scrolled": true
   },
   "outputs": [
    {
     "data": {
      "text/plain": [
       "array([[3, 4, 1, 9],\n",
       "       [8, 3, 8, 0],\n",
       "       [1, 3, 9, 2]])"
      ]
     },
     "execution_count": 279,
     "metadata": {},
     "output_type": "execute_result"
    },
    {
     "data": {
      "text/plain": [
       "array([[5],\n",
       "       [5],\n",
       "       [2]])"
      ]
     },
     "execution_count": 279,
     "metadata": {},
     "output_type": "execute_result"
    }
   ],
   "source": [
    "train_test_splits_dict_of_dicts['0']['3']['X_train']  # sku, split, X_train\n",
    "train_test_splits_dict_of_dicts['0']['3']['X_test']  # sku, split, X_test"
   ]
  },
  {
   "cell_type": "code",
   "execution_count": 30,
   "metadata": {},
   "outputs": [
    {
     "data": {
      "text/plain": [
       "(2, 3, 5)"
      ]
     },
     "execution_count": 30,
     "metadata": {},
     "output_type": "execute_result"
    },
    {
     "data": {
      "text/plain": [
       "array([[[7, 2, 8, 6, 5],\n",
       "        [2, 3, 3, 8, 7],\n",
       "        [9, 7, 3, 8, 0]],\n",
       "\n",
       "       [[7, 3, 0, 9, 0],\n",
       "        [1, 2, 6, 7, 3],\n",
       "        [8, 2, 9, 6, 5]]])"
      ]
     },
     "execution_count": 30,
     "metadata": {},
     "output_type": "execute_result"
    },
    {
     "data": {
      "text/plain": [
       "(3, 2, 5)"
      ]
     },
     "execution_count": 30,
     "metadata": {},
     "output_type": "execute_result"
    },
    {
     "data": {
      "text/plain": [
       "array([[[7, 2, 8, 6, 5],\n",
       "        [7, 3, 0, 9, 0]],\n",
       "\n",
       "       [[2, 3, 3, 8, 7],\n",
       "        [1, 2, 6, 7, 3]],\n",
       "\n",
       "       [[9, 7, 3, 8, 0],\n",
       "        [8, 2, 9, 6, 5]]])"
      ]
     },
     "execution_count": 30,
     "metadata": {},
     "output_type": "execute_result"
    }
   ],
   "source": [
    "x = np.random.randint(10, size=(2,3,5)); x.shape; x\n",
    "\n",
    "xT = np.transpose(x, (1,0,2)); xT.shape; xT"
   ]
  },
  {
   "cell_type": "code",
   "execution_count": null,
   "metadata": {},
   "outputs": [],
   "source": []
  }
 ],
 "metadata": {
  "kernelspec": {
   "display_name": "inventory-src-py37",
   "language": "python",
   "name": "conda-env-inventory-src-py37-py"
  },
  "language_info": {
   "codemirror_mode": {
    "name": "ipython",
    "version": 3
   },
   "file_extension": ".py",
   "mimetype": "text/x-python",
   "name": "python",
   "nbconvert_exporter": "python",
   "pygments_lexer": "ipython3",
   "version": "3.7.0"
  }
 },
 "nbformat": 4,
 "nbformat_minor": 4
}
