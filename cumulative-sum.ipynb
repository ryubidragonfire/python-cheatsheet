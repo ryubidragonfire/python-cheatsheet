{
 "cells": [
  {
   "cell_type": "code",
   "execution_count": 6,
   "metadata": {
    "collapsed": true
   },
   "outputs": [],
   "source": [
    "from IPython.core.interactiveshell import InteractiveShell\n",
    "InteractiveShell.ast_node_interactivity = \"all\""
   ]
  },
  {
   "cell_type": "code",
   "execution_count": 7,
   "metadata": {
    "scrolled": true
   },
   "outputs": [
    {
     "name": "stdout",
     "output_type": "stream",
     "text": [
      "count : 8\n",
      "count : 13\n",
      "count : 14\n",
      "count : 17\n",
      "count : 21\n",
      "count : 22\n",
      "count : 23\n",
      "count : 24\n",
      "count : 24\n",
      "count : 26\n"
     ]
    },
    {
     "data": {
      "text/plain": [
       "[8, 5, 1, 3, 4, 1, 1, 1, 0, 2]"
      ]
     },
     "execution_count": 7,
     "metadata": {},
     "output_type": "execute_result"
    },
    {
     "data": {
      "text/plain": [
       "array([ 8, 13, 14, 17, 21, 22, 23, 24, 24, 26])"
      ]
     },
     "execution_count": 7,
     "metadata": {},
     "output_type": "execute_result"
    },
    {
     "data": {
      "text/plain": [
       "array([ 0.30769231,  0.5       ,  0.53846154,  0.65384615,  0.80769231,\n",
       "        0.84615385,  0.88461538,  0.92307692,  0.92307692,  1.        ])"
      ]
     },
     "execution_count": 7,
     "metadata": {},
     "output_type": "execute_result"
    }
   ],
   "source": [
    "correct_matched_position = [3, 9, 0, 4, 1, 0, 2, 5, 3, 6, 0, 4, 7, 0, 0, 1, 3, 0, 1, 0, 1, 4, 4, 0, 9, 1]\n",
    "\n",
    "count = 0\n",
    "for topn in range(0,10):\n",
    "    #print('topn :', topn)\n",
    "    for item in correct_matched_position:\n",
    "        if item == topn:\n",
    "            #item\n",
    "            count = count + 1 \n",
    "    print('count :', count)\n",
    "\n",
    "###### Same as above\n",
    "import numpy as np\n",
    "sum_of_correct_matched_position = []\n",
    "\n",
    "for topn in range(0,10):\n",
    "    sum_of_correct_matched_position.append(sum(1 for item in correct_matched_position if item==topn))\n",
    "\n",
    "sum_of_correct_matched_position\n",
    "np.cumsum(sum_of_correct_matched_position)\n",
    "np.cumsum(sum_of_correct_matched_position)/float(len(correct_matched_position))\n",
    "    "
   ]
  },
  {
   "cell_type": "code",
   "execution_count": null,
   "metadata": {
    "collapsed": true
   },
   "outputs": [],
   "source": []
  }
 ],
 "metadata": {
  "kernelspec": {
   "display_name": "Python 3",
   "language": "python",
   "name": "python3"
  },
  "language_info": {
   "codemirror_mode": {
    "name": "ipython",
    "version": 3
   },
   "file_extension": ".py",
   "mimetype": "text/x-python",
   "name": "python",
   "nbconvert_exporter": "python",
   "pygments_lexer": "ipython3",
   "version": "3.5.2"
  }
 },
 "nbformat": 4,
 "nbformat_minor": 2
}
