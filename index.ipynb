{
 "cells": [
  {
   "cell_type": "code",
   "execution_count": 65,
   "metadata": {},
   "outputs": [],
   "source": [
    "from IPython.core.interactiveshell import InteractiveShell\n",
    "InteractiveShell.ast_node_interactivity = \"all\""
   ]
  },
  {
   "cell_type": "code",
   "execution_count": 1,
   "metadata": {},
   "outputs": [],
   "source": [
    "l = ['a', 'b', 'c']"
   ]
  },
  {
   "cell_type": "code",
   "execution_count": 2,
   "metadata": {},
   "outputs": [
    {
     "data": {
      "text/plain": [
       "0"
      ]
     },
     "execution_count": 2,
     "metadata": {},
     "output_type": "execute_result"
    }
   ],
   "source": [
    "l.index('a')"
   ]
  },
  {
   "cell_type": "code",
   "execution_count": 7,
   "metadata": {},
   "outputs": [
    {
     "data": {
      "text/plain": [
       "array([[0, 1, 2, 3]])"
      ]
     },
     "execution_count": 7,
     "metadata": {},
     "output_type": "execute_result"
    }
   ],
   "source": [
    "import numpy as np\n",
    "\n",
    "a = np.arange(4).reshape(1, 4)\n",
    "a"
   ]
  },
  {
   "cell_type": "code",
   "execution_count": 9,
   "metadata": {},
   "outputs": [
    {
     "data": {
      "text/plain": [
       "array([0, 1, 2, 3])"
      ]
     },
     "execution_count": 9,
     "metadata": {},
     "output_type": "execute_result"
    }
   ],
   "source": [
    "a[0]"
   ]
  },
  {
   "cell_type": "code",
   "execution_count": 10,
   "metadata": {},
   "outputs": [
    {
     "data": {
      "text/plain": [
       "2"
      ]
     },
     "execution_count": 10,
     "metadata": {},
     "output_type": "execute_result"
    }
   ],
   "source": [
    "a[0][2]"
   ]
  },
  {
   "cell_type": "code",
   "execution_count": 25,
   "metadata": {},
   "outputs": [
    {
     "data": {
      "text/html": [
       "<div>\n",
       "<style scoped>\n",
       "    .dataframe tbody tr th:only-of-type {\n",
       "        vertical-align: middle;\n",
       "    }\n",
       "\n",
       "    .dataframe tbody tr th {\n",
       "        vertical-align: top;\n",
       "    }\n",
       "\n",
       "    .dataframe thead th {\n",
       "        text-align: right;\n",
       "    }\n",
       "</style>\n",
       "<table border=\"1\" class=\"dataframe\">\n",
       "  <thead>\n",
       "    <tr style=\"text-align: right;\">\n",
       "      <th></th>\n",
       "      <th>fname</th>\n",
       "      <th>cat</th>\n",
       "    </tr>\n",
       "  </thead>\n",
       "  <tbody>\n",
       "  </tbody>\n",
       "</table>\n",
       "</div>"
      ],
      "text/plain": [
       "Empty DataFrame\n",
       "Columns: [fname, cat]\n",
       "Index: []"
      ]
     },
     "execution_count": 25,
     "metadata": {},
     "output_type": "execute_result"
    }
   ],
   "source": [
    "import pandas as pd\n",
    "\n",
    "df_gt = pd.DataFrame(columns=['fname', 'cat'])\n",
    "df_gt"
   ]
  },
  {
   "cell_type": "code",
   "execution_count": 85,
   "metadata": {},
   "outputs": [
    {
     "data": {
      "text/plain": [
       "102"
      ]
     },
     "execution_count": 85,
     "metadata": {},
     "output_type": "execute_result"
    },
    {
     "data": {
      "text/html": [
       "<div>\n",
       "<style scoped>\n",
       "    .dataframe tbody tr th:only-of-type {\n",
       "        vertical-align: middle;\n",
       "    }\n",
       "\n",
       "    .dataframe tbody tr th {\n",
       "        vertical-align: top;\n",
       "    }\n",
       "\n",
       "    .dataframe thead th {\n",
       "        text-align: right;\n",
       "    }\n",
       "</style>\n",
       "<table border=\"1\" class=\"dataframe\">\n",
       "  <thead>\n",
       "    <tr style=\"text-align: right;\">\n",
       "      <th></th>\n",
       "      <th>cat</th>\n",
       "      <th>fname</th>\n",
       "    </tr>\n",
       "  </thead>\n",
       "  <tbody>\n",
       "    <tr>\n",
       "      <th>0</th>\n",
       "      <td>A</td>\n",
       "      <td>E000306NE04B.jpg</td>\n",
       "    </tr>\n",
       "    <tr>\n",
       "      <th>1</th>\n",
       "      <td>A</td>\n",
       "      <td>E000463NE04B.jpg</td>\n",
       "    </tr>\n",
       "    <tr>\n",
       "      <th>2</th>\n",
       "      <td>A</td>\n",
       "      <td>E000757NE04B.jpg</td>\n",
       "    </tr>\n",
       "    <tr>\n",
       "      <th>3</th>\n",
       "      <td>A</td>\n",
       "      <td>E000861NE02B.jpg</td>\n",
       "    </tr>\n",
       "    <tr>\n",
       "      <th>4</th>\n",
       "      <td>A</td>\n",
       "      <td>E001230NE04B.jpg</td>\n",
       "    </tr>\n",
       "  </tbody>\n",
       "</table>\n",
       "</div>"
      ],
      "text/plain": [
       "  cat             fname\n",
       "0   A  E000306NE04B.jpg\n",
       "1   A  E000463NE04B.jpg\n",
       "2   A  E000757NE04B.jpg\n",
       "3   A  E000861NE02B.jpg\n",
       "4   A  E001230NE04B.jpg"
      ]
     },
     "execution_count": 85,
     "metadata": {},
     "output_type": "execute_result"
    },
    {
     "data": {
      "text/html": [
       "<div>\n",
       "<style scoped>\n",
       "    .dataframe tbody tr th:only-of-type {\n",
       "        vertical-align: middle;\n",
       "    }\n",
       "\n",
       "    .dataframe tbody tr th {\n",
       "        vertical-align: top;\n",
       "    }\n",
       "\n",
       "    .dataframe thead th {\n",
       "        text-align: right;\n",
       "    }\n",
       "</style>\n",
       "<table border=\"1\" class=\"dataframe\">\n",
       "  <thead>\n",
       "    <tr style=\"text-align: right;\">\n",
       "      <th></th>\n",
       "      <th>cat</th>\n",
       "      <th>fname</th>\n",
       "    </tr>\n",
       "  </thead>\n",
       "  <tbody>\n",
       "    <tr>\n",
       "      <th>97</th>\n",
       "      <td>None</td>\n",
       "      <td>E000744NE02B.jpg</td>\n",
       "    </tr>\n",
       "    <tr>\n",
       "      <th>98</th>\n",
       "      <td>None</td>\n",
       "      <td>E000002NE03B.jpg</td>\n",
       "    </tr>\n",
       "    <tr>\n",
       "      <th>99</th>\n",
       "      <td>None</td>\n",
       "      <td>E000142NE06B.jpg</td>\n",
       "    </tr>\n",
       "    <tr>\n",
       "      <th>100</th>\n",
       "      <td>None</td>\n",
       "      <td>TC003505NE02B.jpg</td>\n",
       "    </tr>\n",
       "    <tr>\n",
       "      <th>101</th>\n",
       "      <td>None</td>\n",
       "      <td>E001862NE04B.jpg</td>\n",
       "    </tr>\n",
       "  </tbody>\n",
       "</table>\n",
       "</div>"
      ],
      "text/plain": [
       "      cat              fname\n",
       "97   None   E000744NE02B.jpg\n",
       "98   None   E000002NE03B.jpg\n",
       "99   None   E000142NE06B.jpg\n",
       "100  None  TC003505NE02B.jpg\n",
       "101  None   E001862NE04B.jpg"
      ]
     },
     "execution_count": 85,
     "metadata": {},
     "output_type": "execute_result"
    }
   ],
   "source": [
    "df_gt = pd.DataFrame({'fname':A, 'cat':['A']*len(A)})\n",
    "df_gt = df_gt.append(pd.DataFrame({'fname':B, 'cat':['B']*len(B)}))\n",
    "df_gt = df_gt.append(pd.DataFrame({'fname':C, 'cat':['C']*len(C)}))\n",
    "df_gt = df_gt.append(pd.DataFrame({'fname':D, 'cat':['D']*len(D)}))\n",
    "df_gt = df_gt.append(pd.DataFrame({'fname':E, 'cat':['E']*len(E)}))\n",
    "df_gt = df_gt.append(pd.DataFrame({'fname':F, 'cat':['F']*len(F)}))\n",
    "df_gt = df_gt.append(pd.DataFrame({'fname':G, 'cat':['G']*len(G)}))\n",
    "df_gt = df_gt.append(pd.DataFrame({'fname':L, 'cat':['L']*len(L)}))\n",
    "df_gt = df_gt.append(pd.DataFrame({'fname':K, 'cat':['K']*len(K)}))\n",
    "df_gt = df_gt.append(pd.DataFrame({'fname':M, 'cat':['M']*len(M)}))\n",
    "df_gt = df_gt.append(pd.DataFrame({'fname':S, 'cat':['S']*len(S)}))\n",
    "df_gt = df_gt.append(pd.DataFrame({'fname':none, 'cat':[None]*len(none)}))\n",
    "df_gt = df_gt.reset_index(drop=True)\n",
    "len(df_gt)\n",
    "df_gt.head()\n",
    "df_gt.tail()\n"
   ]
  },
  {
   "cell_type": "code",
   "execution_count": 86,
   "metadata": {},
   "outputs": [
    {
     "data": {
      "text/html": [
       "<div>\n",
       "<style scoped>\n",
       "    .dataframe tbody tr th:only-of-type {\n",
       "        vertical-align: middle;\n",
       "    }\n",
       "\n",
       "    .dataframe tbody tr th {\n",
       "        vertical-align: top;\n",
       "    }\n",
       "\n",
       "    .dataframe thead th {\n",
       "        text-align: right;\n",
       "    }\n",
       "</style>\n",
       "<table border=\"1\" class=\"dataframe\">\n",
       "  <thead>\n",
       "    <tr style=\"text-align: right;\">\n",
       "      <th></th>\n",
       "      <th>cat</th>\n",
       "      <th>fname</th>\n",
       "    </tr>\n",
       "  </thead>\n",
       "  <tbody>\n",
       "    <tr>\n",
       "      <th>70</th>\n",
       "      <td>None</td>\n",
       "      <td>C000195NE05B.jpg</td>\n",
       "    </tr>\n",
       "    <tr>\n",
       "      <th>54</th>\n",
       "      <td>None</td>\n",
       "      <td>C000387NE05B.jpg</td>\n",
       "    </tr>\n",
       "    <tr>\n",
       "      <th>61</th>\n",
       "      <td>None</td>\n",
       "      <td>C000391NE03B.jpg</td>\n",
       "    </tr>\n",
       "    <tr>\n",
       "      <th>51</th>\n",
       "      <td>None</td>\n",
       "      <td>C000424NE07B.jpg</td>\n",
       "    </tr>\n",
       "    <tr>\n",
       "      <th>63</th>\n",
       "      <td>None</td>\n",
       "      <td>C000555NE02B.jpg</td>\n",
       "    </tr>\n",
       "  </tbody>\n",
       "</table>\n",
       "</div>"
      ],
      "text/plain": [
       "     cat             fname\n",
       "70  None  C000195NE05B.jpg\n",
       "54  None  C000387NE05B.jpg\n",
       "61  None  C000391NE03B.jpg\n",
       "51  None  C000424NE07B.jpg\n",
       "63  None  C000555NE02B.jpg"
      ]
     },
     "execution_count": 86,
     "metadata": {},
     "output_type": "execute_result"
    },
    {
     "data": {
      "text/html": [
       "<div>\n",
       "<style scoped>\n",
       "    .dataframe tbody tr th:only-of-type {\n",
       "        vertical-align: middle;\n",
       "    }\n",
       "\n",
       "    .dataframe tbody tr th {\n",
       "        vertical-align: top;\n",
       "    }\n",
       "\n",
       "    .dataframe thead th {\n",
       "        text-align: right;\n",
       "    }\n",
       "</style>\n",
       "<table border=\"1\" class=\"dataframe\">\n",
       "  <thead>\n",
       "    <tr style=\"text-align: right;\">\n",
       "      <th></th>\n",
       "      <th>cat</th>\n",
       "      <th>fname</th>\n",
       "    </tr>\n",
       "  </thead>\n",
       "  <tbody>\n",
       "    <tr>\n",
       "      <th>21</th>\n",
       "      <td>C</td>\n",
       "      <td>TE001525NE02B.jpg</td>\n",
       "    </tr>\n",
       "    <tr>\n",
       "      <th>30</th>\n",
       "      <td>E</td>\n",
       "      <td>TE001742NE04B.jpg</td>\n",
       "    </tr>\n",
       "    <tr>\n",
       "      <th>38</th>\n",
       "      <td>F</td>\n",
       "      <td>TE002634NE03B.jpg</td>\n",
       "    </tr>\n",
       "    <tr>\n",
       "      <th>31</th>\n",
       "      <td>E</td>\n",
       "      <td>TE002662NE02B.jpg</td>\n",
       "    </tr>\n",
       "    <tr>\n",
       "      <th>69</th>\n",
       "      <td>None</td>\n",
       "      <td>TE002667NE02B.jpg</td>\n",
       "    </tr>\n",
       "  </tbody>\n",
       "</table>\n",
       "</div>"
      ],
      "text/plain": [
       "     cat              fname\n",
       "21     C  TE001525NE02B.jpg\n",
       "30     E  TE001742NE04B.jpg\n",
       "38     F  TE002634NE03B.jpg\n",
       "31     E  TE002662NE02B.jpg\n",
       "69  None  TE002667NE02B.jpg"
      ]
     },
     "execution_count": 86,
     "metadata": {},
     "output_type": "execute_result"
    }
   ],
   "source": [
    "df_gt.sort_values('fname', inplace=True)\n",
    "df_gt.head()\n",
    "df_gt.tail()"
   ]
  },
  {
   "cell_type": "code",
   "execution_count": 87,
   "metadata": {},
   "outputs": [
    {
     "data": {
      "text/html": [
       "<div>\n",
       "<style scoped>\n",
       "    .dataframe tbody tr th:only-of-type {\n",
       "        vertical-align: middle;\n",
       "    }\n",
       "\n",
       "    .dataframe tbody tr th {\n",
       "        vertical-align: top;\n",
       "    }\n",
       "\n",
       "    .dataframe thead th {\n",
       "        text-align: right;\n",
       "    }\n",
       "</style>\n",
       "<table border=\"1\" class=\"dataframe\">\n",
       "  <thead>\n",
       "    <tr style=\"text-align: right;\">\n",
       "      <th></th>\n",
       "      <th>cat</th>\n",
       "      <th>fname</th>\n",
       "    </tr>\n",
       "  </thead>\n",
       "  <tbody>\n",
       "    <tr>\n",
       "      <th>70</th>\n",
       "      <td>None</td>\n",
       "      <td>/data/home/chyam/git/mini_dev_set/handwritten/...</td>\n",
       "    </tr>\n",
       "    <tr>\n",
       "      <th>54</th>\n",
       "      <td>None</td>\n",
       "      <td>/data/home/chyam/git/mini_dev_set/handwritten/...</td>\n",
       "    </tr>\n",
       "    <tr>\n",
       "      <th>61</th>\n",
       "      <td>None</td>\n",
       "      <td>/data/home/chyam/git/mini_dev_set/handwritten/...</td>\n",
       "    </tr>\n",
       "    <tr>\n",
       "      <th>51</th>\n",
       "      <td>None</td>\n",
       "      <td>/data/home/chyam/git/mini_dev_set/handwritten/...</td>\n",
       "    </tr>\n",
       "    <tr>\n",
       "      <th>63</th>\n",
       "      <td>None</td>\n",
       "      <td>/data/home/chyam/git/mini_dev_set/handwritten/...</td>\n",
       "    </tr>\n",
       "  </tbody>\n",
       "</table>\n",
       "</div>"
      ],
      "text/plain": [
       "     cat                                              fname\n",
       "70  None  /data/home/chyam/git/mini_dev_set/handwritten/...\n",
       "54  None  /data/home/chyam/git/mini_dev_set/handwritten/...\n",
       "61  None  /data/home/chyam/git/mini_dev_set/handwritten/...\n",
       "51  None  /data/home/chyam/git/mini_dev_set/handwritten/...\n",
       "63  None  /data/home/chyam/git/mini_dev_set/handwritten/..."
      ]
     },
     "execution_count": 87,
     "metadata": {},
     "output_type": "execute_result"
    },
    {
     "data": {
      "text/html": [
       "<div>\n",
       "<style scoped>\n",
       "    .dataframe tbody tr th:only-of-type {\n",
       "        vertical-align: middle;\n",
       "    }\n",
       "\n",
       "    .dataframe tbody tr th {\n",
       "        vertical-align: top;\n",
       "    }\n",
       "\n",
       "    .dataframe thead th {\n",
       "        text-align: right;\n",
       "    }\n",
       "</style>\n",
       "<table border=\"1\" class=\"dataframe\">\n",
       "  <thead>\n",
       "    <tr style=\"text-align: right;\">\n",
       "      <th></th>\n",
       "      <th>cat</th>\n",
       "      <th>fname</th>\n",
       "    </tr>\n",
       "  </thead>\n",
       "  <tbody>\n",
       "    <tr>\n",
       "      <th>21</th>\n",
       "      <td>C</td>\n",
       "      <td>/data/home/chyam/git/mini_dev_set/handwritten/...</td>\n",
       "    </tr>\n",
       "    <tr>\n",
       "      <th>30</th>\n",
       "      <td>E</td>\n",
       "      <td>/data/home/chyam/git/mini_dev_set/handwritten/...</td>\n",
       "    </tr>\n",
       "    <tr>\n",
       "      <th>38</th>\n",
       "      <td>F</td>\n",
       "      <td>/data/home/chyam/git/mini_dev_set/handwritten/...</td>\n",
       "    </tr>\n",
       "    <tr>\n",
       "      <th>31</th>\n",
       "      <td>E</td>\n",
       "      <td>/data/home/chyam/git/mini_dev_set/handwritten/...</td>\n",
       "    </tr>\n",
       "    <tr>\n",
       "      <th>69</th>\n",
       "      <td>None</td>\n",
       "      <td>/data/home/chyam/git/mini_dev_set/handwritten/...</td>\n",
       "    </tr>\n",
       "  </tbody>\n",
       "</table>\n",
       "</div>"
      ],
      "text/plain": [
       "     cat                                              fname\n",
       "21     C  /data/home/chyam/git/mini_dev_set/handwritten/...\n",
       "30     E  /data/home/chyam/git/mini_dev_set/handwritten/...\n",
       "38     F  /data/home/chyam/git/mini_dev_set/handwritten/...\n",
       "31     E  /data/home/chyam/git/mini_dev_set/handwritten/...\n",
       "69  None  /data/home/chyam/git/mini_dev_set/handwritten/..."
      ]
     },
     "execution_count": 87,
     "metadata": {},
     "output_type": "execute_result"
    }
   ],
   "source": [
    "import os\n",
    "\n",
    "path = '/data/home/chyam/git/mini_dev_set/handwritten/'\n",
    "\n",
    "df_gt['fname'] = path + df_gt['fname']\n",
    "df_gt.head()\n",
    "df_gt.tail()"
   ]
  },
  {
   "cell_type": "code",
   "execution_count": null,
   "metadata": {},
   "outputs": [],
   "source": []
  },
  {
   "cell_type": "code",
   "execution_count": 67,
   "metadata": {},
   "outputs": [
    {
     "data": {
      "text/plain": [
       "set()"
      ]
     },
     "execution_count": 67,
     "metadata": {},
     "output_type": "execute_result"
    }
   ],
   "source": [
    "set(df_gt['fname']) - set(fname)"
   ]
  },
  {
   "cell_type": "code",
   "execution_count": 70,
   "metadata": {},
   "outputs": [
    {
     "data": {
      "text/plain": [
       "53"
      ]
     },
     "execution_count": 70,
     "metadata": {},
     "output_type": "execute_result"
    }
   ],
   "source": [
    "diff= set(fname) - set(df_gt['fname'])\n",
    "len(diff)"
   ]
  },
  {
   "cell_type": "code",
   "execution_count": 69,
   "metadata": {},
   "outputs": [
    {
     "data": {
      "text/plain": [
       "102"
      ]
     },
     "execution_count": 69,
     "metadata": {},
     "output_type": "execute_result"
    }
   ],
   "source": [
    "len(fname)"
   ]
  },
  {
   "cell_type": "code",
   "execution_count": 71,
   "metadata": {},
   "outputs": [],
   "source": [
    "A = ['E000306NE04B.jpg', 'E000463NE04B.jpg', 'E000757NE04B.jpg', 'E000861NE02B.jpg', 'E001230NE04B.jpg',\n",
    "     'E001236NE05B.jpg', 'E001578NE04B.jpg', 'E001708NE02B.jpg', 'TE001305NE03B.jpg', 'TE001426NE03B.jpg']\n",
    "\n",
    "B = ['E000704NE05B.jpg', 'TE000512NE04B.jpg']\n",
    "\n",
    "C = ['E000014NE03B.jpg', 'E000022NE06B.jpg', 'E000033NE04B.jpg', 'E000382NE02B.jpg', 'E000484NE07B.jpg',\n",
    "     'E002283NE04B.jpg', 'E003232NE05B.jpg', 'TE000544NE04B.jpg', 'TE000882NE05B.jpg', 'TE001525NE02B.jpg']\n",
    "\n",
    "D = ['E000379NE02B.jpg']\n",
    "\n",
    "E = ['E000026NE05B.jpg', 'E000289NE04B.jpg', 'E000891NE02B.jpg', 'E001180NE02B.jpg', 'E001217NE05B.jpg',\n",
    "     'E001424NE05B.jpg', 'TE000838NE02B.jpg', 'TE001742NE04B.jpg', 'TE002662NE02B.jpg']\n",
    "\n",
    "F = ['E000116NE04B.jpg', 'E000413NE07B.jpg', 'E000481NE02B.jpg', 'E001109NE04B.jpg', 'E006309NE04B.jpg', 'TE000526NE06B.jpg',\n",
    "     'TE002634NE03B.jpg']\n",
    "\n",
    "G = []\n",
    "\n",
    "L = []\n",
    "\n",
    "X = ['E000056NE04B.jpg']\n",
    "\n",
    "H = ['E000663NE03B.jpg', 'E000676NE06B.jpg', 'E000697NE06B.jpg', 'E002074NE06B.jpg', 'TE002667NE02B.jpg']\n",
    "\n",
    "K = ['E000163NE01B.jpg', 'E000331NE02B.jpg', 'E000373NE01B.jpg', 'E000494NE07B.jpg', 'E000818NE03B.jpg']\n",
    "\n",
    "M = ['E000001NE07B.jpg', 'E000317NE06B.jpg', 'E000486NE07B.jpg', 'E000642NE05B.jpg', 'E001834NE06B.jpg']\n",
    "\n",
    "S = []\n",
    "\n",
    "K_wrong_naming = ['E000382NE02F.jpg']\n",
    "\n",
    "none = list(set(fname) - set(df_gt['fname']))\n"
   ]
  },
  {
   "cell_type": "code",
   "execution_count": null,
   "metadata": {},
   "outputs": [],
   "source": []
  },
  {
   "cell_type": "code",
   "execution_count": null,
   "metadata": {},
   "outputs": [],
   "source": []
  },
  {
   "cell_type": "code",
   "execution_count": 46,
   "metadata": {},
   "outputs": [],
   "source": [
    "fname = ['C001852NE04B.jpg',\n",
    " 'C000391NE03B.jpg',\n",
    " 'TC000886NE06B.jpg',\n",
    " 'E000289NE04B.jpg',\n",
    " 'E000494NE07B.jpg',\n",
    " 'E000413NE07B.jpg',\n",
    " 'TE002667NE02B.jpg',\n",
    " 'C002147NE03B.jpg',\n",
    " 'E000314NE02B.jpg',\n",
    " 'E000116NE04B.jpg',\n",
    " 'E000306NE04B.jpg',\n",
    " 'E000163NE01B.jpg',\n",
    " 'TC003505NE02B.jpg',\n",
    " 'E000818NE03B.jpg',\n",
    " 'E000891NE02B.jpg',\n",
    " 'E000663NE03B.jpg',\n",
    " 'C001233NE03B.jpg',\n",
    " 'C001698NE05B.jpg',\n",
    " 'E000331NE02B.jpg',\n",
    " 'E001637NE02B.jpg',\n",
    " 'TE000526NE06B.jpg',\n",
    " 'E000014NE03B.jpg',\n",
    " 'E000373NE01B.jpg',\n",
    " 'C002215NE02B.jpg',\n",
    " 'E000120NE02B.jpg',\n",
    " 'E000317NE06B.jpg',\n",
    " 'C001058NE01B.jpg',\n",
    " 'C002113NE07B.jpg',\n",
    " 'E000642NE05B.jpg',\n",
    " 'E001109NE04B.jpg',\n",
    " 'E000056NE04B.jpg',\n",
    " 'E000486NE07B.jpg',\n",
    " 'C002107NE02B.jpg',\n",
    " 'C000555NE02B.jpg',\n",
    " 'C000643NE06B.jpg',\n",
    " 'C001812NE04B.jpg',\n",
    " 'TE001525NE02B.jpg',\n",
    " 'E001578NE04B.jpg',\n",
    " 'E000001NE07B.jpg',\n",
    " 'E000382NE02B.jpg',\n",
    " 'E000002NE03B.jpg',\n",
    " 'E006309NE04B.jpg',\n",
    " 'TE001426NE03B.jpg',\n",
    " 'TE000512NE04B.jpg',\n",
    " 'E000399NE02B.jpg',\n",
    " 'E000704NE05B.jpg',\n",
    " 'E000481NE02B.jpg',\n",
    " 'E001708NE02B.jpg',\n",
    " 'TE000882NE05B.jpg',\n",
    " 'TE001305NE03B.jpg',\n",
    " 'C002355NE02B.jpg',\n",
    " 'C000424NE07B.jpg',\n",
    " 'E000463NE04B.jpg',\n",
    " 'E001862NE04B.jpg',\n",
    " 'E000676NE06B.jpg',\n",
    " 'C001844NE04B.jpg',\n",
    " 'C001543NE02B.jpg',\n",
    " 'C001509NE04B.jpg',\n",
    " 'C002610NE03B.jpg',\n",
    " 'C002197NE04B.jpg',\n",
    " 'E000022NE06B.jpg',\n",
    " 'E003232NE05B.jpg',\n",
    " 'C001124NE03B.jpg',\n",
    " 'TE000838NE02B.jpg',\n",
    " 'E002283NE04B.jpg',\n",
    " 'C002042NE02B.jpg',\n",
    " 'C000195NE05B.jpg',\n",
    " 'TE001742NE04B.jpg',\n",
    " 'C001200NE04B.jpg',\n",
    " 'TE000544NE04B.jpg',\n",
    " 'C001860NE01B.jpg',\n",
    " 'C000387NE05B.jpg',\n",
    " 'C000806NE04B.jpg',\n",
    " 'E002074NE06B.jpg',\n",
    " 'E000379NE02B.jpg',\n",
    " 'E001424NE05B.jpg',\n",
    " 'E000484NE07B.jpg',\n",
    " 'E002337NE04B.jpg',\n",
    " 'C003975NE06B.jpg',\n",
    " 'TE002634NE03B.jpg',\n",
    " 'E000026NE05B.jpg',\n",
    " 'E001834NE06B.jpg',\n",
    " 'C000595NE02B.jpg',\n",
    " 'E001217NE05B.jpg',\n",
    " 'E000275NE06B.jpg',\n",
    " 'E002225NE05B.jpg',\n",
    " 'E000033NE04B.jpg',\n",
    " 'E002347NE04B.jpg',\n",
    " 'E000697NE06B.jpg',\n",
    " 'E000142NE06B.jpg',\n",
    " 'E001180NE02B.jpg',\n",
    " 'C001191NE06B.jpg',\n",
    " 'TE002662NE02B.jpg',\n",
    " 'E000861NE02B.jpg',\n",
    " 'E001230NE04B.jpg',\n",
    " 'E001838NE06B.jpg',\n",
    " 'E001236NE05B.jpg',\n",
    " 'TC000934NE05B.jpg',\n",
    " 'C002111NE07B.jpg',\n",
    " 'TC000832NE01B.jpg',\n",
    " 'E000744NE02B.jpg',\n",
    " 'E000757NE04B.jpg']"
   ]
  },
  {
   "cell_type": "code",
   "execution_count": null,
   "metadata": {},
   "outputs": [],
   "source": [
    "'/data/home/chyam/git/mini_dev_set/handwritten/C001233NE03B.jpg'\n",
    "\n",
    "'/data/home/chyam/git/mini_dev_set/handwritten/E000704NE05B.jpg'\n",
    "\n",
    "'/data/home/chyam/git/mini_dev_set/handwritten/E000481NE02B.jpg'\n",
    "\n",
    "'/data/home/chyam/git/mini_dev_set/handwritten/E001862NE04B.jpg'\n",
    "\n",
    "'/data/home/chyam/git/mini_dev_set/handwritten/C001124NE03B.jpg'\n",
    "\n",
    "'/data/home/chyam/git/mini_dev_set/handwritten/C000195NE05B.jpg'\n",
    "\n",
    "'/data/home/chyam/git/mini_dev_set/handwritten/C001200NE04B.jpg'\n",
    "\n",
    "'/data/home/chyam/git/mini_dev_set/handwritten/TE000544NE04B.jpg'\n",
    "\n",
    "\tfname \tcat \tcat_gt \tis_equal\n",
    "16 \t/data/home/chyam/git/mini_dev_set/handwritten/... \tA \tNone \tFalse\n",
    "45 \t/data/home/chyam/git/mini_dev_set/handwritten/... \tC \tB \tFalse\n",
    "46 \t/data/home/chyam/git/mini_dev_set/handwritten/... \tNone \tF \tFalse\n",
    "53 \t/data/home/chyam/git/mini_dev_set/handwritten/... \tA \tNone \tFalse\n",
    "62 \t/data/home/chyam/git/mini_dev_set/handwritten/... \tC \tNone \tFalse\n",
    "66 \t/data/home/chyam/git/mini_dev_set/handwritten/... \tE \tNone \tFalse\n",
    "68 \t/data/home/chyam/git/mini_dev_set/handwritten/... \tL \tNone \tFalse\n",
    "69 \t/data/home/chyam/git/mini_dev_set/handwritten/... \tA \tC \tFalse"
   ]
  }
 ],
 "metadata": {
  "kernelspec": {
   "display_name": "Python 3",
   "language": "python",
   "name": "python3"
  },
  "language_info": {
   "codemirror_mode": {
    "name": "ipython",
    "version": 3
   },
   "file_extension": ".py",
   "mimetype": "text/x-python",
   "name": "python",
   "nbconvert_exporter": "python",
   "pygments_lexer": "ipython3",
   "version": "3.5.4"
  }
 },
 "nbformat": 4,
 "nbformat_minor": 2
}
