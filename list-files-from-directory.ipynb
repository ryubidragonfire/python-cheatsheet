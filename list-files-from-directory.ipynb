{
 "cells": [
  {
   "cell_type": "code",
   "execution_count": 1,
   "metadata": {},
   "outputs": [],
   "source": [
    "from IPython.core.interactiveshell import InteractiveShell\n",
    "InteractiveShell.ast_node_interactivity = \"all\""
   ]
  },
  {
   "cell_type": "markdown",
   "metadata": {},
   "source": [
    "### List files with pattern with `glob`"
   ]
  },
  {
   "cell_type": "code",
   "execution_count": 2,
   "metadata": {},
   "outputs": [],
   "source": [
    "import glob"
   ]
  },
  {
   "cell_type": "code",
   "execution_count": 4,
   "metadata": {},
   "outputs": [
    {
     "data": {
      "text/plain": [
       "['./data/fish-bone.jpg',\n",
       " './data/fish-bone2.jpg',\n",
       " './data/fish.jpg',\n",
       " './data/toothless.jpg',\n",
       " './data/0000_nir.jpg',\n",
       " './data/0000_rgb.jpg',\n",
       " './data/toothless-rect.jpg',\n",
       " './data/austrian-camo-shirt-b.jpg']"
      ]
     },
     "execution_count": 4,
     "metadata": {},
     "output_type": "execute_result"
    }
   ],
   "source": [
    "image_list = glob.glob('./data/*.jpg')\n",
    "image_list"
   ]
  },
  {
   "cell_type": "code",
   "execution_count": 6,
   "metadata": {},
   "outputs": [
    {
     "data": {
      "text/plain": [
       "['./data/fish-bone.jpg',\n",
       " './data/fish-bone2.jpg',\n",
       " './data/fish.jpg',\n",
       " './data/toothless.jpg',\n",
       " './data/0000_nir.jpg',\n",
       " './data/0000_rgb.jpg',\n",
       " './data/toothless-rect.jpg',\n",
       " './data/austrian-camo-shirt-b.jpg']"
      ]
     },
     "execution_count": 6,
     "metadata": {},
     "output_type": "execute_result"
    },
    {
     "data": {
      "text/plain": [
       "['./data/0000_rgb.tiff', './data/0000_nir.tiff']"
      ]
     },
     "execution_count": 6,
     "metadata": {},
     "output_type": "execute_result"
    }
   ],
   "source": [
    "types = ['*.jpg', '*.tiff']\n",
    "\n",
    "for t in types:\n",
    "    file_list = glob.glob('./data/' + t)\n",
    "    file_list"
   ]
  },
  {
   "cell_type": "markdown",
   "metadata": {},
   "source": [
    "### List types of files from directory"
   ]
  },
  {
   "cell_type": "code",
   "execution_count": 7,
   "metadata": {},
   "outputs": [
    {
     "name": "stdout",
     "output_type": "stream",
     "text": [
      "csv\r\n",
      "gitignore\r\n",
      "idx\r\n",
      "ini\r\n",
      "ipynb\r\n",
      "jpg\r\n",
      "JPG\r\n",
      "md\r\n",
      "mp4\r\n",
      "pack\r\n",
      "png\r\n",
      "py\r\n",
      "sample\r\n",
      "tiff\r\n",
      "tsv\r\n",
      "txt\r\n"
     ]
    }
   ],
   "source": [
    "!find . -type f | perl -ne 'print $1 if m/\\.([^.\\/]+)$/' | sort -u"
   ]
  },
  {
   "cell_type": "code",
   "execution_count": null,
   "metadata": {},
   "outputs": [],
   "source": []
  }
 ],
 "metadata": {
  "kernelspec": {
   "display_name": "Python 3",
   "language": "python",
   "name": "python3"
  },
  "language_info": {
   "codemirror_mode": {
    "name": "ipython",
    "version": 3
   },
   "file_extension": ".py",
   "mimetype": "text/x-python",
   "name": "python",
   "nbconvert_exporter": "python",
   "pygments_lexer": "ipython3",
   "version": "3.5.4"
  }
 },
 "nbformat": 4,
 "nbformat_minor": 2
}
