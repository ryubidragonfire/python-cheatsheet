{
 "cells": [
  {
   "cell_type": "code",
   "execution_count": 67,
   "metadata": {
    "collapsed": true
   },
   "outputs": [],
   "source": [
    "from IPython.core.interactiveshell import InteractiveShell\n",
    "InteractiveShell.ast_node_interactivity = \"all\""
   ]
  },
  {
   "cell_type": "markdown",
   "metadata": {},
   "source": [
    "https://www.binpress.com/tutorial/simple-python-parallelism/121"
   ]
  },
  {
   "cell_type": "code",
   "execution_count": 1,
   "metadata": {
    "collapsed": true
   },
   "outputs": [],
   "source": [
    "def batch(iterable, n=1):\n",
    "    \"\"\"\n",
    "    Yield successive n-sized chunks from l.\n",
    "    \"\"\"\n",
    "    l = len(iterable)\n",
    "    for ndx in range(0, l, n):\n",
    "        yield iterable[ndx:min(ndx + n, l)]"
   ]
  },
  {
   "cell_type": "code",
   "execution_count": 96,
   "metadata": {
    "collapsed": true
   },
   "outputs": [],
   "source": [
    "def your_work_parallel(items):\n",
    "    batch_results=[]\n",
    "    print(type(items))\n",
    "    print('items:', items)\n",
    "    for i in items:\n",
    "        batch_results.append(i*2)\n",
    "        print('i: ', i, 'batch_results: ', batch_results)\n",
    "    return batch_results"
   ]
  },
  {
   "cell_type": "code",
   "execution_count": 97,
   "metadata": {
    "collapsed": true
   },
   "outputs": [],
   "source": [
    "def do_parallel(inputs, workers=4):\n",
    "        from multiprocessing import Pool\n",
    "        import numpy as np\n",
    "        \n",
    "        pool = Pool(workers)\n",
    "        \n",
    "        n_tot = len(inputs)\n",
    "        chunk_size = int(n_tot / workers)\n",
    "\n",
    "        chunks = [chunk for chunk in batch(inputs,chunk_size)]\n",
    "      \n",
    "        results = pool.map(your_work_parallel, chunks)\n",
    "        \n",
    "        # flatten the results back into a list, same as the order of the input list\n",
    "        results = [item for sublist in results for item in sublist]\n",
    "        \n",
    "        pool.close()\n",
    "        pool.join()\n",
    "        \n",
    "        return results"
   ]
  },
  {
   "cell_type": "code",
   "execution_count": 98,
   "metadata": {},
   "outputs": [
    {
     "name": "stdout",
     "output_type": "stream",
     "text": [
      "<class 'list'>\n",
      "<class 'list'>\n",
      "items: [10, 20, 30, 40]\n",
      "items: [1, 2, 3, 4]\n",
      "i:  10 batch_results:  [20]\n",
      "i:  1 batch_results:  [2]\n",
      "i:  2 batch_results:  [2, 4]\n",
      "i:  3 batch_results:  [2, 4, 6]\n",
      "i:  20 batch_results:  [20, 40]\n",
      "i:  4 batch_results:  [2, 4, 6, 8]\n",
      "i:  30 batch_results:  [20, 40, 60]\n",
      "i:  40 batch_results:  [20, 40, 60, 80]\n"
     ]
    },
    {
     "data": {
      "text/plain": [
       "[2, 4, 6, 8, 20, 40, 60, 80]"
      ]
     },
     "execution_count": 98,
     "metadata": {},
     "output_type": "execute_result"
    }
   ],
   "source": [
    "do_parallel([1,2,3,4, 10, 20, 30, 40], 2)"
   ]
  },
  {
   "cell_type": "code",
   "execution_count": 99,
   "metadata": {
    "scrolled": true
   },
   "outputs": [
    {
     "name": "stdout",
     "output_type": "stream",
     "text": [
      "<class 'list'>\n",
      "<class 'list'>\n",
      "items: [1, 2, 3, 4]\n",
      "i:  1 batch_results:  [2]\n",
      "items: [10, 20, 30, 40]\n",
      "i:  2 batch_results:  [2, 4]\n",
      "i:  10 batch_results:  [20]\n",
      "i:  20 batch_results:  [20, 40]\n",
      "i:  30 batch_results:  [20, 40, 60]\n",
      "i:  40 batch_results:  [20, 40, 60, 80]\n",
      "i:  3 batch_results:  [2, 4, 6]\n",
      "i:  4 batch_results:  [2, 4, 6, 8]\n"
     ]
    },
    {
     "data": {
      "text/plain": [
       "[2, 4, 6, 8, 20, 40, 60, 80]"
      ]
     },
     "execution_count": 99,
     "metadata": {},
     "output_type": "execute_result"
    },
    {
     "name": "stdout",
     "output_type": "stream",
     "text": [
      "<class 'list'>\n",
      "<class 'list'>\n",
      "items: [1, 2, 3, 4]\n",
      "items: [10, 20, 30, 40]\n",
      "i:  1 batch_results:  [2]\n",
      "i:  10 batch_results:  [20]\n",
      "i:  20 batch_results:  [20, 40]\n",
      "i:  30 batch_results:  [20, 40, 60]\n",
      "i:  2 batch_results:  [2, 4]\n",
      "i:  3 batch_results:  [2, 4, 6]\n",
      "i:  40 batch_results:  [20, 40, 60, 80]\n",
      "i:  4 batch_results:  [2, 4, 6, 8]\n"
     ]
    },
    {
     "data": {
      "text/plain": [
       "[2, 4, 6, 8, 20, 40, 60, 80]"
      ]
     },
     "execution_count": 99,
     "metadata": {},
     "output_type": "execute_result"
    }
   ],
   "source": [
    "# Note: not necessarily order of execution is in order\n",
    "do_parallel([1,2,3,4, 10, 20, 30, 40], 2)\n",
    "do_parallel([1,2,3,4, 10, 20, 30, 40], 2)"
   ]
  },
  {
   "cell_type": "code",
   "execution_count": null,
   "metadata": {
    "collapsed": true
   },
   "outputs": [],
   "source": []
  }
 ],
 "metadata": {
  "kernelspec": {
   "display_name": "Python 3",
   "language": "python",
   "name": "python3"
  },
  "language_info": {
   "codemirror_mode": {
    "name": "ipython",
    "version": 3
   },
   "file_extension": ".py",
   "mimetype": "text/x-python",
   "name": "python",
   "nbconvert_exporter": "python",
   "pygments_lexer": "ipython3",
   "version": "3.5.2"
  }
 },
 "nbformat": 4,
 "nbformat_minor": 2
}
