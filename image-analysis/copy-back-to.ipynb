{
 "cells": [
  {
   "cell_type": "code",
   "execution_count": null,
   "metadata": {},
   "outputs": [],
   "source": [
    "path = '/data/home/chyam/git/mini_dev_set/'\n",
    "folders = ['handwritten', 'image_batch_1', 'image_batch_2']"
   ]
  },
  {
   "cell_type": "markdown",
   "metadata": {},
   "source": [
    "### Get `mini_dev_set`"
   ]
  },
  {
   "cell_type": "code",
   "execution_count": null,
   "metadata": {},
   "outputs": [],
   "source": [
    "import glob\n",
    "import os\n",
    "\n",
    "for folder in folders:\n",
    "    full_path = os.path.join(path, folder, '*.jpg'); #full_path\n",
    "    image_list = glob.glob(full_path)\n",
    "    var = vars()[folder] = image_list; #var\n",
    "    print(folder, len(var))"
   ]
  },
  {
   "cell_type": "markdown",
   "metadata": {},
   "source": [
    "### `crop_targe_area`"
   ]
  },
  {
   "cell_type": "code",
   "execution_count": null,
   "metadata": {},
   "outputs": [],
   "source": [
    "import cv2\n",
    "\n",
    "def crop_target_area(img, region, offset):\n",
    "   \n",
    "    if region == 'signature':\n",
    "        # template shape # [height, width]\n",
    "        ref_shape = [1440, 858]\n",
    "\n",
    "        # template coordiates # [top_left_x, top_left_y], [bottom_right_x, bottom_right_y]\n",
    "        ref_top_left = [24, 1017]\n",
    "        ref_bottom_right = [475, 1116]\n",
    "        \n",
    "    elif region == 'signhere':\n",
    "        # template shape # [height, width]\n",
    "        ref_shape = [1376, 863]\n",
    "\n",
    "        # template coordiates # [top_left_x, top_left_y], [bottom_right_x, bottom_right_y]\n",
    "        ref_top_left = [185, 1170]  \n",
    "        ref_bottom_right = [570, 1215]\n",
    "        \n",
    "    # scale factor [width, height] # img.shape is [height, width, depth]\n",
    "    scale = [img.shape[1]/ref_shape[1], img.shape[0]/ref_shape[0]]; scale\n",
    "\n",
    "    # targeted area\n",
    "    top_left = [round(ref_top_left[0] * scale[0]), round(ref_top_left[1] * scale[1])]; top_left \n",
    "    bottom_right = [round(ref_bottom_right[0] * scale[0]), round(ref_bottom_right[1] * scale[1])]; bottom_right \n",
    "\n",
    "    [x1, y1, x2, y2]  = [top_left[0], top_left[1], bottom_right[0], bottom_right[1]]; [x1, y1, x2, y2] \n",
    "    \n",
    "    if offset != None:\n",
    "        crop = img[y1+offset:y2-offset, x1:x2] # [y:y+h, x:x+w]\n",
    "    else:\n",
    "        crop = img[y1:y2, x1:x2] # [y:y+h, x:x+w]\n",
    "    \n",
    "    return crop"
   ]
  },
  {
   "cell_type": "code",
   "execution_count": null,
   "metadata": {},
   "outputs": [],
   "source": []
  },
  {
   "cell_type": "code",
   "execution_count": null,
   "metadata": {},
   "outputs": [],
   "source": [
    "import cv2 \n",
    "\n",
    "def change_colour_model(img, mode):\n",
    "\n",
    "    if mode == 'gray':\n",
    "        img = cv2.cvtColor(img, cv2.COLOR_BGR2GRAY)\n",
    "    if mode == 'hsv':\n",
    "        img = cv2.cvtColor(img, cv2.COLOR_BGR2HSV)\n",
    "    \n",
    "    return img"
   ]
  },
  {
   "cell_type": "code",
   "execution_count": null,
   "metadata": {},
   "outputs": [],
   "source": []
  },
  {
   "cell_type": "code",
   "execution_count": null,
   "metadata": {},
   "outputs": [],
   "source": [
    "import matplotlib.pyplot as plt\n",
    "%matplotlib inline\n",
    "\n",
    "def plot_histogram(img, img_type=None, mode=None, img_display=False):\n",
    "    \n",
    "    # colour\n",
    "    if len(img.shape) == 3:\n",
    "        color = ['g','b','r']\n",
    "        \n",
    "        # GBR\n",
    "        if img_type == 'GBR': \n",
    "            for d in range(3):\n",
    "                plt.hist(img[:,:,d].flatten(), color=color[d], bins=256)\n",
    "\n",
    "                if mode == 'separate':\n",
    "                    plt.show()\n",
    "            \n",
    "            if mode != 'separate':\n",
    "                plt.legend(['Green', 'Blue', 'Red'])\n",
    "                plt.show()\n",
    "\n",
    "        # HSV\n",
    "        elif img_type == 'HSV':\n",
    "            for d in range(3):\n",
    "                if d == 0: # Hue\n",
    "                    # hue\n",
    "                    plt.hist(img[:,:,d].flatten(), color=color[0], bins=180)\n",
    "                    \n",
    "                else: # Saturation, Value\n",
    "                    #print(np.unique(img[:,:,d]))\n",
    "                    plt.hist(img[:,:,d].flatten(), color=color[d], bins=256)\n",
    "\n",
    "                if mode == 'separate':\n",
    "                    plt.show()\n",
    "                    \n",
    "            if mode != 'separate':\n",
    "                plt.legend(['Hue', 'Saturation', 'Value'])\n",
    "                plt.show() \n",
    "                \n",
    "        # display layers\n",
    "        if img_display == True:\n",
    "            plt.figure(figsize=(20, 10))\n",
    "            plt.axis('off')\n",
    "\n",
    "            for d in range(3):\n",
    "                plt.subplot(1,3,d+1)\n",
    "                plt.imshow(img[:,:,d], cmap='gray')\n",
    "    # gray\n",
    "    else:\n",
    "        plt.hist(img.flatten(), bins=256); \n",
    "        \n",
    "    return"
   ]
  },
  {
   "cell_type": "code",
   "execution_count": null,
   "metadata": {},
   "outputs": [],
   "source": []
  },
  {
   "cell_type": "code",
   "execution_count": null,
   "metadata": {},
   "outputs": [],
   "source": [
    "import cv2\n",
    "\n",
    "def draw_target_area(img):\n",
    "   \n",
    "    # scale factor [width, height] # img.shape is [height, width, depth]\n",
    "    scale = [img.shape[1]/ref_shape[1], img.shape[0]/ref_shape[0]]; scale\n",
    "\n",
    "    # targeted area\n",
    "    top_left = [round(ref_top_left[0] * scale[0]), round(ref_top_left[1] * scale[1])]; top_left \n",
    "    bottom_right = [round(ref_bottom_right[0] * scale[0]), round(ref_bottom_right[1] * scale[1])]; bottom_right \n",
    "\n",
    "    img = cv2.rectangle(img, (top_left[0], top_left[1]), (bottom_right[0], bottom_right[1]), (0,255,0), 4)\n",
    "    return img"
   ]
  },
  {
   "cell_type": "code",
   "execution_count": null,
   "metadata": {},
   "outputs": [],
   "source": []
  },
  {
   "cell_type": "code",
   "execution_count": null,
   "metadata": {},
   "outputs": [],
   "source": [
    "import numpy as np\n",
    "\n",
    "def threshold3(img, threshold_min, threshold_max):\n",
    "    mask = np.zeros_like(img); \n",
    "    mask[(img < threshold_max) & (img > threshold_min)] = 1; print(np.amax(mask), np.amin(mask)); print(sum(sum(mask)))\n",
    "    img = img * mask; print(np.amax(img), np.amin(img))\n",
    "    return img, mask"
   ]
  },
  {
   "cell_type": "code",
   "execution_count": null,
   "metadata": {},
   "outputs": [],
   "source": [
    "import numpy as np\n",
    "\n",
    "def threshold2(img, threshold_min, threshold_max):  \n",
    "    img[(threshold_min < img) & (img < threshold_max)] = 255\n",
    "    return img"
   ]
  },
  {
   "cell_type": "code",
   "execution_count": null,
   "metadata": {},
   "outputs": [],
   "source": [
    "def threshold(img, threshold): \n",
    "    img[img < threshold] = 255\n",
    "    return img"
   ]
  },
  {
   "cell_type": "code",
   "execution_count": null,
   "metadata": {},
   "outputs": [],
   "source": []
  },
  {
   "cell_type": "code",
   "execution_count": null,
   "metadata": {},
   "outputs": [],
   "source": [
    "from scipy import stats\n",
    "import math\n",
    "\n",
    "def get_stats(img):\n",
    "    for i in range(len(img.shape)):\n",
    "        s = stats.describe(img[:,:,i].flatten())\n",
    "        print('minmax: ', s.minmax)\n",
    "        print('mean: ', s.mean)\n",
    "        print('skewness: ', s.skewness)\n",
    "        print('kurtosis: ', s.kurtosis)\n",
    "        print('stddev: ', math.sqrt(s.variance))\n",
    "    return "
   ]
  },
  {
   "cell_type": "code",
   "execution_count": null,
   "metadata": {},
   "outputs": [],
   "source": []
  },
  {
   "cell_type": "code",
   "execution_count": null,
   "metadata": {},
   "outputs": [],
   "source": [
    "import cv2\n",
    "import os\n",
    "\n",
    "fname = os.path.join(path, handwritten[1]); fname\n",
    "img = cv2.imread(fname)\n",
    "    \n",
    "img = crop_target_area(img, inner=True); \n",
    "\n",
    "_ = plt.figure(figsize=(10,20))\n",
    "_ = plt.imshow(img)\n",
    "_ = plt.show()\n",
    "\n",
    "plot_histogram(img, img_type='GBR')\n",
    "\n",
    "get_stats(img)"
   ]
  },
  {
   "cell_type": "code",
   "execution_count": null,
   "metadata": {},
   "outputs": [],
   "source": [
    "fname = os.path.join(path, handwritten[1]); fname\n",
    "img = cv2.imread(fname)\n",
    "\n",
    "img = change_colour_model(img, 'gray')\n",
    "img = crop_target_area(img, inner=True); \n",
    "\n",
    "_ = plt.figure(figsize=(10,20))\n",
    "_ = plt.imshow(img, cmap='gray')\n",
    "_ = plt.show()\n",
    "\n",
    "plot_histogram(img)"
   ]
  },
  {
   "cell_type": "code",
   "execution_count": null,
   "metadata": {},
   "outputs": [],
   "source": []
  },
  {
   "cell_type": "code",
   "execution_count": null,
   "metadata": {},
   "outputs": [],
   "source": [
    "fname = os.path.join(path, handwritten[1]); fname\n",
    "img = cv2.imread(fname)\n",
    "\n",
    "img = change_colour_model(img, 'hsv')\n",
    "img = crop_target_area(img, inner=True); \n",
    "\n",
    "_ = plt.figure(figsize=(10,20))\n",
    "_ = plt.imshow(img)\n",
    "_ = plt.show()\n",
    "\n",
    "plot_histogram(img, img_type='HSV', img_display=True)\n",
    "#plot_histogram(img, img_type='HSV', mode='separate', img_display=True)\n",
    "\n",
    "get_stats(img)"
   ]
  },
  {
   "cell_type": "code",
   "execution_count": null,
   "metadata": {},
   "outputs": [],
   "source": []
  },
  {
   "cell_type": "code",
   "execution_count": null,
   "metadata": {},
   "outputs": [],
   "source": [
    "fname = os.path.join(path, handwritten[1]); fname\n",
    "img = cv2.imread(fname)\n",
    "\n",
    "img = change_colour_model(img, 'hsv')\n",
    "img = crop_target_area(img, inner=True);\n",
    "\n",
    "img1, mask1 = threshold3(img[:,:,1], 100, 150); \n",
    "img2, mask2 = threshold3(img[:,:,2], 125, 250); \n",
    "\n",
    "_ = plt.figure(figsize=(10,20))\n",
    "_ = plt.imshow(img, cmap='gray')\n",
    "\n",
    "_ = plt.figure(figsize=(10,20))\n",
    "_ = plt.imshow(mask1, cmap='gray')\n",
    "\n",
    "_ = plt.figure(figsize=(10,20))\n",
    "_ = plt.imshow(mask2, cmap='gray')\n",
    "\n",
    "_ = plt.show()"
   ]
  },
  {
   "cell_type": "markdown",
   "metadata": {},
   "source": [
    "### Yellow"
   ]
  },
  {
   "cell_type": "code",
   "execution_count": null,
   "metadata": {},
   "outputs": [],
   "source": [
    "fname = os.path.join(path, handwritten[6]); fname\n",
    "img = cv2.imread(fname)\n",
    "\n",
    "img = crop_target_area(img, inner=True); \n",
    "_ = plt.figure(figsize=(10,20))\n",
    "_ = plt.imshow(img)\n",
    "_ = plt.show()\n",
    "\n",
    "img = change_colour_model(img, 'hsv')\n",
    "_ = plt.figure(figsize=(10,20))\n",
    "_ = plt.imshow(img)\n",
    "_ = plt.show()\n",
    "\n",
    "plot_histogram(img, img_type='HSV', img_display=True)\n",
    "\n",
    "get_stats(img)"
   ]
  },
  {
   "cell_type": "code",
   "execution_count": null,
   "metadata": {},
   "outputs": [],
   "source": []
  },
  {
   "cell_type": "code",
   "execution_count": null,
   "metadata": {},
   "outputs": [],
   "source": [
    "fname = os.path.join(path, handwritten[6]); fname\n",
    "img = cv2.imread(fname)\n",
    "\n",
    "img = change_colour_model(img, 'hsv')\n",
    "img = crop_target_area(img, inner=True);\n",
    "\n",
    "img1, mask1 = threshold3(img[:,:,1], 100, 150); \n",
    "img2, mask2 = threshold3(img[:,:,2], 125, 250); \n",
    "\n",
    "_ = plt.figure(figsize=(10,20))\n",
    "_ = plt.imshow(img, cmap='gray')\n",
    "\n",
    "_ = plt.figure(figsize=(10,20))\n",
    "_ = plt.imshow(mask1, cmap='gray')\n",
    "\n",
    "_ = plt.figure(figsize=(10,20))\n",
    "_ = plt.imshow(mask2, cmap='gray')\n",
    "\n",
    "_ = plt.show()"
   ]
  },
  {
   "cell_type": "code",
   "execution_count": null,
   "metadata": {},
   "outputs": [],
   "source": []
  },
  {
   "cell_type": "code",
   "execution_count": null,
   "metadata": {},
   "outputs": [],
   "source": [
    "fname = '/sampledata/handwritten/C001200NE04F.jpg'\n",
    "#fname = os.path.join(path, handwritten[6]); fname\n",
    "img = cv2.imread(fname)\n",
    "\n",
    "img = crop_target_area(img, inner=True); \n",
    "_ = plt.figure(figsize=(10,20))\n",
    "_ = plt.imshow(img)\n",
    "_ = plt.show()\n",
    "\n",
    "img = change_colour_model(img, 'hsv')\n",
    "_ = plt.figure(figsize=(10,20))\n",
    "_ = plt.imshow(img)\n",
    "_ = plt.show()\n",
    "\n",
    "plot_histogram(img, img_type='HSV', img_display=True)\n",
    "\n",
    "get_stats(img)"
   ]
  },
  {
   "cell_type": "code",
   "execution_count": null,
   "metadata": {},
   "outputs": [],
   "source": []
  },
  {
   "cell_type": "code",
   "execution_count": null,
   "metadata": {},
   "outputs": [],
   "source": [
    "fname = '/sampledata/handwritten/C001200NE04F.jpg'\n",
    "#fname = os.path.join(path, handwritten[6]); fname\n",
    "img = cv2.imread(fname)\n",
    "\n",
    "img = change_colour_model(img, 'hsv')\n",
    "img = crop_target_area(img, inner=True);\n",
    "\n",
    "img1, mask1 = threshold3(img[:,:,1], 100, 150); \n",
    "img2, mask2 = threshold3(img[:,:,2], 125, 250); \n",
    "\n",
    "_ = plt.figure(figsize=(10,20))\n",
    "_ = plt.imshow(img, cmap='gray')\n",
    "\n",
    "_ = plt.figure(figsize=(10,20))\n",
    "_ = plt.imshow(mask1, cmap='gray')\n",
    "\n",
    "_ = plt.figure(figsize=(10,20))\n",
    "_ = plt.imshow(mask2, cmap='gray')\n",
    "_ = plt.show()"
   ]
  },
  {
   "cell_type": "code",
   "execution_count": null,
   "metadata": {},
   "outputs": [],
   "source": []
  },
  {
   "cell_type": "code",
   "execution_count": null,
   "metadata": {},
   "outputs": [],
   "source": [
    "fname = '/sampledata/handwritten/C001124NE03F.jpg'\n",
    "#fname = os.path.join(path, handwritten[6]); fname\n",
    "img = cv2.imread(fname)\n",
    "\n",
    "img = crop_target_area(img, inner=True); \n",
    "_ = plt.figure(figsize=(10,20))\n",
    "_ = plt.imshow(img)\n",
    "_ = plt.show()\n",
    "\n",
    "img = change_colour_model(img, 'hsv')\n",
    "_ = plt.figure(figsize=(10,20))\n",
    "_ = plt.imshow(img)\n",
    "_ = plt.show()\n",
    "\n",
    "plot_histogram(img, img_type='HSV', img_display=True)\n",
    "get_stats(img)"
   ]
  },
  {
   "cell_type": "code",
   "execution_count": null,
   "metadata": {},
   "outputs": [],
   "source": []
  },
  {
   "cell_type": "code",
   "execution_count": null,
   "metadata": {},
   "outputs": [],
   "source": [
    "fname = '/sampledata/handwritten/C001124NE03F.jpg'\n",
    "#fname = os.path.join(path, handwritten[6]); fname\n",
    "img = cv2.imread(fname)\n",
    "\n",
    "img = change_colour_model(img, 'hsv')\n",
    "img = crop_target_area(img, inner=True);\n",
    "\n",
    "img1, mask1 = threshold3(img[:,:,1], 100, 150); \n",
    "img2, mask2 = threshold3(img[:,:,2], 125, 250); \n",
    "\n",
    "_ = plt.figure(figsize=(10,20))\n",
    "_ = plt.imshow(img, cmap='gray')\n",
    "\n",
    "_ = plt.figure(figsize=(10,20))\n",
    "_ = plt.imshow(mask1, cmap='gray')\n",
    "\n",
    "_ = plt.figure(figsize=(10,20))\n",
    "_ = plt.imshow(mask2, cmap='gray')\n",
    "\n",
    "_ = plt.show()"
   ]
  },
  {
   "cell_type": "code",
   "execution_count": null,
   "metadata": {},
   "outputs": [],
   "source": []
  },
  {
   "cell_type": "code",
   "execution_count": null,
   "metadata": {},
   "outputs": [],
   "source": [
    "fname = '/sampledata/handwritten/C002355NE02F.jpg'\n",
    "#fname = os.path.join(path, handwritten[6]); fname\n",
    "img = cv2.imread(fname)\n",
    "\n",
    "img = crop_target_area(img, inner=True); \n",
    "_ = plt.figure(figsize=(10,20))\n",
    "_ = plt.imshow(img)\n",
    "_ = plt.show()\n",
    "\n",
    "img = change_colour_model(img, 'hsv')\n",
    "_ = plt.figure(figsize=(10,20))\n",
    "_ = plt.imshow(img)\n",
    "_ = plt.show()\n",
    "\n",
    "plot_histogram(img, img_type='HSV', img_display=True)\n",
    "get_stats(img)"
   ]
  },
  {
   "cell_type": "code",
   "execution_count": null,
   "metadata": {},
   "outputs": [],
   "source": []
  },
  {
   "cell_type": "code",
   "execution_count": null,
   "metadata": {},
   "outputs": [],
   "source": [
    "fname = '/sampledata/handwritten/C002355NE02F.jpg'\n",
    "#fname = os.path.join(path, handwritten[6]); fname\n",
    "img = cv2.imread(fname)\n",
    "\n",
    "img = change_colour_model(img, 'hsv')\n",
    "img = crop_target_area(img, inner=True);\n",
    "\n",
    "img1, mask1 = threshold3(img[:,:,1], 100, 150); \n",
    "img2, mask2 = threshold3(img[:,:,2], 125, 250); \n",
    "\n",
    "_ = plt.figure(figsize=(10,20))\n",
    "_ = plt.imshow(img, cmap='gray')\n",
    "\n",
    "_ = plt.figure(figsize=(10,20))\n",
    "_ = plt.imshow(mask1, cmap='gray')\n",
    "\n",
    "_ = plt.figure(figsize=(10,20))\n",
    "_ = plt.imshow(mask2, cmap='gray')\n",
    "\n",
    "_ = plt.show()"
   ]
  },
  {
   "cell_type": "markdown",
   "metadata": {},
   "source": [
    "### signhere"
   ]
  },
  {
   "cell_type": "code",
   "execution_count": null,
   "metadata": {},
   "outputs": [],
   "source": [
    "#fname = '/sampledata/handwritten/C001200NE04B.jpg'\n",
    "fname = '/sampledata/handwritten/C002355NE02B.jpg'\n",
    "#fname = os.path.join(path, handwritten[6]); fname\n",
    "img = cv2.imread(fname)\n",
    "\n",
    "img = crop_target_area(img, region='signhere', offset=0); \n",
    "_ = plt.figure(figsize=(10,20))\n",
    "_ = plt.imshow(img)\n",
    "_ = plt.show()\n",
    "\n",
    "img = change_colour_model(img, 'hsv')\n",
    "_ = plt.figure(figsize=(10,20))\n",
    "_ = plt.imshow(img)\n",
    "_ = plt.show()\n",
    "\n",
    "plot_histogram(img, img_type='HSV', img_display=True)\n",
    "get_stats(img)"
   ]
  },
  {
   "cell_type": "code",
   "execution_count": null,
   "metadata": {},
   "outputs": [],
   "source": [
    "fname = '/sampledata/handwritten/C002355NE02B.jpg'\n",
    "#fname = os.path.join(path, handwritten[6]); fname\n",
    "img = cv2.imread(fname)\n",
    "\n",
    "img = change_colour_model(img, 'hsv')\n",
    "img = crop_target_area(img, region='signhere', offset=5);\n",
    "\n",
    "img1, mask1 = threshold3(img[:,:,1], 100, 150); \n",
    "img2, mask2 = threshold3(img[:,:,2], 125, 250); \n",
    "\n",
    "_ = plt.figure(figsize=(10,20))\n",
    "_ = plt.imshow(img, cmap='gray')\n",
    "\n",
    "_ = plt.figure(figsize=(10,20))\n",
    "_ = plt.imshow(mask1, cmap='gray')\n",
    "\n",
    "_ = plt.figure(figsize=(10,20))\n",
    "_ = plt.imshow(mask2, cmap='gray')\n",
    "\n",
    "_ = plt.show()"
   ]
  },
  {
   "cell_type": "code",
   "execution_count": null,
   "metadata": {},
   "outputs": [],
   "source": []
  },
  {
   "cell_type": "code",
   "execution_count": null,
   "metadata": {},
   "outputs": [],
   "source": []
  },
  {
   "cell_type": "code",
   "execution_count": null,
   "metadata": {},
   "outputs": [],
   "source": []
  },
  {
   "cell_type": "markdown",
   "metadata": {},
   "source": [
    "### Crop and Save"
   ]
  },
  {
   "cell_type": "markdown",
   "metadata": {},
   "source": [
    "outpath = '/data/home/chyam/git/output/mini_dev_set/regions/signature_inner/'\n",
    "\n",
    "for folder in folders:\n",
    "    image_list = vars()[folder]; folder, len(image_list)\n",
    "    \n",
    "    #for fname in image_list[0:2]:\n",
    "    for fname in image_list:\n",
    "        fname = fname[:-5] + 'F.jpg'; #fname\n",
    "        img = cv2.imread(fname)\n",
    "        #img = crop_target_area(img)\n",
    "        img = crop_target_area(img, inner=True)\n",
    "        fout = os.path.join(outpath, folder, os.path.basename(fname)); #fout\n",
    "        _ = cv2.imwrite(fout, img)"
   ]
  },
  {
   "cell_type": "markdown",
   "metadata": {},
   "source": [
    "outpath = '/data/home/chyam/git/output/mini_dev_set/regions/signhere/'\n",
    "\n",
    "for folder in folders:\n",
    "    image_list = vars()[folder]; folder, len(image_list)\n",
    "    \n",
    "    #for fname in image_list[0:2]:\n",
    "    for fname in image_list:\n",
    "        fname = fname[:-5] + 'B.jpg'; #fname\n",
    "        img = cv2.imread(fname)\n",
    "        img = crop_target_area(img, region='signhere', offset=10)\n",
    "        fout = os.path.join(outpath, folder, os.path.basename(fname)); #fout\n",
    "        _ = cv2.imwrite(fout, img)"
   ]
  }
 ],
 "metadata": {
  "kernelspec": {
   "display_name": "Python 3",
   "language": "python",
   "name": "python3"
  },
  "language_info": {
   "codemirror_mode": {
    "name": "ipython",
    "version": 3
   },
   "file_extension": ".py",
   "mimetype": "text/x-python",
   "name": "python",
   "nbconvert_exporter": "python",
   "pygments_lexer": "ipython3",
   "version": "3.5.4"
  }
 },
 "nbformat": 4,
 "nbformat_minor": 2
}
