{
 "cells": [
  {
   "cell_type": "code",
   "execution_count": null,
   "metadata": {},
   "outputs": [],
   "source": [
    "from azure.storage.blob import BlockBlobService\n",
    "\n",
    "account_name = 'xxx'\n",
    "account_key = 'yyy'\n",
    "container_name = 'zzz'\n",
    "\n",
    "block_blob_service = BlockBlobService(account_name=account_name, account_key=account_key)"
   ]
  },
  {
   "cell_type": "code",
   "execution_count": null,
   "metadata": {},
   "outputs": [],
   "source": [
    "for blob in block_blob_service.list_blobs(container_name):\n",
    "    if blob.name.startswith('floder1/floder2/prefix'):\n",
    "        fname = os.path.join('your/local/directory/', os.path.basename(blob.name)); print(fname)\n",
    "        block_blob_service.get_blob_to_path(container_name, blob.name, fname)"
   ]
  }
 ],
 "metadata": {
  "kernelspec": {
   "display_name": "py36",
   "language": "python",
   "name": "py36"
  },
  "language_info": {
   "codemirror_mode": {
    "name": "ipython",
    "version": 3
   },
   "file_extension": ".py",
   "mimetype": "text/x-python",
   "name": "python",
   "nbconvert_exporter": "python",
   "pygments_lexer": "ipython3",
   "version": "3.6.9"
  }
 },
 "nbformat": 4,
 "nbformat_minor": 2
}
