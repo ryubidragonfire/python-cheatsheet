{
 "cells": [
  {
   "cell_type": "markdown",
   "metadata": {},
   "source": [
    "## Create a 2D Matrix indexed by ImageName"
   ]
  },
  {
   "cell_type": "code",
   "execution_count": null,
   "metadata": {
    "collapsed": true
   },
   "outputs": [],
   "source": [
    "from operator import itemgetter\n",
    "from collections import defaultdict\n",
    "\n",
    "print(len(imgdict.keys()))\n",
    "\n",
    "# declare a defaultdict to be used as 2D distance_matrix_dict: to store pairwise distance\n",
    "distance_matrix_dict = defaultdict(dict)\n",
    "\n",
    "# declare a defaultdict to be used as 1D distance_dict: to store top n closest (image, distance)\n",
    "distance_dict = defaultdict(dict)\n",
    "\n",
    "topn = 3\n",
    "\n",
    "for imh1 in imgdict.keys():\n",
    "    for imh2 in imgdict.keys():\n",
    "        distance_matrix_dict[imh1][imh2] = spatial.distance.cosine(imgdict[imh1], imgdict[imh2])\n",
    "        \n",
    "    distance_dict[imh1] =sorted(distance_matrix_dict[imh1].items(), key=itemgetter(1))\n",
    "\n",
    "print(len(distance_dict))\n",
    "\n",
    "# distance_dict[imagename][0] to access the closest image, i.e. itself\n",
    "# distance_dict[imagename][1] to access the second closest image"
   ]
  }
 ],
 "metadata": {
  "kernelspec": {
   "display_name": "Python 3",
   "language": "python",
   "name": "python3"
  },
  "language_info": {
   "codemirror_mode": {
    "name": "ipython",
    "version": 3
   },
   "file_extension": ".py",
   "mimetype": "text/x-python",
   "name": "python",
   "nbconvert_exporter": "python",
   "pygments_lexer": "ipython3",
   "version": "3.5.4"
  }
 },
 "nbformat": 4,
 "nbformat_minor": 2
}
