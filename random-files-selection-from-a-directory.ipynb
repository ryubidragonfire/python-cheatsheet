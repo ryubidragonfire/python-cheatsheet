{
 "cells": [
  {
   "cell_type": "code",
   "execution_count": 2,
   "metadata": {},
   "outputs": [],
   "source": [
    "from IPython.core.interactiveshell import InteractiveShell\n",
    "InteractiveShell.ast_node_interactivity = \"all\""
   ]
  },
  {
   "cell_type": "markdown",
   "metadata": {},
   "source": [
    "### Read filenames from a directory"
   ]
  },
  {
   "cell_type": "code",
   "execution_count": 3,
   "metadata": {},
   "outputs": [],
   "source": [
    "import os\n",
    "\n",
    "path = './'\n",
    "\n",
    "list_filenames = os.listdir(path)"
   ]
  },
  {
   "cell_type": "code",
   "execution_count": 4,
   "metadata": {
    "scrolled": true
   },
   "outputs": [
    {
     "data": {
      "text/plain": [
       "['image-draw-a-rectangle-on-image.ipynb',\n",
       " 'dataframe-add-substring-to-each-row.ipynb',\n",
       " '.ipynb_checkpoints',\n",
       " 'sin-function.ipynb',\n",
       " 'dataframe-selection.ipynb',\n",
       " 'numpy-to-dataframe.ipynb',\n",
       " 'image-display.ipynb',\n",
       " 'keras-generator.ipynb',\n",
       " 'live_history_plot_keras.ipynb',\n",
       " 'dataframe-replace-values.ipynb',\n",
       " 'list.ipynb',\n",
       " 'string.ipynb',\n",
       " 'histogram.ipynb',\n",
       " 'list-comprehension.ipynb',\n",
       " 'video-io.ipynb',\n",
       " 'dataframe-series.ipynb',\n",
       " 'dataframe-index.ipynb',\n",
       " 'read-docx.ipynb',\n",
       " 'notebook-control.ipynb',\n",
       " 'image-extract-metadata.ipynb',\n",
       " 'progress-bar.ipynb',\n",
       " 'dataframe-missing-data.ipynb',\n",
       " 'gabor-filter-rgb.ipynb',\n",
       " 'dataframe-description.ipynb',\n",
       " 'timer.ipynb',\n",
       " 'LICENSE',\n",
       " 'argparse-example.py',\n",
       " 'image-segmentation.ipynb',\n",
       " 'myimageutils.py',\n",
       " 'dataframe-display.ipynb',\n",
       " 'defaultdict.ipynb',\n",
       " 'image-tiff-to-jpg.ipynb',\n",
       " 'data',\n",
       " 'image-colour-manipulation-this-is-wrong.ipynb',\n",
       " 'image-manipulation.ipynb',\n",
       " 'dataframe-categorical.ipynb',\n",
       " 'dataframe-replicate-rows-and-reset-index.ipynb',\n",
       " 'set.ipynb',\n",
       " 'matrix-square-and-condensed.ipynb',\n",
       " 'dataframe-cleansing.ipynb',\n",
       " 'h5py-usage.ipynb',\n",
       " '.gitignore',\n",
       " 'random-files-selection-from-a-directory.ipynb',\n",
       " 'filenames-to-dataframe.ipynb',\n",
       " 'magic.ipynb',\n",
       " 'random-sampling.ipynb',\n",
       " 'output',\n",
       " 'dataframe-merging.ipynb',\n",
       " 'data-io.ipynb',\n",
       " 'dataframe-join-strings-from-2-columns-to-create-a-new-column.ipynb',\n",
       " 'file-io.ipynb',\n",
       " 'image-to-vector.ipynb',\n",
       " 'dictionary.ipynb',\n",
       " 'regex.ipynb',\n",
       " 'README.md',\n",
       " 'parallelism.ipynb',\n",
       " 'cumulative-sum.ipynb',\n",
       " 'data-shuffle-split.ipynb',\n",
       " 'array-manipulation.ipynb',\n",
       " '.git',\n",
       " 'dataframe-construct.ipynb',\n",
       " 'dataframe-datetime.ipynb',\n",
       " 'gabor-filter-hsv.ipynb',\n",
       " 'visualisation.ipynb',\n",
       " 'numba.ipynb']"
      ]
     },
     "execution_count": 4,
     "metadata": {},
     "output_type": "execute_result"
    }
   ],
   "source": [
    "list_filenames"
   ]
  },
  {
   "cell_type": "markdown",
   "metadata": {},
   "source": [
    "### Sample randomly from a list"
   ]
  },
  {
   "cell_type": "code",
   "execution_count": 6,
   "metadata": {},
   "outputs": [],
   "source": [
    "import random\n",
    "\n",
    "random.seed(8)\n",
    "list_randomly_selected_files = random.sample(list_filenames, 10)"
   ]
  },
  {
   "cell_type": "code",
   "execution_count": 7,
   "metadata": {},
   "outputs": [
    {
     "data": {
      "text/plain": [
       "['dataframe-display.ipynb',\n",
       " 'dataframe-merging.ipynb',\n",
       " 'dataframe-datetime.ipynb',\n",
       " 'timer.ipynb',\n",
       " 'live_history_plot_keras.ipynb',\n",
       " 'histogram.ipynb',\n",
       " 'random-sampling.ipynb',\n",
       " '.ipynb_checkpoints',\n",
       " 'numpy-to-dataframe.ipynb',\n",
       " 'dataframe-construct.ipynb']"
      ]
     },
     "execution_count": 7,
     "metadata": {},
     "output_type": "execute_result"
    }
   ],
   "source": [
    "list_randomly_selected_files"
   ]
  },
  {
   "cell_type": "markdown",
   "metadata": {},
   "source": [
    "### List contain items not sampled"
   ]
  },
  {
   "cell_type": "code",
   "execution_count": 17,
   "metadata": {},
   "outputs": [
    {
     "data": {
      "text/plain": [
       "(65, 10, 55)"
      ]
     },
     "execution_count": 17,
     "metadata": {},
     "output_type": "execute_result"
    }
   ],
   "source": [
    "list_not_selected = set(list_filenames) - set(list_randomly_selected_files)\n",
    "len(list_filenames), len(list_randomly_selected_files), len(list_not_selected)"
   ]
  },
  {
   "cell_type": "markdown",
   "metadata": {},
   "source": [
    "### Write to a file"
   ]
  },
  {
   "cell_type": "markdown",
   "metadata": {},
   "source": [
    "with open(\"./output/test_random_files_selection_from_a_directory.txt\", \"w\") as f:\n",
    "    for item in list_randomly_selected_files:\n",
    "        f.writelines(item + '\\n')\n",
    "        #item\n",
    "f.close()"
   ]
  },
  {
   "cell_type": "code",
   "execution_count": null,
   "metadata": {},
   "outputs": [],
   "source": []
  }
 ],
 "metadata": {
  "kernelspec": {
   "display_name": "Python [default]",
   "language": "python",
   "name": "python3"
  },
  "language_info": {
   "codemirror_mode": {
    "name": "ipython",
    "version": 3
   },
   "file_extension": ".py",
   "mimetype": "text/x-python",
   "name": "python",
   "nbconvert_exporter": "python",
   "pygments_lexer": "ipython3",
   "version": "3.5.4"
  }
 },
 "nbformat": 4,
 "nbformat_minor": 2
}
