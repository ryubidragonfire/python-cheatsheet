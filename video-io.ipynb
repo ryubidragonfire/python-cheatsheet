{
 "cells": [
  {
   "cell_type": "markdown",
   "metadata": {},
   "source": [
    "### Read mp4 video into `numpy.ndarray`"
   ]
  },
  {
   "cell_type": "code",
   "execution_count": 5,
   "metadata": {},
   "outputs": [
    {
     "name": "stdout",
     "output_type": "stream",
     "text": [
      "(260, 1920, 1080, 3)\n"
     ]
    }
   ],
   "source": [
    "import skvideo.io\n",
    "import skvideo.datasets\n",
    "\n",
    "try:\n",
    "    videodata = skvideo.io.vread('./data/go-cart.mp4')\n",
    "    print(videodata.shape)\n",
    "except:\n",
    "    print('can not open video')\n",
    "    raise"
   ]
  },
  {
   "cell_type": "markdown",
   "metadata": {},
   "source": [
    "### Read and write mp4 video"
   ]
  },
  {
   "cell_type": "code",
   "execution_count": 7,
   "metadata": {},
   "outputs": [
    {
     "name": "stdout",
     "output_type": "stream",
     "text": [
      "(260, 1920, 1080, 3)\n"
     ]
    }
   ],
   "source": [
    "import skvideo.io\n",
    "import skvideo.datasets\n",
    "\n",
    "try:\n",
    "    videodata = skvideo.io.vread('./data/go-cart.mp4')\n",
    "    print(videodata.shape)\n",
    "    try:\n",
    "        skvideo.io.vwrite('./data/go-cart-written.mp4', videodata)\n",
    "    except:\n",
    "        print('Fail to write video')\n",
    "        raise\n",
    "except:\n",
    "    print('Fail to open video')\n",
    "    raise"
   ]
  },
  {
   "cell_type": "markdown",
   "metadata": {},
   "source": [
    "### Read mp4 video, downsample, write out"
   ]
  },
  {
   "cell_type": "code",
   "execution_count": null,
   "metadata": {
    "collapsed": true
   },
   "outputs": [],
   "source": []
  }
 ],
 "metadata": {
  "kernelspec": {
   "display_name": "Python 3",
   "language": "python",
   "name": "python3"
  },
  "language_info": {
   "codemirror_mode": {
    "name": "ipython",
    "version": 3
   },
   "file_extension": ".py",
   "mimetype": "text/x-python",
   "name": "python",
   "nbconvert_exporter": "python",
   "pygments_lexer": "ipython3",
   "version": "3.5.2"
  }
 },
 "nbformat": 4,
 "nbformat_minor": 2
}
