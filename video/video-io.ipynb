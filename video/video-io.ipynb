{
 "cells": [
  {
   "cell_type": "markdown",
   "metadata": {},
   "source": [
    "### Read mp4 video into a single `numpy.ndarray`"
   ]
  },
  {
   "cell_type": "code",
   "execution_count": 5,
   "metadata": {},
   "outputs": [
    {
     "name": "stdout",
     "output_type": "stream",
     "text": [
      "(260, 1920, 1080, 3)\n"
     ]
    }
   ],
   "source": [
    "import skvideo.io\n",
    "import skvideo.datasets\n",
    "\n",
    "try:\n",
    "    videodata = skvideo.io.vread('./data/go-cart.mp4')\n",
    "    print(videodata.shape) # number_of_frames, height, width, channel\n",
    "except:\n",
    "    print('can not open video')\n",
    "    raise"
   ]
  },
  {
   "cell_type": "markdown",
   "metadata": {},
   "source": [
    "### Read mp4 the first 5 frames from a video into a single `numpy.ndarray`"
   ]
  },
  {
   "cell_type": "code",
   "execution_count": 8,
   "metadata": {},
   "outputs": [
    {
     "name": "stdout",
     "output_type": "stream",
     "text": [
      "(5, 1920, 1080, 3)\n"
     ]
    }
   ],
   "source": [
    "import skvideo.io\n",
    "import skvideo.datasets\n",
    "\n",
    "try:\n",
    "    videodata = skvideo.io.vread('./data/go-cart.mp4', num_frames=5)\n",
    "    print(videodata.shape)\n",
    "except:\n",
    "    print('can not open video')\n",
    "    raise"
   ]
  },
  {
   "cell_type": "markdown",
   "metadata": {},
   "source": [
    "### Read mp4 video into a single 'numpy.ndarray', then write to a mp4 video"
   ]
  },
  {
   "cell_type": "code",
   "execution_count": 7,
   "metadata": {},
   "outputs": [
    {
     "name": "stdout",
     "output_type": "stream",
     "text": [
      "(260, 1920, 1080, 3)\n"
     ]
    }
   ],
   "source": [
    "import skvideo.io\n",
    "import skvideo.datasets\n",
    "\n",
    "try:\n",
    "    videodata = skvideo.io.vread('./data/go-cart.mp4')\n",
    "    print(videodata.shape)\n",
    "    try:\n",
    "        skvideo.io.vwrite('./data/go-cart-written.mp4', videodata)\n",
    "    except:\n",
    "        print('Fail to write video')\n",
    "        raise\n",
    "except:\n",
    "    print('Fail to open video')\n",
    "    raise"
   ]
  },
  {
   "cell_type": "markdown",
   "metadata": {},
   "source": [
    "### Read mp4 video frame-by-frame"
   ]
  },
  {
   "cell_type": "code",
   "execution_count": 10,
   "metadata": {},
   "outputs": [
    {
     "name": "stdout",
     "output_type": "stream",
     "text": [
      "(1920, 1080, 3)\n",
      "(1920, 1080, 3)\n",
      "(1920, 1080, 3)\n",
      "(1920, 1080, 3)\n",
      "(1920, 1080, 3)\n"
     ]
    }
   ],
   "source": [
    "import skvideo.io\n",
    "import skvideo.datasets\n",
    "\n",
    "try:\n",
    "    videogen = skvideo.io.vreader('./data/go-cart.mp4', num_frames=5)\n",
    "    \n",
    "    for frame in videogen:\n",
    "        print(frame.shape)    \n",
    "except:\n",
    "    print('can not open video')\n",
    "    raise"
   ]
  },
  {
   "cell_type": "markdown",
   "metadata": {},
   "source": [
    "### Read mp4 video frame-by-frame, downsample, write out to a mp4 video"
   ]
  },
  {
   "cell_type": "code",
   "execution_count": 69,
   "metadata": {},
   "outputs": [
    {
     "name": "stdout",
     "output_type": "stream",
     "text": [
      "downsampled, and written out\n"
     ]
    }
   ],
   "source": [
    "import skvideo.io\n",
    "import skvideo.datasets\n",
    "\n",
    "downsample_rate = 3\n",
    "\n",
    "try:\n",
    "    writer = skvideo.io.FFmpegWriter(\"./data/go-cart-downsampled-by-3.mp4\")\n",
    "    \n",
    "    try:\n",
    "        #videogen = skvideo.io.vreader('./data/go-cart.mp4', num_frames=200)\n",
    "        videogen = skvideo.io.vreader('./data/go-cart.mp4')\n",
    "\n",
    "        for i, frame in enumerate(videogen):\n",
    "            if i%downsample_rate == 0:\n",
    "                #print(i)\n",
    "                #print(frame.shape)    \n",
    "                writer.writeFrame(frame)\n",
    "        writer.close()\n",
    "        print('downsampled, and written out')\n",
    "    except:\n",
    "        print('fail to open video')\n",
    "        raise\n",
    "except:\n",
    "    print('Fail to open output file')"
   ]
  },
  {
   "cell_type": "markdown",
   "metadata": {},
   "source": [
    "### `downsample` function"
   ]
  },
  {
   "cell_type": "code",
   "execution_count": 84,
   "metadata": {
    "collapsed": true
   },
   "outputs": [],
   "source": [
    "def downsample(downsample_rate, infile, outfile):\n",
    "    import skvideo.io\n",
    "    import skvideo.datasets\n",
    "\n",
    "    try:\n",
    "        writer = skvideo.io.FFmpegWriter(outfile)\n",
    "\n",
    "        try:\n",
    "            #videogen = skvideo.io.vreader('./data/go-cart.mp4', num_frames=200)\n",
    "            videogen = skvideo.io.vreader(infile)\n",
    "\n",
    "            for i, frame in enumerate(videogen):\n",
    "                if i%downsample_rate == 0:\n",
    "                    #print(i)\n",
    "                    #print(frame.shape)    \n",
    "                    writer.writeFrame(frame)\n",
    "            writer.close()\n",
    "            print('downsampled, and written out')\n",
    "        except:\n",
    "            print('fail to open video')\n",
    "            raise\n",
    "    except:\n",
    "        print('Fail to open output file')    \n",
    "        \n",
    "    return "
   ]
  },
  {
   "cell_type": "code",
   "execution_count": 85,
   "metadata": {},
   "outputs": [
    {
     "name": "stdout",
     "output_type": "stream",
     "text": [
      "downsampled, and written out\n"
     ]
    }
   ],
   "source": [
    "downsample(downsample_rate=3, infile=\"./data/go-cart.mp4\", outfile=\"./data/go-cart-downsampled-by-3.mp4\")"
   ]
  },
  {
   "cell_type": "code",
   "execution_count": 41,
   "metadata": {},
   "outputs": [
    {
     "data": {
      "text/plain": [
       "(3,)"
      ]
     },
     "execution_count": 41,
     "metadata": {},
     "output_type": "execute_result"
    },
    {
     "data": {
      "text/plain": [
       "(3,)"
      ]
     },
     "execution_count": 41,
     "metadata": {},
     "output_type": "execute_result"
    },
    {
     "data": {
      "text/plain": [
       "(2, 3)"
      ]
     },
     "execution_count": 41,
     "metadata": {},
     "output_type": "execute_result"
    },
    {
     "data": {
      "text/plain": [
       "array([1, 2, 3])"
      ]
     },
     "execution_count": 41,
     "metadata": {},
     "output_type": "execute_result"
    },
    {
     "data": {
      "text/plain": [
       "array([2, 3, 4])"
      ]
     },
     "execution_count": 41,
     "metadata": {},
     "output_type": "execute_result"
    },
    {
     "data": {
      "text/plain": [
       "(2, 3)"
      ]
     },
     "execution_count": 41,
     "metadata": {},
     "output_type": "execute_result"
    },
    {
     "data": {
      "text/plain": [
       "array([[2, 3, 4],\n",
       "       [1, 2, 3]])"
      ]
     },
     "execution_count": 41,
     "metadata": {},
     "output_type": "execute_result"
    }
   ],
   "source": [
    "from IPython.core.interactiveshell import InteractiveShell\n",
    "InteractiveShell.ast_node_interactivity = \"all\"\n",
    "\n",
    "import numpy as np\n",
    "\n",
    "a = np.array([1, 2, 3]); a.shape\n",
    "b = np.array([2, 3, 4]); b.shape\n",
    "c = np.vstack((a,b)); c.shape\n",
    "a\n",
    "z = np.empty_like(a); z\n",
    "d = np.vstack((z,a)); d.shape; d"
   ]
  },
  {
   "cell_type": "code",
   "execution_count": 47,
   "metadata": {},
   "outputs": [
    {
     "data": {
      "text/plain": [
       "(3,)"
      ]
     },
     "execution_count": 47,
     "metadata": {},
     "output_type": "execute_result"
    },
    {
     "data": {
      "text/plain": [
       "(3,)"
      ]
     },
     "execution_count": 47,
     "metadata": {},
     "output_type": "execute_result"
    },
    {
     "data": {
      "text/plain": [
       "(6,)"
      ]
     },
     "execution_count": 47,
     "metadata": {},
     "output_type": "execute_result"
    },
    {
     "data": {
      "text/plain": [
       "array([1, 2, 3, 2, 3, 4])"
      ]
     },
     "execution_count": 47,
     "metadata": {},
     "output_type": "execute_result"
    }
   ],
   "source": [
    "a = np.array([1, 2, 3]); a.shape\n",
    "b = np.array([2, 3, 4]); b.shape\n",
    "c = np.concatenate((a,b)); c.shape; c"
   ]
  },
  {
   "cell_type": "code",
   "execution_count": 52,
   "metadata": {},
   "outputs": [
    {
     "data": {
      "text/plain": [
       "(3,)"
      ]
     },
     "execution_count": 52,
     "metadata": {},
     "output_type": "execute_result"
    },
    {
     "data": {
      "text/plain": [
       "(3,)"
      ]
     },
     "execution_count": 52,
     "metadata": {},
     "output_type": "execute_result"
    },
    {
     "ename": "AttributeError",
     "evalue": "module 'numpy' has no attribute 'na'",
     "output_type": "error",
     "traceback": [
      "\u001b[0;31m---------------------------------------------------------------------------\u001b[0m",
      "\u001b[0;31mAttributeError\u001b[0m                            Traceback (most recent call last)",
      "\u001b[0;32m<ipython-input-52-01df061fef68>\u001b[0m in \u001b[0;36m<module>\u001b[0;34m()\u001b[0m\n\u001b[1;32m      1\u001b[0m \u001b[0ma\u001b[0m \u001b[0;34m=\u001b[0m \u001b[0mnp\u001b[0m\u001b[0;34m.\u001b[0m\u001b[0marray\u001b[0m\u001b[0;34m(\u001b[0m\u001b[0;34m[\u001b[0m\u001b[0;36m1\u001b[0m\u001b[0;34m,\u001b[0m \u001b[0;36m2\u001b[0m\u001b[0;34m,\u001b[0m \u001b[0;36m3\u001b[0m\u001b[0;34m]\u001b[0m\u001b[0;34m)\u001b[0m\u001b[0;34m;\u001b[0m \u001b[0ma\u001b[0m\u001b[0;34m.\u001b[0m\u001b[0mshape\u001b[0m\u001b[0;34m\u001b[0m\u001b[0m\n\u001b[1;32m      2\u001b[0m \u001b[0mb\u001b[0m \u001b[0;34m=\u001b[0m \u001b[0mnp\u001b[0m\u001b[0;34m.\u001b[0m\u001b[0marray\u001b[0m\u001b[0;34m(\u001b[0m\u001b[0;34m[\u001b[0m\u001b[0;36m2\u001b[0m\u001b[0;34m,\u001b[0m \u001b[0;36m3\u001b[0m\u001b[0;34m,\u001b[0m \u001b[0;36m4\u001b[0m\u001b[0;34m]\u001b[0m\u001b[0;34m)\u001b[0m\u001b[0;34m;\u001b[0m \u001b[0mb\u001b[0m\u001b[0;34m.\u001b[0m\u001b[0mshape\u001b[0m\u001b[0;34m\u001b[0m\u001b[0m\n\u001b[0;32m----> 3\u001b[0;31m \u001b[0mz\u001b[0m \u001b[0;34m=\u001b[0m \u001b[0mnp\u001b[0m\u001b[0;34m.\u001b[0m\u001b[0mna\u001b[0m\u001b[0;34m(\u001b[0m\u001b[0;34m(\u001b[0m\u001b[0;36m3\u001b[0m\u001b[0;34m,\u001b[0m\u001b[0;34m)\u001b[0m\u001b[0;34m)\u001b[0m\u001b[0;34m;\u001b[0m \u001b[0mz\u001b[0m\u001b[0;34m\u001b[0m\u001b[0m\n\u001b[0m\u001b[1;32m      4\u001b[0m \u001b[0md\u001b[0m \u001b[0;34m=\u001b[0m \u001b[0mnp\u001b[0m\u001b[0;34m.\u001b[0m\u001b[0mconcatenate\u001b[0m\u001b[0;34m(\u001b[0m\u001b[0;34m(\u001b[0m\u001b[0mz\u001b[0m\u001b[0;34m,\u001b[0m\u001b[0ma\u001b[0m\u001b[0;34m)\u001b[0m\u001b[0;34m)\u001b[0m\u001b[0;34m;\u001b[0m \u001b[0md\u001b[0m\u001b[0;34m.\u001b[0m\u001b[0mshape\u001b[0m\u001b[0;34m;\u001b[0m \u001b[0md\u001b[0m\u001b[0;34m\u001b[0m\u001b[0m\n",
      "\u001b[0;31mAttributeError\u001b[0m: module 'numpy' has no attribute 'na'"
     ]
    }
   ],
   "source": [
    "a = np.array([1, 2, 3]); a.shape\n",
    "b = np.array([2, 3, 4]); b.shape\n",
    "z = np.((3,)); z\n",
    "d = np.concatenate((z,a)); d.shape; d"
   ]
  },
  {
   "cell_type": "code",
   "execution_count": null,
   "metadata": {
    "collapsed": true
   },
   "outputs": [],
   "source": []
  }
 ],
 "metadata": {
  "kernelspec": {
   "display_name": "Python 3",
   "language": "python",
   "name": "python3"
  },
  "language_info": {
   "codemirror_mode": {
    "name": "ipython",
    "version": 3
   },
   "file_extension": ".py",
   "mimetype": "text/x-python",
   "name": "python",
   "nbconvert_exporter": "python",
   "pygments_lexer": "ipython3",
   "version": "3.5.2"
  }
 },
 "nbformat": 4,
 "nbformat_minor": 2
}
