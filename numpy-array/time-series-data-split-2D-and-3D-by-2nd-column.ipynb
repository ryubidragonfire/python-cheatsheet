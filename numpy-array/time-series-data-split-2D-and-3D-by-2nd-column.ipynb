{
 "cells": [
  {
   "cell_type": "code",
   "execution_count": 1,
   "metadata": {},
   "outputs": [],
   "source": [
    "from IPython.core.interactiveshell import InteractiveShell\n",
    "InteractiveShell.ast_node_interactivity = \"all\""
   ]
  },
  {
   "cell_type": "code",
   "execution_count": 2,
   "metadata": {},
   "outputs": [],
   "source": [
    "import numpy as np\n",
    "from sklearn.model_selection import TimeSeriesSplit"
   ]
  },
  {
   "cell_type": "code",
   "execution_count": 3,
   "metadata": {},
   "outputs": [
    {
     "name": "stdout",
     "output_type": "stream",
     "text": [
      "TRAIN: [0] TEST: [1]\n",
      "TRAIN: [0 1] TEST: [2]\n",
      "TRAIN: [0 1 2] TEST: [3]\n",
      "TRAIN: [0 1 2 3] TEST: [4]\n",
      "TRAIN: [0 1 2 3 4] TEST: [5]\n"
     ]
    }
   ],
   "source": [
    "X = np.array([[1, 2], [3, 4], [5, 6], [7, 8], [9, 10], [11, 12]])\n",
    "y = np.array([1, 2, 3, 4, 5, 6])\n",
    "\n",
    "tscv = TimeSeriesSplit(n_splits=5)\n",
    "\n",
    "for train_index, test_index in tscv.split(X):\n",
    "    print(\"TRAIN:\", train_index, \"TEST:\", test_index)\n",
    "    X_train, X_test = X[train_index], X[test_index]\n",
    "    y_train, y_test = y[train_index], y[test_index]"
   ]
  },
  {
   "cell_type": "code",
   "execution_count": 4,
   "metadata": {},
   "outputs": [
    {
     "name": "stdout",
     "output_type": "stream",
     "text": [
      "TRAIN: [0 1] TEST: [2]\n",
      "TRAIN: [0 1 2] TEST: [3]\n",
      "TRAIN: [0 1 2 3] TEST: [4]\n",
      "TRAIN: [0 1 2 3 4] TEST: [5]\n"
     ]
    }
   ],
   "source": [
    "tscv = TimeSeriesSplit(n_splits=4)\n",
    "\n",
    "for train_index, test_index in tscv.split(X):\n",
    "    print(\"TRAIN:\", train_index, \"TEST:\", test_index)\n",
    "    X_train, X_test = X[train_index], X[test_index]\n",
    "    y_train, y_test = y[train_index], y[test_index]"
   ]
  },
  {
   "cell_type": "code",
   "execution_count": 5,
   "metadata": {},
   "outputs": [
    {
     "name": "stdout",
     "output_type": "stream",
     "text": [
      "TRAIN: [0 1 2] TEST: [3]\n",
      "TRAIN: [0 1 2 3] TEST: [4]\n",
      "TRAIN: [0 1 2 3 4] TEST: [5]\n"
     ]
    }
   ],
   "source": [
    "tscv = TimeSeriesSplit(n_splits=3)\n",
    "\n",
    "for train_index, test_index in tscv.split(X):\n",
    "    print(\"TRAIN:\", train_index, \"TEST:\", test_index)\n",
    "    X_train, X_test = X[train_index], X[test_index]\n",
    "    y_train, y_test = y[train_index], y[test_index]"
   ]
  },
  {
   "cell_type": "code",
   "execution_count": 6,
   "metadata": {},
   "outputs": [
    {
     "name": "stdout",
     "output_type": "stream",
     "text": [
      "TRAIN: [0 1] TEST: [2 3]\n",
      "TRAIN: [0 1 2 3] TEST: [4 5]\n"
     ]
    }
   ],
   "source": [
    "tscv = TimeSeriesSplit(n_splits=2)\n",
    "\n",
    "for train_index, test_index in tscv.split(X):\n",
    "    print(\"TRAIN:\", train_index, \"TEST:\", test_index)\n",
    "    X_train, X_test = X[train_index], X[test_index]\n",
    "    y_train, y_test = y[train_index], y[test_index]"
   ]
  },
  {
   "cell_type": "markdown",
   "metadata": {},
   "source": [
    "### Get the last element of generator"
   ]
  },
  {
   "cell_type": "code",
   "execution_count": 11,
   "metadata": {},
   "outputs": [
    {
     "name": "stdout",
     "output_type": "stream",
     "text": [
      "TRAIN: [0 1 2 3 4] TEST: [5]\n"
     ]
    }
   ],
   "source": [
    "X = np.array([[1, 2], [3, 4], [5, 6], [7, 8], [9, 10], [11, 12]])\n",
    "y = np.array([1, 2, 3, 4, 5, 6])\n",
    "\n",
    "tscv = TimeSeriesSplit(n_splits=5)\n",
    "\n",
    "for train_index, test_index in list(tscv.split(X))[-1:]: # Get the last element of generator\n",
    "    print(\"TRAIN:\", train_index, \"TEST:\", test_index)\n",
    "    X_train, X_test = X[train_index], X[test_index]\n",
    "    y_train, y_test = y[train_index], y[test_index]"
   ]
  },
  {
   "cell_type": "markdown",
   "metadata": {},
   "source": [
    "### Splitting 3D array, by 2nd column"
   ]
  },
  {
   "cell_type": "code",
   "execution_count": 27,
   "metadata": {
    "scrolled": true
   },
   "outputs": [
    {
     "name": "stdout",
     "output_type": "stream",
     "text": [
      "********** d_loc,d_sku,d_day **********\n"
     ]
    },
    {
     "data": {
      "text/plain": [
       "(3, 2, 5)"
      ]
     },
     "execution_count": 27,
     "metadata": {},
     "output_type": "execute_result"
    },
    {
     "name": "stdout",
     "output_type": "stream",
     "text": [
      "**********X_3DT : [SKU X LOC X DAY] **************\n"
     ]
    },
    {
     "data": {
      "text/plain": [
       "(2, 3, 5)"
      ]
     },
     "execution_count": 27,
     "metadata": {},
     "output_type": "execute_result"
    },
    {
     "data": {
      "text/plain": [
       "array([[['L0-S0-D0', 'L0-S0-D1', 'L0-S0-D2', 'L0-S0-D3', 'L0-S0-D4'],\n",
       "        ['L1-S0-D0', 'L1-S0-D1', 'L1-S0-D2', 'L1-S0-D3', 'L1-S0-D4'],\n",
       "        ['L2-S0-D0', 'L2-S0-D1', 'L2-S0-D2', 'L2-S0-D3', 'L2-S0-D4']],\n",
       "\n",
       "       [['L0-S1-D0', 'L0-S1-D1', 'L0-S1-D2', 'L0-S1-D3', 'L0-S1-D4'],\n",
       "        ['L1-S1-D0', 'L1-S1-D1', 'L1-S1-D2', 'L1-S1-D3', 'L1-S1-D4'],\n",
       "        ['L2-S1-D0', 'L2-S1-D1', 'L2-S1-D2', 'L2-S1-D3', 'L2-S1-D4']]],\n",
       "      dtype='<U8')"
      ]
     },
     "execution_count": 27,
     "metadata": {},
     "output_type": "execute_result"
    },
    {
     "name": "stdout",
     "output_type": "stream",
     "text": [
      "********* SKU:  0\n",
      "***** X_2D : LOC x DAY ******\n"
     ]
    },
    {
     "data": {
      "text/plain": [
       "(3, 5)"
      ]
     },
     "execution_count": 27,
     "metadata": {},
     "output_type": "execute_result"
    },
    {
     "data": {
      "text/plain": [
       "array([['L0-S0-D0', 'L0-S0-D1', 'L0-S0-D2', 'L0-S0-D3', 'L0-S0-D4'],\n",
       "       ['L1-S0-D0', 'L1-S0-D1', 'L1-S0-D2', 'L1-S0-D3', 'L1-S0-D4'],\n",
       "       ['L2-S0-D0', 'L2-S0-D1', 'L2-S0-D2', 'L2-S0-D3', 'L2-S0-D4']],\n",
       "      dtype='<U8')"
      ]
     },
     "execution_count": 27,
     "metadata": {},
     "output_type": "execute_result"
    },
    {
     "name": "stdout",
     "output_type": "stream",
     "text": [
      "******* X_2D.T :  DAY x LOC *******\n"
     ]
    },
    {
     "data": {
      "text/plain": [
       "array([['L0-S0-D0', 'L1-S0-D0', 'L2-S0-D0'],\n",
       "       ['L0-S0-D1', 'L1-S0-D1', 'L2-S0-D1'],\n",
       "       ['L0-S0-D2', 'L1-S0-D2', 'L2-S0-D2'],\n",
       "       ['L0-S0-D3', 'L1-S0-D3', 'L2-S0-D3'],\n",
       "       ['L0-S0-D4', 'L1-S0-D4', 'L2-S0-D4']], dtype='<U8')"
      ]
     },
     "execution_count": 27,
     "metadata": {},
     "output_type": "execute_result"
    },
    {
     "data": {
      "text/plain": [
       "4"
      ]
     },
     "execution_count": 27,
     "metadata": {},
     "output_type": "execute_result"
    },
    {
     "name": "stdout",
     "output_type": "stream",
     "text": [
      "TRAIN: [0] TEST: [1]\n",
      "X_train: \n",
      " [['L0-S0-D0']\n",
      " ['L1-S0-D0']\n",
      " ['L2-S0-D0']]\n",
      "X_test: \n",
      " [['L0-S0-D1']\n",
      " ['L1-S0-D1']\n",
      " ['L2-S0-D1']]\n",
      "TRAIN: [0 1] TEST: [2]\n",
      "X_train: \n",
      " [['L0-S0-D0' 'L0-S0-D1']\n",
      " ['L1-S0-D0' 'L1-S0-D1']\n",
      " ['L2-S0-D0' 'L2-S0-D1']]\n",
      "X_test: \n",
      " [['L0-S0-D2']\n",
      " ['L1-S0-D2']\n",
      " ['L2-S0-D2']]\n",
      "TRAIN: [0 1 2] TEST: [3]\n",
      "X_train: \n",
      " [['L0-S0-D0' 'L0-S0-D1' 'L0-S0-D2']\n",
      " ['L1-S0-D0' 'L1-S0-D1' 'L1-S0-D2']\n",
      " ['L2-S0-D0' 'L2-S0-D1' 'L2-S0-D2']]\n",
      "X_test: \n",
      " [['L0-S0-D3']\n",
      " ['L1-S0-D3']\n",
      " ['L2-S0-D3']]\n",
      "TRAIN: [0 1 2 3] TEST: [4]\n",
      "X_train: \n",
      " [['L0-S0-D0' 'L0-S0-D1' 'L0-S0-D2' 'L0-S0-D3']\n",
      " ['L1-S0-D0' 'L1-S0-D1' 'L1-S0-D2' 'L1-S0-D3']\n",
      " ['L2-S0-D0' 'L2-S0-D1' 'L2-S0-D2' 'L2-S0-D3']]\n",
      "X_test: \n",
      " [['L0-S0-D4']\n",
      " ['L1-S0-D4']\n",
      " ['L2-S0-D4']]\n",
      "********* SKU:  1\n",
      "***** X_2D : LOC x DAY ******\n"
     ]
    },
    {
     "data": {
      "text/plain": [
       "(3, 5)"
      ]
     },
     "execution_count": 27,
     "metadata": {},
     "output_type": "execute_result"
    },
    {
     "data": {
      "text/plain": [
       "array([['L0-S1-D0', 'L0-S1-D1', 'L0-S1-D2', 'L0-S1-D3', 'L0-S1-D4'],\n",
       "       ['L1-S1-D0', 'L1-S1-D1', 'L1-S1-D2', 'L1-S1-D3', 'L1-S1-D4'],\n",
       "       ['L2-S1-D0', 'L2-S1-D1', 'L2-S1-D2', 'L2-S1-D3', 'L2-S1-D4']],\n",
       "      dtype='<U8')"
      ]
     },
     "execution_count": 27,
     "metadata": {},
     "output_type": "execute_result"
    },
    {
     "name": "stdout",
     "output_type": "stream",
     "text": [
      "******* X_2D.T :  DAY x LOC *******\n"
     ]
    },
    {
     "data": {
      "text/plain": [
       "array([['L0-S1-D0', 'L1-S1-D0', 'L2-S1-D0'],\n",
       "       ['L0-S1-D1', 'L1-S1-D1', 'L2-S1-D1'],\n",
       "       ['L0-S1-D2', 'L1-S1-D2', 'L2-S1-D2'],\n",
       "       ['L0-S1-D3', 'L1-S1-D3', 'L2-S1-D3'],\n",
       "       ['L0-S1-D4', 'L1-S1-D4', 'L2-S1-D4']], dtype='<U8')"
      ]
     },
     "execution_count": 27,
     "metadata": {},
     "output_type": "execute_result"
    },
    {
     "data": {
      "text/plain": [
       "4"
      ]
     },
     "execution_count": 27,
     "metadata": {},
     "output_type": "execute_result"
    },
    {
     "name": "stdout",
     "output_type": "stream",
     "text": [
      "TRAIN: [0] TEST: [1]\n",
      "X_train: \n",
      " [['L0-S1-D0']\n",
      " ['L1-S1-D0']\n",
      " ['L2-S1-D0']]\n",
      "X_test: \n",
      " [['L0-S1-D1']\n",
      " ['L1-S1-D1']\n",
      " ['L2-S1-D1']]\n",
      "TRAIN: [0 1] TEST: [2]\n",
      "X_train: \n",
      " [['L0-S1-D0' 'L0-S1-D1']\n",
      " ['L1-S1-D0' 'L1-S1-D1']\n",
      " ['L2-S1-D0' 'L2-S1-D1']]\n",
      "X_test: \n",
      " [['L0-S1-D2']\n",
      " ['L1-S1-D2']\n",
      " ['L2-S1-D2']]\n",
      "TRAIN: [0 1 2] TEST: [3]\n",
      "X_train: \n",
      " [['L0-S1-D0' 'L0-S1-D1' 'L0-S1-D2']\n",
      " ['L1-S1-D0' 'L1-S1-D1' 'L1-S1-D2']\n",
      " ['L2-S1-D0' 'L2-S1-D1' 'L2-S1-D2']]\n",
      "X_test: \n",
      " [['L0-S1-D3']\n",
      " ['L1-S1-D3']\n",
      " ['L2-S1-D3']]\n",
      "TRAIN: [0 1 2 3] TEST: [4]\n",
      "X_train: \n",
      " [['L0-S1-D0' 'L0-S1-D1' 'L0-S1-D2' 'L0-S1-D3']\n",
      " ['L1-S1-D0' 'L1-S1-D1' 'L1-S1-D2' 'L1-S1-D3']\n",
      " ['L2-S1-D0' 'L2-S1-D1' 'L2-S1-D2' 'L2-S1-D3']]\n",
      "X_test: \n",
      " [['L0-S1-D4']\n",
      " ['L1-S1-D4']\n",
      " ['L2-S1-D4']]\n"
     ]
    }
   ],
   "source": [
    "# [LOC, SKU, DATE]\n",
    "X_3D = np.array([[['L0-S0-D0', 'L0-S0-D1', 'L0-S0-D2', 'L0-S0-D3', 'L0-S0-D4'],\n",
    "                  ['L0-S1-D0', 'L0-S1-D1', 'L0-S1-D2', 'L0-S1-D3', 'L0-S1-D4']],\n",
    "                 [['L1-S0-D0', 'L1-S0-D1', 'L1-S0-D2', 'L1-S0-D3', 'L1-S0-D4'],\n",
    "                  ['L1-S1-D0', 'L1-S1-D1', 'L1-S1-D2', 'L1-S1-D3', 'L1-S1-D4']],\n",
    "                 [['L2-S0-D0', 'L2-S0-D1', 'L2-S0-D2', 'L2-S0-D3', 'L2-S0-D4'],\n",
    "                  ['L2-S1-D0', 'L2-S1-D1', 'L2-S1-D2', 'L2-S1-D3', 'L2-S1-D4']]])\n",
    "\n",
    "# Get the shape of 3D array\n",
    "print('********** d_loc,d_sku,d_day **********')\n",
    "d_loc,d_sku,d_day = X_3D.shape; d_loc,d_sku,d_day \n",
    "\n",
    "# transpose from [LOC x SKU x DAY] to [SKU x LOC x DAY]\n",
    "print('**********X_3DT : [SKU X LOC X DAY] **************')\n",
    "X_3DT = np.transpose(X_3D, (1,0,2)) ; X_3DT.shape; X_3DT\n",
    "    \n",
    "\n",
    "# for each SKU\n",
    "for i in range(d_sku):\n",
    "    print('********* SKU: ', i)\n",
    "    # extract the LOC x DAY \n",
    "    print('***** X_2D : LOC x DAY ******')\n",
    "    X_2D = X_3DT[i,:,:]; X_2D.shape; X_2D\n",
    "    \n",
    "    print('******* X_2D.T :  DAY x LOC *******')\n",
    "    X_2D.T\n",
    "    \n",
    "    # Create a TimeSeriesSplit\n",
    "    n_splits = d_day-1; n_splits\n",
    "    tscv = TimeSeriesSplit(n_splits=n_splits)\n",
    "\n",
    "    # for each split\n",
    "    for train_index, test_index in tscv.split(X_2D.T): # transpose to DAY x LOC\n",
    "        print(\"TRAIN:\", train_index, \"TEST:\", test_index)\n",
    "        X_train, X_test = X_2D.T[train_index].T, X_2D.T[test_index].T # do the split, and transpose back to LOC x DAY\n",
    "        #X_train.shape, X_test.shape\n",
    "        print('X_train: \\n', X_train)\n",
    "        print('X_test: \\n', X_test)"
   ]
  },
  {
   "cell_type": "code",
   "execution_count": null,
   "metadata": {},
   "outputs": [],
   "source": []
  }
 ],
 "metadata": {
  "kernelspec": {
   "display_name": "inventory-src-py37",
   "language": "python",
   "name": "conda-env-inventory-src-py37-py"
  },
  "language_info": {
   "codemirror_mode": {
    "name": "ipython",
    "version": 3
   },
   "file_extension": ".py",
   "mimetype": "text/x-python",
   "name": "python",
   "nbconvert_exporter": "python",
   "pygments_lexer": "ipython3",
   "version": "3.7.0"
  }
 },
 "nbformat": 4,
 "nbformat_minor": 4
}
