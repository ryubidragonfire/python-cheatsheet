{
 "cells": [
  {
   "cell_type": "markdown",
   "metadata": {},
   "source": [
    "## in the VM, set up `COGNITIVE_SERVICE_KEY`\n",
    "\n",
    "ref: https://docs.microsoft.com/en-us/azure/cognitive-services/cognitive-services-apis-create-account?tabs=multiservice%2Clinux#get-the-keys-for-your-resource"
   ]
  },
  {
   "cell_type": "code",
   "execution_count": null,
   "metadata": {},
   "outputs": [],
   "source": [
    "!export COGNITIVE_SERVICE_KEY=1234567890asdfghjklh"
   ]
  },
  {
   "cell_type": "markdown",
   "metadata": {},
   "source": [
    "ref: https://github.com/Azure-Samples/cognitive-services-python-sdk-samples/blob/master/samples/language/text_analytics_samples.py"
   ]
  },
  {
   "cell_type": "code",
   "execution_count": null,
   "metadata": {},
   "outputs": [],
   "source": [
    "import os\n",
    "from azure.cognitiveservices.language.textanalytics import TextAnalyticsClient\n",
    "from msrest.authentication import CognitiveServicesCredentials\n",
    "\n",
    "SUBSCRIPTION_KEY_ENV_NAME = \"TEXTANALYTICS_SUBSCRIPTION_KEY\"\n",
    "TEXTANALYTICS_LOCATION = os.environ.get(\n",
    "    \"TEXTANALYTICS_LOCATION\", \"westcentralus\")\n",
    "\n",
    "\n",
    "def language_extraction(subscription_key):\n",
    "    \"\"\"Language extraction.\n",
    "    This example detects the language of several strings. \n",
    "    \"\"\"\n",
    "    credentials = CognitiveServicesCredentials(subscription_key)\n",
    "    text_analytics_url = \"https://{}.api.cognitive.microsoft.com\".format(\n",
    "        TEXTANALYTICS_LOCATION)\n",
    "    text_analytics = TextAnalyticsClient(\n",
    "        endpoint=text_analytics_url, credentials=credentials)\n",
    "\n",
    "    try:\n",
    "        documents = [\n",
    "            {'id': '1', 'text': 'This is a document written in English.'},\n",
    "            {'id': '2', 'text': 'Este es un document escrito en Español.'},\n",
    "            {'id': '3', 'text': '这是一个用中文写的文件'}\n",
    "        ]\n",
    "        response = text_analytics.detect_language(documents=documents)\n",
    "\n",
    "        for document in response.documents:\n",
    "            print(\"Document Id: \", document.id, \", Language: \",\n",
    "                  document.detected_languages[0].name)\n",
    "\n",
    "    except Exception as err:\n",
    "        print(\"Encountered exception. {}\".format(err))\n",
    "\n",
    "\n",
    "def key_phrases(subscription_key):\n",
    "    \"\"\"Key-phrases.\n",
    "    Returns the key talking points in several text examples.\n",
    "    \"\"\"\n",
    "    credentials = CognitiveServicesCredentials(subscription_key)\n",
    "    text_analytics_url = \"https://{}.api.cognitive.microsoft.com\".format(\n",
    "        TEXTANALYTICS_LOCATION)\n",
    "    text_analytics = TextAnalyticsClient(\n",
    "        endpoint=text_analytics_url, credentials=credentials)\n",
    "\n",
    "    try:\n",
    "        documents = [\n",
    "            {\"id\": \"1\", \"language\": \"ja\", \"text\": \"猫は幸せ\"},\n",
    "            {\"id\": \"2\", \"language\": \"de\",\n",
    "                \"text\": \"Fahrt nach Stuttgart und dann zum Hotel zu Fu.\"},\n",
    "            {\"id\": \"3\", \"language\": \"en\",\n",
    "                \"text\": \"My cat might need to see a veterinarian.\"},\n",
    "            {\"id\": \"4\", \"language\": \"es\", \"text\": \"A mi me encanta el fútbol!\"}\n",
    "        ]\n",
    "\n",
    "        for document in documents:\n",
    "            print(\n",
    "                \"Asking key-phrases on '{}' (id: {})\".format(document['text'], document['id']))\n",
    "\n",
    "        response = text_analytics.key_phrases(documents=documents)\n",
    "\n",
    "        for document in response.documents:\n",
    "            print(\"Document Id: \", document.id)\n",
    "            print(\"\\tKey Phrases:\")\n",
    "            for phrase in document.key_phrases:\n",
    "                print(\"\\t\\t\", phrase)\n",
    "\n",
    "    except Exception as err:\n",
    "        print(\"Encountered exception. {}\".format(err))\n",
    "\n",
    "\n",
    "def sentiment(subscription_key):\n",
    "    \"\"\"Sentiment.\n",
    "    Scores close to 1 indicate positive sentiment, while scores close to 0 indicate negative sentiment.\n",
    "    \"\"\"\n",
    "    credentials = CognitiveServicesCredentials(subscription_key)\n",
    "    text_analytics_url = \"https://{}.api.cognitive.microsoft.com\".format(\n",
    "        TEXTANALYTICS_LOCATION)\n",
    "    text_analytics = TextAnalyticsClient(\n",
    "        endpoint=text_analytics_url, credentials=credentials)\n",
    "\n",
    "    try:\n",
    "        documents = [\n",
    "            {\"id\": \"1\", \"language\": \"en\", \"text\": \"I had the best day of my life.\"},\n",
    "            {\"id\": \"2\", \"language\": \"en\",\n",
    "                \"text\": \"This was a waste of my time. The speaker put me to sleep.\"},\n",
    "            {\"id\": \"3\", \"language\": \"es\", \"text\": \"No tengo dinero ni nada que dar...\"},\n",
    "            {\"id\": \"4\", \"language\": \"it\",\n",
    "                \"text\": \"L'hotel veneziano era meraviglioso. È un bellissimo pezzo di architettura.\"}\n",
    "        ]\n",
    "\n",
    "        response = text_analytics.sentiment(documents=documents)\n",
    "        for document in response.documents:\n",
    "            print(\"Document Id: \", document.id, \", Sentiment Score: \",\n",
    "                  \"{:.2f}\".format(document.score))\n",
    "\n",
    "    except Exception as err:\n",
    "        print(\"Encountered exception. {}\".format(err))\n",
    "\n",
    "\n",
    "def entity_extraction(subscription_key):\n",
    "    \"\"\"EntityExtraction.\n",
    "    Extracts the entities from sentences and prints out their properties.\n",
    "    \"\"\"\n",
    "    credentials = CognitiveServicesCredentials(subscription_key)\n",
    "    text_analytics_url = \"https://{}.api.cognitive.microsoft.com\".format(\n",
    "        TEXTANALYTICS_LOCATION)\n",
    "    text_analytics = TextAnalyticsClient(\n",
    "        endpoint=text_analytics_url, credentials=credentials)\n",
    "\n",
    "    try:\n",
    "        documents = [\n",
    "            {\"id\": \"1\", \"language\": \"en\", \"text\": \"Microsoft was founded by Bill Gates and Paul Allen on April 4, 1975, to develop and sell BASIC interpreters for the Altair 8800.\"},\n",
    "            {\"id\": \"2\", \"language\": \"es\",\n",
    "                \"text\": \"La sede principal de Microsoft se encuentra en la ciudad de Redmond, a 21 kilómetros de Seattle.\"}\n",
    "        ]\n",
    "        response = text_analytics.entities(documents=documents)\n",
    "\n",
    "        for document in response.documents:\n",
    "            print(\"Document Id: \", document.id)\n",
    "            print(\"\\tKey Entities:\")\n",
    "            for entity in document.entities:\n",
    "                print(\"\\t\\t\", \"NAME: \", entity.name, \"\\tType: \",\n",
    "                      entity.type, \"\\tSub-type: \", entity.sub_type)\n",
    "                for match in entity.matches:\n",
    "                    print(\"\\t\\t\\tOffset: \", match.offset, \"\\tLength: \", match.length, \"\\tScore: \",\n",
    "                          \"{:.2f}\".format(match.entity_type_score))\n",
    "\n",
    "    except Exception as err:\n",
    "        print(\"Encountered exception. {}\".format(err))\n",
    "\n",
    "\n",
    "if __name__ == \"__main__\":\n",
    "    import sys\n",
    "    import os.path\n",
    "\n",
    "    sys.path.append(os.path.abspath(os.path.join(__file__, \"..\", \"..\")))\n",
    "    from tools import execute_samples\n",
    "\n",
    "    execute_samples(globals(), SUBSCRIPTION_KEY_ENV_NAME)"
   ]
  },
  {
   "cell_type": "markdown",
   "metadata": {},
   "source": [
    "## Simple"
   ]
  },
  {
   "cell_type": "markdown",
   "metadata": {},
   "source": [
    "ref: https://github.com/Azure-Samples/cognitive-services-python-sdk-samples/blob/master/samples/language/text_analytics_samples.py"
   ]
  },
  {
   "cell_type": "code",
   "execution_count": null,
   "metadata": {},
   "outputs": [],
   "source": [
    "!pip install azure-cognitiveservices-language-textanalytics>=0.2.0"
   ]
  },
  {
   "cell_type": "code",
   "execution_count": null,
   "metadata": {},
   "outputs": [],
   "source": [
    "import os\n",
    "import sys\n",
    "from azure.cognitiveservices.language.textanalytics import TextAnalyticsClient\n",
    "from msrest.authentication import CognitiveServicesCredentials"
   ]
  },
  {
   "cell_type": "code",
   "execution_count": null,
   "metadata": {},
   "outputs": [],
   "source": [
    "#SUBSCRIPTION_KEY_ENV_NAME = \"COGNITIVE_SERVICE_KEY\"\n",
    "TEXTANALYTICS_LOCATION = os.environ.get(\n",
    "    \"TEXTANALYTICS_LOCATION\", \"westeurope\")\n",
    "SUBSCRIPTION_KEY = 'fakeoneandfadkfjlkj8897kjfamdnf'"
   ]
  },
  {
   "cell_type": "markdown",
   "metadata": {},
   "source": [
    "## NER"
   ]
  },
  {
   "cell_type": "code",
   "execution_count": null,
   "metadata": {},
   "outputs": [],
   "source": [
    "def entity_extraction(subscription_key):\n",
    "    \"\"\"EntityExtraction.\n",
    "    Extracts the entities from sentences and prints out their properties.\n",
    "    \"\"\"\n",
    "    \n",
    "    credentials = CognitiveServicesCredentials(subscription_key)\n",
    "    text_analytics_url = \"https://{}.api.cognitive.microsoft.com\".format(\n",
    "        TEXTANALYTICS_LOCATION)\n",
    "    text_analytics = TextAnalyticsClient(\n",
    "        endpoint=text_analytics_url, credentials=credentials)\n",
    "\n",
    "    try:\n",
    "        documents = [\n",
    "            {\"id\": \"1\", \"language\": \"en\", \"text\": \"Microsoft was founded by Bill Gates and Paul Allen on April 4, 1975, to develop and sell BASIC interpreters for the Altair 8800.\"},\n",
    "            {\"id\": \"2\", \"text\": \"Microsoft was founded by Bill Gates and Paul Allen on April 4, 1975, to develop and sell BASIC interpreters for the Altair 8800.\"},\n",
    "            {\"id\": \"3\", \"language\": \"es\", \"text\": \"La sede principal de Microsoft se encuentra en la ciudad de Redmond, a 21 kilómetros de Seattle.\"},\n",
    "            {\"id\": \"4\", \"text\": \"La sede principal de Microsoft se encuentra en la ciudad de Redmond, a 21 kilómetros de Seattle.\"}\n",
    "\n",
    "        ]\n",
    "        response = text_analytics.entities(documents=documents)\n",
    "\n",
    "        for document in response.documents:\n",
    "            print(\"Document Id: \", document.id)\n",
    "            print(\"\\tKey Entities:\")\n",
    "            for entity in document.entities:\n",
    "                print(\"\\t\\t\", \"NAME: \", entity.name, \"\\tType: \",\n",
    "                      entity.type, \"\\tSub-type: \", entity.sub_type)\n",
    "                for match in entity.matches:\n",
    "                    print(\"\\t\\t\\tOffset: \", match.offset, \"\\tLength: \", match.length, \"\\tScore: \",\n",
    "                          \"{:.2f}\".format(match.entity_type_score))\n",
    "\n",
    "    except Exception as err:\n",
    "        print(\"Encountered exception. {}\".format(err))"
   ]
  },
  {
   "cell_type": "code",
   "execution_count": null,
   "metadata": {},
   "outputs": [],
   "source": [
    "entity_extraction(SUBSCRIPTION_KEY)"
   ]
  }
 ],
 "metadata": {
  "kernelspec": {
   "display_name": "Python 3",
   "language": "python",
   "name": "python3"
  },
  "language_info": {
   "codemirror_mode": {
    "name": "ipython",
    "version": 3
   },
   "file_extension": ".py",
   "mimetype": "text/x-python",
   "name": "python",
   "nbconvert_exporter": "python",
   "pygments_lexer": "ipython3",
   "version": "3.5.4"
  }
 },
 "nbformat": 4,
 "nbformat_minor": 2
}
