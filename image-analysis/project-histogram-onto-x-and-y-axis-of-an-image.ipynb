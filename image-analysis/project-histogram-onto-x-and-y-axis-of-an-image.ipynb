{
 "cells": [
  {
   "cell_type": "code",
   "execution_count": 4,
   "metadata": {},
   "outputs": [],
   "source": [
    "from IPython.core.interactiveshell import InteractiveShell\n",
    "InteractiveShell.ast_node_interactivity = \"none\""
   ]
  },
  {
   "cell_type": "code",
   "execution_count": 11,
   "metadata": {},
   "outputs": [
    {
     "data": {
      "image/png": "[encoded data removed]",
      "text/plain": [
       "<matplotlib.figure.Figure at 0x7fc8f459de80>"
      ]
     },
     "metadata": {},
     "output_type": "display_data"
    }
   ],
   "source": [
    "import matplotlib.pyplot as plt\n",
    "import numpy as np\n",
    "\n",
    "# remove upper corner plot\n",
    "ax1 = plt.subplot2grid((3, 3), (0, 2))\n",
    "ax1.axis('off')\n",
    "\n",
    "# plot some example image\n",
    "imageExample = np.random.uniform(0,1,(15,5))\n",
    "ax2 = plt.subplot2grid((3, 3), (1, 0), colspan=2, rowspan=2)\n",
    "ax2.imshow(imageExample)\n",
    "ax2.axis('off')\n",
    "\n",
    "# use 'barh' for horizontal bar plot\n",
    "horzSum = np.sum(imageExample,1)\n",
    "ax3 = plt.subplot2grid((3, 3), (1, 2), rowspan=2, sharey=ax2)\n",
    "ax3.barh(range(len(horzSum)), horzSum)\n",
    "ax3.axis('off')\n",
    "\n",
    "vertSum = np.sum(imageExample, 0)\n",
    "ax4 = plt.subplot2grid((3, 3), (0, 0), colspan=2, sharex=ax2)\n",
    "ax4.bar(range(len(vertSum)), vertSum)\n",
    "ax4.axis('off')\n",
    "\n",
    "plt.subplots_adjust(wspace=0, hspace=0)\n",
    "plt.show()"
   ]
  },
  {
   "cell_type": "code",
   "execution_count": null,
   "metadata": {},
   "outputs": [],
   "source": []
  }
 ],
 "metadata": {
  "kernelspec": {
   "display_name": "Python 3",
   "language": "python",
   "name": "python3"
  },
  "language_info": {
   "codemirror_mode": {
    "name": "ipython",
    "version": 3
   },
   "file_extension": ".py",
   "mimetype": "text/x-python",
   "name": "python",
   "nbconvert_exporter": "python",
   "pygments_lexer": "ipython3",
   "version": "3.5.4"
  }
 },
 "nbformat": 4,
 "nbformat_minor": 2
}
