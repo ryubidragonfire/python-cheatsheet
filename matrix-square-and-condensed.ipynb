{
 "cells": [
  {
   "cell_type": "code",
   "execution_count": 4,
   "metadata": {},
   "outputs": [
    {
     "data": {
      "text/plain": [
       "array([[0.93678689, 0.94529152],\n",
       "       [0.07102766, 0.65414838],\n",
       "       [0.90364841, 0.15844791],\n",
       "       [0.23408577, 0.25379228],\n",
       "       [0.55830939, 0.67135921]])"
      ]
     },
     "execution_count": 4,
     "metadata": {},
     "output_type": "execute_result"
    },
    {
     "data": {
      "text/plain": [
       "array([0.91340208, 0.78754113, 0.98588035, 0.46720887, 0.96900788,\n",
       "       0.43228805, 0.48758557, 0.676317  , 0.61833409, 0.52866161])"
      ]
     },
     "execution_count": 4,
     "metadata": {},
     "output_type": "execute_result"
    },
    {
     "data": {
      "text/plain": [
       "array([[0.        , 0.91340208, 0.78754113, 0.98588035, 0.46720887],\n",
       "       [0.91340208, 0.        , 0.96900788, 0.43228805, 0.48758557],\n",
       "       [0.78754113, 0.96900788, 0.        , 0.676317  , 0.61833409],\n",
       "       [0.98588035, 0.43228805, 0.676317  , 0.        , 0.52866161],\n",
       "       [0.46720887, 0.48758557, 0.61833409, 0.52866161, 0.        ]])"
      ]
     },
     "execution_count": 4,
     "metadata": {},
     "output_type": "execute_result"
    }
   ],
   "source": [
    "from IPython.core.interactiveshell import InteractiveShell\n",
    "InteractiveShell.ast_node_interactivity = \"all\"\n",
    "\n",
    "import scipy\n",
    "from scipy.spatial.distance import pdist, squareform\n",
    "condensed_idx = lambda i,j,n: i*n + j - i*(i+1)/2 - i - 1\n",
    "n = 5\n",
    "dim = 2\n",
    "x = scipy.random.uniform(size = n*dim).reshape((n, dim)); x\n",
    "d = pdist(x); d\n",
    "ds = squareform(d); ds\n",
    "for i in range(1, n-1):\n",
    "    for j in range(i+1, n):\n",
    "        assert ds[i, j] == d[int(condensed_idx(i, j, n))]"
   ]
  },
  {
   "cell_type": "code",
   "execution_count": null,
   "metadata": {},
   "outputs": [],
   "source": []
  }
 ],
 "metadata": {
  "kernelspec": {
   "display_name": "Python 3",
   "language": "python",
   "name": "python3"
  },
  "language_info": {
   "codemirror_mode": {
    "name": "ipython",
    "version": 3
   },
   "file_extension": ".py",
   "mimetype": "text/x-python",
   "name": "python",
   "nbconvert_exporter": "python",
   "pygments_lexer": "ipython3",
   "version": "3.5.4"
  }
 },
 "nbformat": 4,
 "nbformat_minor": 2
}
